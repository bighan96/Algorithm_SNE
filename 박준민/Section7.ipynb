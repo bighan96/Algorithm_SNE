{
 "cells": [
  {
   "cell_type": "markdown",
   "metadata": {},
   "source": [
    "### 1. 최대점수 구하기(DFS) (100)\n",
    "\n",
    "이번 정보올림피아드대회에서 좋은 성적을 내기 위하여 현수는 선생님이 주신 N개의 문제를 풀려고 합니다.<br>\n",
    "각 문제는 그것을 풀었을 때 얻는 점수와 푸는데 걸리는 시간이 주어지게 됩니다.<br>\n",
    "제한시간 M안에 N개의 문제 중 최대점수를 얻을 수 있도록 해야 합니다. <br>\n",
    "(해당문제는 해당시간이 걸리면 푸는 걸로 간주한다, 한 유형당 한개만 풀 수 있습니다.)<br><br>\n",
    "\n",
    "- 입력설명<br>\n",
    "첫 번째 줄에 문제의 개수N(1<=N<=20)과 제한 시간 M(10<=M<=300)이 주어집니다.<br>\n",
    "두 번째 줄부터 N줄에 걸쳐 문제를 풀었을 때의 점수와 푸는데 걸리는 시간이 주어집니다.<br><br>\n",
    "\n",
    "- 출력설명<br>\n",
    "첫 번째 줄에 제한 시간안에 얻을 수 있는 최대 점수를 출력합니다.<br><br>\n",
    "\n",
    "- 입력예제 1<br>\n",
    "5 20<br>\n",
    "10 5<br>\n",
    "25 12<br>\n",
    "15 8<br>\n",
    "6 3<br>\n",
    "7 4<br><br>\n",
    "\n",
    "- 출력예제 1<br>\n",
    "41"
   ]
  },
  {
   "cell_type": "code",
   "execution_count": null,
   "metadata": {},
   "outputs": [],
   "source": [
    "import sys\n",
    "sys.stdin=open('input.txt', 'rt')\n",
    "\n",
    "n, m = list(map(int, input().split()))\n",
    "a = []\n",
    "for _ in range(n):\n",
    "\ta.append(tuple(map(int, input().split())))\n",
    "res = 0\n",
    "\n",
    "def DFS(l, t, s):\n",
    "\tglobal res\n",
    "\tif t > m:\n",
    "\t\treturn\n",
    "\telif l == n:\n",
    "\t\tif s > res:\n",
    "\t\t\tres = s\n",
    "\telse:\n",
    "\t\tDFS(l+1, t+a[l][1], s+a[l][0])\n",
    "\t\tDFS(l+1, t, s)\n",
    "\n",
    "DFS(0,0,0)\n",
    "print(res)"
   ]
  },
  {
   "cell_type": "markdown",
   "metadata": {},
   "source": [
    "### 2. 휴가(삼성 SW역량평가 기출문제 : DFS활용) (100)\n",
    "\n",
    "카운셀러로 일하고 있는 현수는 오늘부터 N+1일째 되는 날 휴가를 가기 위해서, 남은 N일 동\n",
    "안 최대한 많은 상담을 해서 휴가비를 넉넉히 만들어 휴가를 떠나려 한다.<br>\n",
    "현수가 다니는 회사에 하루에 하나씩 서로 다른 사람의 상담이 예약되어 있다.<br>\n",
    "각각의 상담은 상담을 완료하는데 걸리는 날수 T와 상담을 했을 때 받을 수 있는 금액 P로 이루어져 있다.<br>\n",
    "하나의 상담이 하루를 넘어가는 경우가 많기 때문에 현수는 예약된 모든 상담을 혼자 할 수없어 최대 이익이 나는 상담 스케쥴을 짜기로 했다.<br>\n",
    "현수가 휴가를 가기 위해 얻을 수 있는 최대 수익을 구하는 프로그램을 작성하시오.<br><br>\n",
    "\n",
    "- 입력설명<br>\n",
    "첫째 줄에 N (1 ≤ N ≤ 15)이 주어진다.<br>\n",
    "둘째 줄부터 1일부터 N일까지 순서대로 주어진다. (1 ≤ T ≤ 7, 1 ≤ P ≤ 100)<br><br>\n",
    "\n",
    "- 출력설명<br>\n",
    "첫째 줄에 현수가 얻을 수 있는 최대 이익을 출력한다.<br><br>\n",
    "\n",
    "- 입력예제 1<br>\n",
    "7<br>\n",
    "4 20<br>\n",
    "2 10<br>\n",
    "3 15<br>\n",
    "3 20<br>\n",
    "2 30<br>\n",
    "2 20<br>\n",
    "1 10<br><br>\n",
    "\n",
    "- 출력예제 1<br>\n",
    "60"
   ]
  },
  {
   "cell_type": "code",
   "execution_count": null,
   "metadata": {},
   "outputs": [],
   "source": [
    "import sys\n",
    "sys.stdin=open('input.txt', 'rt')\n",
    "\n",
    "n = int(input())\n",
    "a = []\n",
    "for _ in range(n):\n",
    "\ta.append(tuple(map(int, input().split())))\n",
    "res = 0\n",
    "\n",
    "def DFS(l, m):\n",
    "\tglobal res\n",
    "\tif l > n:\n",
    "\t\treturn\n",
    "\telif l == n:\n",
    "\t\tif m > res:\n",
    "\t\t\tres = m\n",
    "\telse:\n",
    "\t\tif m > res:\n",
    "\t\t\tres = m\n",
    "\t\t#print(l,m)\n",
    "\t\tDFS(l+a[l][0], m+a[l][1])\n",
    "\t\tDFS(l+1, m)\n",
    "\n",
    "DFS(0,0)\n",
    "print(res)"
   ]
  },
  {
   "cell_type": "markdown",
   "metadata": {},
   "source": []
  },
  {
   "cell_type": "code",
   "execution_count": null,
   "metadata": {},
   "outputs": [],
   "source": []
  },
  {
   "cell_type": "markdown",
   "metadata": {},
   "source": []
  },
  {
   "cell_type": "code",
   "execution_count": null,
   "metadata": {},
   "outputs": [],
   "source": []
  },
  {
   "cell_type": "markdown",
   "metadata": {},
   "source": []
  },
  {
   "cell_type": "code",
   "execution_count": null,
   "metadata": {},
   "outputs": [],
   "source": []
  },
  {
   "cell_type": "markdown",
   "metadata": {},
   "source": []
  },
  {
   "cell_type": "code",
   "execution_count": null,
   "metadata": {},
   "outputs": [],
   "source": []
  },
  {
   "cell_type": "markdown",
   "metadata": {},
   "source": []
  },
  {
   "cell_type": "code",
   "execution_count": null,
   "metadata": {},
   "outputs": [],
   "source": []
  },
  {
   "cell_type": "markdown",
   "metadata": {},
   "source": []
  },
  {
   "cell_type": "code",
   "execution_count": null,
   "metadata": {},
   "outputs": [],
   "source": []
  },
  {
   "cell_type": "markdown",
   "metadata": {},
   "source": []
  },
  {
   "cell_type": "code",
   "execution_count": null,
   "metadata": {},
   "outputs": [],
   "source": []
  },
  {
   "cell_type": "markdown",
   "metadata": {},
   "source": []
  },
  {
   "cell_type": "code",
   "execution_count": null,
   "metadata": {},
   "outputs": [],
   "source": []
  },
  {
   "cell_type": "markdown",
   "metadata": {},
   "source": []
  },
  {
   "cell_type": "code",
   "execution_count": null,
   "metadata": {},
   "outputs": [],
   "source": []
  },
  {
   "cell_type": "markdown",
   "metadata": {},
   "source": []
  },
  {
   "cell_type": "code",
   "execution_count": null,
   "metadata": {},
   "outputs": [],
   "source": []
  },
  {
   "cell_type": "markdown",
   "metadata": {},
   "source": []
  },
  {
   "cell_type": "code",
   "execution_count": null,
   "metadata": {},
   "outputs": [],
   "source": []
  },
  {
   "cell_type": "markdown",
   "metadata": {},
   "source": []
  },
  {
   "cell_type": "code",
   "execution_count": null,
   "metadata": {},
   "outputs": [],
   "source": []
  }
 ],
 "metadata": {
  "kernelspec": {
   "display_name": "Python 3",
   "language": "python",
   "name": "python3"
  },
  "language_info": {
   "codemirror_mode": {
    "name": "ipython",
    "version": 3
   },
   "file_extension": ".py",
   "mimetype": "text/x-python",
   "name": "python",
   "nbconvert_exporter": "python",
   "pygments_lexer": "ipython3",
   "version": "3.7.4"
  }
 },
 "nbformat": 4,
 "nbformat_minor": 2
}
