{
 "cells": [
  {
   "cell_type": "markdown",
   "metadata": {},
   "source": [
    "### 1. 재귀함수를 이용한 이진수 출력\n",
    "\n",
    "10진수 N이 입력되면 2진수로 변환하여 출력하는 프로그램을 작성하세요. <br>\n",
    "단 재귀함수를 이용해서 출력해야 합니다.<br><br>\n",
    "\n",
    "- 입력설명<br>\n",
    "첫 번째 줄에 10진수 N(1<=N<=1,000)이 주어집니다.<br><br>\n",
    "\n",
    "- 출력설명<br>\n",
    "첫 번째 줄에 이진수를 출력하세요.<br><br>\n",
    "\n",
    "- 입력예제 1<br>\n",
    "11<br><br>\n",
    "\n",
    "- 출력예제 1<br>\n",
    "1011"
   ]
  },
  {
   "cell_type": "code",
   "execution_count": 6,
   "metadata": {},
   "outputs": [
    {
     "name": "stdout",
     "output_type": "stream",
     "text": [
      "1011"
     ]
    }
   ],
   "source": [
    "import sys\n",
    "#sys.stdin=open('input.txt', 'rt')\n",
    "\n",
    "#n = int(input())\n",
    "\n",
    "def DFS(x):\n",
    "\tif x > 0:\n",
    "\t\tDFS(x//2)\n",
    "\t\tprint(x%2, end='')\n",
    "\n",
    "DFS(11)"
   ]
  },
  {
   "cell_type": "markdown",
   "metadata": {},
   "source": [
    "### 2. 이진트리 순회(깊이우선탐색)\n",
    "\n",
    "이진트리를 전위순회와 후위순회를 연습해보세요.<br><br>\n",
    "\n",
    "전위순회 출력 : 1 2 4 5 3 6 7<br>\n",
    "중위순회 출력 : 4 2 5 1 6 3 7<br>\n",
    "후위순회 출력 : 4 5 2 6 7 3 1"
   ]
  },
  {
   "cell_type": "code",
   "execution_count": 4,
   "metadata": {
    "scrolled": false
   },
   "outputs": [
    {
     "name": "stdout",
     "output_type": "stream",
     "text": [
      "1 2 4 5 3 6 7 \n",
      "4 2 5 1 6 3 7 \n",
      "4 5 2 6 7 3 1 "
     ]
    }
   ],
   "source": [
    "def DFS1(x):\n",
    "    if x > 7:\n",
    "        return\n",
    "    else:\n",
    "        print(x, end = ' ')\n",
    "        DFS1(2*x)\n",
    "        DFS1(2*x+1)\n",
    "        \n",
    "def DFS2(x):\n",
    "    if x > 7:\n",
    "        return\n",
    "    else:\n",
    "        DFS2(2*x)\n",
    "        print(x, end = ' ')\n",
    "        DFS2(2*x+1)\n",
    "        \n",
    "def DFS3(x):\n",
    "    if x > 7:\n",
    "        return\n",
    "    else:\n",
    "        DFS3(2*x)\n",
    "        DFS3(2*x+1)\n",
    "        print(x, end = ' ')\n",
    "DFS1(1)\n",
    "print()\n",
    "DFS2(1)\n",
    "print()\n",
    "DFS3(1)"
   ]
  },
  {
   "cell_type": "markdown",
   "metadata": {},
   "source": [
    "### 3. 부분집합 구하기(DFS)\n",
    "\n",
    "자연수 N이 주어지면 1부터 N까지의 원소를 갖는 집합의 부분집합을 모두 출력하는 프로그램\n",
    "을 작성하세요.<br><br>\n",
    "\n",
    "- 입력설명<br>\n",
    "첫 번째 줄에 자연수 N(1<=N<=10)이 주어집니다.<br><br>\n",
    "\n",
    "- 출력설명<br>\n",
    "첫 번째 줄부터 각 줄에 하나씩 부분집합을 아래와 출력예제와 같은 순서로 출력한다.<br>\n",
    "단 공집합은 출력하지 않습니다.<br><br>\n",
    "\n",
    "- 입력예제 1<br>\n",
    "3<br><br>\n",
    "\n",
    "- 출력예제 1<br>\n",
    "1 2 3<br>\n",
    "1 2<br>\n",
    "1 3<br>\n",
    "1<br>\n",
    "2 3<br>\n",
    "2<br>\n",
    "3"
   ]
  },
  {
   "cell_type": "code",
   "execution_count": 10,
   "metadata": {},
   "outputs": [
    {
     "name": "stdout",
     "output_type": "stream",
     "text": [
      "[[1, 2, 3], [2, 3], [3], [2], [1, 3], [3], [1], [1, 2], [2], [1]]\n"
     ]
    }
   ],
   "source": [
    "import sys\n",
    "#sys.stdin=open('input.txt', 'rt')\n",
    "\n",
    "#n = int(input())\n",
    "#x = list(range(1,n+1))\n",
    "\n",
    "#def DFS(x):\n",
    "#\tz = [x]\n",
    "#\tif len(x) == 0:\n",
    "#\t\treturn \n",
    "#\telse:\n",
    "#\t\tprint(x)\n",
    "#\t\tfor i in range(len(x)):\n",
    "#\t\t\ta = x.pop(i)\n",
    "#\t\t\tb = x.copy()\n",
    "#\t\t\tif b not in z:\n",
    "#\t\t\t\tz.append(b)\n",
    "#\t\t\t\tDFS(x)\n",
    "#\t\t\tx.insert(i, a)\n",
    "\n",
    "#DFS(x)\n",
    "\n",
    "a = list(range(1,4))\n",
    "z = [a]\n",
    "for i in range(len(a)):\n",
    "\tb = a.pop(i)\n",
    "\tx= a.copy()\n",
    "\tz.append(x)\n",
    "\tfor j in range(len(a)):\n",
    "\t\tc = a.pop(j)\n",
    "\t\tx = a.copy()\n",
    "\t\tz.append(x)\n",
    "\t\ta.insert(j, c)\n",
    "\ta.insert(i, b)\n",
    "\n",
    "print(z)"
   ]
  },
  {
   "cell_type": "markdown",
   "metadata": {},
   "source": [
    "### 4. 합이 같은 부분집합(DFS : 아마존 인터뷰)\n",
    "\n",
    "N개의 원소로 구성된 자연수 집합이 주어지면, 이 집합을 두 개의 부분집합으로 나누었을 때\n",
    "두 부분집합의 원소의 합이 서로 같은 경우가 존재하면 “YES\"를 출력하고, 그렇지 않으면\n",
    "”NO\"를 출력하는 프로그램을 작성하세요.<br>\n",
    "둘로 나뉘는 두 부분집합은 서로소 집합이며, 두 부분집합을 합하면 입력으로 주어진 원래의\n",
    "집합이 되어 합니다.<br>\n",
    "예를 들어 {1, 3, 5, 6, 7, 10}이 입력되면 {1, 3, 5, 7} = {6, 10} 으로 두 부분집합의 합이\n",
    "16으로 같은 경우가 존재하는 것을 알 수 있다.<br><br>\n",
    "\n",
    "- 입력설명<br>\n",
    "첫 번째 줄에 자연수 N(1<=N<=10)이 주어집니다.<br>\n",
    "두 번째 줄에 집합의 원소 N개가 주어진다. 각 원소는 중복되지 않는다.<br><br>\n",
    "\n",
    "- 출력설명<br>\n",
    "첫 번째 줄에 “YES\" 또는 ”NO\"를 출력한다.<br><br>\n",
    "\n",
    "- 입력예제 1<br>\n",
    "6<br>\n",
    "1 3 5 6 7 10<br><br>\n",
    "\n",
    "- 출력예제 1<br>\n",
    "YES"
   ]
  },
  {
   "cell_type": "code",
   "execution_count": 11,
   "metadata": {},
   "outputs": [
    {
     "name": "stdout",
     "output_type": "stream",
     "text": [
      "6\n",
      "1 3 5 6 7 10\n",
      "YES\n",
      "YES\n",
      "YES\n",
      "YES\n"
     ]
    }
   ],
   "source": [
    "# import sys\n",
    "# sys.stdin=open('input.txt', 'rt')\n",
    "\n",
    "n = int(input())\n",
    "a = list(map(int, input().split()))\n",
    "\n",
    "def DFS(l, tot):\n",
    "\tif tot > sum(a)/2:\n",
    "\t\treturn\n",
    "\tif l == n:\n",
    "\t\tif tot == sum(a)/2:\n",
    "\t\t\tprint('YES')\n",
    "\telse:\n",
    "\t\tDFS(l+1, tot+a[l])\n",
    "\t\tDFS(l+1, tot)\n",
    "\n",
    "DFS(0,0)"
   ]
  },
  {
   "cell_type": "markdown",
   "metadata": {},
   "source": [
    "### 5. 바둑이 승차(DFS)\n",
    "\n",
    "철수는 그의 바둑이들을 데리고 시장에 가려고 한다.<br> 그런데 그의 트럭은 C킬로그램 넘게 태\n",
    "울수가 없다. <br>철수는 C를 넘지 않으면서 그의 바둑이들을 가장 무겁게 태우고 싶다.<br>\n",
    "N마리의 바둑이와 각 바둑이의 무게 W가 주어지면, 철수가 트럭에 태울 수 있는 가장 무거운\n",
    "무게를 구하는 프로그램을 작성하세요.<br><br>\n",
    "\n",
    "- 입력설명<br>\n",
    "첫 번째 줄에 자연수 C(1<=C<=100,000,000)와 N(1<=N<=30)이 주어집니다.<br>\n",
    "둘째 줄부터 N마리 바둑이의 무게가 주어진다.<br><br>\n",
    "\n",
    "- 출력설명<br>\n",
    "첫 번째 줄에 가장 무거운 무게를 출력한다.<br><br>\n",
    "\n",
    "- 입력예제 1<br>\n",
    "259 5<br>\n",
    "81<br>\n",
    "58<br>\n",
    "42<br>\n",
    "33<br>\n",
    "61<br><br>\n",
    "\n",
    "- 출력예제 1<br>\n",
    "242"
   ]
  },
  {
   "cell_type": "code",
   "execution_count": 12,
   "metadata": {},
   "outputs": [
    {
     "name": "stdout",
     "output_type": "stream",
     "text": [
      "259 5\n",
      "81\n",
      "58\n",
      "42\n",
      "33\n",
      "61\n",
      "242\n"
     ]
    }
   ],
   "source": [
    "c, n = list(map(int, input().split()))\n",
    "a = []\n",
    "for _ in range(n):\n",
    "    a.append(int(input()))\n",
    "res = 0\n",
    "total = sum(a)\n",
    "\n",
    "def DFS(l, sum, tsum):\n",
    "    global res\n",
    "    if sum > c:\n",
    "        return\n",
    "    if tsum + (total - sum) < res:\n",
    "        return\n",
    "    if l == n:\n",
    "        if sum > res:\n",
    "            res = sum\n",
    "    else:\n",
    "        DFS(l+1, sum+a[l], tsum+a[l])\n",
    "        DFS(l+1, sum, tsum+a[l])\n",
    "\n",
    "DFS(0,0,0)\n",
    "print(res)"
   ]
  },
  {
   "cell_type": "markdown",
   "metadata": {},
   "source": [
    "### 6. 중복순열 구하기\n",
    "\n",
    "1부터 N까지 번호가 적힌 구슬이 있습니다.<br>\n",
    "이 중 중복을 허락하여 M번을 뽑아 일렬로 나열하는 방법을 모두 출력합니다.<br><br>\n",
    "\n",
    "- 입력설명<br>\n",
    "첫 번째 줄에 자연수 N(3<=N<=10)과 M(2<=M<=N) 이 주어집니다.<br><br>\n",
    "\n",
    "- 출력설명<br>\n",
    "첫 번째 줄에 결과를 출력합니다. 맨 마지막 총 경우의 수를 출력합니다.<br>\n",
    "출력순서는 사전순으로 오름차순으로 출력합니다.<br><br>\n",
    "\n",
    "- 입력예제 1<br>\n",
    "3 2<br><br>\n",
    "\n",
    "- 출력예제 1<br>\n",
    "1 1<br>\n",
    "1 2<br>\n",
    "1 3<br>\n",
    "2 1<br>\n",
    "2 2<br>\n",
    "2 3<br>\n",
    "3 1<br>\n",
    "3 2<br>\n",
    "3 3<br>\n",
    "9"
   ]
  },
  {
   "cell_type": "code",
   "execution_count": 15,
   "metadata": {},
   "outputs": [
    {
     "name": "stdout",
     "output_type": "stream",
     "text": [
      "3 2\n",
      "1 1\n",
      "1 2\n",
      "1 3\n",
      "2 1\n",
      "2 2\n",
      "2 3\n",
      "3 1\n",
      "3 2\n",
      "3 3\n",
      "9\n"
     ]
    }
   ],
   "source": [
    "import sys\n",
    "#sys.stdin=open('input.txt', 'rt')\n",
    "\n",
    "n, m = list(map(int, input().split()))\n",
    "a = list(range(1,n+1))\n",
    "\n",
    "z=[]\n",
    "for i in a:\n",
    "\tfor j in a:\n",
    "\t\tprint(i, j)\n",
    "\t\tz.append([i,j])\n",
    "print(len(z))\n",
    "\n",
    "#def DFS(x):"
   ]
  },
  {
   "cell_type": "markdown",
   "metadata": {},
   "source": [
    "### 7. 동전교환\n",
    "\n",
    "다음과 같이 여러 단위의 동전들이 주어져 있을때 거스름돈을 가장 적은 수의 동전으로 교환\n",
    "해주려면 어떻게 주면 되는가? 각 단위의 동전은 무한정 쓸 수 있다.<br>\n",
    "\n",
    "\n",
    "- 입력설명<br>\n",
    "첫 번째 줄에는 동전의 종류개수 N(1<=N<=12)이 주어진다.<br>\n",
    "두 번째 줄에는 N개의 동전의 종류가 주어지고, 그 다음줄에 거슬러 줄 금액 M(1<=M<=500)이 주어진다.<br>\n",
    "각 동전의 종류는 100원을 넘지 않는다.<br><br>\n",
    "\n",
    "- 출력설명<br>\n",
    "첫 번째 줄에 거슬러 줄 동전의 최소개수를 출력한다.<br><br>\n",
    "\n",
    "- 입력예제 1<br>\n",
    "3<br>\n",
    "1 2 5<br>\n",
    "15<br><br>\n",
    "\n",
    "- 출력예제 1<br>\n",
    "3"
   ]
  },
  {
   "cell_type": "code",
   "execution_count": 17,
   "metadata": {},
   "outputs": [
    {
     "name": "stdout",
     "output_type": "stream",
     "text": [
      "3\n",
      "1 2 5\n",
      "15\n",
      "3\n",
      "40점\n"
     ]
    }
   ],
   "source": [
    "import sys\n",
    "#sys.stdin=open('input.txt', 'rt')\n",
    "\n",
    "n = int(input())\n",
    "a = sorted(list(map(int, input().split())))\n",
    "m = int(input())\n",
    "\n",
    "cnt = 0\n",
    "def DFS(x, y):\n",
    "\tglobal cnt\n",
    "\tif x == 0:\n",
    "\t\tprint(cnt)\n",
    "\telif 0 < x//y[-1] <= 100//y[-1]:\n",
    "\t\tcnt += x//y[-1]\n",
    "\t\tx = x - (x // y[-1]) * y[-1]\n",
    "\t\ty.pop()\n",
    "\t\tDFS(x, y)\n",
    "\telif x//y[-1] == 0:\n",
    "\t\ty.pop()\n",
    "\t\tDFS(x, y)\n",
    "\telif x//y[-1] > 100//y[-1]:\n",
    "\t\tx = x - (100 // y[-1]) * y[-1]\n",
    "\t\tcnt += 100 // y[-1]\n",
    "\t\ty.pop()\n",
    "\t\tDFS(x, y)\n",
    "\n",
    "DFS(m, a)\n",
    "print('40점')"
   ]
  },
  {
   "cell_type": "markdown",
   "metadata": {},
   "source": [
    "### 8. 순열 구하기\n",
    "\n",
    "1부터 N까지 번호가 적힌 구슬이 있습니다. 이 중 M개를 뽑아 일렬로 나열하는 방법을 모두\n",
    "출력합니다.<br><br>\n",
    "\n",
    "- 입력설명<br>\n",
    "첫 번째 줄에 자연수 N(3<=N<=10)과 M(2<=M<=N) 이 주어집니다.<br><br>\n",
    "\n",
    "- 출력설명<br>\n",
    "첫 번째 줄에 결과를 출력합니다.<br>\n",
    "맨 마지막 총 경우의 수를 출력합니다.<br>\n",
    "출력순서는 사전순으로 오름차순으로 출력합니다.<br><br>\n",
    "\n",
    "- 입력예제 1<br>\n",
    "3 2<br><br>\n",
    "\n",
    "- 출력예제 1<br>\n",
    "1 2<br>\n",
    "1 3<br>\n",
    "2 1<br>\n",
    "2 3<br>\n",
    "3 1<br>\n",
    "3 2<br>\n",
    "6"
   ]
  },
  {
   "cell_type": "code",
   "execution_count": null,
   "metadata": {},
   "outputs": [],
   "source": []
  },
  {
   "cell_type": "markdown",
   "metadata": {},
   "source": [
    "### 9."
   ]
  },
  {
   "cell_type": "code",
   "execution_count": null,
   "metadata": {},
   "outputs": [],
   "source": []
  },
  {
   "cell_type": "markdown",
   "metadata": {},
   "source": []
  },
  {
   "cell_type": "code",
   "execution_count": null,
   "metadata": {},
   "outputs": [],
   "source": []
  },
  {
   "cell_type": "markdown",
   "metadata": {},
   "source": []
  },
  {
   "cell_type": "code",
   "execution_count": null,
   "metadata": {},
   "outputs": [],
   "source": []
  },
  {
   "cell_type": "markdown",
   "metadata": {},
   "source": []
  },
  {
   "cell_type": "code",
   "execution_count": null,
   "metadata": {},
   "outputs": [],
   "source": []
  },
  {
   "cell_type": "markdown",
   "metadata": {},
   "source": []
  },
  {
   "cell_type": "code",
   "execution_count": null,
   "metadata": {},
   "outputs": [],
   "source": []
  },
  {
   "cell_type": "markdown",
   "metadata": {},
   "source": []
  },
  {
   "cell_type": "code",
   "execution_count": null,
   "metadata": {},
   "outputs": [],
   "source": []
  },
  {
   "cell_type": "markdown",
   "metadata": {},
   "source": []
  },
  {
   "cell_type": "code",
   "execution_count": null,
   "metadata": {},
   "outputs": [],
   "source": []
  }
 ],
 "metadata": {
  "kernelspec": {
   "display_name": "Python 3",
   "language": "python",
   "name": "python3"
  },
  "language_info": {
   "codemirror_mode": {
    "name": "ipython",
    "version": 3
   },
   "file_extension": ".py",
   "mimetype": "text/x-python",
   "name": "python",
   "nbconvert_exporter": "python",
   "pygments_lexer": "ipython3",
   "version": "3.7.4"
  }
 },
 "nbformat": 4,
 "nbformat_minor": 2
}
