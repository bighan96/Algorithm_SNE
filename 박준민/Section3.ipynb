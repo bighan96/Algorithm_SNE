{
 "cells": [
  {
   "cell_type": "markdown",
   "metadata": {},
   "source": [
    "### 1. 회문 문자열 검사\n",
    "N개의 문자열 데이터를 입력받아 앞에서 읽을 때나 뒤에서 읽을 때나 같은 경우(회문 문자열)\n",
    "이면 YES를 출력하고 회문 문자열이 아니면 NO를 출력하는 프로그램을 작성한다.<br>\n",
    "단 회문을 검사할 때 대소문자를 구분하지 않습니다.<br><br>\n",
    "\n",
    "- 입력설명<br>\n",
    "첫 줄에 정수 N(1<=N<=20)이 주어지고, 그 다음 줄부터 N개의 단어가 입력된다.<br>\n",
    "각 단어의 길이는 100을 넘지 않는다.<br><br>\n",
    "\n",
    "- 출력설명<br>\n",
    "각 줄에 해당 문자열의 결과를 YES 또는 NO로 출력한다.<br><br>\n",
    "\n",
    "- 입력예제 1<br>\n",
    "5<br>\n",
    "level<br>\n",
    "moon<br>\n",
    "abcba<br>\n",
    "soon<br>\n",
    "gooG<br><br>\n",
    "\n",
    "- 출력예제 1<br>\n",
    "#1 YES<br>\n",
    "#2 NO<br>\n",
    "#3 YES<br>\n",
    "#4 NO<br>\n",
    "#5 YES"
   ]
  },
  {
   "cell_type": "code",
   "execution_count": null,
   "metadata": {},
   "outputs": [],
   "source": [
    "import sys\n",
    "sys.stdin=open('input.txt', 'rt')\n",
    "\n",
    "n = int(input())\n",
    "\n",
    "for i in range(n):\n",
    "\ta = input().lower()\n",
    "\tif a == a[::-1]:\n",
    "\t\tprint('#{} YES'.format(i+1))\n",
    "\telse:\n",
    "\t\tprint('#{} NO'.format(i+1))"
   ]
  },
  {
   "cell_type": "markdown",
   "metadata": {},
   "source": [
    "### 2. 숫자만 추출\n",
    "문자와 숫자가 섞여있는 문자열이 주어지면 그 중 숫자만 추출하여 그 순서대로 자연수를 만\n",
    "듭니다. 만들어진 자연수와 그 자연수의 약수 개수를 출력합니다.<br>\n",
    "만약 “t0e0a1c2h0er”에서 숫자만 추출하면 0, 0, 1, 2, 0이고 이것을 자연수를 만들면 120이\n",
    "됩니다. 즉 첫 자리 0은 자연수화 할 때 무시합니다. 출력은 120를 출력하고, 다음 줄에 120\n",
    "의 약수의 개수를 출력하면 됩니다.<br>\n",
    "추출하여 만들어지는 자연수는 100,000,000을 넘지 않습니다.<br><br>\n",
    "\n",
    "- 입력설명<br>\n",
    "첫 줄에 숫자가 썩인 문자열이 주어집니다. 문자열의 길이는 50을 넘지 않습니다.<br><br>\n",
    "\n",
    "- 출력설명<br>\n",
    "첫 줄에 자연수를 출력하고, 두 번째 줄에 약수의 개수를 출력합니다.<br><br>\n",
    "\n",
    "- 입력예제 1<br>\n",
    "g0en2Ts8eSoft<br><br>\n",
    "\n",
    "- 출력예제 1<br>\n",
    "28<br>\n",
    "6"
   ]
  },
  {
   "cell_type": "code",
   "execution_count": null,
   "metadata": {},
   "outputs": [],
   "source": [
    "import sys\n",
    "sys.stdin=open('input.txt', 'rt')\n",
    "\n",
    "a = input()\n",
    "b=''\n",
    "\n",
    "for i in a:\n",
    "    try:\n",
    "        int(i)\n",
    "        b = b + i\n",
    "    except:\n",
    "        pass\n",
    "\n",
    "b = int(b)\n",
    "\n",
    "cnt = 0\n",
    "for i in range(1, b+1):\n",
    "    if b % i ==0:\n",
    "        cnt += 1\n",
    "\n",
    "print(b, cnt, sep='\\n')"
   ]
  },
  {
   "cell_type": "markdown",
   "metadata": {},
   "source": [
    "### 3. 카드 역배치(정올 기출)\n",
    "1부터 20까지 숫자가 하나씩 쓰인 20장의 카드가 아래 그림과 같이 오름차순으로 한 줄로 놓\n",
    "여있다. 각 카드의 위치는 카드 위에 적힌 숫자와 같이 1부터 20까지로 나타낸다.<br>\n",
    "이제 여러분은 다음과 같은 규칙으로 카드의 위치를 바꾼다<br>\n",
    "구간 [a, b] (단, 1 ≤ a ≤ b ≤20)가 주어지면 위치 a부터 위치 b까지의 카드를 현재의 역순으로 놓는다.<br>\n",
    "예를 들어, 현재 카드가 놓인 순서가 위의 그림과 같고 구간이 [5, 10]으로 주어진다면, 위치\n",
    "5부터 위치 10까지의 카드 5, 6, 7, 8, 9, 10을 역순으로 하여 10, 9, 8, 7, 6, 5로 놓는다.<br>\n",
    "오름차순으로 한 줄로 놓여있는 20장의 카드에 대해 10개의 구간이 주어지면, 주어진 구간의\n",
    "순서대로 위의 규칙에 따라 순서를 뒤집는 작업을 연속해서 처리한 뒤 마지막 카드들의 배치\n",
    "를 구하는 프로그램을 작성하시오.<br><br>\n",
    "\n",
    "- 입력설명<br>\n",
    "총 10개의 줄에 걸쳐 한 줄에 하나씩 10개의 구간이 주어진다. i번째 줄에는 i번째 구간의 시\n",
    "작 위치 ai와 끝 위치 bi가 차례대로 주어진다. 이때 두 값의 범위는 1 ≤ ai ≤ bi ≤ 20이다.<br><br>\n",
    "\n",
    "- 출력설명<br>\n",
    "1부터 20까지 오름차순으로 놓인 카드들에 대해, 입력으로 주어진 10개의 구간 순서대로 뒤집\n",
    "는 작업을 했을 때 마지막 카드들의 배치를 한 줄에 출력한다.<br><br>\n",
    "\n",
    "- 입력예제 1<br>\n",
    "5 10<br>\n",
    "9 13<br>\n",
    "1 2<br>\n",
    "3 4<br>\n",
    "5 6<br>\n",
    "1 2<br>\n",
    "3 4<br>\n",
    "5 6<br>\n",
    "1 20<br>\n",
    "1 20<br><br>\n",
    "\n",
    "- 출력예제 1<br>\n",
    "1 2 3 4 10 9 8 7 13 12 11 5 6 14 15 16 17 18 19 20"
   ]
  },
  {
   "cell_type": "code",
   "execution_count": null,
   "metadata": {},
   "outputs": [],
   "source": [
    "import sys\n",
    "sys.stdin=open('input.txt', 'rt')\n",
    "\n",
    "card = list(range(1,21))\n",
    "\n",
    "for i in range(10):\n",
    "\ta, b = list(map(int, input().split()))\n",
    "\tcard[a-1:b] = card[a-1:b][::-1]\n",
    "\n",
    "for i in card:\n",
    "\tprint(i, end=' ')"
   ]
  }
 ],
 "metadata": {
  "kernelspec": {
   "display_name": "Python 3",
   "language": "python",
   "name": "python3"
  },
  "language_info": {
   "codemirror_mode": {
    "name": "ipython",
    "version": 3
   },
   "file_extension": ".py",
   "mimetype": "text/x-python",
   "name": "python",
   "nbconvert_exporter": "python",
   "pygments_lexer": "ipython3",
   "version": "3.7.4"
  }
 },
 "nbformat": 4,
 "nbformat_minor": 2
}
