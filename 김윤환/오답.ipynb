{
 "cells": [
  {
   "cell_type": "markdown",
   "metadata": {},
   "source": [
    "# 2-7 소수(에라토스테네스 체)"
   ]
  },
  {
   "cell_type": "code",
   "execution_count": 23,
   "metadata": {
    "scrolled": false
   },
   "outputs": [
    {
     "name": "stdout",
     "output_type": "stream",
     "text": [
      "20\n",
      "8\n"
     ]
    }
   ],
   "source": [
    "import sys\n",
    "#sys.stdin=open(\"input.txt\", \"r\")\n",
    "n=int(input())\n",
    "ch=[0]*(n+1)\n",
    "cnt=0\n",
    "for i in range(2, n+1):\n",
    "    if ch[i]==0:\n",
    "        cnt+=1\n",
    "        for j in range(i, n+1, i):\n",
    "            ch[j]=1\n",
    "   # print(ch)\n",
    "print(cnt)\n",
    "#isPrime함수 만들어서 하나하나 세는거 보단  평가표(ch) 만들기\n",
    "# 평가표 0인것만 세기\n",
    "# 처음에 0인거 cnt +1  하고 해당 i의 배수는 1로 체크해서 제외"
   ]
  },
  {
   "cell_type": "markdown",
   "metadata": {},
   "source": [
    "# 4 이분검색 개념 알기 "
   ]
  },
  {
   "cell_type": "code",
   "execution_count": 33,
   "metadata": {},
   "outputs": [
    {
     "name": "stdout",
     "output_type": "stream",
     "text": [
      "8 32\n",
      "23 87 65 12 57 32 99 81\n",
      "3\n"
     ]
    }
   ],
   "source": [
    "#Answer\n",
    "import sys\n",
    "sys.stdin=open(\"input.txt\", \"r\")\n",
    "n, m=map(int, input().split())\n",
    "a=list(map(int, input().split()))\n",
    "a.sort()\n",
    "lt=0\n",
    "rt=n-1\n",
    "while lt<=rt:\n",
    "    mid=(lt+rt)//2\n",
    "    if a[mid]==m:\n",
    "        print(mid+1)\n",
    "        break\n",
    "    elif a[mid]>m:\n",
    "        rt=mid-1\n",
    "    else:\n",
    "        lt=mid+1"
   ]
  },
  {
   "cell_type": "markdown",
   "metadata": {},
   "source": [
    "# 4-2 랜선자르기"
   ]
  },
  {
   "cell_type": "code",
   "execution_count": 24,
   "metadata": {},
   "outputs": [
    {
     "name": "stdout",
     "output_type": "stream",
     "text": [
      "4 11\n",
      "802\n",
      "743\n",
      "457\n",
      "539\n",
      "200\n"
     ]
    }
   ],
   "source": [
    "import sys\n",
    "#sys.stdin=open(\"input.txt\", \"r\")\n",
    "def Count(len):  \n",
    "    # input : 랜선 한개의 길이\n",
    "    # output : 랜선 개수 \n",
    "    cnt=0\n",
    "    for x in Line:\n",
    "        cnt+=(x//len)\n",
    "    return cnt\n",
    "\n",
    "k, n=map(int, input().split())\n",
    "Line=[]\n",
    "res=0\n",
    "largest=0\n",
    "for i in range(k):\n",
    "    tmp=int(input())\n",
    "    Line.append(tmp)\n",
    "    largest=max(largest, tmp) \n",
    "lt=1\n",
    "rt=largest\n",
    "while lt<=rt:\n",
    "    mid=(lt+rt)//2 \n",
    "    if Count(mid)>=n: \n",
    "        # 목표 n이 3이고 count(mid)가 4가 나오면 \n",
    "        # mid 이하는 count값이 4이상이므로 볼 필요가 없다\n",
    "        # 따라서 lt를 mid +1 로 조정 \n",
    "        res=mid\n",
    "        lt=mid+1\n",
    "    else:  \n",
    "        rt=mid-1 #반대의 경우는 mid 이상을 볼 필요가 없다 \n",
    "print(res)"
   ]
  },
  {
   "cell_type": "markdown",
   "metadata": {},
   "source": [
    "# 4-3 뮤직비디오(결정알고리즘)"
   ]
  },
  {
   "cell_type": "code",
   "execution_count": 27,
   "metadata": {},
   "outputs": [
    {
     "name": "stdout",
     "output_type": "stream",
     "text": [
      "9 3\n",
      "1 2 3 4 5 6 7 8 9\n",
      "17\n"
     ]
    }
   ],
   "source": [
    "import sys\n",
    "#sys.stdin = open(\"input.txt\", 'r')\n",
    "n ,m = map(int, input().split())\n",
    "list1 = list(map(int, input().split()))\n",
    "def Count(capacity) : \n",
    "    # capacity : 용량 // cnt : dvd개수 \n",
    "    cnt = 1\n",
    "    temp_sum = 0\n",
    "    for x in list1:\n",
    "        if temp_sum + x > capacity :\n",
    "            cnt += 1\n",
    "            temp_sum = x\n",
    "        else :\n",
    "            temp_sum += x \n",
    "    return cnt \n",
    "\n",
    "lt = 1 # 최소용량\n",
    "rt = sum(list1) # 최대용량 \n",
    "# 용량을 변겅하면서 담을수 있나 확인 \n",
    "res = 0 \n",
    "max_value = max(list1)\n",
    "while lt <= rt :\n",
    "    mid = (lt + rt)//2\n",
    "    if mid >= max_value and Count(mid) <= m   :\n",
    "    # 곡 1개 최대 길이보다는 dvd 용량이 커야됨\n",
    "    # 목표 m이 3인데 count(mid)가 2이면\n",
    "    # 더 큰 용량은 2개로 당연히 담을 수 있다는 뜻\n",
    "    # 따라서 상한을 mid 미만으로 줄인다 \n",
    "        res = mid\n",
    "        rt = mid -1\n",
    "    else :\n",
    "        lt = mid +1 # 반대의 경우 하한을 mid 초과값으로 조정 \n",
    "print(res)"
   ]
  },
  {
   "cell_type": "markdown",
   "metadata": {},
   "source": [
    "# 4-4 마구간 정하기"
   ]
  },
  {
   "cell_type": "code",
   "execution_count": 29,
   "metadata": {},
   "outputs": [
    {
     "name": "stdout",
     "output_type": "stream",
     "text": [
      "5 3\n",
      "1\n",
      "2\n",
      "8\n",
      "4\n",
      "9\n",
      "3\n"
     ]
    }
   ],
   "source": [
    "import sys\n",
    "#sys.stdin=open(\"input.txt\", \"r\")\n",
    "def Count(len):\n",
    "    # 길이가 주어졌을 때 말의 최대 수 배출\n",
    "    cnt=1\n",
    "    ep=Line[0]\n",
    "    for i in range(1, n):\n",
    "        if Line[i]-ep>=len:\n",
    "            cnt+=1\n",
    "            ep=Line[i]\n",
    "    return cnt\n",
    "\n",
    "n, c=map(int, input().split())\n",
    "Line=[]\n",
    "for _ in range(n):\n",
    "    tmp=int(input())\n",
    "    Line.append(tmp)\n",
    "Line.sort()\n",
    "lt=1\n",
    "rt=Line[n-1]\n",
    "# 길이를 조정해 가며 최대 마리수가 목표치에 도달했을 때 길이 배출가 목표치에 도달했을 때 길이 배출\n",
    "while lt<=rt:\n",
    "    mid=(lt+rt)//2\n",
    "    if Count(mid)>=c: \n",
    "        res=mid\n",
    "        lt=mid+1\n",
    "    else:\n",
    "        rt=mid-1\n",
    "\n",
    "print(res)"
   ]
  },
  {
   "cell_type": "markdown",
   "metadata": {},
   "source": [
    "# 4-5 회의실 배정"
   ]
  },
  {
   "cell_type": "code",
   "execution_count": 31,
   "metadata": {},
   "outputs": [
    {
     "name": "stdout",
     "output_type": "stream",
     "text": [
      "5\n",
      "1 4\n",
      "2 3\n",
      "3 5\n",
      "4 6\n",
      "5 7\n",
      "3\n"
     ]
    }
   ],
   "source": [
    "import sys\n",
    "#sys.stdin=open(\"input.txt\", \"r\")\n",
    "n=int(input())\n",
    "meeting=[]\n",
    "for i in range(n):\n",
    "    a, b=map(int, input().split())\n",
    "    meeting.append((a, b))\n",
    "meeting.sort(key=lambda x : (x[1], x[0]))\n",
    "# 끝나는 시간 순으로 배열해서 전타임 종료시간 이후에 \n",
    "# 회의가 시작하면 카운트 \n",
    "et=0\n",
    "cnt=0\n",
    "for x, y in meeting:\n",
    "    if x>=et:\n",
    "        et=y\n",
    "        cnt+=1\n",
    "print(cnt)"
   ]
  },
  {
   "cell_type": "markdown",
   "metadata": {},
   "source": [
    "# 4-8 침몰하는 타이타닉 "
   ]
  },
  {
   "cell_type": "code",
   "execution_count": 13,
   "metadata": {},
   "outputs": [
    {
     "name": "stdout",
     "output_type": "stream",
     "text": [
      "5 140\n",
      "90 50 70 100 60\n"
     ]
    }
   ],
   "source": [
    "import sys\n",
    "#sys.stdin = open(\"input.txt\", 'r')\n",
    "n , m = map(int, input().split()) \n",
    "list1 = list(map(int, input().split()))"
   ]
  },
  {
   "cell_type": "code",
   "execution_count": 14,
   "metadata": {},
   "outputs": [
    {
     "name": "stdout",
     "output_type": "stream",
     "text": [
      "3\n"
     ]
    }
   ],
   "source": [
    "cnt = 0\n",
    "list1 = sorted(list1)\n",
    "while list1 :\n",
    "    if len(list1) == 1 :\n",
    "        cnt += 1  # 마지막 한명 태우고 보트 +1 하고 break\n",
    "        break\n",
    "    if list1[0] +list1[-1] > m : # 보트최대중량 넘으면 가장 무거운 사람 태우고 count \n",
    "        list1.pop()\n",
    "        cnt+=1\n",
    "    else : # 두명 태우고 count\n",
    "        list1.pop(0)\n",
    "        list1.pop()\n",
    "        cnt+=1\n",
    "print(cnt)"
   ]
  },
  {
   "cell_type": "markdown",
   "metadata": {},
   "source": [
    "# 4-10 역수열"
   ]
  },
  {
   "cell_type": "code",
   "execution_count": 32,
   "metadata": {},
   "outputs": [
    {
     "name": "stdout",
     "output_type": "stream",
     "text": [
      "8\n",
      "5 3 4 0 2 1 1 0\n",
      "4 8 6 2 5 1 3 7 "
     ]
    }
   ],
   "source": [
    "import sys\n",
    "#sys.stdin=open('input.txt', 'rt')\n",
    "\n",
    "n = int(input())\n",
    "a = list(map(int, input().split()))\n",
    "b = list(range(n, 0, -1)) # 큰 숫자 부터 배열 \n",
    "tmp = []\n",
    "\n",
    "for i in b: # 큰 숫자부터 넣으면 앞에 나보다 큰 숫자가 없으므로 깔끔! \n",
    "    tmp.insert(a[i-1], i)\n",
    "for x in tmp:\n",
    "    print(x, end=' ')"
   ]
  },
  {
   "cell_type": "markdown",
   "metadata": {},
   "source": [
    "# 5-2 쇠막대기 "
   ]
  },
  {
   "cell_type": "code",
   "execution_count": 15,
   "metadata": {},
   "outputs": [
    {
     "name": "stdout",
     "output_type": "stream",
     "text": [
      "()(((()())(())()))(())\n",
      "17\n"
     ]
    }
   ],
   "source": [
    "import sys\n",
    "sys.stdin=open(\"input.txt\", \"r\")\n",
    "s=input()\n",
    "stack=[]\n",
    "cnt=0\n",
    "for i in range(len(s)):\n",
    "    if s[i]=='(':\n",
    "        stack.append(s[i])   # '('의 개수가 곧 쇠막대기의 개수\n",
    "    else:  # ')'가 나타난 경우 \n",
    "        stack.pop()\n",
    "        if s[i-1]=='(':   #레이저위치 \n",
    "            cnt+=len(stack)  #'(' 개수만큼 막대기 수 이므로 그만큼 자른다\n",
    "        else:    \n",
    "            cnt+=1 \n",
    "print(cnt)"
   ]
  },
  {
   "cell_type": "markdown",
   "metadata": {},
   "source": [
    "# 5-5 공주구하기"
   ]
  },
  {
   "cell_type": "code",
   "execution_count": 18,
   "metadata": {},
   "outputs": [
    {
     "name": "stdout",
     "output_type": "stream",
     "text": [
      "500 8\n"
     ]
    }
   ],
   "source": [
    "import sys\n",
    "#sys.stdin=open(\"input.txt\", \"r\")\n",
    "n ,k = map(int, input().split()) \n",
    "list1 = list(range(1,n+1))"
   ]
  },
  {
   "cell_type": "code",
   "execution_count": 19,
   "metadata": {},
   "outputs": [
    {
     "name": "stdout",
     "output_type": "stream",
     "text": [
      "494\n"
     ]
    }
   ],
   "source": [
    "while list1 :\n",
    "    for _ in range(k-1): # k-1 번 동안\n",
    "        list1.append(list1.pop(0)) #맨앞에 있는 왕자 맨뒤로 이동\n",
    "    list1.pop(0) # k번째 왕자 out \n",
    "    if len(list1) == 1: # 한명남았을때 왕자 번호 출력\n",
    "        print(list1[0])\n",
    "        list1.pop(0)"
   ]
  },
  {
   "cell_type": "markdown",
   "metadata": {},
   "source": [
    "# 5-6 응급실 "
   ]
  },
  {
   "cell_type": "code",
   "execution_count": 20,
   "metadata": {},
   "outputs": [
    {
     "name": "stdout",
     "output_type": "stream",
     "text": [
      "6 0\n",
      "60 60 90 60 60 60\n"
     ]
    }
   ],
   "source": [
    "import sys\n",
    "#sys.stdin=open(\"input.txt\", \"r\")\n",
    "n ,m = map(int, input().split()) \n",
    "Q=[(i, j) for i, j in enumerate(list(map(int, input().split())))]"
   ]
  },
  {
   "cell_type": "code",
   "execution_count": 22,
   "metadata": {},
   "outputs": [
    {
     "name": "stdout",
     "output_type": "stream",
     "text": [
      "5\n"
     ]
    }
   ],
   "source": [
    "cnt = 0\n",
    "while 1:\n",
    "    cur=Q.pop(0) #맨앞에 환자 (환자 리스트에서 일단 삭제)\n",
    "    if any(cur[1]<x[1] for x in Q): # 위험도가 더 큰 환자가 있다면\n",
    "        Q.append(cur) # 맨뒤로 보낸다 \n",
    "    else: \n",
    "        cnt+=1 # 아니면 치료한다 cnt+=1\n",
    "        if cur[0]==m: #내가 찾는 환자가 맨앞에 환자일때 \n",
    "            print(cnt) \n",
    "            break"
   ]
  },
  {
   "cell_type": "code",
   "execution_count": null,
   "metadata": {},
   "outputs": [],
   "source": []
  },
  {
   "cell_type": "code",
   "execution_count": null,
   "metadata": {},
   "outputs": [],
   "source": []
  }
 ],
 "metadata": {
  "kernelspec": {
   "display_name": "Python 3",
   "language": "python",
   "name": "python3"
  },
  "language_info": {
   "codemirror_mode": {
    "name": "ipython",
    "version": 3
   },
   "file_extension": ".py",
   "mimetype": "text/x-python",
   "name": "python",
   "nbconvert_exporter": "python",
   "pygments_lexer": "ipython3",
   "version": "3.7.1"
  }
 },
 "nbformat": 4,
 "nbformat_minor": 2
}
