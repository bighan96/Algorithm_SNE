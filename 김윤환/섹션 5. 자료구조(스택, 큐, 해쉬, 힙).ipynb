{
 "cells": [
  {
   "cell_type": "markdown",
   "metadata": {},
   "source": [
    "# 5-1 가장 큰 수  (강의시청)"
   ]
  },
  {
   "cell_type": "code",
   "execution_count": 2,
   "metadata": {},
   "outputs": [
    {
     "name": "stdout",
     "output_type": "stream",
     "text": [
      "5276823 3\n"
     ]
    }
   ],
   "source": [
    "#강의시청\n",
    "import sys\n",
    "#sys.stdin=open('input.txt','rt')\n",
    "num , m = map(int , input().split() )\n",
    "\n",
    "num = list(map(int, str(num) ))\n",
    "stack = []\n",
    "for x in num :\n",
    "    while stack and m > 0 and stack[-1] < x :\n",
    "        stack.pop()\n",
    "        m -= 1\n",
    "    stack.append(x)\n",
    "if m != 0 :\n",
    "    stack = stack[:-m]\n",
    "res=''.join(map(str,stack))\n",
    "print(res)"
   ]
  },
  {
   "cell_type": "markdown",
   "metadata": {},
   "source": [
    "# 5-2 쇠막대기 ( 0 )"
   ]
  },
  {
   "cell_type": "code",
   "execution_count": 75,
   "metadata": {},
   "outputs": [
    {
     "name": "stdout",
     "output_type": "stream",
     "text": [
      "()(((()())(())()))(())\n",
      "17\n"
     ]
    }
   ],
   "source": [
    "#answer\n",
    "import sys\n",
    "sys.stdin=open(\"input.txt\", \"r\")\n",
    "s=input()\n",
    "stack=[]\n",
    "cnt=0\n",
    "for i in range(len(s)):\n",
    "    if s[i]=='(':\n",
    "        stack.append(s[i])     \n",
    "    else:  \n",
    "        stack.pop()\n",
    "        if s[i-1]=='(':   \n",
    "            cnt+=len(stack)   \n",
    "        else:    \n",
    "            cnt+=1 \n",
    "print(cnt)"
   ]
  },
  {
   "cell_type": "markdown",
   "metadata": {},
   "source": [
    "# 5-3 후위표기식 만들기 (0 -> 100)"
   ]
  },
  {
   "cell_type": "code",
   "execution_count": 89,
   "metadata": {},
   "outputs": [
    {
     "name": "stdout",
     "output_type": "stream",
     "text": [
      "3*(5+2)-9\n"
     ]
    }
   ],
   "source": [
    "import sys\n",
    "#sys.stdin=open(\"input.txt\", \"r\")\n",
    "before = input()\n",
    "temp = []\n",
    "after = ''\n",
    "for ele in before :\n",
    "    if ele.isnumeric() == True :\n",
    "        after = after + str(ele) \n",
    "    else :\n",
    "        if ele == '(' :\n",
    "            temp.append(ele)\n",
    "            #print(temp)\n",
    "        \n",
    "        elif ele == '*' or ele == '/' :\n",
    "            while (len(temp) != 0) and (temp[-1] == '*' or temp[-1] == '/') :\n",
    "                after = after + temp[-1]\n",
    "                temp.pop()\n",
    "            temp.append(ele)\n",
    "            #print(temp)\n",
    "        elif ele == '+' or ele == '-':\n",
    "            while len(temp) != 0 and temp[-1] != '(' :\n",
    "                after = after + temp[-1]\n",
    "                temp.pop()\n",
    "            temp.append(ele)\n",
    "            #print(temp)\n",
    "        elif ele == ')' :\n",
    "            while len(temp) != 0 and temp[-1] !='(' :\n",
    "                after = after + temp[-1]\n",
    "                temp.pop()\n",
    "            temp.pop()\n",
    "            #print(temp)  \n",
    "\n",
    "while len(temp) != 0 :\n",
    "    after = after + temp[-1]\n",
    "    temp.pop()\n",
    "print(after)"
   ]
  },
  {
   "cell_type": "code",
   "execution_count": null,
   "metadata": {},
   "outputs": [],
   "source": [
    "#answer\n",
    "import sys\n",
    "sys.stdin=open(\"input.txt\", \"r\")\n",
    "a=input()\n",
    "stack=[]\n",
    "res=''\n",
    "for x in a:\n",
    "    if x.isdecimal():\n",
    "        res+=x\n",
    "    else:\n",
    "        if x=='(':\n",
    "            stack.append(x)\n",
    "        elif x=='*' or x=='/':\n",
    "            while stack and (stack[-1]=='*' or stack[-1]=='/'):\n",
    "                res+=stack.pop()\n",
    "            stack.append(x)\n",
    "        elif x=='+' or x=='-':\n",
    "            while stack and stack[-1]!='(':\n",
    "                res+=stack.pop()\n",
    "            stack.append(x)\n",
    "        elif x==')':\n",
    "            while stack and stack[-1]!='(':\n",
    "                res+=stack.pop()\n",
    "            stack.pop()\n",
    "while stack:\n",
    "    res+=stack.pop()\n",
    "print(res)\n",
    "\n"
   ]
  },
  {
   "cell_type": "markdown",
   "metadata": {},
   "source": [
    "# 5-4 후위식 연산 (100)"
   ]
  },
  {
   "cell_type": "code",
   "execution_count": 86,
   "metadata": {},
   "outputs": [
    {
     "name": "stdout",
     "output_type": "stream",
     "text": [
      "352+*9-\n"
     ]
    }
   ],
   "source": [
    "import sys\n",
    "#sys.stdin=open(\"input.txt\", \"r\")\n",
    "cal = input()\n",
    "temp = []\n",
    "for ele in cal :\n",
    "    if ele.isnumeric() == True :\n",
    "        temp.append(int(ele))\n",
    "    else :\n",
    "        if ele== '+' :\n",
    "            x = temp[-1]\n",
    "            temp.pop()\n",
    "            y = temp[-1]\n",
    "            temp.pop()\n",
    "            temp.append(x+y)\n",
    "        elif ele == '*' :\n",
    "            x = temp[-1]\n",
    "            temp.pop()\n",
    "            y = temp[-1]\n",
    "            temp.pop()\n",
    "            temp.append(x*y)\n",
    "        elif ele == '-' :\n",
    "            x = temp[-1]\n",
    "            temp.pop()\n",
    "            y = temp[-1]\n",
    "            temp.pop()\n",
    "            temp.append(y-x)\n",
    "        elif ele == '/' :\n",
    "            x = temp[-1]\n",
    "            temp.pop()\n",
    "            y = temp[-1]\n",
    "            temp.pop()\n",
    "            temp.append(y/x)\n",
    "print(temp[0])"
   ]
  },
  {
   "cell_type": "code",
   "execution_count": null,
   "metadata": {},
   "outputs": [],
   "source": [
    "#answer\n",
    "import sys\n",
    "sys.stdin=open(\"input.txt\", \"r\")\n",
    "a=input()\n",
    "stack=[]\n",
    "for x in a:\n",
    "    if x.isdecimal():\n",
    "        stack.append(int(x))\n",
    "    else:\n",
    "        if x=='+':\n",
    "            n1=stack.pop()\n",
    "            n2=stack.pop()\n",
    "            stack.append(n2+n1)\n",
    "        elif x=='-':\n",
    "            n1=stack.pop()\n",
    "            n2=stack.pop()\n",
    "            stack.append(n2-n1)\n",
    "        elif x=='*':\n",
    "            n1=stack.pop()\n",
    "            n2=stack.pop()\n",
    "            stack.append(n2*n1)\n",
    "        elif x=='/':\n",
    "            n1=stack.pop()\n",
    "            n2=stack.pop()\n",
    "            stack.append(n2/n1)\n",
    "print(stack[0])\n"
   ]
  },
  {
   "cell_type": "markdown",
   "metadata": {},
   "source": [
    "# 5-5 공주구하기 (0 -> 80)"
   ]
  },
  {
   "cell_type": "code",
   "execution_count": 308,
   "metadata": {
    "scrolled": false
   },
   "outputs": [
    {
     "name": "stdout",
     "output_type": "stream",
     "text": [
      "8 3\n",
      "7\n"
     ]
    }
   ],
   "source": [
    "#my solution\n",
    "import sys\n",
    "#sys.stdin=open(\"input.txt\", \"r\")\n",
    "n ,k = map(int, input().split()) \n",
    "list1 = list(range(1,n+1))\n",
    "while 1 :\n",
    "    \n",
    "    if k%n == 0 :\n",
    "        list1 = list1[:k-1]\n",
    "        n -=1\n",
    "    else :\n",
    "        k = k%n\n",
    "        out_idx = k-1\n",
    "        list1 = list1[out_idx+1:] + list1[:out_idx]\n",
    "        #print(list1)\n",
    "        n -=1\n",
    "    #print(list1, n , k)\n",
    "    if n == 1 : \n",
    "        print(list1[0])\n",
    "        break"
   ]
  },
  {
   "cell_type": "code",
   "execution_count": null,
   "metadata": {},
   "outputs": [],
   "source": [
    "#answer\n",
    "import sys\n",
    "from collections import deque\n",
    "sys.stdin=open(\"input.txt\", \"r\")\n",
    "n, k=map(int, input().split())\n",
    "q=list(range(1, n+1))\n",
    "dq=deque(q)\n",
    "while dq:\n",
    "    for _ in range(k-1):\n",
    "        cur=dq.popleft()\n",
    "        dq.append(cur)\n",
    "    dq.popleft()\n",
    "    if len(dq)==1:\n",
    "        print(dq[0])\n",
    "        dq.popleft()\n"
   ]
  },
  {
   "cell_type": "code",
   "execution_count": null,
   "metadata": {},
   "outputs": [],
   "source": []
  },
  {
   "cell_type": "code",
   "execution_count": null,
   "metadata": {},
   "outputs": [],
   "source": []
  },
  {
   "cell_type": "code",
   "execution_count": null,
   "metadata": {},
   "outputs": [],
   "source": []
  },
  {
   "cell_type": "markdown",
   "metadata": {},
   "source": [
    "# 5-6 응급실 (60)"
   ]
  },
  {
   "cell_type": "code",
   "execution_count": 342,
   "metadata": {},
   "outputs": [
    {
     "name": "stdout",
     "output_type": "stream",
     "text": [
      "5 2\n",
      "60 50 70 80 90\n"
     ]
    }
   ],
   "source": [
    "import sys\n",
    "#sys.stdin=open(\"input.txt\", \"r\")\n",
    "n ,m = map(int, input().split()) \n",
    "list1 = list(map(int, input().split()))\n",
    "\n",
    "list2 = []\n",
    "for i, j in enumerate(list1) :\n",
    "    list2.append((j,i,0))\n",
    "    \n",
    "k = list1.index(max(list1))\n",
    "add = list(range(n,0,-1))\n",
    "add_new = add[-k:] + add[:-k]\n",
    "list4 = [0] * len(list1)\n",
    "for i in range(len(list1)):\n",
    "    list4[i] = (list2[i][0] + add_new[i]/10 ,list2[i][1]  )\n",
    "list5 = sorted(list4, reverse=True )\n",
    "for x in list5 :\n",
    "    if x[1] == m:\n",
    "        print(list5.index(x)+1)"
   ]
  },
  {
   "cell_type": "code",
   "execution_count": 76,
   "metadata": {},
   "outputs": [
    {
     "name": "stdout",
     "output_type": "stream",
     "text": [
      "6 0\n",
      "60 60 90 60 60 60 \n",
      "5\n"
     ]
    }
   ],
   "source": [
    "#answer\n",
    "import sys\n",
    "from collections import deque\n",
    "sys.stdin=open(\"input.txt\", \"r\")\n",
    "n, m=map(int, input().split())\n",
    "Q=[(pos, val) for pos, val in enumerate(list(map(int, input().split())))]\n",
    "Q=deque(Q)\n",
    "cnt=0\n",
    "while True:\n",
    "    cur=Q.popleft()\n",
    "    if any(cur[1]<x[1] for x in Q):\n",
    "        Q.append(cur)\n",
    "    else:\n",
    "        cnt+=1\n",
    "        if cur[0]==m:\n",
    "            print(cnt)\n",
    "            break\n"
   ]
  },
  {
   "cell_type": "code",
   "execution_count": null,
   "metadata": {},
   "outputs": [],
   "source": []
  },
  {
   "cell_type": "markdown",
   "metadata": {},
   "source": [
    "# 5-7 교육과정 설계 (100) 입력예제2 안댐"
   ]
  },
  {
   "cell_type": "code",
   "execution_count": 1,
   "metadata": {},
   "outputs": [
    {
     "name": "stdout",
     "output_type": "stream",
     "text": [
      "AFC\n",
      "1\n",
      "AFFDCCFF\n",
      "#1 NO\n"
     ]
    }
   ],
   "source": [
    "import sys\n",
    "#sys.stdin=open(\"input.txt\", \"r\")\n",
    "must = str(input())\n",
    "N = int(input())\n",
    "plan = []\n",
    "for _ in range(N) :\n",
    "    plan.append(list(map(str, input().split() )))\n",
    "\n",
    "for idx, p in enumerate(plan) :\n",
    "    #print(p)\n",
    "    temp = ''\n",
    "    for lecture in p[0] :\n",
    "        #print(lecturㅠe)\n",
    "        if lecture in must :\n",
    "            temp += lecture\n",
    "        #print(temp)\n",
    "    \n",
    "    \n",
    "    \n",
    "    \n",
    "    \n",
    "    if temp == must :\n",
    "        print('#{} YES'.format(idx+1))\n",
    "    else : print('#{} NO'.format(idx+1))"
   ]
  },
  {
   "cell_type": "code",
   "execution_count": null,
   "metadata": {},
   "outputs": [],
   "source": [
    "# 필수과목 겹치는 경우 수정\n",
    "import sys\n",
    "#sys.stdin=open(\"input.txt\", \"r\")\n",
    "must = str(input())\n",
    "N = int(input())\n",
    "plan = []\n",
    "for _ in range(N) :\n",
    "    plan.append(list(map(str, input().split() )))\n",
    "\n",
    "for idx, p in enumerate(plan) :\n",
    "    #print(p)\n",
    "    temp = ''\n",
    "    for lecture in p[0] :\n",
    "        #print(lecturㅠe)\n",
    "        if lecture in must :\n",
    "            temp += lecture\n",
    "        #print(temp)\n",
    "    \n",
    "        temp2 = '4'\n",
    "        for i in 'AAFFCC' :\n",
    "            if i == temp2[-1] :\n",
    "                continue\n",
    "            temp2 += i\n",
    "        temp2 = temp2[1:]    \n",
    "    \n",
    "    \n",
    "    if temp2 == must :\n",
    "        print('#{} YES'.format(idx+1))\n",
    "    else : print('#{} NO'.format(idx+1))"
   ]
  },
  {
   "cell_type": "code",
   "execution_count": null,
   "metadata": {},
   "outputs": [],
   "source": [
    "#answer\n",
    "import sys\n",
    "from collections import deque\n",
    "sys.stdin=open(\"input.txt\", \"r\")\n",
    "need=input()\n",
    "n=int(input())\n",
    "for i in range(n):\n",
    "    plan=input()\n",
    "    dq=deque(need)\n",
    "    for x in plan:\n",
    "        if x in dq:\n",
    "            if x!=dq.popleft():\n",
    "                print(\"#%d NO\" %(i+1))\n",
    "                break\n",
    "    else:\n",
    "        if len(dq)==0:\n",
    "            print(\"#%d YES\" %(i+1))\n",
    "        else:\n",
    "            print(\"#%d NO\" %(i+1))\n"
   ]
  },
  {
   "cell_type": "markdown",
   "metadata": {},
   "source": [
    "# 5-8 단어찾기 (100)"
   ]
  },
  {
   "cell_type": "code",
   "execution_count": 29,
   "metadata": {},
   "outputs": [
    {
     "name": "stdout",
     "output_type": "stream",
     "text": [
      "5\n",
      "big\n",
      "good\n",
      "sky\n",
      "blue\n",
      "mouse\n",
      "sky\n",
      "good\n",
      "mouse\n",
      "big\n"
     ]
    }
   ],
   "source": [
    "import sys\n",
    "#sys.stdin=open(\"input.txt\", \"r\")\n",
    "N = int(input())\n",
    "note = []\n",
    "for _ in range(N):\n",
    "    word = str(input())\n",
    "    note.append(word)\n",
    "poetry = []\n",
    "for _ in range(N-1) :\n",
    "    word = str(input())\n",
    "    poetry.append(word)\n",
    "for word in note :\n",
    "    if word not in poetry :\n",
    "        print(word)"
   ]
  },
  {
   "cell_type": "code",
   "execution_count": null,
   "metadata": {},
   "outputs": [],
   "source": [
    "#answer\n",
    "import sys\n",
    "sys.stdin=open(\"input.txt\", \"r\")\n",
    "n=int(input())\n",
    "p=dict()\n",
    "for i in range(n):\n",
    "    word=input()\n",
    "    p[word]=1\n",
    "for i in range(n-1):\n",
    "    word=input()\n",
    "    p[word]=0\n",
    "for key, val in p.items():\n",
    "    if val==1:\n",
    "        print(key)\n",
    "        break\n"
   ]
  },
  {
   "cell_type": "markdown",
   "metadata": {},
   "source": [
    "# 5-9 아나그램(구글) (100)"
   ]
  },
  {
   "cell_type": "code",
   "execution_count": 34,
   "metadata": {},
   "outputs": [
    {
     "name": "stdout",
     "output_type": "stream",
     "text": [
      "AbaAeCe\n",
      "baeeACA\n"
     ]
    }
   ],
   "source": [
    "import sys\n",
    "#sys.stdin=open(\"input.txt\", \"r\")\n",
    "first = str(input())\n",
    "second = str(input())\n",
    "\n",
    "if sorted(first) == sorted(second) :\n",
    "    print('YES')\n",
    "else : print('NO')"
   ]
  },
  {
   "cell_type": "code",
   "execution_count": null,
   "metadata": {},
   "outputs": [],
   "source": [
    "#answer\n",
    "import sys\n",
    "#sys.stdin=open(\"in1.txt\", \"r\")\n",
    "a=input()\n",
    "b=input()\n",
    "sH=dict()\n",
    "for x in a:\n",
    "    sH[x]=sH.get(x, 0)+1\n",
    "for x in b:\n",
    "    sH[x]=sH.get(x, 0)-1\n",
    "\n",
    "for x in a:\n",
    "    if(sH.get(x)>0):\n",
    "        print(\"NO\")\n",
    "        break;\n",
    "else:\n",
    "    print(\"YES\")\n",
    "\n"
   ]
  },
  {
   "cell_type": "markdown",
   "metadata": {},
   "source": [
    "# 5-10 최소힙(60)"
   ]
  },
  {
   "cell_type": "code",
   "execution_count": 40,
   "metadata": {},
   "outputs": [
    {
     "name": "stdout",
     "output_type": "stream",
     "text": [
      "5\n",
      "3\n",
      "6\n",
      "0\n",
      "5\n",
      "0\n",
      "2\n",
      "4\n",
      "0\n",
      "-1\n"
     ]
    }
   ],
   "source": [
    "#단순 0뜨면 최소값찾는 풀이\n",
    "import sys\n",
    "#sys.stdin=open(\"input.txt\", \"r\")\n",
    "tree = []\n",
    "while 1 :\n",
    "    num = int(input())\n",
    "    tree.append(num)\n",
    "    if tree[-1] == -1 :\n",
    "        break\n",
    "stack = []\n",
    "for num in tree[:-1] :\n",
    "    stack.append(num)\n",
    "    if stack[-1] == 0 :\n",
    "        stack.pop()\n",
    "        print(min(stack))\n",
    "        k = stack.index(min(stack))\n",
    "        stack.pop(k)"
   ]
  },
  {
   "cell_type": "code",
   "execution_count": null,
   "metadata": {},
   "outputs": [],
   "source": []
  },
  {
   "cell_type": "code",
   "execution_count": null,
   "metadata": {},
   "outputs": [],
   "source": [
    "import sys\n",
    "import heapq as hq\n",
    "a=[]\n",
    "while True :\n",
    "    n = int(input())\n",
    "    if n == -1 :\n",
    "        break\n",
    "    if n == 0 :\n",
    "        if len(a) == 0 :\n",
    "            print(-1)\n",
    "        else :\n",
    "            print(hq.heappop(a))\n",
    "    else :\n",
    "        hq.heappush(a, n)"
   ]
  },
  {
   "cell_type": "code",
   "execution_count": null,
   "metadata": {},
   "outputs": [],
   "source": []
  },
  {
   "cell_type": "code",
   "execution_count": null,
   "metadata": {},
   "outputs": [],
   "source": []
  },
  {
   "cell_type": "code",
   "execution_count": null,
   "metadata": {},
   "outputs": [],
   "source": []
  },
  {
   "cell_type": "markdown",
   "metadata": {},
   "source": [
    "# 5-11 최대합 (60)"
   ]
  },
  {
   "cell_type": "code",
   "execution_count": null,
   "metadata": {},
   "outputs": [],
   "source": [
    "import sys\n",
    "#sys.stdin=open(\"input.txt\", \"r\")\n",
    "tree = []\n",
    "while 1 :\n",
    "    num = int(input())\n",
    "    tree.append(num)\n",
    "    if tree[-1] == -1 :\n",
    "        break\n",
    "stack = []\n",
    "for num in tree[:-1] :\n",
    "    stack.append(num)\n",
    "    if stack[-1] == 0 :\n",
    "        stack.pop()\n",
    "        print(max(stack))\n",
    "        k = stack.index(max(stack))\n",
    "        stack.pop(k)"
   ]
  },
  {
   "cell_type": "code",
   "execution_count": null,
   "metadata": {},
   "outputs": [],
   "source": []
  },
  {
   "cell_type": "code",
   "execution_count": null,
   "metadata": {},
   "outputs": [],
   "source": [
    "import sys\n",
    "import heapq as hq\n",
    "sys.stdin=open(\"input.txt\", \"r\")\n",
    "a=[]\n",
    "while True:\n",
    "    n=int(input())\n",
    "    if n==-1:\n",
    "        break\n",
    "    if n==0:\n",
    "        if len(a)==0:\n",
    "            print(-1)\n",
    "        else:\n",
    "            print(-hq.heappop(a))\n",
    "    else:\n",
    "        hq.heappush(a, -n)\n"
   ]
  }
 ],
 "metadata": {
  "kernelspec": {
   "display_name": "Python 3",
   "language": "python",
   "name": "python3"
  },
  "language_info": {
   "codemirror_mode": {
    "name": "ipython",
    "version": 3
   },
   "file_extension": ".py",
   "mimetype": "text/x-python",
   "name": "python",
   "nbconvert_exporter": "python",
   "pygments_lexer": "ipython3",
   "version": "3.7.1"
  }
 },
 "nbformat": 4,
 "nbformat_minor": 2
}
