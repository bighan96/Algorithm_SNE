{
 "cells": [
  {
   "cell_type": "markdown",
   "metadata": {},
   "source": [
    "# 5-1 가장 큰 수  (강의시청)"
   ]
  },
  {
   "cell_type": "code",
   "execution_count": 2,
   "metadata": {},
   "outputs": [
    {
     "name": "stdout",
     "output_type": "stream",
     "text": [
      "5276823 3\n"
     ]
    }
   ],
   "source": [
    "#강의시청\n",
    "import sys\n",
    "#sys.stdin=open('input.txt','rt')\n",
    "num , m = map(int , input().split() )\n",
    "\n",
    "num = list(map(int, str(num) ))\n",
    "stack = []\n",
    "for x in num :\n",
    "    while stack and m > 0 and stack[-1] < x :\n",
    "        stack.pop()\n",
    "        m -= 1\n",
    "    stack.append(x)\n",
    "if m != 0 :\n",
    "    stack = stack[:-m]\n",
    "res=''.join(map(str,stack))\n",
    "print(res)"
   ]
  },
  {
   "cell_type": "markdown",
   "metadata": {},
   "source": [
    "# 5-2 쇠막대기 ( 0 )"
   ]
  },
  {
   "cell_type": "code",
   "execution_count": null,
   "metadata": {},
   "outputs": [],
   "source": []
  },
  {
   "cell_type": "markdown",
   "metadata": {},
   "source": [
    "# 5-3 후위표기식 만들기 (0 -> 100)"
   ]
  },
  {
   "cell_type": "code",
   "execution_count": 89,
   "metadata": {},
   "outputs": [
    {
     "name": "stdout",
     "output_type": "stream",
     "text": [
      "3*(5+2)-9\n"
     ]
    }
   ],
   "source": [
    "import sys\n",
    "#sys.stdin=open(\"input.txt\", \"r\")\n",
    "before = input()\n",
    "temp = []\n",
    "after = ''\n",
    "for ele in before :\n",
    "    if ele.isnumeric() == True :\n",
    "        after = after + str(ele) \n",
    "    else :\n",
    "        if ele == '(' :\n",
    "            temp.append(ele)\n",
    "            #print(temp)\n",
    "        \n",
    "        elif ele == '*' or ele == '/' :\n",
    "            while (len(temp) != 0) and (temp[-1] == '*' or temp[-1] == '/') :\n",
    "                after = after + temp[-1]\n",
    "                temp.pop()\n",
    "            temp.append(ele)\n",
    "            #print(temp)\n",
    "        elif ele == '+' or ele == '-':\n",
    "            while len(temp) != 0 and temp[-1] != '(' :\n",
    "                after = after + temp[-1]\n",
    "                temp.pop()\n",
    "            temp.append(ele)\n",
    "            #print(temp)\n",
    "        elif ele == ')' :\n",
    "            while len(temp) != 0 and temp[-1] !='(' :\n",
    "                after = after + temp[-1]\n",
    "                temp.pop()\n",
    "            temp.pop()\n",
    "            #print(temp)  \n",
    "\n",
    "while len(temp) != 0 :\n",
    "    after = after + temp[-1]\n",
    "    temp.pop()\n",
    "print(after)"
   ]
  },
  {
   "cell_type": "code",
   "execution_count": 96,
   "metadata": {},
   "outputs": [
    {
     "data": {
      "text/plain": [
       "'3*(5+2)-9'"
      ]
     },
     "execution_count": 96,
     "metadata": {},
     "output_type": "execute_result"
    }
   ],
   "source": [
    "before"
   ]
  },
  {
   "cell_type": "code",
   "execution_count": 106,
   "metadata": {},
   "outputs": [],
   "source": [
    "temp = []\n",
    "after = ''"
   ]
  },
  {
   "cell_type": "code",
   "execution_count": 107,
   "metadata": {},
   "outputs": [
    {
     "name": "stdout",
     "output_type": "stream",
     "text": [
      "['*']\n",
      "['*', '(']\n",
      "['*', '(', '+']\n",
      "['*']\n",
      "['-']\n"
     ]
    }
   ],
   "source": [
    "for ele in before :\n",
    "    if ele.isnumeric() == True :\n",
    "        after = after + str(ele) \n",
    "    else :\n",
    "        if ele == '(' :\n",
    "            temp.append(ele)\n",
    "            print(temp)\n",
    "        \n",
    "        elif ele == '*' or ele == '/' :\n",
    "            while (len(temp) != 0) and (temp[-1] == '*' or temp[-1] == '/') :\n",
    "                after = after + temp[-1]\n",
    "                temp.pop()\n",
    "            temp.append(ele)\n",
    "            print(temp)\n",
    "        elif ele == '+' or ele == '-':\n",
    "            while len(temp) != 0 and temp[-1] != '(' :\n",
    "                after = after + temp[-1]\n",
    "                temp.pop()\n",
    "            temp.append(ele)\n",
    "            print(temp)\n",
    "        elif ele == ')' :\n",
    "            while len(temp) != 0 and temp[-1] !='(' :\n",
    "                after = after + temp[-1]\n",
    "                temp.pop()\n",
    "            temp.pop()\n",
    "            print(temp)     "
   ]
  },
  {
   "cell_type": "code",
   "execution_count": 109,
   "metadata": {
    "scrolled": true
   },
   "outputs": [
    {
     "data": {
      "text/plain": [
       "'352+*9-'"
      ]
     },
     "execution_count": 109,
     "metadata": {},
     "output_type": "execute_result"
    }
   ],
   "source": [
    "while len(temp)\n",
    "    after = after + i\n",
    "    temp.pop()\n",
    "after"
   ]
  },
  {
   "cell_type": "code",
   "execution_count": 84,
   "metadata": {},
   "outputs": [],
   "source": [
    "a = [1,2,'/']"
   ]
  },
  {
   "cell_type": "code",
   "execution_count": 85,
   "metadata": {},
   "outputs": [
    {
     "data": {
      "text/plain": [
       "'/'"
      ]
     },
     "execution_count": 85,
     "metadata": {},
     "output_type": "execute_result"
    }
   ],
   "source": [
    "a.pop()"
   ]
  },
  {
   "cell_type": "code",
   "execution_count": 83,
   "metadata": {
    "scrolled": true
   },
   "outputs": [
    {
     "data": {
      "text/plain": [
       "False"
      ]
     },
     "execution_count": 83,
     "metadata": {},
     "output_type": "execute_result"
    }
   ],
   "source": [
    "a[-1] == ('*' or '/')"
   ]
  },
  {
   "cell_type": "code",
   "execution_count": null,
   "metadata": {},
   "outputs": [],
   "source": []
  },
  {
   "cell_type": "code",
   "execution_count": null,
   "metadata": {},
   "outputs": [],
   "source": []
  },
  {
   "cell_type": "markdown",
   "metadata": {},
   "source": [
    "# 5-4 후위식 연산 (100)"
   ]
  },
  {
   "cell_type": "code",
   "execution_count": 86,
   "metadata": {},
   "outputs": [
    {
     "name": "stdout",
     "output_type": "stream",
     "text": [
      "352+*9-\n"
     ]
    }
   ],
   "source": [
    "import sys\n",
    "#sys.stdin=open(\"input.txt\", \"r\")\n",
    "cal = input()\n",
    "temp = []\n",
    "for ele in cal :\n",
    "    if ele.isnumeric() == True :\n",
    "        temp.append(int(ele))\n",
    "    else :\n",
    "        if ele== '+' :\n",
    "            x = temp[-1]\n",
    "            temp.pop()\n",
    "            y = temp[-1]\n",
    "            temp.pop()\n",
    "            temp.append(x+y)\n",
    "        elif ele == '*' :\n",
    "            x = temp[-1]\n",
    "            temp.pop()\n",
    "            y = temp[-1]\n",
    "            temp.pop()\n",
    "            temp.append(x*y)\n",
    "        elif ele == '-' :\n",
    "            x = temp[-1]\n",
    "            temp.pop()\n",
    "            y = temp[-1]\n",
    "            temp.pop()\n",
    "            temp.append(y-x)\n",
    "        elif ele == '/' :\n",
    "            x = temp[-1]\n",
    "            temp.pop()\n",
    "            y = temp[-1]\n",
    "            temp.pop()\n",
    "            temp.append(y/x)\n",
    "print(temp[0])"
   ]
  },
  {
   "cell_type": "markdown",
   "metadata": {},
   "source": [
    "# 5-5 공주구하기 (0 -> 80)"
   ]
  },
  {
   "cell_type": "code",
   "execution_count": 308,
   "metadata": {
    "scrolled": false
   },
   "outputs": [
    {
     "name": "stdout",
     "output_type": "stream",
     "text": [
      "8 3\n",
      "7\n"
     ]
    }
   ],
   "source": [
    "import sys\n",
    "#sys.stdin=open(\"input.txt\", \"r\")\n",
    "n ,k = map(int, input().split()) \n",
    "list1 = list(range(1,n+1))\n",
    "while 1 :\n",
    "    \n",
    "    if k%n == 0 :\n",
    "        list1 = list1[:k-1]\n",
    "        n -=1\n",
    "    else :\n",
    "        k = k%n\n",
    "        out_idx = k-1\n",
    "        list1 = list1[out_idx+1:] + list1[:out_idx]\n",
    "        #print(list1)\n",
    "        n -=1\n",
    "    #print(list1, n , k)\n",
    "    if n == 1 : \n",
    "        print(list1[0])\n",
    "        break"
   ]
  },
  {
   "cell_type": "code",
   "execution_count": null,
   "metadata": {},
   "outputs": [],
   "source": []
  },
  {
   "cell_type": "code",
   "execution_count": null,
   "metadata": {},
   "outputs": [],
   "source": []
  },
  {
   "cell_type": "code",
   "execution_count": null,
   "metadata": {},
   "outputs": [],
   "source": []
  },
  {
   "cell_type": "code",
   "execution_count": null,
   "metadata": {},
   "outputs": [],
   "source": []
  },
  {
   "cell_type": "markdown",
   "metadata": {},
   "source": [
    "# 5-6 응급실 (60)"
   ]
  },
  {
   "cell_type": "code",
   "execution_count": 342,
   "metadata": {},
   "outputs": [
    {
     "name": "stdout",
     "output_type": "stream",
     "text": [
      "5 2\n",
      "60 50 70 80 90\n"
     ]
    }
   ],
   "source": [
    "import sys\n",
    "#sys.stdin=open(\"input.txt\", \"r\")\n",
    "n ,m = map(int, input().split()) \n",
    "list1 = list(map(int, input().split()))\n",
    "\n",
    "list2 = []\n",
    "for i, j in enumerate(list1) :\n",
    "    list2.append((j,i,0))\n",
    "    \n",
    "k = list1.index(max(list1))\n",
    "add = list(range(n,0,-1))\n",
    "add_new = add[-k:] + add[:-k]\n",
    "list4 = [0] * len(list1)\n",
    "for i in range(len(list1)):\n",
    "    list4[i] = (list2[i][0] + add_new[i]/10 ,list2[i][1]  )\n",
    "list5 = sorted(list4, reverse=True )\n",
    "for x in list5 :\n",
    "    if x[1] == m:\n",
    "        print(list5.index(x)+1)"
   ]
  },
  {
   "cell_type": "code",
   "execution_count": null,
   "metadata": {},
   "outputs": [],
   "source": []
  },
  {
   "cell_type": "code",
   "execution_count": null,
   "metadata": {},
   "outputs": [],
   "source": []
  },
  {
   "cell_type": "code",
   "execution_count": null,
   "metadata": {},
   "outputs": [],
   "source": []
  }
 ],
 "metadata": {
  "kernelspec": {
   "display_name": "Python 3",
   "language": "python",
   "name": "python3"
  },
  "language_info": {
   "codemirror_mode": {
    "name": "ipython",
    "version": 3
   },
   "file_extension": ".py",
   "mimetype": "text/x-python",
   "name": "python",
   "nbconvert_exporter": "python",
   "pygments_lexer": "ipython3",
   "version": "3.7.1"
  }
 },
 "nbformat": 4,
 "nbformat_minor": 2
}
