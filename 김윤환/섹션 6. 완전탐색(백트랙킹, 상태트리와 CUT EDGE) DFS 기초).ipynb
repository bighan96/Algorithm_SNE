{
 "cells": [
  {
   "cell_type": "markdown",
   "metadata": {},
   "source": [
    "# 6-0 재귀함수와 스택"
   ]
  },
  {
   "cell_type": "code",
   "execution_count": 3,
   "metadata": {},
   "outputs": [
    {
     "name": "stdout",
     "output_type": "stream",
     "text": [
      "3\n",
      "1 2 3 "
     ]
    }
   ],
   "source": [
    "#재귀함수와 스택\n",
    "import sys\n",
    "#sys.stdin=open(\"input.txt\", \"r\")\n",
    "def DFS(x) :\n",
    "    if x > 0 :\n",
    "        \n",
    "        DFS(x-1)\n",
    "        print(x, end=' ')\n",
    "\n",
    "\n",
    "\n",
    "\n",
    "\n",
    "if __name__ == '__main__' :\n",
    "    n = int(input())\n",
    "    DFS(n)"
   ]
  },
  {
   "cell_type": "markdown",
   "metadata": {},
   "source": [
    "# 6-1 재귀함수를 이용한 이진수 출력"
   ]
  },
  {
   "cell_type": "code",
   "execution_count": 21,
   "metadata": {},
   "outputs": [],
   "source": [
    "def lee(x):\n",
    "    \n",
    "    if x>0:\n",
    "        lee( x//2 )\n",
    "        print(x%2, end='')\n"
   ]
  },
  {
   "cell_type": "code",
   "execution_count": 24,
   "metadata": {},
   "outputs": [
    {
     "name": "stdout",
     "output_type": "stream",
     "text": [
      "1100101"
     ]
    }
   ],
   "source": [
    "#ANswer\n",
    "import sys\n",
    "#sys.stdin=open(\"input.txt\", \"r\")\n",
    "def DFS(x) :\n",
    "    if x==0 :\n",
    "        break\n",
    "    else :\n",
    "        DFS(x//2)\n",
    "        print(x%2, end='')\n",
    "\n",
    "if __name__ == '__main__' :\n",
    "    n = int(input())\n",
    "    DFS(n)"
   ]
  },
  {
   "cell_type": "markdown",
   "metadata": {},
   "source": [
    "# 6-2 이진트리 순회(깊이우선탐색)"
   ]
  },
  {
   "cell_type": "code",
   "execution_count": 7,
   "metadata": {},
   "outputs": [
    {
     "name": "stdout",
     "output_type": "stream",
     "text": [
      "1 2 4 5 3 6 7 "
     ]
    }
   ],
   "source": [
    "# 전위 순회\n",
    "import sys\n",
    "#sys.stdin=open(\"input.txt\", \"r\")\n",
    "#import heapq as hq \n",
    "def DFS(a) : \n",
    "    if a <= 7 :\n",
    "        print(a, end=' ')\n",
    "        DFS(2*a)\n",
    "        DFS(2*a +1)\n",
    "DFS(1)"
   ]
  },
  {
   "cell_type": "code",
   "execution_count": 13,
   "metadata": {},
   "outputs": [
    {
     "name": "stdout",
     "output_type": "stream",
     "text": [
      "4 2 5 1 6 3 7 "
     ]
    }
   ],
   "source": [
    "# 중위 순회\n",
    "def DFS(a)  :\n",
    "    if a <= 7 :\n",
    "        DFS(a*2)\n",
    "        print(a, end= ' ')\n",
    "        DFS(a*2 +1)\n",
    "DFS(1)"
   ]
  },
  {
   "cell_type": "code",
   "execution_count": 14,
   "metadata": {
    "scrolled": true
   },
   "outputs": [
    {
     "name": "stdout",
     "output_type": "stream",
     "text": [
      "4 5 2 6 7 3 1 "
     ]
    }
   ],
   "source": [
    "# 후위 순회\n",
    "def DFS(a)  :\n",
    "    if a <= 7 :\n",
    "        \n",
    "        DFS(a*2)\n",
    "        DFS(a*2 +1)\n",
    "        print(a, end= ' ')\n",
    "DFS(1)"
   ]
  },
  {
   "cell_type": "markdown",
   "metadata": {},
   "source": [
    "# 6-3 부분집합 구하기(DFS) (100)"
   ]
  },
  {
   "cell_type": "code",
   "execution_count": 83,
   "metadata": {},
   "outputs": [
    {
     "name": "stdout",
     "output_type": "stream",
     "text": [
      "3\n",
      "1 2 3 \n",
      "1 2 \n",
      "1 3 \n",
      "1 \n",
      "2 3 \n",
      "2 \n",
      "3 \n"
     ]
    }
   ],
   "source": [
    "import sys\n",
    "n = int(input())\n",
    "a = [] \n",
    "def DFS(x,a) :\n",
    "    if x < n+1 :\n",
    "        DFS(x+1, a + [x+1] )\n",
    "        DFS(x+1 , a)\n",
    "        if x == n and a :\n",
    "            for i in a :\n",
    "                print(i, end=' ')\n",
    "            print()\n",
    "    else :\n",
    "        return\n",
    "DFS(0,a)"
   ]
  },
  {
   "cell_type": "code",
   "execution_count": null,
   "metadata": {},
   "outputs": [],
   "source": []
  },
  {
   "cell_type": "markdown",
   "metadata": {},
   "source": [
    "# 6-4 합이 같은 부분집합(DFS : 아마존 인터뷰) "
   ]
  },
  {
   "cell_type": "code",
   "execution_count": null,
   "metadata": {},
   "outputs": [],
   "source": []
  },
  {
   "cell_type": "markdown",
   "metadata": {},
   "source": [
    "# 6-5 바둑이 승차(DFS) (80/ timelimit)"
   ]
  },
  {
   "cell_type": "code",
   "execution_count": 106,
   "metadata": {},
   "outputs": [
    {
     "name": "stdout",
     "output_type": "stream",
     "text": [
      "259 5\n",
      "81\n",
      "58\n",
      "42\n",
      "33\n",
      "61\n",
      "242\n"
     ]
    }
   ],
   "source": [
    "import sys\n",
    "#sys.stdin=open(\"input.txt\", \"r\")\n",
    "c, n = map(int, input().split() )\n",
    "dog =[]\n",
    "for _ in range(n):\n",
    "    puppy = int(input())\n",
    "    dog.append(puppy)\n",
    "ans = 0\n",
    "def DFS(idx,w_sum):\n",
    "    global ans \n",
    "    if idx == n :\n",
    "        if w_sum <= c and w_sum > ans :\n",
    "            ans = w_sum\n",
    "        return\n",
    "    else :\n",
    "        DFS(idx+1, w_sum + dog[idx])\n",
    "        DFS(idx+1, w_sum)\n",
    "DFS(0,0)\n",
    "print(ans)"
   ]
  },
  {
   "cell_type": "code",
   "execution_count": null,
   "metadata": {},
   "outputs": [],
   "source": []
  },
  {
   "cell_type": "code",
   "execution_count": null,
   "metadata": {},
   "outputs": [],
   "source": []
  },
  {
   "cell_type": "markdown",
   "metadata": {},
   "source": [
    "# 6-6 중복순열 구하기"
   ]
  },
  {
   "cell_type": "code",
   "execution_count": 43,
   "metadata": {},
   "outputs": [
    {
     "name": "stdout",
     "output_type": "stream",
     "text": [
      "1 1 \n",
      "1 2 \n",
      "1 3 \n",
      "2 1 \n",
      "2 2 \n",
      "2 3 \n",
      "3 1 \n",
      "3 2 \n",
      "3 3 \n",
      "9\n"
     ]
    }
   ],
   "source": [
    "#코드 공부 후\n",
    "import sys\n",
    "#sys.stdin=open(\"input.txt\", \"r\")\n",
    "n , m = map(int, input().split())\n",
    "\n",
    "cnt = 0\n",
    "ans = [0] * m  \n",
    "def DFS(x) :\n",
    "    global cnt\n",
    "    if x == m :\n",
    "        for i in ans :\n",
    "            print(i, end= ' ')\n",
    "        print('')\n",
    "        cnt+=1\n",
    "    \n",
    "        return\n",
    "    else :\n",
    "        for i in range(1, n+1)  : # 1,2,3 \n",
    "            ans[x] = i \n",
    "            DFS(x+1)\n",
    "DFS(0)\n",
    "print(cnt)"
   ]
  },
  {
   "cell_type": "code",
   "execution_count": null,
   "metadata": {},
   "outputs": [],
   "source": []
  },
  {
   "cell_type": "code",
   "execution_count": null,
   "metadata": {},
   "outputs": [],
   "source": []
  },
  {
   "cell_type": "markdown",
   "metadata": {},
   "source": [
    "# 6-7 동전교환 exit_code -> 100"
   ]
  },
  {
   "cell_type": "code",
   "execution_count": 102,
   "metadata": {},
   "outputs": [
    {
     "name": "stdout",
     "output_type": "stream",
     "text": [
      "3 \n",
      "1 2 5\n",
      "15\n",
      "3\n"
     ]
    }
   ],
   "source": [
    "import sys\n",
    "#sys.stdin=open(\"input.txt\", \"r\")\n",
    "\n",
    "def DFS(how_many, sum2) :\n",
    "    global cnt\n",
    "    if sum2 > M :\n",
    "        return\n",
    "    if how_many > cnt :\n",
    "        return\n",
    "    if sum2 == M :\n",
    "        if how_many < cnt :\n",
    "            cnt = how_many\n",
    "    else :\n",
    "        for i in coin :\n",
    "            DFS(how_many+1 , sum2+i)\n",
    "\n",
    "if __name__ == '__main__' : \n",
    "    N= int(input())\n",
    "    coin=list(map(int,input().split()))\n",
    "    coin = sorted(coin, reverse=True)\n",
    "    M = int(input())\n",
    "    cnt=100000\n",
    "    DFS(0,0)\n",
    "    print(cnt)   "
   ]
  },
  {
   "cell_type": "code",
   "execution_count": null,
   "metadata": {},
   "outputs": [],
   "source": []
  },
  {
   "cell_type": "code",
   "execution_count": null,
   "metadata": {},
   "outputs": [],
   "source": []
  },
  {
   "cell_type": "code",
   "execution_count": null,
   "metadata": {},
   "outputs": [],
   "source": []
  },
  {
   "cell_type": "code",
   "execution_count": null,
   "metadata": {},
   "outputs": [],
   "source": []
  },
  {
   "cell_type": "markdown",
   "metadata": {},
   "source": [
    "# 6-8 순열 구하기 (3/31)"
   ]
  },
  {
   "cell_type": "code",
   "execution_count": 107,
   "metadata": {},
   "outputs": [
    {
     "name": "stdout",
     "output_type": "stream",
     "text": [
      "3 2\n",
      "1 2 \n",
      "1 3 \n",
      "2 1 \n",
      "2 3 \n",
      "3 1 \n",
      "3 2 \n",
      "6\n"
     ]
    }
   ],
   "source": [
    "#코드 공부 후 \n",
    "import sys\n",
    "#sys.stdin=open(\"input.txt\", \"r\")\n",
    "n , m = map(int, input().split())\n",
    "\n",
    "cnt = 0\n",
    "ans = [0] * m  \n",
    "check = [0] * (n+1)\n",
    "\n",
    "def DFS(x) :\n",
    "    global cnt\n",
    "    if x == m :\n",
    "        for i in ans :\n",
    "            print(i, end= ' ')\n",
    "        print('')\n",
    "        cnt+=1\n",
    "    \n",
    "    else :\n",
    "        for i in range(1, n+1)  : # 1,2,3 \n",
    "            if check[i] == 0 :\n",
    "                check[i] = 1\n",
    "                ans[x] = i\n",
    "                DFS(x+1)\n",
    "                check[i] = 0\n",
    "DFS(0)\n",
    "print(cnt)"
   ]
  },
  {
   "cell_type": "code",
   "execution_count": null,
   "metadata": {},
   "outputs": [],
   "source": []
  },
  {
   "cell_type": "code",
   "execution_count": null,
   "metadata": {},
   "outputs": [],
   "source": []
  },
  {
   "cell_type": "code",
   "execution_count": null,
   "metadata": {},
   "outputs": [],
   "source": []
  },
  {
   "cell_type": "code",
   "execution_count": null,
   "metadata": {},
   "outputs": [],
   "source": []
  },
  {
   "cell_type": "code",
   "execution_count": null,
   "metadata": {},
   "outputs": [],
   "source": []
  },
  {
   "cell_type": "code",
   "execution_count": null,
   "metadata": {},
   "outputs": [],
   "source": []
  },
  {
   "cell_type": "code",
   "execution_count": null,
   "metadata": {},
   "outputs": [],
   "source": []
  },
  {
   "cell_type": "markdown",
   "metadata": {},
   "source": [
    "# 6-9 수열 추측하기\n"
   ]
  },
  {
   "cell_type": "code",
   "execution_count": null,
   "metadata": {},
   "outputs": [],
   "source": []
  },
  {
   "cell_type": "code",
   "execution_count": null,
   "metadata": {},
   "outputs": [],
   "source": []
  },
  {
   "cell_type": "markdown",
   "metadata": {},
   "source": [
    "# 6-10 조합 구하기"
   ]
  },
  {
   "cell_type": "code",
   "execution_count": null,
   "metadata": {},
   "outputs": [],
   "source": []
  },
  {
   "cell_type": "code",
   "execution_count": null,
   "metadata": {},
   "outputs": [],
   "source": []
  },
  {
   "cell_type": "markdown",
   "metadata": {},
   "source": [
    "# 6-11 수들의 조합\n"
   ]
  },
  {
   "cell_type": "code",
   "execution_count": null,
   "metadata": {},
   "outputs": [],
   "source": []
  },
  {
   "cell_type": "code",
   "execution_count": null,
   "metadata": {},
   "outputs": [],
   "source": []
  },
  {
   "cell_type": "markdown",
   "metadata": {},
   "source": [
    "# 6-12 인접행렬(가중치 방향그래프)"
   ]
  },
  {
   "cell_type": "code",
   "execution_count": null,
   "metadata": {},
   "outputs": [],
   "source": []
  },
  {
   "cell_type": "code",
   "execution_count": null,
   "metadata": {},
   "outputs": [],
   "source": []
  },
  {
   "cell_type": "markdown",
   "metadata": {},
   "source": [
    "# 6-13 경로 탐색(그래프 DFS)"
   ]
  },
  {
   "cell_type": "code",
   "execution_count": null,
   "metadata": {},
   "outputs": [],
   "source": []
  },
  {
   "cell_type": "code",
   "execution_count": null,
   "metadata": {},
   "outputs": [],
   "source": []
  },
  {
   "cell_type": "code",
   "execution_count": null,
   "metadata": {},
   "outputs": [],
   "source": []
  },
  {
   "cell_type": "code",
   "execution_count": null,
   "metadata": {},
   "outputs": [],
   "source": []
  },
  {
   "cell_type": "code",
   "execution_count": null,
   "metadata": {},
   "outputs": [],
   "source": []
  },
  {
   "cell_type": "code",
   "execution_count": null,
   "metadata": {},
   "outputs": [],
   "source": []
  }
 ],
 "metadata": {
  "kernelspec": {
   "display_name": "Python 3",
   "language": "python",
   "name": "python3"
  },
  "language_info": {
   "codemirror_mode": {
    "name": "ipython",
    "version": 3
   },
   "file_extension": ".py",
   "mimetype": "text/x-python",
   "name": "python",
   "nbconvert_exporter": "python",
   "pygments_lexer": "ipython3",
   "version": "3.7.1"
  }
 },
 "nbformat": 4,
 "nbformat_minor": 2
}
