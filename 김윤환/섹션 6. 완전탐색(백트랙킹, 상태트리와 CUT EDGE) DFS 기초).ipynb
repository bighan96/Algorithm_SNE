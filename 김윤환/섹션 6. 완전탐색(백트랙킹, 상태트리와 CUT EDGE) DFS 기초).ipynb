{
 "cells": [
  {
   "cell_type": "markdown",
   "metadata": {},
   "source": [
    "# 6-0 재귀함수와 스택"
   ]
  },
  {
   "cell_type": "code",
   "execution_count": 3,
   "metadata": {},
   "outputs": [
    {
     "name": "stdout",
     "output_type": "stream",
     "text": [
      "3\n",
      "1 2 3 "
     ]
    }
   ],
   "source": [
    "#재귀함수와 스택\n",
    "import sys\n",
    "#sys.stdin=open(\"input.txt\", \"r\")\n",
    "def DFS(x) :\n",
    "    if x > 0 :\n",
    "        \n",
    "        DFS(x-1)\n",
    "        print(x, end=' ')\n",
    "\n",
    "\n",
    "\n",
    "\n",
    "\n",
    "if __name__ == '__main__' :\n",
    "    n = int(input())\n",
    "    DFS(n)"
   ]
  },
  {
   "cell_type": "markdown",
   "metadata": {},
   "source": [
    "# 6-1 재귀함수를 이용한 이진수 출력"
   ]
  },
  {
   "cell_type": "code",
   "execution_count": 21,
   "metadata": {},
   "outputs": [],
   "source": [
    "def lee(x):\n",
    "    \n",
    "    if x>0:\n",
    "        lee( x//2 )\n",
    "        print(x%2, end='')\n"
   ]
  },
  {
   "cell_type": "code",
   "execution_count": 24,
   "metadata": {},
   "outputs": [
    {
     "name": "stdout",
     "output_type": "stream",
     "text": [
      "1100101"
     ]
    }
   ],
   "source": [
    "#ANswer\n",
    "import sys\n",
    "#sys.stdin=open(\"input.txt\", \"r\")\n",
    "def DFS(x) :\n",
    "    if x==0 :\n",
    "        break\n",
    "    else :\n",
    "        DFS(x//2)\n",
    "        print(x%2, end='')\n",
    "\n",
    "if __name__ == '__main__' :\n",
    "    n = int(input())\n",
    "    DFS(n)"
   ]
  },
  {
   "cell_type": "markdown",
   "metadata": {},
   "source": [
    "# 6-2 이진트리 순회(깊이우선탐색)"
   ]
  },
  {
   "cell_type": "code",
   "execution_count": 7,
   "metadata": {},
   "outputs": [
    {
     "name": "stdout",
     "output_type": "stream",
     "text": [
      "1 2 4 5 3 6 7 "
     ]
    }
   ],
   "source": [
    "# 전위 순회\n",
    "import sys\n",
    "#sys.stdin=open(\"input.txt\", \"r\")\n",
    "#import heapq as hq \n",
    "def DFS(a) : \n",
    "    if a <= 7 :\n",
    "        print(a, end=' ')\n",
    "        DFS(2*a)\n",
    "        DFS(2*a +1)\n",
    "DFS(1)"
   ]
  },
  {
   "cell_type": "code",
   "execution_count": 13,
   "metadata": {},
   "outputs": [
    {
     "name": "stdout",
     "output_type": "stream",
     "text": [
      "4 2 5 1 6 3 7 "
     ]
    }
   ],
   "source": [
    "# 중위 순회\n",
    "def DFS(a)  :\n",
    "    if a <= 7 :\n",
    "        DFS(a*2)\n",
    "        print(a, end= ' ')\n",
    "        DFS(a*2 +1)\n",
    "DFS(1)"
   ]
  },
  {
   "cell_type": "code",
   "execution_count": 14,
   "metadata": {
    "scrolled": true
   },
   "outputs": [
    {
     "name": "stdout",
     "output_type": "stream",
     "text": [
      "4 5 2 6 7 3 1 "
     ]
    }
   ],
   "source": [
    "# 후위 순회\n",
    "def DFS(a)  :\n",
    "    if a <= 7 :\n",
    "        \n",
    "        DFS(a*2)\n",
    "        DFS(a*2 +1)\n",
    "        print(a, end= ' ')\n",
    "DFS(1)"
   ]
  },
  {
   "cell_type": "markdown",
   "metadata": {},
   "source": [
    "# 6-3 부분집합 구하기(DFS) (100)"
   ]
  },
  {
   "cell_type": "code",
   "execution_count": 83,
   "metadata": {},
   "outputs": [
    {
     "name": "stdout",
     "output_type": "stream",
     "text": [
      "3\n",
      "1 2 3 \n",
      "1 2 \n",
      "1 3 \n",
      "1 \n",
      "2 3 \n",
      "2 \n",
      "3 \n"
     ]
    }
   ],
   "source": [
    "import sys\n",
    "n = int(input())\n",
    "a = [] \n",
    "def DFS(x,a) :\n",
    "    if x < n+1 :\n",
    "        DFS(x+1, a + [x+1] )\n",
    "        DFS(x+1 , a)\n",
    "        if x == n and a :\n",
    "            for i in a :\n",
    "                print(i, end=' ')\n",
    "            print()\n",
    "    else :\n",
    "        return\n",
    "DFS(0,a)"
   ]
  },
  {
   "cell_type": "code",
   "execution_count": null,
   "metadata": {},
   "outputs": [],
   "source": [
    "#Answer\n",
    "import sys\n",
    "sys.stdin=open(\"input.txt\", \"r\")\n",
    "def DFS(v):\n",
    "    if v==n+1:\n",
    "        for i in range(1, n+1):\n",
    "            if ch[i]==1:\n",
    "                print(i, end=' ')\n",
    "        print()\n",
    "    else:\n",
    "        ch[v]=1\n",
    "        DFS(v+1)\n",
    "        ch[v]=0\n",
    "        DFS(v+1)\n",
    "\n",
    "if __name__==\"__main__\":\n",
    "    n=int(input())\n",
    "    ch=[0]*(n+1)\n",
    "    DFS(1)\n",
    "    \n",
    "\n"
   ]
  },
  {
   "cell_type": "markdown",
   "metadata": {},
   "source": [
    "# 6-4 합이 같은 부분집합(DFS : 아마존 인터뷰) "
   ]
  },
  {
   "cell_type": "code",
   "execution_count": null,
   "metadata": {},
   "outputs": [],
   "source": [
    "#Answer\n",
    "import sys\n",
    "sys.stdin=open(\"input.txt\", \"r\")\n",
    "def DFS(L, sum):\n",
    "    if sum>total//2:\n",
    "        return\n",
    "    if L==n:\n",
    "        if sum==(total-sum):\n",
    "            print(\"YES\")\n",
    "            sys.exit(0)\n",
    "    else:\n",
    "        DFS(L+1, sum+a[L])\n",
    "        DFS(L+1, sum)\n",
    "\n",
    "if __name__==\"__main__\":\n",
    "    n=int(input())\n",
    "    a=list(map(int, input().split()))\n",
    "    total=sum(a)\n",
    "    DFS(0, 0)\n",
    "    print(\"NO\")"
   ]
  },
  {
   "cell_type": "markdown",
   "metadata": {},
   "source": [
    "# 6-5 바둑이 승차(DFS) (80/ timelimit)"
   ]
  },
  {
   "cell_type": "code",
   "execution_count": 106,
   "metadata": {},
   "outputs": [
    {
     "name": "stdout",
     "output_type": "stream",
     "text": [
      "259 5\n",
      "81\n",
      "58\n",
      "42\n",
      "33\n",
      "61\n",
      "242\n"
     ]
    }
   ],
   "source": [
    "import sys\n",
    "#sys.stdin=open(\"input.txt\", \"r\")\n",
    "c, n = map(int, input().split() )\n",
    "dog =[]\n",
    "for _ in range(n):\n",
    "    puppy = int(input())\n",
    "    dog.append(puppy)\n",
    "ans = 0\n",
    "def DFS(idx,w_sum):\n",
    "    global ans \n",
    "    if idx == n :\n",
    "        if w_sum <= c and w_sum > ans :\n",
    "            ans = w_sum\n",
    "        return\n",
    "    else :\n",
    "        DFS(idx+1, w_sum + dog[idx])\n",
    "        DFS(idx+1, w_sum)\n",
    "DFS(0,0)\n",
    "print(ans)"
   ]
  },
  {
   "cell_type": "code",
   "execution_count": 5,
   "metadata": {},
   "outputs": [
    {
     "name": "stdout",
     "output_type": "stream",
     "text": [
      "3\n"
     ]
    }
   ],
   "source": [
    "print(1+2) ; "
   ]
  },
  {
   "cell_type": "code",
   "execution_count": null,
   "metadata": {},
   "outputs": [],
   "source": [
    "#Answer\n",
    "import sys\n",
    "sys.stdin=open(\"input.txt\", \"r\")\n",
    "def DFS(L, sum, tsum):\n",
    "    global result\n",
    "    if sum+(total-tsum)<result:\n",
    "        return\n",
    "    if sum>c:\n",
    "        return\n",
    "    if L==n:\n",
    "        if sum>result:\n",
    "            result=sum\n",
    "    else:\n",
    "        DFS(L+1, sum+a[L], tsum+a[L])\n",
    "        DFS(L+1, sum, tsum+a[L])\n",
    "\n",
    "\n",
    "if __name__==\"__main__\":\n",
    "    c, n=map(int, input().split())\n",
    "    a=[0]*n\n",
    "    result=-2147000000\n",
    "    for i in range(n):\n",
    "        a[i]=int(input())\n",
    "    total=sum(a)\n",
    "    DFS(0, 0, 0)\n",
    "    print(result)\n"
   ]
  },
  {
   "cell_type": "markdown",
   "metadata": {},
   "source": [
    "# 6-6 중복순열 구하기"
   ]
  },
  {
   "cell_type": "code",
   "execution_count": 43,
   "metadata": {},
   "outputs": [
    {
     "name": "stdout",
     "output_type": "stream",
     "text": [
      "1 1 \n",
      "1 2 \n",
      "1 3 \n",
      "2 1 \n",
      "2 2 \n",
      "2 3 \n",
      "3 1 \n",
      "3 2 \n",
      "3 3 \n",
      "9\n"
     ]
    }
   ],
   "source": [
    "#코드 공부 후\n",
    "import sys\n",
    "#sys.stdin=open(\"input.txt\", \"r\")\n",
    "n , m = map(int, input().split())\n",
    "\n",
    "cnt = 0\n",
    "ans = [0] * m  \n",
    "def DFS(x) :\n",
    "    global cnt\n",
    "    if x == m :\n",
    "        for i in ans :\n",
    "            print(i, end= ' ')\n",
    "        print('')\n",
    "        cnt+=1\n",
    "    \n",
    "        return\n",
    "    else :\n",
    "        for i in range(1, n+1)  : # 1,2,3 \n",
    "            ans[x] = i \n",
    "            DFS(x+1)\n",
    "DFS(0)\n",
    "print(cnt)"
   ]
  },
  {
   "cell_type": "code",
   "execution_count": null,
   "metadata": {},
   "outputs": [],
   "source": []
  },
  {
   "cell_type": "code",
   "execution_count": null,
   "metadata": {},
   "outputs": [],
   "source": []
  },
  {
   "cell_type": "markdown",
   "metadata": {},
   "source": [
    "# 6-7 동전교환 exit_code -> 100"
   ]
  },
  {
   "cell_type": "code",
   "execution_count": 102,
   "metadata": {},
   "outputs": [
    {
     "name": "stdout",
     "output_type": "stream",
     "text": [
      "3 \n",
      "1 2 5\n",
      "15\n",
      "3\n"
     ]
    }
   ],
   "source": [
    "import sys\n",
    "#sys.stdin=open(\"input.txt\", \"r\")\n",
    "\n",
    "def DFS(how_many, sum2) :\n",
    "    global cnt\n",
    "    if sum2 > M :\n",
    "        return\n",
    "    if how_many > cnt :\n",
    "        return\n",
    "    if sum2 == M :\n",
    "        if how_many < cnt :\n",
    "            cnt = how_many\n",
    "    else :\n",
    "        for i in coin :\n",
    "            DFS(how_many+1 , sum2+i)\n",
    "\n",
    "if __name__ == '__main__' : \n",
    "    N= int(input())\n",
    "    coin=list(map(int,input().split()))\n",
    "    coin = sorted(coin, reverse=True)\n",
    "    M = int(input())\n",
    "    cnt=100000\n",
    "    DFS(0,0)\n",
    "    print(cnt)   "
   ]
  },
  {
   "cell_type": "code",
   "execution_count": null,
   "metadata": {},
   "outputs": [],
   "source": []
  },
  {
   "cell_type": "code",
   "execution_count": null,
   "metadata": {},
   "outputs": [],
   "source": []
  },
  {
   "cell_type": "code",
   "execution_count": null,
   "metadata": {},
   "outputs": [],
   "source": []
  },
  {
   "cell_type": "code",
   "execution_count": null,
   "metadata": {},
   "outputs": [],
   "source": []
  },
  {
   "cell_type": "markdown",
   "metadata": {},
   "source": [
    "# 6-8 순열 구하기 (3/31)"
   ]
  },
  {
   "cell_type": "code",
   "execution_count": 107,
   "metadata": {},
   "outputs": [
    {
     "name": "stdout",
     "output_type": "stream",
     "text": [
      "3 2\n",
      "1 2 \n",
      "1 3 \n",
      "2 1 \n",
      "2 3 \n",
      "3 1 \n",
      "3 2 \n",
      "6\n"
     ]
    }
   ],
   "source": [
    "#코드 공부 후 \n",
    "import sys\n",
    "#sys.stdin=open(\"input.txt\", \"r\")\n",
    "n , m = map(int, input().split())\n",
    "\n",
    "cnt = 0\n",
    "ans = [0] * m  \n",
    "check = [0] * (n+1)\n",
    "\n",
    "def DFS(x) :\n",
    "    global cnt\n",
    "    if x == m :\n",
    "        for i in ans :\n",
    "            print(i, end= ' ')\n",
    "        print('')\n",
    "        cnt+=1\n",
    "    \n",
    "    else :\n",
    "        for i in range(1, n+1)  : # 1,2,3 \n",
    "            if check[i] == 0 :\n",
    "                check[i] = 1\n",
    "                ans[x] = i\n",
    "                DFS(x+1)\n",
    "                check[i] = 0\n",
    "DFS(0)\n",
    "print(cnt)"
   ]
  },
  {
   "cell_type": "code",
   "execution_count": null,
   "metadata": {},
   "outputs": [],
   "source": []
  },
  {
   "cell_type": "code",
   "execution_count": null,
   "metadata": {},
   "outputs": [],
   "source": []
  },
  {
   "cell_type": "code",
   "execution_count": null,
   "metadata": {},
   "outputs": [],
   "source": []
  },
  {
   "cell_type": "code",
   "execution_count": null,
   "metadata": {},
   "outputs": [],
   "source": []
  },
  {
   "cell_type": "code",
   "execution_count": null,
   "metadata": {},
   "outputs": [],
   "source": []
  },
  {
   "cell_type": "code",
   "execution_count": null,
   "metadata": {},
   "outputs": [],
   "source": []
  },
  {
   "cell_type": "markdown",
   "metadata": {},
   "source": [
    "# 6-9 수열 추측하기 미완\n"
   ]
  },
  {
   "cell_type": "code",
   "execution_count": null,
   "metadata": {},
   "outputs": [],
   "source": []
  },
  {
   "cell_type": "code",
   "execution_count": null,
   "metadata": {},
   "outputs": [],
   "source": []
  },
  {
   "cell_type": "markdown",
   "metadata": {},
   "source": [
    "# 6-10 조합 구하기 100"
   ]
  },
  {
   "cell_type": "code",
   "execution_count": null,
   "metadata": {},
   "outputs": [],
   "source": [
    "import sys\n",
    "#sys.stdin=open(\"input.txt\", \"r\")\n",
    "n , m = map(int, input().split())\n",
    "\n",
    "cnt = 0\n",
    "ans = [0] * m\n",
    "#check = [0] * (n+1)\n",
    "\n",
    "def DFS(L, start) :\n",
    "    global cnt\n",
    "    if L == m :\n",
    "        for i in ans :\n",
    "            print(i, end= ' ')\n",
    "        print('')\n",
    "        cnt+=1\n",
    "    \n",
    "    else :\n",
    "        for i in range(start, n+1)  : # 1,2,3 \n",
    "            ans[L] = i\n",
    "            DFS(L+1, i+1)\n",
    "DFS(0,1)\n",
    "print(cnt)"
   ]
  },
  {
   "cell_type": "markdown",
   "metadata": {},
   "source": [
    "# 6-11 수들의 조합 100"
   ]
  },
  {
   "cell_type": "code",
   "execution_count": 8,
   "metadata": {},
   "outputs": [
    {
     "name": "stdout",
     "output_type": "stream",
     "text": [
      "5 3\n",
      "2 4 5 8 12\n",
      "6\n",
      "2\n"
     ]
    }
   ],
   "source": [
    "import sys\n",
    "#sys.stdin=open(\"input.txt\", \"r\")\n",
    "n , k = map(int, input().split())\n",
    "list1 = list(map(int, input().split()))\n",
    "m = int(input())\n",
    "\n",
    "cnt = 0\n",
    "ans = [0] * k\n",
    "#check = [0] * (n+1)\n",
    "\n",
    "def DFS(L, start, sum1) :\n",
    "    global cnt\n",
    "    if L == k :\n",
    "        if sum1%m == 0:\n",
    "            cnt+=1\n",
    "    \n",
    "    else :\n",
    "        for i in range(start, n)  : \n",
    "            ans[L] = list1[i]\n",
    "            DFS(L+1, i+1, sum1 + list1[i])\n",
    "DFS(0,0,0)\n",
    "print(cnt)"
   ]
  },
  {
   "cell_type": "code",
   "execution_count": null,
   "metadata": {},
   "outputs": [],
   "source": []
  },
  {
   "cell_type": "code",
   "execution_count": null,
   "metadata": {},
   "outputs": [],
   "source": []
  },
  {
   "cell_type": "markdown",
   "metadata": {},
   "source": [
    "# 6-12 인접행렬(가중치 방향그래프)"
   ]
  },
  {
   "cell_type": "code",
   "execution_count": null,
   "metadata": {},
   "outputs": [],
   "source": [
    "import sys\n",
    "#sys.stdin=open(\"input.txt\", \"r\")\n",
    "n , m = map(int, input().split())\n",
    "list1 = []\n",
    "for _ in range(m) :\n",
    "    list1.append(list(map(int, input().split()))\n",
    "                 \n",
    "                 \n",
    "ans = []\n",
    "for _ in range(n) :\n",
    "    ans.append([0] * n)\n",
    "    \n",
    "def DFS(L) :\n",
    "    global ans\n",
    "    if L == m :\n",
    "        return\n",
    "    else :\n",
    "        start , end , cost = list1[L][0] -1 , list1[L][1] -1, list1[L][2]\n",
    "        ans[start][end] = cost \n",
    "        DFS(L+1)\n",
    "DFS(0)\n",
    "ans"
   ]
  },
  {
   "cell_type": "code",
   "execution_count": null,
   "metadata": {},
   "outputs": [],
   "source": []
  },
  {
   "cell_type": "code",
   "execution_count": null,
   "metadata": {},
   "outputs": [],
   "source": []
  },
  {
   "cell_type": "markdown",
   "metadata": {},
   "source": [
    "# 6-13 경로 탐색(그래프 DFS)"
   ]
  },
  {
   "cell_type": "code",
   "execution_count": 2,
   "metadata": {},
   "outputs": [
    {
     "name": "stdout",
     "output_type": "stream",
     "text": [
      "5 9\n",
      "1 2\n",
      "1 3\n",
      "1 4\n",
      "2 1\n",
      "2 3\n",
      "2 5\n",
      "3 4\n",
      "4 2\n",
      "4 5\n"
     ]
    }
   ],
   "source": [
    "import sys\n",
    "#sys.stdin=open(\"input.txt\", \"r\")\n",
    "n , m = map(int, input().split())\n",
    "list1 = []\n",
    "for _ in range(m) :\n",
    "    list1.append( list(map(int, input().split())) )\n",
    "connect = []\n",
    "for _ in range(n) :\n",
    "    connect.append([0] * n)\n",
    "def DFS(L) :\n",
    "    global ans\n",
    "    if L == m :\n",
    "        return\n",
    "    else :\n",
    "        start , end , if_con  = list1[L][0] -1 , list1[L][1] -1, 1\n",
    "        connect[start][end] = if_con \n",
    "        DFS(L+1)\n",
    "DFS(0)\n",
    "\n",
    "\n",
    "cnt = 0\n",
    "have_been = [0] * n\n",
    "have_been[0] = 1\n",
    "def DFS2(loc) :\n",
    "    global cnt\n",
    "    if loc == n-1 :\n",
    "        cnt += 1\n",
    "        \n",
    "    else :\n",
    "        for i in range(n) :\n",
    "            if connect[loc][i] == 1 and have_been[i] == 0 :\n",
    "                have_been[i] = 1\n",
    "                DFS2(i)\n",
    "                have_been[i] = 0\n",
    "DFS2(0)\n",
    "print(cnt)"
   ]
  },
  {
   "cell_type": "code",
   "execution_count": 3,
   "metadata": {},
   "outputs": [
    {
     "data": {
      "text/plain": [
       "[[0, 1, 1, 1, 0],\n",
       " [1, 0, 1, 0, 1],\n",
       " [0, 0, 0, 1, 0],\n",
       " [0, 1, 0, 0, 1],\n",
       " [0, 0, 0, 0, 0]]"
      ]
     },
     "execution_count": 3,
     "metadata": {},
     "output_type": "execute_result"
    }
   ],
   "source": [
    "connect"
   ]
  },
  {
   "cell_type": "code",
   "execution_count": 17,
   "metadata": {},
   "outputs": [
    {
     "data": {
      "text/plain": [
       "[[0, 1, 1, 1, 0],\n",
       " [1, 0, 1, 0, 1],\n",
       " [0, 0, 0, 1, 0],\n",
       " [0, 1, 0, 0, 1],\n",
       " [0, 0, 0, 0, 0]]"
      ]
     },
     "execution_count": 17,
     "metadata": {},
     "output_type": "execute_result"
    }
   ],
   "source": [
    "connect"
   ]
  },
  {
   "cell_type": "code",
   "execution_count": 19,
   "metadata": {},
   "outputs": [
    {
     "name": "stdout",
     "output_type": "stream",
     "text": [
      "6\n"
     ]
    }
   ],
   "source": [
    "cnt = 0\n",
    "have_been = [0]\n",
    "have_to_check = [0] * n\n",
    "have_to_check[0] = 1\n",
    "def DFS2(loc) :\n",
    "    global cnt, have_been\n",
    "    if loc == n-1 :\n",
    "        cnt += 1\n",
    "        \n",
    "    else :\n",
    "        for i in range(n) :\n",
    "            if connect[loc][i] == 1 and have_to_check[i] == 0 :\n",
    "                have_to_check[i] = 1\n",
    "                have_been.append(i)\n",
    "                DFS2(i)\n",
    "                have_been.pop()\n",
    "                have_to_check[i] = 0\n",
    "DFS2(0)\n",
    "print(cnt)"
   ]
  },
  {
   "cell_type": "code",
   "execution_count": 20,
   "metadata": {},
   "outputs": [
    {
     "name": "stdout",
     "output_type": "stream",
     "text": [
      "6\n"
     ]
    }
   ],
   "source": [
    "cnt = 0\n",
    "have_been = [0]\n",
    "have_to_check = [0] * n\n",
    "have_to_check[0] = 1\n",
    "def DFS2(loc) :\n",
    "    global cnt, have_been\n",
    "    if loc == n-1 :\n",
    "        cnt += 1\n",
    "        \n",
    "    else :\n",
    "        for i in range(n) :\n",
    "            if connect[loc][i] == 1 and have_to_check[i] == 0 :\n",
    "                have_to_check[i] = 1\n",
    "                #have_been.append(i)\n",
    "                DFS2(i)\n",
    "                #have_been.pop()\n",
    "                have_to_check[i] = 0\n",
    "DFS2(0)\n",
    "print(cnt)"
   ]
  }
 ],
 "metadata": {
  "kernelspec": {
   "display_name": "Python 3",
   "language": "python",
   "name": "python3"
  }
 },
 "nbformat": 4,
 "nbformat_minor": 2
}
