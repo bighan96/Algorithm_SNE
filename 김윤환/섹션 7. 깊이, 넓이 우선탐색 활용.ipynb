{
 "cells": [
  {
   "cell_type": "markdown",
   "metadata": {},
   "source": [
    "# 7-1 최대 점수 구하기(DFS) 100"
   ]
  },
  {
   "cell_type": "code",
   "execution_count": null,
   "metadata": {},
   "outputs": [],
   "source": [
    "import sys\n",
    "#sys.stdin=open(\"input.txt\", \"r\")\n",
    "n , m = map(int, input().split())\n",
    "qt = []\n",
    "for _ in range(n) :\n",
    "    qt.append( list(map(int, input().split())) )\n",
    "\n",
    "final_score = 0\n",
    "def DFS(L, score_sum, time_spend) :\n",
    "    global final_score\n",
    "    if time_spend > m :\n",
    "        return\n",
    "    if L == n :\n",
    "        if score_sum > final_score :\n",
    "            final_score = score_sum\n",
    "    else :\n",
    "        DFS(L+1, score_sum + qt[L][0], time_spend + qt[L][1])\n",
    "        DFS(L+1, score_sum , time_spend )\n",
    "DFS(0,0,0)\n",
    "print(final_score)"
   ]
  },
  {
   "cell_type": "code",
   "execution_count": null,
   "metadata": {},
   "outputs": [],
   "source": []
  },
  {
   "cell_type": "markdown",
   "metadata": {},
   "source": [
    "# 7-2 휴가(DFS)"
   ]
  },
  {
   "cell_type": "code",
   "execution_count": null,
   "metadata": {},
   "outputs": [],
   "source": [
    "import sys\n",
    "#sys.stdin=open(\"input.txt\", \"r\")\n",
    "n = int(input())\n",
    "counsel = []\n",
    "for _ in range(n) :\n",
    "    counsel.append( list(map(int, input().split())) )\n",
    "    \n",
    "max_pay = 0\n",
    "def DFS(L, pay_sum) :\n",
    "    global max_pay \n",
    "    if L == n :\n",
    "        if pay_sum > max_pay :\n",
    "            max_pay = pay_sum \n",
    "    else :\n",
    "        if L + counsel[L][0] <= n   : #지난 일수 + 상담일수가 휴가전일때\n",
    "            day = L + counsel[L][0]\n",
    "            DFS(day, pay_sum + counsel[L][1])\n",
    "        \n",
    "        DFS(L+1 , pay_sum)\n",
    "DFS(0,0)\n",
    "print(max_pay)"
   ]
  },
  {
   "cell_type": "code",
   "execution_count": null,
   "metadata": {},
   "outputs": [],
   "source": []
  }
 ],
 "metadata": {
  "kernelspec": {
   "display_name": "Python 3",
   "language": "python",
   "name": "python3"
  },
  "language_info": {
   "codemirror_mode": {
    "name": "ipython",
    "version": 3
   },
   "file_extension": ".py",
   "mimetype": "text/x-python",
   "name": "python",
   "nbconvert_exporter": "python",
   "pygments_lexer": "ipython3",
   "version": "3.7.1"
  }
 },
 "nbformat": 4,
 "nbformat_minor": 2
}
