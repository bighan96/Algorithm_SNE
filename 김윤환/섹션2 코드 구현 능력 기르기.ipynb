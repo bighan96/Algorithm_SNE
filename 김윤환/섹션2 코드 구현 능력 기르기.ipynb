{
 "cells": [
  {
   "cell_type": "markdown",
   "metadata": {},
   "source": [
    "# 2-1 K번째 약수"
   ]
  },
  {
   "cell_type": "markdown",
   "metadata": {},
   "source": [
    "### my solution"
   ]
  },
  {
   "cell_type": "code",
   "execution_count": 7,
   "metadata": {},
   "outputs": [
    {
     "name": "stdout",
     "output_type": "stream",
     "text": [
      "6 5\n",
      "-1\n"
     ]
    }
   ],
   "source": [
    "import sys\n",
    "#sys.stdin=open('input.txt','rt')\n",
    "n , k = map(int, input().split())\n",
    "cnt= 0 \n",
    "for i in range(1,n+1):\n",
    "    if n%i == 0 :\n",
    "        cnt += 1\n",
    "    if cnt == k :\n",
    "        print(i)\n",
    "        break\n",
    "else : print(-1)"
   ]
  },
  {
   "cell_type": "markdown",
   "metadata": {},
   "source": [
    "### answer"
   ]
  },
  {
   "cell_type": "code",
   "execution_count": null,
   "metadata": {},
   "outputs": [],
   "source": [
    "import sys\n",
    "sys.stdin=open(\"input.txt\", \"r\")\n",
    "n, k=map(int, input().split())\n",
    "cnt=0\n",
    "for i in range(1, n+1):\n",
    "    if n%i==0:\n",
    "        cnt+=1\n",
    "    if cnt==k:\n",
    "        print(i)\n",
    "        break\n",
    "else:\n",
    "    print(-1)"
   ]
  },
  {
   "cell_type": "markdown",
   "metadata": {},
   "source": [
    "### feedback"
   ]
  },
  {
   "cell_type": "markdown",
   "metadata": {},
   "source": [
    "- visual studio community에서 txt 파일이 어떤 형식으로 input 되는지 모름"
   ]
  },
  {
   "cell_type": "markdown",
   "metadata": {},
   "source": [
    "# 2-2 K번째 수"
   ]
  },
  {
   "cell_type": "markdown",
   "metadata": {},
   "source": [
    "### my solution  \n",
    "#### score  : 100"
   ]
  },
  {
   "cell_type": "code",
   "execution_count": null,
   "metadata": {
    "scrolled": true
   },
   "outputs": [],
   "source": [
    "import sys\n",
    "#sys.stdin = open('input.txt','rt')\n",
    "T = int(input())\n",
    "for i in range(T) : \n",
    "    N,s,e,k = map(int,input().split())\n",
    "    list1 = list(map(int,input().split()))\n",
    "    list2 = list1[s-1:e]\n",
    "    list2.sort()\n",
    "    print('#{} '.format(i+1), list2[k-1])"
   ]
  },
  {
   "cell_type": "markdown",
   "metadata": {},
   "source": [
    "2\n",
    "\n",
    "6 2 5 3\n",
    "\n",
    "5 2 7 3 8 9\n",
    "\n",
    "15 3 10 3\n",
    "\n",
    "4 15 8 16 6 6 17 3 10 11 18 7 14 7 15"
   ]
  },
  {
   "cell_type": "markdown",
   "metadata": {},
   "source": [
    "### answer"
   ]
  },
  {
   "cell_type": "code",
   "execution_count": 5,
   "metadata": {},
   "outputs": [
    {
     "name": "stdout",
     "output_type": "stream",
     "text": [
      "2\n",
      "6 2 5 3\n",
      "5 2 7 3 8 9\n",
      "#1 7\n",
      "15 3 10 3\n",
      "4 15 8 16 6 6 17 3 10 11 18 7 14 7 15\n",
      "#2 6\n"
     ]
    }
   ],
   "source": [
    "import sys\n",
    "sys.stdin=open('input.txt', 'rt')\n",
    "T= int(input())\n",
    "for t in range(T) :\n",
    "    n ,s , e ,k = map(int, input().split())\n",
    "    a = list(map(int, input().split()))\n",
    "    a=a[s-1:e]\n",
    "    a.sort()\n",
    "    print('#%d %d' %(t+1, a[k-1]))"
   ]
  },
  {
   "cell_type": "markdown",
   "metadata": {},
   "source": [
    "### feedback\n",
    "- 정규표현식"
   ]
  },
  {
   "cell_type": "markdown",
   "metadata": {},
   "source": [
    "# 2-3 K번째 큰수"
   ]
  },
  {
   "cell_type": "markdown",
   "metadata": {},
   "source": [
    "### my solution\n",
    "#### score : 100"
   ]
  },
  {
   "cell_type": "code",
   "execution_count": 1,
   "metadata": {},
   "outputs": [],
   "source": [
    "import sys\n",
    "sys.stdin = open('input.txt','rt')\n",
    "\n",
    "N, K = map(int, input().split())\n",
    "list1 = list(map(int, input().split()))\n",
    "import itertools \n",
    "a = itertools.combinations(list1, 3)\n",
    "b = [sum(i) for i in a]\n",
    "b.sort(reverse=True)\n",
    "print(b[K-1])"
   ]
  },
  {
   "cell_type": "markdown",
   "metadata": {},
   "source": [
    "### answer"
   ]
  },
  {
   "cell_type": "code",
   "execution_count": null,
   "metadata": {},
   "outputs": [],
   "source": [
    "import sys\n",
    "sys.stdin=open(\"input.txt\", \"r\")\n",
    "n, k=map(int, input().split())\n",
    "a=list(map(int, input().split()))\n",
    "res=set()\n",
    "for i in range(n):\n",
    "    for j in range(i+1, n):\n",
    "        for m in range(j+1, n):\n",
    "            res.add(a[i]+a[j]+a[m])\n",
    "res=list(res)\n",
    "res.sort(reverse=True)\n",
    "print(res[k-1])"
   ]
  },
  {
   "cell_type": "markdown",
   "metadata": {},
   "source": [
    "### feedback\n",
    "- itertools 사용불가시 combination/ permutation 만들수 있는지 "
   ]
  },
  {
   "cell_type": "code",
   "execution_count": null,
   "metadata": {},
   "outputs": [],
   "source": []
  },
  {
   "cell_type": "markdown",
   "metadata": {},
   "source": [
    "# 2-4 대표값 "
   ]
  },
  {
   "cell_type": "markdown",
   "metadata": {},
   "source": [
    "### my solution\n",
    "#### score : 0"
   ]
  },
  {
   "cell_type": "code",
   "execution_count": null,
   "metadata": {},
   "outputs": [],
   "source": [
    "import sys\n",
    "sys.stdin = open('input.txt','rt')\n",
    "N  = map(int,input().split())\n",
    "score = list(map(int, input().split()))\n",
    "\n",
    "import numpy as np\n",
    "criterion = round(np.mean(score) ,0)\n",
    "temp = []\n",
    "for sc in score :\n",
    "    temp.append(abs(sc-criterion))\n",
    "\n",
    "import pandas as pd \n",
    "score = pd.DataFrame(score)\n",
    "temp = pd.DataFrame(temp)\n",
    "a= pd.concat([score,temp], axis=1)\n",
    "a.columns = ['score','temp']\n",
    "b= a.sort_values(by='temp')[a.temp == a.temp.min()].sort_values(by='score', ascending=False)\n",
    "print(int(criterion), b.index[0] + 1)"
   ]
  },
  {
   "cell_type": "markdown",
   "metadata": {},
   "source": [
    "### answer"
   ]
  },
  {
   "cell_type": "code",
   "execution_count": 109,
   "metadata": {},
   "outputs": [
    {
     "data": {
      "text/plain": [
       "6"
      ]
     },
     "execution_count": 109,
     "metadata": {},
     "output_type": "execute_result"
    }
   ],
   "source": [
    "import sys\n",
    "#sys.stdin=open(\"input.txt\", \"r\")\n",
    "n=int(input())\n",
    "a=list(map(int, input().split()))\n",
    "ave=sum(a)/n\n",
    "ave=ave+0.5\n",
    "ave=int(ave)\n",
    "min=2147000000\n",
    "for idx, x in enumerate(a):\n",
    "    tmp=abs(x-ave)\n",
    "    if tmp<min:\n",
    "        min=tmp\n",
    "        score=x\n",
    "        res=idx+1\n",
    "    elif tmp==min:\n",
    "        if x>score:\n",
    "            score=x\n",
    "            res=idx+1\n",
    "print(ave, res)"
   ]
  },
  {
   "cell_type": "markdown",
   "metadata": {},
   "source": [
    "### feedback\n",
    "- pandas로 생각하지 말것\n",
    "- if 문 구조 숙달"
   ]
  },
  {
   "cell_type": "markdown",
   "metadata": {},
   "source": [
    "# 2-5  정다면체"
   ]
  },
  {
   "cell_type": "markdown",
   "metadata": {},
   "source": [
    "### my solution\n",
    "#### score : 100"
   ]
  },
  {
   "cell_type": "code",
   "execution_count": null,
   "metadata": {},
   "outputs": [],
   "source": [
    "import sys\n",
    "#sys.stdin=open(\"input.txt\", \"r\")\n",
    "n , m= map(int,input().split())\n",
    "list1 = list(range(1, n+1))\n",
    "list2 = list(range(1, m+1))\n",
    "sum_list = []\n",
    "for i in list1 :\n",
    "    for j in list2 :\n",
    "        sum_list.append(i+j)\n",
    "temp_max = 0\n",
    "for value in set(sum_list) :\n",
    "    cnt =  sum_list.count(value)\n",
    "    if cnt > temp_max : \n",
    "        temp_max = cnt\n",
    "for value in set(sum_list) :\n",
    "    if sum_list.count(value) == temp_max: print(value , end=' ')"
   ]
  },
  {
   "cell_type": "markdown",
   "metadata": {},
   "source": [
    "### answer"
   ]
  },
  {
   "cell_type": "code",
   "execution_count": 4,
   "metadata": {},
   "outputs": [
    {
     "name": "stdout",
     "output_type": "stream",
     "text": [
      "4 6\n",
      "5 6 7 "
     ]
    }
   ],
   "source": [
    "import sys\n",
    "sys.stdin=open(\"input.txt\", \"r\")\n",
    "n, m=map(int, input().split())\n",
    "cnt=[0]*(n+m+3)\n",
    "max=0\n",
    "for i in range(1, n+1):\n",
    "    for j in range(1, m+1):\n",
    "        cnt[i+j]=cnt[i+j]+1\n",
    "\n",
    "for i in range(n+m+1):\n",
    "    if cnt[i]>max:\n",
    "        max=cnt[i]\n",
    "    \n",
    "for i in range(n+m+1):\n",
    "    if cnt[i]==max:\n",
    "        print(i, end=' ')"
   ]
  },
  {
   "cell_type": "markdown",
   "metadata": {},
   "source": [
    "### feedback "
   ]
  },
  {
   "cell_type": "code",
   "execution_count": null,
   "metadata": {},
   "outputs": [],
   "source": []
  },
  {
   "cell_type": "markdown",
   "metadata": {},
   "source": [
    "# 2-6 자릿수의 합"
   ]
  },
  {
   "cell_type": "markdown",
   "metadata": {},
   "source": [
    "### my solution\n",
    "#### score : 100"
   ]
  },
  {
   "cell_type": "code",
   "execution_count": 26,
   "metadata": {},
   "outputs": [
    {
     "name": "stdout",
     "output_type": "stream",
     "text": [
      "3\n",
      "125 88 97\n"
     ]
    }
   ],
   "source": [
    "import sys\n",
    "sys.stdin=open(\"input.txt\", \"r\")\n",
    "N=int(input())\n",
    "a=list(map(int, input().split()))\n",
    "\n",
    "def digit_sum(x) :\n",
    "    x = str(x)\n",
    "    ans = 0\n",
    "    for i in range(len(x)) :\n",
    "        ans = ans + int(x[i])\n",
    "    return ans\n",
    "\n",
    "\n",
    "sum_list = [digit_sum(x) for x in a]\n",
    "max_value = 0 \n",
    "max_idx = 0\n",
    "for idx, value in enumerate(sum_list) :\n",
    "    if value > max_value :\n",
    "        max_value = value \n",
    "        max_idx = idx\n",
    "    elif value == max_value : continue \n",
    "print(a[max_idx])"
   ]
  },
  {
   "cell_type": "markdown",
   "metadata": {},
   "source": [
    "# 2-7 소수(에라토스테네스 체)"
   ]
  },
  {
   "cell_type": "markdown",
   "metadata": {},
   "source": [
    "### my solution\n",
    "#### first score : 20 / time lime exceeded 4개"
   ]
  },
  {
   "cell_type": "code",
   "execution_count": 72,
   "metadata": {},
   "outputs": [
    {
     "name": "stdout",
     "output_type": "stream",
     "text": [
      "20\n",
      "8\n"
     ]
    }
   ],
   "source": [
    "###first try\n",
    "import sys\n",
    "sys.stdin=open(\"input.txt\", \"r\")\n",
    "\n",
    "def isPrime(x) :\n",
    "    cnt = 0 \n",
    "    for i in range(2,x) :\n",
    "        if x%i != 0 : \n",
    "            cnt += 1\n",
    "    if cnt == x-2 : return True\n",
    "    else : return False\n",
    "\n",
    "N = int(input()) \n",
    "no_even = [2] + list(range(2,N+1))[1::2]\n",
    "count = 0 \n",
    "for value in no_even :\n",
    "    if isPrime(value) == True : count+=1\n",
    "print(count)"
   ]
  },
  {
   "cell_type": "code",
   "execution_count": 77,
   "metadata": {},
   "outputs": [
    {
     "name": "stdout",
     "output_type": "stream",
     "text": [
      "125\n",
      "30\n"
     ]
    }
   ],
   "source": [
    "import sys\n",
    "sys.stdin=open(\"input.txt\", \"r\")\n",
    "\n",
    "def isPrime(x) : \n",
    "    if x == 1 : return False \n",
    "    for i in range(2,x) :\n",
    "        if x%i == 0 :\n",
    "            return False\n",
    "    return True\n",
    "\n",
    "N = int(input()) \n",
    "no_even = [2] + list(range(2,N+1))[1::2]\n",
    "count = 0 \n",
    "for value in no_even :\n",
    "    if isPrime(value) == True : count+=1\n",
    "print(count)"
   ]
  },
  {
   "cell_type": "code",
   "execution_count": 86,
   "metadata": {},
   "outputs": [],
   "source": [
    "def solution(x) :\n",
    "    list1 = list(range(2,N+1))[1::2] \n",
    "    for i in list1 :\n",
    "        if i in list1 == 0 : break\n",
    "    cnt +=1 \n",
    "    print(cnt)"
   ]
  },
  {
   "cell_type": "code",
   "execution_count": 88,
   "metadata": {},
   "outputs": [
    {
     "data": {
      "text/plain": [
       "range(2, 22)"
      ]
     },
     "execution_count": 88,
     "metadata": {},
     "output_type": "execute_result"
    }
   ],
   "source": [
    "range(2,22)"
   ]
  },
  {
   "cell_type": "code",
   "execution_count": 89,
   "metadata": {},
   "outputs": [
    {
     "data": {
      "text/plain": [
       "[2, 3, 4, 5, 6, 7, 8, 9, 10, 11, 12, 13, 14, 15, 16, 17, 18, 19, 20, 21]"
      ]
     },
     "execution_count": 89,
     "metadata": {},
     "output_type": "execute_result"
    }
   ],
   "source": [
    "list(range(2,22))"
   ]
  },
  {
   "cell_type": "code",
   "execution_count": 81,
   "metadata": {
    "scrolled": true
   },
   "outputs": [
    {
     "data": {
      "text/plain": [
       "[3, 5, 7, 9, 11, 13]"
      ]
     },
     "execution_count": 81,
     "metadata": {},
     "output_type": "execute_result"
    }
   ],
   "source": [
    "list(range(2,16))[1:-1:2]"
   ]
  },
  {
   "cell_type": "code",
   "execution_count": 90,
   "metadata": {},
   "outputs": [
    {
     "data": {
      "text/plain": [
       "[3, 6, 9, 12, 15, 18, 21]"
      ]
     },
     "execution_count": 90,
     "metadata": {},
     "output_type": "execute_result"
    }
   ],
   "source": [
    "list(range(3, 22, 3 ))"
   ]
  },
  {
   "cell_type": "code",
   "execution_count": null,
   "metadata": {},
   "outputs": [],
   "source": []
  },
  {
   "cell_type": "markdown",
   "metadata": {},
   "source": [
    "# 2-8  뒤집은 소수 "
   ]
  },
  {
   "cell_type": "markdown",
   "metadata": {},
   "source": [
    "### my solution\n",
    "####   score : 100 "
   ]
  },
  {
   "cell_type": "code",
   "execution_count": 142,
   "metadata": {},
   "outputs": [
    {
     "name": "stdout",
     "output_type": "stream",
     "text": [
      "5\n",
      "2 1 10 11\n",
      "2 11 "
     ]
    }
   ],
   "source": [
    "import sys\n",
    "#sys.stdin=open(\"input.txt\", \"r\")\n",
    "N = int(input())\n",
    "list1 = list(map(int, input().split()))\n",
    "\n",
    "def reverse(x) :\n",
    "    ans = []\n",
    "    for i in x :\n",
    "        i = int(str(i)[::-1])\n",
    "        ans.append(i)\n",
    "    return ans\n",
    "\n",
    "def isPrime(x) : \n",
    "    if x == 1 : return False \n",
    "    for i in range(2,x) :\n",
    "        if x%i == 0 :\n",
    "            return False\n",
    "    return True\n",
    "list1 = reverse(list1)\n",
    "for i in list1 :\n",
    "    if isPrime(i) == True : print(i, end=' ')"
   ]
  },
  {
   "cell_type": "markdown",
   "metadata": {},
   "source": [
    "# 2-9 주사위 게임"
   ]
  },
  {
   "cell_type": "markdown",
   "metadata": {},
   "source": [
    "### my solution\n",
    "#### score :  100"
   ]
  },
  {
   "cell_type": "code",
   "execution_count": 55,
   "metadata": {
    "scrolled": true
   },
   "outputs": [
    {
     "name": "stdout",
     "output_type": "stream",
     "text": [
      "3\n",
      "3 3 6\n",
      "2 2 2\n",
      "6 2 5\n",
      "12000\n"
     ]
    }
   ],
   "source": [
    "import sys\n",
    "#sys.stdin=open(\"input.txt\", \"r\")\n",
    "N = int(input())\n",
    "temp_list = []\n",
    "for i in range(N) :\n",
    "    temp_list.append(list(map(int, input().split())) )\n",
    "\n",
    "def price(ex) :\n",
    "    cal_list = []\n",
    "    for idx , value in enumerate(set(ex)) :\n",
    "        cnt = ex.count(value)\n",
    "        cal_list.append((idx, cnt))\n",
    "\n",
    "    if cal_list[0][1] == 3 : \n",
    "        price = 10000 +  list(set(ex))[0]  * 1000\n",
    "    elif cal_list[0][1] == 2 :\n",
    "        price = 1000 + list(set(ex))[0]  * 100\n",
    "    elif cal_list[0][1] == 1 :\n",
    "        if cal_list[1][1] == 2 :\n",
    "            price = 1000 + list(set(ex))[1]  * 100\n",
    "        else : price = max(ex) * 100\n",
    "    return price \n",
    "\n",
    "price_list = []\n",
    "for dice in temp_list :\n",
    "    price_list.append(price(dice))\n",
    "print(max(price_list))"
   ]
  },
  {
   "cell_type": "markdown",
   "metadata": {},
   "source": [
    "# 2-10 점수계산"
   ]
  },
  {
   "cell_type": "markdown",
   "metadata": {},
   "source": [
    "### my solution\n",
    "#### score : 100"
   ]
  },
  {
   "cell_type": "code",
   "execution_count": 1,
   "metadata": {},
   "outputs": [
    {
     "name": "stdout",
     "output_type": "stream",
     "text": [
      "10\n",
      "1 0 1 1 1 0 0 1 1 0\n",
      "10\n"
     ]
    }
   ],
   "source": [
    "import sys\n",
    "#sys.stdin=open(\"input.txt\", \"r\")\n",
    "N = int(input())\n",
    "list1 = list(map(int, input().split())) \n",
    "score = 0\n",
    "final_list = []\n",
    "temp_list = []\n",
    "for i in list1 + [0] :\n",
    "    temp_list.append(i)\n",
    "    #print(temp_list)\n",
    "    if temp_list[-1] == 0 :\n",
    "        final_list.append(temp_list[:-1])\n",
    "        temp_list= []\n",
    "        #print(final_list)\n",
    "for i in final_list :\n",
    "    score += sum(list(range(1, len(i)+1)))\n",
    "print(score)"
   ]
  }
 ],
 "metadata": {
  "kernelspec": {
   "display_name": "Python 3",
   "language": "python",
   "name": "python3"
  },
  "language_info": {
   "codemirror_mode": {
    "name": "ipython",
    "version": 3
   },
   "file_extension": ".py",
   "mimetype": "text/x-python",
   "name": "python",
   "nbconvert_exporter": "python",
   "pygments_lexer": "ipython3",
   "version": "3.7.1"
  }
 },
 "nbformat": 4,
 "nbformat_minor": 2
}
