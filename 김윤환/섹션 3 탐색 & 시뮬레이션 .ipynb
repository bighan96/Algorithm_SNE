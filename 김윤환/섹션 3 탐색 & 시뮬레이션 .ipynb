{
 "cells": [
  {
   "cell_type": "markdown",
   "metadata": {},
   "source": [
    "# 3-1 회문 문자열 검사"
   ]
  },
  {
   "cell_type": "markdown",
   "metadata": {},
   "source": [
    "### my solution\n",
    "#### score : 100"
   ]
  },
  {
   "cell_type": "code",
   "execution_count": 25,
   "metadata": {},
   "outputs": [
    {
     "name": "stdout",
     "output_type": "stream",
     "text": [
      "5\n",
      "level\n",
      "moon\n",
      "abcba\n",
      "soon\n",
      "gooG\n",
      "#1 Yes\n",
      "#2 No\n",
      "#3 Yes\n",
      "#4 No\n",
      "#5 Yes\n"
     ]
    }
   ],
   "source": [
    "import sys\n",
    "#sys.stdin=open('input.txt','rt')\n",
    "N = int(input())\n",
    "temp_list = []\n",
    "for i in range(N) :\n",
    "    temp_list.append(list(map(str, input().split())))\n",
    "\n",
    "def reverse(x) :\n",
    "    return str(x)[::-1].lower()\n",
    "\n",
    "for idx, i in enumerate(temp_list) :\n",
    "    test = i[0]    \n",
    "    if test.lower() == reverse(test) : print('#{}'.format(idx+1) , 'YES')\n",
    "    else : print('#{}'.format(idx+1) , 'NO')"
   ]
  },
  {
   "cell_type": "markdown",
   "metadata": {},
   "source": [
    "### answer"
   ]
  },
  {
   "cell_type": "code",
   "execution_count": null,
   "metadata": {},
   "outputs": [],
   "source": [
    "import sys\n",
    "#sys.stdin=open(\"input.txt\", \"r\")\n",
    "n=int(input())\n",
    "for i in range(1, n+1):\n",
    "    str=input()\n",
    "    str=str.upper()\n",
    "    for j in range(len(str)//2):\n",
    "        if str[j]!=str[-1-j]:\n",
    "            print(\"#%d NO\" %i)\n",
    "            break\n",
    "    else:\n",
    "        print(\"#%d YES\" %i)\n",
    "\n",
    "\n",
    "\n",
    "\n",
    "<다른코드>\n",
    "\n",
    "import sys\n",
    "sys.stdin=open(\"input.txt\", \"r\")\n",
    "n=int(input())\n",
    "for i in range(n):\n",
    "    str=input()\n",
    "    str=str.upper()\n",
    "    if str==str[::-1]:\n",
    "        print(\"#%d YES\" %i)\n",
    "    else:\n",
    "        print(\"#%d NO\" %i)"
   ]
  },
  {
   "cell_type": "markdown",
   "metadata": {},
   "source": [
    "# 3-2 숫자만 추출"
   ]
  },
  {
   "cell_type": "markdown",
   "metadata": {},
   "source": [
    "### my solution\n",
    "#### score : 100"
   ]
  },
  {
   "cell_type": "code",
   "execution_count": 48,
   "metadata": {},
   "outputs": [
    {
     "name": "stdout",
     "output_type": "stream",
     "text": [
      "g0en2Ts8eSoft\n",
      "28\n",
      "6\n"
     ]
    }
   ],
   "source": [
    "import sys\n",
    "#sys.stdin=open('input.txt','rt')\n",
    "N = str(input())\n",
    "\n",
    "temp_list = []\n",
    "for i in N :\n",
    "    if i.isnumeric() == True : temp_list.append(i)\n",
    "my_str = ''\n",
    "for i in temp_list :\n",
    "    my_str += i\n",
    "my_str = int(my_str)\n",
    "\n",
    "def yak(x) :\n",
    "    cnt = 0\n",
    "    for i in range(1,x+1) :\n",
    "        if x%i == 0 : cnt +=1\n",
    "    return cnt\n",
    "\n",
    "print( int(my_str) ,  yak(int(my_str)) , sep='\\n')"
   ]
  },
  {
   "cell_type": "markdown",
   "metadata": {},
   "source": [
    "### answer"
   ]
  },
  {
   "cell_type": "code",
   "execution_count": null,
   "metadata": {},
   "outputs": [],
   "source": [
    "import sys\n",
    "sys.stdin=open(\"input.txt\", \"r\")\n",
    "s=input()\n",
    "res=0\n",
    "for x in s:\n",
    "    if x.isdecimal():\n",
    "        res=res*10+int(x)\n",
    "print(res)\n",
    "cnt=0\n",
    "for i in range(1, res+1):\n",
    "    if res%i==0:\n",
    "        cnt+=1\n",
    "print(cnt)\n"
   ]
  },
  {
   "cell_type": "markdown",
   "metadata": {},
   "source": [
    "# 3-3 카드 역배치"
   ]
  },
  {
   "cell_type": "markdown",
   "metadata": {},
   "source": [
    "### my solution\n",
    "#### score : 100"
   ]
  },
  {
   "cell_type": "code",
   "execution_count": 1,
   "metadata": {},
   "outputs": [
    {
     "name": "stdout",
     "output_type": "stream",
     "text": [
      "5 10\n",
      "9 13\n",
      "1 2\n",
      "3 4\n",
      "5 6\n",
      "1 2\n",
      "3 4\n",
      "5 6\n",
      "1 20\n",
      "1 20\n",
      "1 2 3 4 10 9 8 7 13 12 11 5 6 14 15 16 17 18 19 20 "
     ]
    }
   ],
   "source": [
    "import sys\n",
    "#sys.stdin=open('input.txt','rt')\n",
    "action_list = []\n",
    "for i in range(10) :\n",
    "    action_list.append(list(map(int, input().split())))\n",
    "    \n",
    "for i in range(len(action_list)):\n",
    "    action_list[i][0] = action_list[i][0] -1\n",
    "\n",
    "card = list(range(1,21))\n",
    "for action in action_list :\n",
    "    a , b = action[0] , action[1]\n",
    "    card[a:b] = card[a :b][::-1]\n",
    "\n",
    "for i in card :\n",
    "    print(i, end=' ')"
   ]
  },
  {
   "cell_type": "markdown",
   "metadata": {},
   "source": [
    "### answer"
   ]
  },
  {
   "cell_type": "code",
   "execution_count": null,
   "metadata": {},
   "outputs": [],
   "source": [
    "import sys\n",
    "sys.stdin=open(\"input.txt\", \"r\")\n",
    "a=list(range(21))\n",
    "for _ in range(10):\n",
    "    s, e=map(int, input().split())\n",
    "    for i in range((e-s+1)//2):\n",
    "        a[s+i], a[e-i]=a[e-i], a[s+i]\n",
    "a.pop(0)\n",
    "for x in a:\n",
    "    print(x, end=' ')"
   ]
  },
  {
   "cell_type": "markdown",
   "metadata": {},
   "source": [
    "# 3-4 두 리스트 합치기"
   ]
  },
  {
   "cell_type": "markdown",
   "metadata": {},
   "source": [
    "### my solution\n",
    "#### score : 100"
   ]
  },
  {
   "cell_type": "code",
   "execution_count": 19,
   "metadata": {
    "scrolled": true
   },
   "outputs": [
    {
     "name": "stdout",
     "output_type": "stream",
     "text": [
      "3\n",
      "1 3 5\n",
      "5\n",
      "2 3 6 7 9\n"
     ]
    }
   ],
   "source": [
    "import sys\n",
    "#sys.stdin=open(\"input.txt\", \"r\")\n",
    "temp_list = []\n",
    "for i in range(4) :\n",
    "    temp_list.append(list(map(int, input().split())))\n",
    "\n",
    "final_list = []\n",
    "for i in  temp_list[1::2] :\n",
    "    for j in i :\n",
    "        final_list.append(j)\n",
    "\n",
    "final_list.sort()\n",
    "for x in final_list :\n",
    "    print(x, end=' ')"
   ]
  },
  {
   "cell_type": "markdown",
   "metadata": {},
   "source": [
    "# 3-5 수들의 합"
   ]
  },
  {
   "cell_type": "markdown",
   "metadata": {},
   "source": [
    "### my solution\n",
    "#### score : 100"
   ]
  },
  {
   "cell_type": "code",
   "execution_count": 1,
   "metadata": {},
   "outputs": [
    {
     "name": "stdout",
     "output_type": "stream",
     "text": [
      "8 3\n",
      "1 2 1 3 1 1 1 2\n"
     ]
    }
   ],
   "source": [
    "import sys\n",
    "#sys.stdin=open(\"input.txt\", \"r\")\n",
    "n , m = map(int, input().split())\n",
    "list1 = list(map(int, input().split()))\n",
    "my_sum = list1[0]\n",
    "cnt = 0\n",
    "idx_1 = 0 \n",
    "idx_2 = 1\n",
    "\n",
    "while 1 :\n",
    "    if my_sum < m :\n",
    "        if idx_2 < n :\n",
    "            my_sum += list1[idx_2] \n",
    "            idx_2 += 1\n",
    "        else : break\n",
    "    \n",
    "    elif my_sum  ==  m : \n",
    "        cnt+=1 \n",
    "        my_sum -= list1[idx_1]\n",
    "        idx_1 += 1\n",
    "    elif  my_sum > m :\n",
    "        my_sum -= list1[idx_1]\n",
    "        idx_1 +=1\n",
    "print(cnt)"
   ]
  },
  {
   "cell_type": "code",
   "execution_count": null,
   "metadata": {},
   "outputs": [],
   "source": []
  },
  {
   "cell_type": "markdown",
   "metadata": {},
   "source": [
    "# 3-6 격자판 최대합"
   ]
  },
  {
   "cell_type": "markdown",
   "metadata": {},
   "source": [
    "### my solution\n",
    "#### score : 100"
   ]
  },
  {
   "cell_type": "code",
   "execution_count": 4,
   "metadata": {},
   "outputs": [
    {
     "name": "stdout",
     "output_type": "stream",
     "text": [
      "5\n",
      "10 13 10 12 15\n",
      "12 39 30 23 11\n",
      "11 25 50 53 15\n",
      "19 27 29 37 27\n",
      "19 13 30 13 19\n"
     ]
    }
   ],
   "source": [
    "import sys\n",
    "#sys.stdin=open('input.txt','rt')\n",
    "N = int(input())\n",
    "temp_list = []\n",
    "for i in range(N) :\n",
    "    temp_list.append(list(map(int, input().split())))\n",
    "    \n",
    "final_list = []\n",
    "for i in temp_list :\n",
    "    final_list.append(sum(i))\n",
    "\n",
    "for k in range(len(temp_list[0]) ) :\n",
    "    temp_sum = 0\n",
    "    for j in temp_list :\n",
    "         temp_sum += j[k]\n",
    "    final_list.append(temp_sum)\n",
    "    \n",
    "temp_sum = 0\n",
    "for a , b in enumerate(temp_list) :\n",
    "    temp_sum += b[a]\n",
    "final_list.append(temp_sum)\n",
    "\n",
    "\n",
    "temp_sum = 0\n",
    "for a , b in enumerate(temp_list[::-1]) :\n",
    "    temp_sum += b[a]\n",
    "final_list.append(temp_sum)\n",
    "print(max(final_list)   )\n",
    "    \n",
    "    "
   ]
  },
  {
   "cell_type": "markdown",
   "metadata": {},
   "source": [
    "### answer"
   ]
  },
  {
   "cell_type": "code",
   "execution_count": null,
   "metadata": {},
   "outputs": [],
   "source": [
    "import sys\n",
    "sys.stdin = open(\"input.txt\", 'r')\n",
    "n=int(input())\n",
    "a=[list(map(int, input().split())) for _ in range(n)]\n",
    "largest=-2147000000\n",
    "for i in range(n):\n",
    "    sum1=sum2=0\n",
    "    for j in range(n):\n",
    "        sum1+=a[i][j]\n",
    "        sum2+=a[j][i]\n",
    "    if sum1>largest:\n",
    "        largest=sum1\n",
    "    if sum2>largest:\n",
    "        largest=sum2\n",
    "sum1=sum2=0\n",
    "for i in range(n):\n",
    "    sum1+=a[i][i]\n",
    "    sum2+=a[i][n-i-1]\n",
    "if sum1>largest:\n",
    "    largest=sum1\n",
    "if sum2>largest:\n",
    "    largest=sum2\n",
    "print(largest)"
   ]
  },
  {
   "cell_type": "markdown",
   "metadata": {},
   "source": [
    "# 3-7 사과나무(다이아몬드)"
   ]
  },
  {
   "cell_type": "markdown",
   "metadata": {},
   "source": [
    "### my solution\n",
    "#### score : 100"
   ]
  },
  {
   "cell_type": "code",
   "execution_count": 8,
   "metadata": {},
   "outputs": [
    {
     "name": "stdout",
     "output_type": "stream",
     "text": [
      "5\n",
      "10 13 10 12 15\n",
      "12 39 30 23 11\n",
      "11 25 50 53 15\n",
      "19 27 29 37 27\n",
      "19 13 30 13 19\n"
     ]
    }
   ],
   "source": [
    "import sys\n",
    "#sys.stdin = open(\"input.txt\", 'r')\n",
    "n=int(input())\n",
    "a=[list(map(int, input().split())) for _ in range(n)]\n",
    "my_sum = 0\n",
    "for idx, row in enumerate(a) :\n",
    "    if idx <= n//2 :\n",
    "        my_sum += sum ( row[n//2 - idx  : n//2 + idx + 1] )\n",
    "    else :\n",
    "        idx = 2 * (n//2) -idx\n",
    "        my_sum += sum ( row[ n//2 - idx : n//2 + idx + 1] )\n",
    "print(my_sum)"
   ]
  },
  {
   "cell_type": "markdown",
   "metadata": {},
   "source": [
    "# 3-8 곳감(모래시계)"
   ]
  },
  {
   "cell_type": "markdown",
   "metadata": {},
   "source": [
    "### my solution\n",
    "#### score : 100"
   ]
  },
  {
   "cell_type": "code",
   "execution_count": 33,
   "metadata": {},
   "outputs": [
    {
     "name": "stdout",
     "output_type": "stream",
     "text": [
      "5\n",
      "10 13 10 12 15\n",
      "12 39 30 23 11\n",
      "11 25 50 53 15\n",
      "19 27 29 37 27\n",
      "19 13 30 13 19\n"
     ]
    }
   ],
   "source": [
    "import sys\n",
    "#sys.stdin = open(\"input.txt\", 'r')\n",
    "n=int(input())\n",
    "b=[list(map(int, input().split())) for _ in range(n)]\n",
    "m=int(input())\n",
    "action =[list(map(int, input().split())) for _ in range(m)]\n",
    "\n",
    "for act in action :\n",
    "    row , direction , jump = act[0]-1 , act[1] , act[2]%n\n",
    "    if direction == 0 :\n",
    "        b[row] = b[row][jump :] + b[row][:jump]\n",
    "    else :\n",
    "        b[row] = b[row][n-jump :] + b[row][0 : n-jump]\n",
    "my_sum = 0\n",
    "for idx , row in enumerate(b) :\n",
    "    if idx <= n//2:\n",
    "        my_sum += sum(row[n//2 - (n//2-idx) : n//2 + (n//2-idx) +1 ])\n",
    "    else :\n",
    "        idx = 2 * (n//2) - idx\n",
    "        my_sum += sum(row[n//2 - (n//2-idx) : n//2 + (n//2-idx) +1 ])\n",
    "print(my_sum)"
   ]
  },
  {
   "cell_type": "code",
   "execution_count": null,
   "metadata": {},
   "outputs": [],
   "source": []
  },
  {
   "cell_type": "code",
   "execution_count": null,
   "metadata": {},
   "outputs": [],
   "source": []
  },
  {
   "cell_type": "markdown",
   "metadata": {},
   "source": [
    "# 3-9  봉우리 "
   ]
  },
  {
   "cell_type": "markdown",
   "metadata": {},
   "source": [
    "### my solution\n",
    "#### score : 100"
   ]
  },
  {
   "cell_type": "code",
   "execution_count": 62,
   "metadata": {},
   "outputs": [
    {
     "name": "stdout",
     "output_type": "stream",
     "text": [
      "5\n",
      "5 3 7 2 3\n",
      "3 7 1 6 1\n",
      "7 2 5 3 4\n",
      "4 3 6 4 1\n",
      "8 7 3 5 2\n"
     ]
    }
   ],
   "source": [
    "import sys\n",
    "#sys.stdin = open(\"input.txt\", 'r')\n",
    "n=int(input())\n",
    "c=[list(map(int, input().split())) for _ in range(n)]\n",
    "for i in range(len(c)) :\n",
    "    c[i] =   [0] + c[i] + [0]\n",
    "c = [[0] * (len(c)+2)] + c + [[0] * (len(c)+2)]\n",
    "cnt = 0\n",
    "for row in range(len(c)-2) :\n",
    "    for col in range(len(c)-2): \n",
    "        up = c[row][col+1]\n",
    "        down = c[row+2][col+1] \n",
    "        left = c[row+1][col]\n",
    "        right = c[row+1][col+2]\n",
    "        value = c[row+1][col+1]\n",
    "        if value > max(up,down,left,right) :\n",
    "            cnt += 1\n",
    "print(cnt)"
   ]
  },
  {
   "cell_type": "code",
   "execution_count": null,
   "metadata": {},
   "outputs": [],
   "source": []
  },
  {
   "cell_type": "code",
   "execution_count": null,
   "metadata": {},
   "outputs": [],
   "source": []
  },
  {
   "cell_type": "markdown",
   "metadata": {},
   "source": [
    "# 3-10  스도쿠 검사"
   ]
  },
  {
   "cell_type": "markdown",
   "metadata": {},
   "source": [
    "### my solution\n",
    "#### score : 100"
   ]
  },
  {
   "cell_type": "code",
   "execution_count": 41,
   "metadata": {},
   "outputs": [],
   "source": [
    "import sys\n",
    "#sys.stdin = open(\"input.txt\", 'r')\n",
    "a=[list(map(int, input().split())) for _ in range(9)]\n",
    "def row(a) :\n",
    "    for row in a :    \n",
    "        if sorted(row) != list(range(1,10)) : \n",
    "            return False\n",
    "            \n",
    "        else : continue \n",
    "    return True\n",
    "\n",
    "def col(a) :\n",
    "    temp_list = []\n",
    "    for col in range(len(a)) :\n",
    "        for row in a :\n",
    "            temp_list.append(row[col])\n",
    "        if sorted(temp_list) != list(range(1,10)) :\n",
    "            return False\n",
    "            \n",
    "        else :\n",
    "            temp_list = []\n",
    "            continue\n",
    "    return True\n",
    "\n",
    "def chunk(a)  :\n",
    "    for idx_row in [0, 3, 6] :\n",
    "        temp = a[idx_row : idx_row + 3]\n",
    "        for idx_col in [0, 3, 6]:\n",
    "            temp2 = []\n",
    "            for row in temp :\n",
    "                temp2.append(row[idx_col])\n",
    "                temp2.append(row[idx_col +1])\n",
    "                temp2.append(row[idx_col +2])\n",
    "            if sorted(temp2) != list(range(1,10)) :\n",
    "                return False\n",
    "                \n",
    "            else : continue \n",
    "    return True\n",
    "\n",
    "if row(a) == 1 and col(a)==1 and chunk(a) == 1 :\n",
    "    print('YES')\n",
    "else : print('NO')"
   ]
  },
  {
   "cell_type": "code",
   "execution_count": 25,
   "metadata": {
    "scrolled": false
   },
   "outputs": [
    {
     "name": "stdout",
     "output_type": "stream",
     "text": [
      "NO\n",
      "NO\n",
      "NO\n",
      "YES\n"
     ]
    }
   ],
   "source": [
    "import sys\n",
    "#sys.stdin = open(\"input.txt\", 'r')\n",
    "#a=[list(map(int, input().split())) for _ in range(9)]\n",
    "for row in a : \n",
    "    \n",
    "    if sorted(row) != list(range(1,10)) : \n",
    "        print('NO')\n",
    "        break\n",
    "    #else : continue \n",
    "#print('row clear')\n",
    "else : \n",
    "    temp_list = []\n",
    "    for col in range(len(a)) :\n",
    "        for row in a :\n",
    "            temp_list.append(row[col])\n",
    "        if sorted(temp_list) != list(range(1,10)) :\n",
    "            print('NO')\n",
    "            break\n",
    "        else :\n",
    "            temp_list = []\n",
    "            \n",
    "    else:\n",
    "        \n",
    "        \n",
    "#print('col clear')    \n",
    "        for idx_row in [0, 3, 6] :\n",
    "            temp = a[idx_row : idx_row + 3]\n",
    "            for idx_col in [0, 3, 6]:\n",
    "                temp2 = []\n",
    "                for row in temp :\n",
    "                    temp2.append(row[idx_col])\n",
    "                    temp2.append(row[idx_col +1])\n",
    "                    temp2.append(row[idx_col +2])\n",
    "                if sorted(temp2) != list(range(1,10)) :\n",
    "                    print('NO')\n",
    "                    break\n",
    "               # else : continue \n",
    "        else : print('YES')      "
   ]
  },
  {
   "cell_type": "code",
   "execution_count": null,
   "metadata": {},
   "outputs": [],
   "source": []
  },
  {
   "cell_type": "code",
   "execution_count": null,
   "metadata": {},
   "outputs": [],
   "source": []
  },
  {
   "cell_type": "code",
   "execution_count": null,
   "metadata": {},
   "outputs": [],
   "source": []
  },
  {
   "cell_type": "markdown",
   "metadata": {},
   "source": [
    "# 3-11  격자판 회문수"
   ]
  },
  {
   "cell_type": "markdown",
   "metadata": {},
   "source": [
    "### my solution\n",
    "#### score : 100"
   ]
  },
  {
   "cell_type": "code",
   "execution_count": 44,
   "metadata": {},
   "outputs": [
    {
     "name": "stdout",
     "output_type": "stream",
     "text": [
      "2 4 1 5 3 2 6\n",
      "3 5 1 8 7 1 7\n",
      "8 3 2 7 1 3 8\n",
      "6 1 2 3 2 1 1\n",
      "1 3 1 3 5 3 2\n",
      "1 1 2 5 6 5 2\n",
      "1 2 2 2 2 1 5\n"
     ]
    }
   ],
   "source": [
    "import sys\n",
    "#sys.stdin = open(\"input.txt\", 'r')\n",
    "a=[list(map(int, input().split())) for _ in range(7)]\n",
    "def same_cnt(x) :\n",
    "    cnt = 0\n",
    "    for idx in [0,1,2] :\n",
    "        temp = x[idx : idx + 5]\n",
    "        if temp == temp[::-1] :\n",
    "            cnt += 1 \n",
    "    return cnt\n",
    "my_sum = 0 \n",
    "for row in a :\n",
    "    my_sum += same_cnt(row)\n",
    "\n",
    "\n",
    "b = []\n",
    "for col in range(len(a)) :\n",
    "    temp_list = []\n",
    "    for row in a :\n",
    "        temp_list.append(row[col])\n",
    "    b.append(temp_list)\n",
    "for row in b :\n",
    "    my_sum += same_cnt(row)\n",
    "print(my_sum)"
   ]
  },
  {
   "cell_type": "code",
   "execution_count": null,
   "metadata": {},
   "outputs": [],
   "source": []
  },
  {
   "cell_type": "code",
   "execution_count": null,
   "metadata": {},
   "outputs": [],
   "source": []
  },
  {
   "cell_type": "code",
   "execution_count": null,
   "metadata": {},
   "outputs": [],
   "source": []
  },
  {
   "cell_type": "code",
   "execution_count": null,
   "metadata": {},
   "outputs": [],
   "source": []
  },
  {
   "cell_type": "code",
   "execution_count": null,
   "metadata": {},
   "outputs": [],
   "source": []
  },
  {
   "cell_type": "code",
   "execution_count": null,
   "metadata": {},
   "outputs": [],
   "source": []
  }
 ],
 "metadata": {
  "kernelspec": {
   "display_name": "Python 3",
   "language": "python",
   "name": "python3"
  },
  "language_info": {
   "codemirror_mode": {
    "name": "ipython",
    "version": 3
   },
   "file_extension": ".py",
   "mimetype": "text/x-python",
   "name": "python",
   "nbconvert_exporter": "python",
   "pygments_lexer": "ipython3",
   "version": "3.7.1"
  }
 },
 "nbformat": 4,
 "nbformat_minor": 2
}
