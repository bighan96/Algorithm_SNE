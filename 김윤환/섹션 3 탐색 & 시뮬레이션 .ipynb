{
 "cells": [
  {
   "cell_type": "markdown",
   "metadata": {},
   "source": [
    "# 3-1 회문 문자열 검사"
   ]
  },
  {
   "cell_type": "markdown",
   "metadata": {},
   "source": [
    "### my solution\n",
    "#### score : 100"
   ]
  },
  {
   "cell_type": "code",
   "execution_count": 25,
   "metadata": {},
   "outputs": [
    {
     "name": "stdout",
     "output_type": "stream",
     "text": [
      "5\n",
      "level\n",
      "moon\n",
      "abcba\n",
      "soon\n",
      "gooG\n",
      "#1 Yes\n",
      "#2 No\n",
      "#3 Yes\n",
      "#4 No\n",
      "#5 Yes\n"
     ]
    }
   ],
   "source": [
    "import sys\n",
    "#sys.stdin=open('input.txt','rt')\n",
    "N = int(input())\n",
    "temp_list = []\n",
    "for i in range(N) :\n",
    "    temp_list.append(list(map(str, input().split())))\n",
    "\n",
    "def reverse(x) :\n",
    "    return str(x)[::-1].lower()\n",
    "\n",
    "for idx, i in enumerate(temp_list) :\n",
    "    test = i[0]    \n",
    "    if test.lower() == reverse(test) : print('#{}'.format(idx+1) , 'YES')\n",
    "    else : print('#{}'.format(idx+1) , 'NO')"
   ]
  },
  {
   "cell_type": "markdown",
   "metadata": {},
   "source": [
    "# 3-2 숫자만 추출"
   ]
  },
  {
   "cell_type": "markdown",
   "metadata": {},
   "source": [
    "### my solution\n",
    "#### score : 100"
   ]
  },
  {
   "cell_type": "code",
   "execution_count": 48,
   "metadata": {},
   "outputs": [
    {
     "name": "stdout",
     "output_type": "stream",
     "text": [
      "g0en2Ts8eSoft\n",
      "28\n",
      "6\n"
     ]
    }
   ],
   "source": [
    "import sys\n",
    "#sys.stdin=open('input.txt','rt')\n",
    "N = str(input())\n",
    "\n",
    "temp_list = []\n",
    "for i in N :\n",
    "    if i.isnumeric() == True : temp_list.append(i)\n",
    "my_str = ''\n",
    "for i in temp_list :\n",
    "    my_str += i\n",
    "my_str = int(my_str)\n",
    "\n",
    "def yak(x) :\n",
    "    cnt = 0\n",
    "    for i in range(1,x+1) :\n",
    "        if x%i == 0 : cnt +=1\n",
    "    return cnt\n",
    "\n",
    "print( int(my_str) ,  yak(int(my_str)) , sep='\\n')"
   ]
  },
  {
   "cell_type": "markdown",
   "metadata": {},
   "source": [
    "# 3-3 카드 역배치"
   ]
  },
  {
   "cell_type": "markdown",
   "metadata": {},
   "source": [
    "### my solution\n",
    "#### score : 100"
   ]
  },
  {
   "cell_type": "code",
   "execution_count": 1,
   "metadata": {},
   "outputs": [
    {
     "name": "stdout",
     "output_type": "stream",
     "text": [
      "5 10\n",
      "9 13\n",
      "1 2\n",
      "3 4\n",
      "5 6\n",
      "1 2\n",
      "3 4\n",
      "5 6\n",
      "1 20\n",
      "1 20\n",
      "1 2 3 4 10 9 8 7 13 12 11 5 6 14 15 16 17 18 19 20 "
     ]
    }
   ],
   "source": [
    "import sys\n",
    "#sys.stdin=open('input.txt','rt')\n",
    "action_list = []\n",
    "for i in range(10) :\n",
    "    action_list.append(list(map(int, input().split())))\n",
    "    \n",
    "for i in range(len(action_list)):\n",
    "    action_list[i][0] = action_list[i][0] -1\n",
    "\n",
    "card = list(range(1,21))\n",
    "for action in action_list :\n",
    "    a , b = action[0] , action[1]\n",
    "    card[a:b] = card[a :b][::-1]\n",
    "\n",
    "for i in card :\n",
    "    print(i, end=' ')"
   ]
  },
  {
   "cell_type": "code",
   "execution_count": null,
   "metadata": {},
   "outputs": [],
   "source": []
  },
  {
   "cell_type": "code",
   "execution_count": null,
   "metadata": {},
   "outputs": [],
   "source": []
  }
 ],
 "metadata": {
  "kernelspec": {
   "display_name": "Python 3",
   "language": "python",
   "name": "python3"
  },
  "language_info": {
   "codemirror_mode": {
    "name": "ipython",
    "version": 3
   },
   "file_extension": ".py",
   "mimetype": "text/x-python",
   "name": "python",
   "nbconvert_exporter": "python",
   "pygments_lexer": "ipython3",
   "version": "3.7.1"
  }
 },
 "nbformat": 4,
 "nbformat_minor": 2
}
