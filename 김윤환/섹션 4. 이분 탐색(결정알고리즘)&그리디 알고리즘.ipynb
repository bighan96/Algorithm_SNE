{
 "cells": [
  {
   "cell_type": "markdown",
   "metadata": {},
   "source": [
    "# 4-1 이분검색 (100)"
   ]
  },
  {
   "cell_type": "code",
   "execution_count": 1,
   "metadata": {},
   "outputs": [
    {
     "name": "stdout",
     "output_type": "stream",
     "text": [
      "8 32\n",
      "23 87 65 12 57 32 99 81\n"
     ]
    }
   ],
   "source": [
    "import sys\n",
    "#sys.stdin = open(\"input.txt\", 'r')\n",
    "n , m = map(int, input().split())\n",
    "list1 = list(map(int, input().split()))\n",
    "list1 = sorted(list1)\n",
    "print( list1.index(m) +1 )"
   ]
  },
  {
   "cell_type": "code",
   "execution_count": null,
   "metadata": {},
   "outputs": [],
   "source": [
    "#Answer\n",
    "import sys\n",
    "sys.stdin=open(\"input.txt\", \"r\")\n",
    "n, m=map(int, input().split())\n",
    "a=list(map(int, input().split()))\n",
    "a.sort()\n",
    "lt=0\n",
    "rt=n-1\n",
    "while lt<=rt:\n",
    "    mid=(lt+rt)//2\n",
    "    if a[mid]==m:\n",
    "        print(mid+1)\n",
    "        break\n",
    "    elif a[mid]>m:\n",
    "        rt=mid-1\n",
    "    else:\n",
    "        lt=mid+1"
   ]
  },
  {
   "cell_type": "markdown",
   "metadata": {},
   "source": [
    "# 4-2 랜선자르기 (60 )"
   ]
  },
  {
   "cell_type": "code",
   "execution_count": 13,
   "metadata": {},
   "outputs": [
    {
     "name": "stdout",
     "output_type": "stream",
     "text": [
      "4 11\n",
      "802\n",
      "743\n",
      "457\n",
      "539\n"
     ]
    }
   ],
   "source": [
    "import sys\n",
    "#sys.stdin = open(\"input.txt\", 'r')\n",
    "n , m = map(int, input().split())\n",
    "a=[list(map(int, input().split())) for _ in range(n)]\n",
    "\n",
    "list1 = []\n",
    "for element in a :\n",
    "    list1.append(element[0])\n",
    "\n",
    "value= min(list1)\n",
    "list2 = []\n",
    "count = 0 \n",
    "while count <= m  :\n",
    "    count = 0\n",
    "    for element in list1 :\n",
    "        count += element//value\n",
    "    if count == m :\n",
    "        list2.append(value)\n",
    "        value -= 1\n",
    "    else : \n",
    "        value-= 1\n",
    "    \n",
    "print( list2[0] )"
   ]
  },
  {
   "cell_type": "code",
   "execution_count": null,
   "metadata": {},
   "outputs": [],
   "source": []
  },
  {
   "cell_type": "code",
   "execution_count": null,
   "metadata": {},
   "outputs": [],
   "source": [
    "#Answer\n",
    "import sys\n",
    "sys.stdin=open(\"input.txt\", \"r\")\n",
    "def Count(len):\n",
    "    cnt=0\n",
    "    for x in Line:\n",
    "        cnt+=(x//len)\n",
    "    return cnt\n",
    "\n",
    "k, n=map(int, input().split())\n",
    "Line=[]\n",
    "res=0\n",
    "largest=0\n",
    "for i in range(k):\n",
    "    tmp=int(input())\n",
    "    Line.append(tmp)\n",
    "    largest=max(largest, tmp)\n",
    "lt=1\n",
    "rt=largest\n",
    "while lt<=rt:\n",
    "    mid=(lt+rt)//2\n",
    "    if Count(mid)>=n:\n",
    "        res=mid\n",
    "        lt=mid+1\n",
    "    else:\n",
    "        rt=mid-1\n",
    "print(res)\n"
   ]
  },
  {
   "cell_type": "code",
   "execution_count": null,
   "metadata": {},
   "outputs": [],
   "source": []
  },
  {
   "cell_type": "code",
   "execution_count": null,
   "metadata": {},
   "outputs": [],
   "source": []
  },
  {
   "cell_type": "code",
   "execution_count": null,
   "metadata": {},
   "outputs": [],
   "source": []
  },
  {
   "cell_type": "code",
   "execution_count": null,
   "metadata": {},
   "outputs": [],
   "source": []
  },
  {
   "cell_type": "code",
   "execution_count": null,
   "metadata": {},
   "outputs": [],
   "source": []
  },
  {
   "cell_type": "markdown",
   "metadata": {},
   "source": [
    "# 4-3 뮤직비디오(결정알고리즘) (0)"
   ]
  },
  {
   "cell_type": "code",
   "execution_count": 6,
   "metadata": {},
   "outputs": [],
   "source": [
    "#ANswer\n",
    "import sys\n",
    "#sys.stdin = open(\"input.txt\", 'r')\n",
    "n ,m = map(int, input().split())\n",
    "list1 = list(map(int, input().split()))\n",
    "def Count(capacity) : \n",
    "    \n",
    "    cnt = 1\n",
    "    temp_sum = 0\n",
    "    for x in list1:\n",
    "        if temp_sum + x > capacity :\n",
    "            cnt += 1\n",
    "            temp_sum = x\n",
    "        else :\n",
    "            temp_sum += x \n",
    "    return cnt \n",
    "\n",
    "lt = 1  \n",
    "rt = sum(list1) \n",
    " \n",
    "res = 0 \n",
    "max_value = max(list1)\n",
    "while lt <= rt :\n",
    "    mid = (lt + rt)//2\n",
    "    if mid >= max_value and Count(mid) <= m   :\n",
    "     \n",
    "        res = mid\n",
    "        rt = mid -1\n",
    "    else :\n",
    "        lt = mid +1  \n",
    "print(res)"
   ]
  },
  {
   "cell_type": "code",
   "execution_count": null,
   "metadata": {},
   "outputs": [],
   "source": []
  },
  {
   "cell_type": "code",
   "execution_count": null,
   "metadata": {},
   "outputs": [],
   "source": []
  },
  {
   "cell_type": "code",
   "execution_count": null,
   "metadata": {},
   "outputs": [],
   "source": []
  },
  {
   "cell_type": "code",
   "execution_count": null,
   "metadata": {},
   "outputs": [],
   "source": []
  },
  {
   "cell_type": "code",
   "execution_count": null,
   "metadata": {},
   "outputs": [],
   "source": []
  },
  {
   "cell_type": "markdown",
   "metadata": {},
   "source": [
    "# 4-4 마구간 정하기 (20)"
   ]
  },
  {
   "cell_type": "code",
   "execution_count": 11,
   "metadata": {},
   "outputs": [
    {
     "name": "stdout",
     "output_type": "stream",
     "text": [
      "5 3\n",
      "1\n",
      "2\n",
      "8\n",
      "4\n",
      "9\n"
     ]
    }
   ],
   "source": [
    "import sys\n",
    "#sys.stdin = open(\"input.txt\", 'r')\n",
    "n , m = map(int, input().split())\n",
    "list1 = [int(input()) for _ in range(n)]\n",
    "list1 = sorted(list1)\n",
    "def min_distance(x) :\n",
    "    distance_old = max(x) - min(x)\n",
    "    for i in range(0,len(x)-1) :\n",
    "        distance_new = x[i+1] - x[i]\n",
    "        if distance_new <= distance_old  :\n",
    "            distance_old = distance_new\n",
    "    return distance_old\n",
    "\n",
    "\n",
    "def comb(lst,n):\n",
    "    ret = []\n",
    "    if n > len(lst): return ret\n",
    "    \n",
    "    if n == 1:\n",
    "        for i in lst:\n",
    "            ret.append([i])\n",
    "    elif n>1:\n",
    "        for i in range(len(lst)-n+1):\n",
    "            for temp in comb(lst[i+1:],n-1):\n",
    "                ret.append([lst[i]]+temp)\n",
    "\n",
    "    \n",
    "    return ret\n",
    "\n",
    "\n",
    "ans_old = 1\n",
    "for i in comb(list1,m):\n",
    "    ans_new = min_distance(i)\n",
    "    if ans_new == 1 :continue \n",
    "    if ans_new >= ans_old :\n",
    "        ans_old = ans_new\n",
    "print(ans_old)"
   ]
  },
  {
   "cell_type": "code",
   "execution_count": null,
   "metadata": {},
   "outputs": [],
   "source": []
  },
  {
   "cell_type": "code",
   "execution_count": null,
   "metadata": {},
   "outputs": [],
   "source": [
    "#Answer\n",
    "import sys\n",
    "sys.stdin=open(\"input.txt\", \"r\")\n",
    "def Count(len):\n",
    "    cnt=1\n",
    "    ep=Line[0]\n",
    "    for i in range(1, n):\n",
    "        if Line[i]-ep>=len:\n",
    "            cnt+=1\n",
    "            ep=Line[i]\n",
    "    return cnt\n",
    "\n",
    "n, c=map(int, input().split())\n",
    "Line=[]\n",
    "for _ in range(n):\n",
    "    tmp=int(input())\n",
    "    Line.append(tmp)\n",
    "Line.sort()\n",
    "lt=1\n",
    "rt=Line[n-1]\n",
    "while lt<=rt:\n",
    "    mid=(lt+rt)//2\n",
    "    if Count(mid)>=c:\n",
    "        res=mid\n",
    "        lt=mid+1\n",
    "    else:\n",
    "        rt=mid-1\n",
    "\n",
    "print(res)"
   ]
  },
  {
   "cell_type": "code",
   "execution_count": null,
   "metadata": {},
   "outputs": [],
   "source": []
  },
  {
   "cell_type": "code",
   "execution_count": null,
   "metadata": {},
   "outputs": [],
   "source": []
  },
  {
   "cell_type": "code",
   "execution_count": null,
   "metadata": {},
   "outputs": [],
   "source": []
  },
  {
   "cell_type": "code",
   "execution_count": null,
   "metadata": {},
   "outputs": [],
   "source": []
  },
  {
   "cell_type": "markdown",
   "metadata": {},
   "source": [
    "# 4-5 회의실 배정 (0)"
   ]
  },
  {
   "cell_type": "code",
   "execution_count": null,
   "metadata": {},
   "outputs": [],
   "source": [
    "#Answer\n",
    "import sys\n",
    "sys.stdin=open(\"input.txt\", \"r\")\n",
    "n=int(input())\n",
    "meeting=[]\n",
    "for i in range(n):\n",
    "    a, b=map(int, input().split())\n",
    "    meeting.append((a, b))\n",
    "meeting.sort(key=lambda x : (x[1], x[0]))\n",
    "et=0\n",
    "cnt=0\n",
    "for x, y in meeting:\n",
    "    if x>=et:\n",
    "        et=y\n",
    "        cnt+=1\n",
    "print(cnt)"
   ]
  },
  {
   "cell_type": "markdown",
   "metadata": {},
   "source": [
    "# 4-6 씨름선수 (100)"
   ]
  },
  {
   "cell_type": "code",
   "execution_count": 83,
   "metadata": {},
   "outputs": [
    {
     "name": "stdout",
     "output_type": "stream",
     "text": [
      "5\n",
      "172 67\n",
      "183 65\n",
      "180 70\n",
      "170 72\n",
      "181 60\n"
     ]
    }
   ],
   "source": [
    "import sys\n",
    "#sys.stdin = open(\"input.txt\", 'r')\n",
    "n = int(input())\n",
    "temp_list = []\n",
    "for i in range(n):\n",
    "    h, w = map(int,input().split())\n",
    "    temp_list.append((h,w))\n",
    "temp_list.sort(reverse=True)\n",
    "cnt = 0\n",
    "first = 0\n",
    "for h, w in temp_list :\n",
    "    if w> first :\n",
    "        first = w\n",
    "        cnt += 1\n",
    "print(cnt)"
   ]
  },
  {
   "cell_type": "code",
   "execution_count": null,
   "metadata": {},
   "outputs": [],
   "source": []
  },
  {
   "cell_type": "markdown",
   "metadata": {},
   "source": [
    "# 4-7 창고 정리 (100)"
   ]
  },
  {
   "cell_type": "code",
   "execution_count": 78,
   "metadata": {},
   "outputs": [
    {
     "name": "stdout",
     "output_type": "stream",
     "text": [
      "10\n",
      "69 42 68 76 40 87 14 65 76 81\n",
      "50\n"
     ]
    }
   ],
   "source": [
    "import sys\n",
    "#sys.stdin = open(\"input.txt\", 'r')\n",
    "L = int(input())\n",
    "list1 = list(map(int, input().split()))\n",
    "m = int(input())\n",
    "\n",
    "def rearrange(x , m) :\n",
    "    for _ in range(m) :\n",
    "        max_idx = x.index(max(x))\n",
    "        min_idx = x.index(min(x))\n",
    "        x[max_idx] = x[max_idx] - 1\n",
    "        x[min_idx] = x[min_idx] + 1 \n",
    "    return max(x) - min(x)\n",
    "\n",
    "print(rearrange(list1,m))"
   ]
  },
  {
   "cell_type": "markdown",
   "metadata": {},
   "source": [
    "# 4-8 침몰하는 타이타닉 (미완)"
   ]
  },
  {
   "cell_type": "code",
   "execution_count": 103,
   "metadata": {},
   "outputs": [
    {
     "name": "stdout",
     "output_type": "stream",
     "text": [
      "5 140\n",
      "90 50 70 100 60\n"
     ]
    }
   ],
   "source": [
    "import sys\n",
    "#sys.stdin = open(\"input.txt\", 'r')\n",
    "n , m = map(int, input().split()) \n",
    "list1 = list(map(int, input().split()))"
   ]
  },
  {
   "cell_type": "code",
   "execution_count": 104,
   "metadata": {},
   "outputs": [
    {
     "data": {
      "text/plain": [
       "[90, 50, 70, 100, 60]"
      ]
     },
     "execution_count": 104,
     "metadata": {},
     "output_type": "execute_result"
    }
   ],
   "source": [
    "list1"
   ]
  },
  {
   "cell_type": "code",
   "execution_count": null,
   "metadata": {},
   "outputs": [],
   "source": []
  },
  {
   "cell_type": "code",
   "execution_count": null,
   "metadata": {},
   "outputs": [],
   "source": []
  },
  {
   "cell_type": "code",
   "execution_count": null,
   "metadata": {},
   "outputs": [],
   "source": []
  },
  {
   "cell_type": "markdown",
   "metadata": {},
   "source": [
    "# 4-9 증가수열 만들기 (100)"
   ]
  },
  {
   "cell_type": "code",
   "execution_count": 12,
   "metadata": {},
   "outputs": [
    {
     "name": "stdout",
     "output_type": "stream",
     "text": [
      "10\n",
      "3 2 10 1 5 4 7 8 9 6 \n"
     ]
    }
   ],
   "source": [
    "import sys\n",
    "#sys.stdin = open(\"input.txt\", 'r')\n",
    "n = int(input())\n",
    "list1 = list(map(int, input().split()))"
   ]
  },
  {
   "cell_type": "code",
   "execution_count": 97,
   "metadata": {},
   "outputs": [
    {
     "name": "stdout",
     "output_type": "stream",
     "text": [
      "4\n",
      "LRLL"
     ]
    }
   ],
   "source": [
    "idx_1 = 0\n",
    "idx_2 = n-1\n",
    "latest = 0\n",
    "d_list=[]\n",
    "len_list = []\n",
    "while idx_1 <= idx_2 :\n",
    "    if list1[idx_1] > latest :\n",
    "        len_list.append((list1[idx_1],'L'))\n",
    "       # d_list.append('L')\n",
    "    if list1[idx_2] > latest :\n",
    "        len_list.append((list1[idx_2],'R'))\n",
    "        #d_list.append('R')\n",
    "    len_list.sort()\n",
    "    if len_list == [] :\n",
    "        break \n",
    "    else :\n",
    "        latest = len_list[0][0]\n",
    "        d_list.append(len_list[0][1])\n",
    "        if len_list[0][1] == 'L' :\n",
    "            idx_1 += 1\n",
    "        else : idx_2 -= 1\n",
    "    len_list = []\n",
    "print(len(d_list))\n",
    "for i in d_list :\n",
    "    print(i, end='')"
   ]
  },
  {
   "cell_type": "code",
   "execution_count": null,
   "metadata": {},
   "outputs": [],
   "source": []
  },
  {
   "cell_type": "code",
   "execution_count": null,
   "metadata": {},
   "outputs": [],
   "source": [
    "idx_1 = 0\n",
    "idx_2 = n-1\n",
    "d_list=[]\n",
    "len_list = [0]\n",
    "compare = 0\n",
    "while idx_1 <= idx_2 :\n",
    "    if list1[idx_1] > compare :\n",
    "        len_list.append(list1[idx_1])\n",
    "        d_list.append('L')\n",
    "    if list1[idx_2] > compare :\n",
    "        len_list.append(list1[idx_2])\n",
    "        d_list.append('R')\n",
    "    len_list.sort()\n",
    "    if len_list == [] :\n",
    "        break \n",
    "    else :\n",
    "        latest = len_list[0][0]\n",
    "        d_list.append(len_list[0][1])\n",
    "        if len_list[0][1] == 'L' :\n",
    "            idx_1 += 1\n",
    "        else : idx_2 -= 1\n",
    "    len_list = []\n",
    "print(len(d_list))\n",
    "for i in d_list :\n",
    "    print(i, end='')"
   ]
  },
  {
   "cell_type": "code",
   "execution_count": 2,
   "metadata": {},
   "outputs": [
    {
     "data": {
      "text/plain": [
       "[2, 4, 5, 1, 3]"
      ]
     },
     "execution_count": 2,
     "metadata": {},
     "output_type": "execute_result"
    }
   ],
   "source": [
    "list1 = [3, 2, 10, 1, 5 4 7 8 9 6]"
   ]
  },
  {
   "cell_type": "code",
   "execution_count": 14,
   "metadata": {},
   "outputs": [
    {
     "data": {
      "text/plain": [
       "[3, 2, 10, 1, 5, 4, 7, 8, 9, 6]"
      ]
     },
     "execution_count": 14,
     "metadata": {},
     "output_type": "execute_result"
    }
   ],
   "source": [
    "list1"
   ]
  },
  {
   "cell_type": "code",
   "execution_count": 41,
   "metadata": {},
   "outputs": [],
   "source": [
    "test = [3, 2, 10, 1, 5, 4, 7, 8, 9, 6]\n",
    "n = 10"
   ]
  },
  {
   "cell_type": "code",
   "execution_count": 40,
   "metadata": {},
   "outputs": [
    {
     "data": {
      "text/plain": [
       "[]"
      ]
     },
     "execution_count": 40,
     "metadata": {},
     "output_type": "execute_result"
    }
   ],
   "source": [
    "test"
   ]
  },
  {
   "cell_type": "code",
   "execution_count": 39,
   "metadata": {},
   "outputs": [
    {
     "name": "stdout",
     "output_type": "stream",
     "text": [
      "[]\n"
     ]
    },
    {
     "ename": "IndexError",
     "evalue": "list index out of range",
     "output_type": "error",
     "traceback": [
      "\u001b[1;31m---------------------------------------------------------------------------\u001b[0m",
      "\u001b[1;31mIndexError\u001b[0m                                Traceback (most recent call last)",
      "\u001b[1;32m<ipython-input-39-8b1136f6d4c7>\u001b[0m in \u001b[0;36m<module>\u001b[1;34m\u001b[0m\n\u001b[0;32m      6\u001b[0m \u001b[0mprint\u001b[0m\u001b[1;33m(\u001b[0m\u001b[0mtest\u001b[0m\u001b[1;33m)\u001b[0m\u001b[1;33m\u001b[0m\u001b[1;33m\u001b[0m\u001b[0m\n\u001b[0;32m      7\u001b[0m \u001b[1;32mwhile\u001b[0m \u001b[1;36m1\u001b[0m \u001b[1;33m:\u001b[0m\u001b[1;33m\u001b[0m\u001b[1;33m\u001b[0m\u001b[0m\n\u001b[1;32m----> 8\u001b[1;33m     \u001b[0mleft\u001b[0m \u001b[1;33m=\u001b[0m \u001b[0mtest\u001b[0m\u001b[1;33m[\u001b[0m\u001b[1;36m0\u001b[0m\u001b[1;33m]\u001b[0m\u001b[1;33m\u001b[0m\u001b[1;33m\u001b[0m\u001b[0m\n\u001b[0m\u001b[0;32m      9\u001b[0m     \u001b[0mright\u001b[0m \u001b[1;33m=\u001b[0m \u001b[0mtest\u001b[0m\u001b[1;33m[\u001b[0m\u001b[1;33m-\u001b[0m\u001b[1;36m1\u001b[0m\u001b[1;33m]\u001b[0m\u001b[1;33m\u001b[0m\u001b[1;33m\u001b[0m\u001b[0m\n\u001b[0;32m     10\u001b[0m     \u001b[1;32mif\u001b[0m \u001b[0mleft\u001b[0m \u001b[1;33m<\u001b[0m \u001b[0mlen_list\u001b[0m\u001b[1;33m[\u001b[0m\u001b[1;33m-\u001b[0m\u001b[1;36m1\u001b[0m\u001b[1;33m]\u001b[0m \u001b[1;32mand\u001b[0m \u001b[0mright\u001b[0m \u001b[1;33m>\u001b[0m \u001b[0mlen_list\u001b[0m\u001b[1;33m[\u001b[0m\u001b[1;33m-\u001b[0m\u001b[1;36m1\u001b[0m\u001b[1;33m]\u001b[0m \u001b[1;33m:\u001b[0m\u001b[1;33m\u001b[0m\u001b[1;33m\u001b[0m\u001b[0m\n",
      "\u001b[1;31mIndexError\u001b[0m: list index out of range"
     ]
    }
   ],
   "source": [
    "idx_1 = 0\n",
    "idx_2 = -1\n",
    "d_list=[]\n",
    "len_list = [0]\n",
    "temp = []\n",
    "print(test)\n",
    "while 1 :\n",
    "    left = test[0]\n",
    "    right = test[-1]\n",
    "    if left < len_list[-1] and right > len_list[-1] :\n",
    "        put = right \n",
    "    if right < len_list[-1] and left > len_list[-1] :\n",
    "        put = left \n",
    "    else : \n",
    "        put = min(right, left)  \n",
    "        if put < len_list[-1] or len(test) == 0 :\n",
    "            break\n",
    "    len_list.append(put)\n",
    "    if put == left :\n",
    "        \n",
    "        d_list.append('L')\n",
    "        test.pop(0)\n",
    "    else :\n",
    "        d_list.append('R')\n",
    "        test.pop(-1)"
   ]
  },
  {
   "cell_type": "code",
   "execution_count": 30,
   "metadata": {},
   "outputs": [
    {
     "data": {
      "text/plain": [
       "[0, 3]"
      ]
     },
     "execution_count": 30,
     "metadata": {},
     "output_type": "execute_result"
    }
   ],
   "source": [
    "len_list"
   ]
  },
  {
   "cell_type": "code",
   "execution_count": 43,
   "metadata": {},
   "outputs": [
    {
     "name": "stdout",
     "output_type": "stream",
     "text": [
      "[3, 2, 10, 1, 5, 4, 7, 8, 9, 6]\n",
      "[0, 3]\n",
      "['L']\n",
      "[3, 2, 10, 1, 5, 4, 7, 8, 9, 6]\n",
      "[0, 3]\n",
      "['L']\n",
      "[0, 3]\n",
      "['L', 'L']\n",
      "[3, 2, 10, 1, 5, 4, 7, 8, 9, 6]\n",
      "[0, 3, 6]\n",
      "['L', 'L', 'R']\n",
      "[3, 2, 10, 1, 5, 4, 7, 8, 9, 6]\n",
      "[0, 3, 6, 9]\n",
      "['L', 'L', 'R', 'R']\n",
      "[3, 2, 10, 1, 5, 4, 7, 8, 9, 6]\n",
      "[0, 3, 6, 9]\n",
      "['L', 'L', 'R', 'R']\n",
      "[0, 3, 6, 9]\n",
      "['L', 'L', 'R', 'R', 'R']\n",
      "[3, 2, 10, 1, 5, 4, 7, 8, 9, 6]\n",
      "[0, 3, 6, 9]\n",
      "['L', 'L', 'R', 'R', 'R']\n",
      "[0, 3, 6, 9]\n",
      "['L', 'L', 'R', 'R', 'R', 'R']\n",
      "[3, 2, 10, 1, 5, 4, 7, 8, 9, 6]\n",
      "[0, 3, 6, 9]\n",
      "['L', 'L', 'R', 'R', 'R', 'R']\n",
      "[0, 3, 6, 9]\n",
      "['L', 'L', 'R', 'R', 'R', 'R', 'R']\n",
      "[3, 2, 10, 1, 5, 4, 7, 8, 9, 6]\n",
      "[0, 3, 6, 9]\n",
      "['L', 'L', 'R', 'R', 'R', 'R', 'R']\n",
      "[0, 3, 6, 9]\n",
      "['L', 'L', 'R', 'R', 'R', 'R', 'R', 'R']\n",
      "[3, 2, 10, 1, 5, 4, 7, 8, 9, 6]\n",
      "[0, 3, 6, 9]\n",
      "['L', 'L', 'R', 'R', 'R', 'R', 'R', 'R']\n",
      "[0, 3, 6, 9]\n",
      "['L', 'L', 'R', 'R', 'R', 'R', 'R', 'R', 'R']\n",
      "[3, 2, 10, 1, 5, 4, 7, 8, 9, 6]\n",
      "[0, 3, 6, 9, 10]\n",
      "['L', 'L', 'R', 'R', 'R', 'R', 'R', 'R', 'R', 'L']\n"
     ]
    }
   ],
   "source": [
    "idx_1 = 0\n",
    "idx_2 = n-1\n",
    "d_list=[]\n",
    "len_list = [0]\n",
    "temp = []\n",
    "while idx_1 <= idx_2 :\n",
    "    print(test)\n",
    "    left = list1[idx_1]\n",
    "    right = list1[idx_2]\n",
    "    put = min(left,right)\n",
    "    len_list.append(put)\n",
    "    if put < len_list[-2] :\n",
    "        len_list.pop()\n",
    "        print(len_list)\n",
    "        print(d_list)\n",
    "    if left <= right  :\n",
    "        d_list.append('L')\n",
    "        idx_1 += 1\n",
    "        print(len_list)\n",
    "        print(d_list)\n",
    "    else : \n",
    "        d_list.append('R')\n",
    "        idx_2 -= 1\n",
    "        print(len_list)\n",
    "        print(d_list)\n",
    "#print(len(d_list) -1)\n",
    "#for x in d_list[:-1] :\n",
    "#    print(x ,end='')"
   ]
  },
  {
   "cell_type": "code",
   "execution_count": 4,
   "metadata": {},
   "outputs": [
    {
     "data": {
      "text/plain": [
       "[0, 2, 3, 1, 4, 5]"
      ]
     },
     "execution_count": 4,
     "metadata": {},
     "output_type": "execute_result"
    }
   ],
   "source": [
    "len_list"
   ]
  },
  {
   "cell_type": "code",
   "execution_count": null,
   "metadata": {},
   "outputs": [],
   "source": []
  },
  {
   "cell_type": "code",
   "execution_count": null,
   "metadata": {},
   "outputs": [],
   "source": []
  },
  {
   "cell_type": "code",
   "execution_count": null,
   "metadata": {},
   "outputs": [],
   "source": []
  },
  {
   "cell_type": "markdown",
   "metadata": {},
   "source": [
    "# 4-10 역수열 ( 0 )"
   ]
  },
  {
   "cell_type": "code",
   "execution_count": null,
   "metadata": {},
   "outputs": [],
   "source": []
  },
  {
   "cell_type": "code",
   "execution_count": null,
   "metadata": {},
   "outputs": [],
   "source": [
    "#Answer\n",
    "import sys\n",
    "sys.stdin=open(\"input.txt\", \"r\")\n",
    "n=int(input())\n",
    "a=list(map(int, input().split()))\n",
    "seq=[0]*n\n",
    "for i in range(n):\n",
    "    for j in range(n):\n",
    "        if(a[i]==0 and seq[j]==0):\n",
    "            seq[j]=i+1\n",
    "            break\n",
    "        elif seq[j]==0:\n",
    "            a[i]-=1\n",
    "\n",
    "for x in seq:\n",
    "    print(x, end=' ')"
   ]
  },
  {
   "cell_type": "code",
   "execution_count": null,
   "metadata": {},
   "outputs": [],
   "source": [
    "#answer 2\n",
    "import sys\n",
    "#sys.stdin=open('input.txt', 'rt')\n",
    "\n",
    "n = int(input())\n",
    "a = list(map(int, input().split()))\n",
    "b = list(range(n, 0, -1)) # 큰 숫자 부터 배열 \n",
    "tmp = []\n",
    "\n",
    "for i in b: # 큰 숫자부터 넣으면 앞에 나보다 큰 숫자가 없으므로 깔끔! \n",
    "    tmp.insert(a[i-1], i)\n",
    "for x in tmp:\n",
    "    print(x, end=' ')"
   ]
  },
  {
   "cell_type": "code",
   "execution_count": null,
   "metadata": {},
   "outputs": [],
   "source": []
  },
  {
   "cell_type": "code",
   "execution_count": null,
   "metadata": {},
   "outputs": [],
   "source": []
  },
  {
   "cell_type": "code",
   "execution_count": null,
   "metadata": {},
   "outputs": [],
   "source": []
  },
  {
   "cell_type": "code",
   "execution_count": null,
   "metadata": {},
   "outputs": [],
   "source": []
  },
  {
   "cell_type": "code",
   "execution_count": null,
   "metadata": {},
   "outputs": [],
   "source": []
  },
  {
   "cell_type": "code",
   "execution_count": null,
   "metadata": {},
   "outputs": [],
   "source": []
  },
  {
   "cell_type": "code",
   "execution_count": null,
   "metadata": {},
   "outputs": [],
   "source": []
  },
  {
   "cell_type": "code",
   "execution_count": null,
   "metadata": {},
   "outputs": [],
   "source": []
  },
  {
   "cell_type": "code",
   "execution_count": null,
   "metadata": {},
   "outputs": [],
   "source": []
  },
  {
   "cell_type": "code",
   "execution_count": null,
   "metadata": {},
   "outputs": [],
   "source": []
  },
  {
   "cell_type": "code",
   "execution_count": null,
   "metadata": {},
   "outputs": [],
   "source": []
  },
  {
   "cell_type": "code",
   "execution_count": null,
   "metadata": {},
   "outputs": [],
   "source": []
  }
 ],
 "metadata": {
  "kernelspec": {
   "display_name": "Python 3",
   "language": "python",
   "name": "python3"
  },
  "language_info": {
   "codemirror_mode": {
    "name": "ipython",
    "version": 3
   },
   "file_extension": ".py",
   "mimetype": "text/x-python",
   "name": "python",
   "nbconvert_exporter": "python",
   "pygments_lexer": "ipython3",
   "version": "3.7.1"
  }
 },
 "nbformat": 4,
 "nbformat_minor": 2
}
