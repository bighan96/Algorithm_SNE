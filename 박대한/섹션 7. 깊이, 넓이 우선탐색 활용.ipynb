{
 "cells": [
  {
   "cell_type": "markdown",
   "metadata": {},
   "source": [
    "## 1. 최대점수 구하기"
   ]
  },
  {
   "cell_type": "code",
   "execution_count": null,
   "metadata": {},
   "outputs": [],
   "source": [
    "import sys\n",
    "#sys.stdin=open(\"input.txt\", \"r\")\n",
    "def DFS(L,score,time) : \n",
    "    global result\n",
    "    if L == n : \n",
    "        if time > m : \n",
    "            return\n",
    "        else : \n",
    "            if score > result : \n",
    "                result = score\n",
    "    else : \n",
    "        DFS(L+1,score+list1[L][0],time+list1[L][1])\n",
    "        DFS(L+1,score,time)\n",
    "  \n",
    "if __name__ == '__main__' : \n",
    "    n,m = map(int,input().split())\n",
    "    list1 = [list(map(int,input().split())) for _ in range(n)]\n",
    "    result = 0\n",
    "    DFS(0,0,0)\n",
    "    print(result)  "
   ]
  },
  {
   "cell_type": "markdown",
   "metadata": {},
   "source": [
    "## 2. 휴가"
   ]
  },
  {
   "cell_type": "code",
   "execution_count": null,
   "metadata": {},
   "outputs": [],
   "source": [
    "import sys\n",
    "#sys.stdin=open(\"input.txt\", \"r\")\n",
    "def DFS(t,p) : \n",
    "    global result\n",
    "    if t > n : \n",
    "        return\n",
    "    else : \n",
    "        if p > result : \n",
    "            result = p\n",
    "        for i in range(t,n) : \n",
    "            DFS(i+list1[i][0],p+list1[i][1])\n",
    "  \n",
    "if __name__ == '__main__' : \n",
    "    n = int(input())\n",
    "    list1 = [list(map(int,input().split())) for _ in range(n)]\n",
    "    result = 0\n",
    "    DFS(0,0)\n",
    "    print(result)"
   ]
  },
  {
   "cell_type": "code",
   "execution_count": null,
   "metadata": {},
   "outputs": [],
   "source": []
  }
 ],
 "metadata": {
  "kernelspec": {
   "display_name": "Python 3",
   "language": "python",
   "name": "python3"
  },
  "language_info": {
   "codemirror_mode": {
    "name": "ipython",
    "version": 3
   },
   "file_extension": ".py",
   "mimetype": "text/x-python",
   "name": "python",
   "nbconvert_exporter": "python",
   "pygments_lexer": "ipython3",
   "version": "3.7.3"
  }
 },
 "nbformat": 4,
 "nbformat_minor": 2
}
