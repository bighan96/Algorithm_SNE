{
 "cells": [
  {
   "cell_type": "code",
   "execution_count": null,
   "metadata": {},
   "outputs": [],
   "source": [
    "못 푼 문제 : 6"
   ]
  },
  {
   "cell_type": "markdown",
   "metadata": {},
   "source": [
    "## 1. 최대점수 구하기"
   ]
  },
  {
   "cell_type": "code",
   "execution_count": null,
   "metadata": {},
   "outputs": [],
   "source": [
    "import sys\n",
    "#sys.stdin=open(\"input.txt\", \"r\")\n",
    "def DFS(L,score,time) : \n",
    "    global result\n",
    "    if L == n : \n",
    "        if time > m : \n",
    "            return\n",
    "        else : \n",
    "            if score > result : \n",
    "                result = score\n",
    "    else : \n",
    "        DFS(L+1,score+list1[L][0],time+list1[L][1])\n",
    "        DFS(L+1,score,time)\n",
    "  \n",
    "if __name__ == '__main__' : \n",
    "    n,m = map(int,input().split())\n",
    "    list1 = [list(map(int,input().split())) for _ in range(n)]\n",
    "    result = 0\n",
    "    DFS(0,0,0)\n",
    "    print(result)  "
   ]
  },
  {
   "cell_type": "markdown",
   "metadata": {},
   "source": [
    "## 2. 휴가"
   ]
  },
  {
   "cell_type": "code",
   "execution_count": null,
   "metadata": {},
   "outputs": [],
   "source": [
    "import sys\n",
    "#sys.stdin=open(\"input.txt\", \"r\")\n",
    "def DFS(t,p) : \n",
    "    global result\n",
    "    if t > n : \n",
    "        return\n",
    "    else : \n",
    "        if p > result : \n",
    "            result = p\n",
    "        for i in range(t,n) : \n",
    "            DFS(i+list1[i][0],p+list1[i][1])\n",
    "  \n",
    "if __name__ == '__main__' : \n",
    "    n = int(input())\n",
    "    list1 = [list(map(int,input().split())) for _ in range(n)]\n",
    "    result = 0\n",
    "    DFS(0,0)\n",
    "    print(result)"
   ]
  },
  {
   "cell_type": "markdown",
   "metadata": {},
   "source": [
    "## 3. 양팔저울"
   ]
  },
  {
   "cell_type": "code",
   "execution_count": null,
   "metadata": {},
   "outputs": [],
   "source": [
    "import sys\n",
    "#sys.stdin=open(\"input.txt\", \"r\")\n",
    "def DFS(L) : \n",
    "    if L == k : \n",
    "        tmp.append(abs(sum(res)))\n",
    "    else : \n",
    "            res[L] = 0 \n",
    "            DFS(L+1) \n",
    "            res[L] = a[L]\n",
    "            DFS(L+1) \n",
    "            res[L] = -a[L]\n",
    "            DFS(L+1)\n",
    "\n",
    "\n",
    "\n",
    "if __name__ == '__main__' : \n",
    "    k = int(input())\n",
    "    a = list(map(int,input().split()))\n",
    "    res = [0]*k\n",
    "    tmp = []\n",
    "    DFS(0)\n",
    "    tmp = list(set(tmp))\n",
    "    tmp.remove(0)\n",
    "    print(sum(a)-len(tmp))\n",
    "\n",
    "    "
   ]
  },
  {
   "cell_type": "markdown",
   "metadata": {},
   "source": [
    "## 4. 동전바꿔주기"
   ]
  },
  {
   "cell_type": "code",
   "execution_count": null,
   "metadata": {},
   "outputs": [],
   "source": [
    "import sys\n",
    "#sys.stdin=open(\"input.txt\", \"r\")\n",
    "def DFS(L,sum) : \n",
    "    global cnt\n",
    "    if sum > T : \n",
    "        return\n",
    "    if L == k :\n",
    "        if sum==T : \n",
    "            cnt+=1\n",
    "    else : \n",
    "        for j in range(0,a[L][1]+1) : # 동전개수 선택\n",
    "            DFS(L+1,sum+(a[L][0]*j))\n",
    "\n",
    "\n",
    "\n",
    "if __name__ == '__main__' : \n",
    "    T = int(input())\n",
    "    k = int(input())\n",
    "    a = [list(map(int,input().split())) for _ in range(k)]\n",
    "    tot = sum(x*y for x, y in a)\n",
    "    cnt=0\n",
    "    DFS(0,0)\n",
    "    print(cnt)\n",
    "\n",
    "    "
   ]
  },
  {
   "cell_type": "markdown",
   "metadata": {},
   "source": [
    "## 5. 동전분배하기"
   ]
  },
  {
   "cell_type": "code",
   "execution_count": null,
   "metadata": {},
   "outputs": [],
   "source": [
    "import sys\n",
    "#sys.stdin=open(\"input.txt\", \"r\")\n",
    "def DFS(L,a,b,c) : \n",
    "    global result\n",
    "    if L == n : \n",
    "        if a!=b and b!=c and a!=c  : \n",
    "            x = max(a,b,c) - min(a,b,c)\n",
    "            if x < result : \n",
    "                result = x\n",
    "    else : \n",
    "            DFS(L+1,a+coin[L],b,c) \n",
    "            DFS(L+1,a,b+coin[L],c) \n",
    "            DFS(L+1,a,b,c+coin[L]) \n",
    "\n",
    "if __name__ == '__main__' : \n",
    "    n = int(input())\n",
    "    coin = [int(input()) for _ in range(n)]\n",
    "    result=float('inf')\n",
    "    DFS(0,0,0,0)\n",
    "    print(result)\n",
    "    "
   ]
  },
  {
   "cell_type": "markdown",
   "metadata": {},
   "source": [
    "## 6. 알파코드"
   ]
  },
  {
   "cell_type": "code",
   "execution_count": null,
   "metadata": {},
   "outputs": [],
   "source": []
  },
  {
   "cell_type": "markdown",
   "metadata": {},
   "source": [
    "## 7. 송아지찾기"
   ]
  },
  {
   "cell_type": "code",
   "execution_count": null,
   "metadata": {},
   "outputs": [],
   "source": [
    "import sys\n",
    "#sys.stdin=open(\"input.txt\", \"r\")\n",
    "from collections import deque\n",
    "s,e = map(int,input().split())\n",
    "max=10000\n",
    "ch=[0]*(max+1)\n",
    "dis=[0]*(max+1)\n",
    "ch[s]=1\n",
    "dis[s]=0\n",
    "dq=deque()\n",
    "dq.append(s)\n",
    "while dq : \n",
    "    now=dq.popleft()\n",
    "    if now == e : \n",
    "        break\n",
    "    for next in [now-1,now+1,now+5] : \n",
    "        if next>=1 and next<=max and ch[next]==0: \n",
    "            dq.append(next)\n",
    "            ch[next]=1\n",
    "            dis[next]=dis[now]+1\n",
    "print(dis[e])"
   ]
  },
  {
   "cell_type": "markdown",
   "metadata": {},
   "source": [
    "## 8. 사과나무"
   ]
  },
  {
   "cell_type": "code",
   "execution_count": null,
   "metadata": {},
   "outputs": [],
   "source": [
    "import sys\n",
    "#sys.stdin=open(\"input.txt\", \"r\")\n",
    "from collections import deque\n",
    "n=int(input())\n",
    "dq=deque()\n",
    "for _ in range(n) : \n",
    "    list1=list(map(int,input().split()))\n",
    "    for i in list1 : \n",
    "        dq.append(i)\n",
    "sum=0\n",
    "for i in range(n) : \n",
    "    x = abs(n//2 - i)\n",
    "    for _ in range(x) : \n",
    "        dq.popleft()\n",
    "    for _ in range(n-2*x) : \n",
    "        sum += dq.popleft()\n",
    "    for _ in range(x) : \n",
    "        dq.popleft()\n",
    "print(sum)"
   ]
  },
  {
   "cell_type": "markdown",
   "metadata": {},
   "source": [
    "## 9. 미로의 최단거리 통로"
   ]
  },
  {
   "cell_type": "code",
   "execution_count": null,
   "metadata": {},
   "outputs": [],
   "source": [
    "import sys\n",
    "#sys.stdin=open(\"input.txt\", \"r\")\n",
    "from collections import deque\n",
    "a = [list(map(int,input().split())) for _ in range(7)]\n",
    "dx=[-1,0,1,0]\n",
    "dy=[0,-1,0,1]\n",
    "dq=deque()\n",
    "dq.append([0,0,0])\n",
    "a[0][0]=1\n",
    "try : \n",
    "    while a[6][6] != 1 : \n",
    "        now=dq.popleft()\n",
    "        level = now[2]\n",
    "        for i in range(4) : \n",
    "            x = now[0]+dx[i]\n",
    "            y = now[1]+dy[i]\n",
    "            if all(i>=0 and i<=6 for i in (x,y)) and a[x][y] == 0 : \n",
    "                dq.append([x,y,level+1])\n",
    "                a[x][y]=1\n",
    "    print(dq.pop()[2])\n",
    "except : \n",
    "    print(-1)"
   ]
  },
  {
   "cell_type": "markdown",
   "metadata": {},
   "source": [
    "## 10. 미로탐색"
   ]
  },
  {
   "cell_type": "code",
   "execution_count": null,
   "metadata": {},
   "outputs": [],
   "source": [
    "import sys\n",
    "#sys.stdin=open(\"input.txt\", \"r\")\n",
    "def DFS(road) : \n",
    "    global cnt\n",
    "    if [6,6] in road : \n",
    "        cnt += 1\n",
    "    else : \n",
    "        now=road[-1]\n",
    "        a[now[0]][now[1]]=1\n",
    "        for i in range(4) : \n",
    "            x = now[0]+dx[i]\n",
    "            y = now[1]+dy[i]\n",
    "            if 0<=x<=6 and 0<=y<=6 and a[x][y] == 0 :\n",
    "\n",
    "                DFS(road+[[x,y]])\n",
    "                a[x][y] = 0\n",
    "\n",
    "if __name__=='__main__' : \n",
    "    a = [list(map(int,input().split())) for _ in range(7)]\n",
    "    b = a.copy()\n",
    "    dx=[-1,0,1,0]\n",
    "    dy=[0,-1,0,1]\n",
    "    cnt=0\n",
    "    DFS([[0,0]])\n",
    "    print(cnt)"
   ]
  },
  {
   "cell_type": "markdown",
   "metadata": {},
   "source": [
    "## 11. 등산경로"
   ]
  },
  {
   "cell_type": "code",
   "execution_count": null,
   "metadata": {},
   "outputs": [],
   "source": []
  },
  {
   "cell_type": "markdown",
   "metadata": {},
   "source": [
    "## 12. 단지번호붙이기"
   ]
  },
  {
   "cell_type": "code",
   "execution_count": null,
   "metadata": {},
   "outputs": [],
   "source": []
  },
  {
   "cell_type": "markdown",
   "metadata": {},
   "source": [
    "## 13. 섬나라 아일랜드"
   ]
  },
  {
   "cell_type": "code",
   "execution_count": null,
   "metadata": {},
   "outputs": [],
   "source": []
  },
  {
   "cell_type": "markdown",
   "metadata": {},
   "source": [
    "## 14. 안전영역"
   ]
  },
  {
   "cell_type": "code",
   "execution_count": null,
   "metadata": {},
   "outputs": [],
   "source": []
  },
  {
   "cell_type": "markdown",
   "metadata": {},
   "source": [
    "## 15. 토마토"
   ]
  },
  {
   "cell_type": "code",
   "execution_count": null,
   "metadata": {},
   "outputs": [],
   "source": []
  },
  {
   "cell_type": "markdown",
   "metadata": {},
   "source": [
    "## 16. 사다리타기"
   ]
  },
  {
   "cell_type": "code",
   "execution_count": null,
   "metadata": {},
   "outputs": [],
   "source": []
  },
  {
   "cell_type": "markdown",
   "metadata": {},
   "source": [
    "## 17. 피자 배달 거리"
   ]
  },
  {
   "cell_type": "code",
   "execution_count": null,
   "metadata": {},
   "outputs": [],
   "source": []
  },
  {
   "cell_type": "markdown",
   "metadata": {},
   "source": []
  },
  {
   "cell_type": "code",
   "execution_count": null,
   "metadata": {},
   "outputs": [],
   "source": []
  }
 ],
 "metadata": {
  "kernelspec": {
   "display_name": "Python 3",
   "language": "python",
   "name": "python3"
  },
  "language_info": {
   "codemirror_mode": {
    "name": "ipython",
    "version": 3
   },
   "file_extension": ".py",
   "mimetype": "text/x-python",
   "name": "python",
   "nbconvert_exporter": "python",
   "pygments_lexer": "ipython3",
   "version": "3.7.3"
  }
 },
 "nbformat": 4,
 "nbformat_minor": 2
}
