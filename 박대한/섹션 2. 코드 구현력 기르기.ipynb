{
 "cells": [
  {
   "cell_type": "code",
   "execution_count": null,
   "metadata": {},
   "outputs": [],
   "source": [
    "못 푼 문제 : 4번, 7번 "
   ]
  },
  {
   "cell_type": "code",
   "execution_count": 27,
   "metadata": {},
   "outputs": [
    {
     "name": "stdout",
     "output_type": "stream",
     "text": [
      "2\n",
      "6 2 5 3\n",
      "5 2 7 3 8 9\n",
      "#1 7\n",
      "15 3 10 3 \n",
      "4 15 8 16 6 6 17 3 10 11 18 7 14 7 15\n",
      "#2 6\n"
     ]
    }
   ],
   "source": [
    "# 2. K번째 수\n",
    "import sys\n",
    "sys.stdin = open('input.txt','rt')\n",
    "T = int(input())\n",
    "for i in range(T) : \n",
    "    N,s,e,k = map(int,input().split())\n",
    "    list1 = list(map(int,input().split()))\n",
    "    list2 = list1[s-1:e]\n",
    "    list2.sort()\n",
    "    print('#{}'.format(i+1), list2[k-1])\n",
    "    \n",
    "- print('#%d %d' %(t+1,a[k-1]))"
   ]
  },
  {
   "cell_type": "code",
   "execution_count": 38,
   "metadata": {},
   "outputs": [
    {
     "name": "stdout",
     "output_type": "stream",
     "text": [
      "10 3\n",
      "13 15 34 23 45 65 33 11 26 42\n",
      "143\n"
     ]
    }
   ],
   "source": [
    "# 3. K번째 큰 수\n",
    "\n",
    "import itertools\n",
    "n, k = map(int,input().split())\n",
    "a = list(map(int,input().split()))\n",
    "ex = itertools.combinations(a,3)\n",
    "ex = list(ex)\n",
    "answers=[]\n",
    "for i in ex : \n",
    "    answer = sum(i)\n",
    "    answers.append(answer)\n",
    "    \n",
    "answers = list(set(answers))\n",
    "answers.sort(reverse=True)\n",
    "print(answers[k-1])\n",
    "\n",
    "import itertools\n",
    "n, k = map(int,input().split())\n",
    "a = list(map(int,input().split()))\n",
    "ex = itertools.combinations(a,3)\n",
    "ex = list(ex)\n",
    "answers=[sum(i) for i in ex]\n",
    "answers = list(set(answers))\n",
    "answers.sort(reverse=True)\n",
    "print(answers[k-1])"
   ]
  },
  {
   "cell_type": "code",
   "execution_count": null,
   "metadata": {},
   "outputs": [],
   "source": [
    "# 4. 대표값\n",
    "import sys\n",
    "#sys.stdin = open('input.txt','rt')\n",
    "n = int(input())\n",
    "list1 = list(map(int,input().split()))\n",
    "mean = sum(list1) / n + 0.5\n",
    "mean = int(mean)\n",
    "gap = float('inf')\n",
    "answernumber = list1[0]\n",
    "for idx, x in enumerate(list1) : \n",
    "    if gap > abs(mean-x) : \n",
    "        gap = abs(mean-x)\n",
    "        answernumber = x\n",
    "        indexnumber = idx+1\n",
    "    elif gap == abs(mean-x) : \n",
    "        if x>answernumber : \n",
    "            answernumber = x\n",
    "            indexnumber = idx+1\n",
    "print(mean,indexnumber)"
   ]
  },
  {
   "cell_type": "code",
   "execution_count": null,
   "metadata": {},
   "outputs": [],
   "source": [
    "# 5. 정다면체\n",
    "# 타임 리밋 걸림\n",
    "import sys\n",
    "# sys.stdin = open('input.txt','rt')\n",
    "import collections\n",
    "n, m = map(int,input().split())\n",
    "n_list = list(range(1,n+1))\n",
    "m_list = list(range(1,m+1))\n",
    "sum_list = list()\n",
    "for i in n_list : \n",
    "    for j in m_list : \n",
    "        sum_list.append(i+j)\n",
    "a = collections.Counter(sum_list)\n",
    "for key,value in zip(a.keys(),a.values()) : \n",
    "    if value == max(a.values()) :\n",
    "        print(key,end=' ')\n",
    "        \n",
    "# 통과한 풀이\n",
    "import sys\n",
    "#sys.stdin = open('input.txt','rt')\n",
    "n, m = map(int,input().split())\n",
    "n_list = list(range(1,n+1))\n",
    "m_list = list(range(1,m+1))\n",
    "sum_list = list()\n",
    "for i in n_list : \n",
    "    for j in m_list : \n",
    "        sum_list.append(i+j)\n",
    "a = list(set(sum_list))\n",
    "maxcount = 0\n",
    "for i in a : \n",
    "    if maxcount < sum_list.count(i) :\n",
    "        maxcount=sum_list.count(i)\n",
    "for i in a : \n",
    "    if maxcount == sum_list.count(i) : \n",
    "        print(i,end=' ')"
   ]
  },
  {
   "cell_type": "code",
   "execution_count": null,
   "metadata": {},
   "outputs": [],
   "source": [
    "# 6. 자릿수의 합\n",
    "import sys\n",
    "#sys.stdin = open('input.txt','rt')\n",
    "def digit_sum(x) :\n",
    "    return sum(list(map(int,list(str(x)))))\n",
    "n = int(input())\n",
    "list1 = list(map(int,input().split()))\n",
    "threshold = 0\n",
    "maxnumber = list1[0]\n",
    "for i in list1 : \n",
    "    if threshold < digit_sum(i) : \n",
    "        threshold = digit_sum(i)\n",
    "        maxnumber = i\n",
    "print(maxnumber)"
   ]
  },
  {
   "cell_type": "code",
   "execution_count": 20,
   "metadata": {},
   "outputs": [
    {
     "data": {
      "text/plain": [
       "True"
      ]
     },
     "execution_count": 20,
     "metadata": {},
     "output_type": "execute_result"
    }
   ],
   "source": [
    "# 7. 소수(에라토스테네스 체)\n",
    "# 시간초과\n",
    "import sys\n",
    "#sys.stdin = open('input.txt','rt')\n",
    "def isprime(x) : \n",
    "    if x<2 : \n",
    "        return False\n",
    "    for i in range(2,x) : \n",
    "        if x % i == 0 : \n",
    "            return False\n",
    "    return True\n",
    "n = int(input())\n",
    "cnt = 0\n",
    "for i in range(2,n+1) : \n",
    "    if isprime(i)==True : \n",
    "        cnt += 1\n",
    "print(cnt)\n",
    "\n",
    "# 시간 초과\n",
    "import sys\n",
    "#sys.stdin = open('input.txt','rt')\n",
    "n = int(input())\n",
    "cnt = 0\n",
    "for i in range(2,n+1) : \n",
    "    for j in range(2,i) : \n",
    "        if i % j == 0 :\n",
    "            break\n",
    "    else : cnt += 1\n",
    "print(cnt)"
   ]
  },
  {
   "cell_type": "code",
   "execution_count": null,
   "metadata": {},
   "outputs": [],
   "source": [
    "# 8. 뒤집은 소수\n",
    "import sys\n",
    "#sys.stdin = open('input.txt','rt')\n",
    "def reverse(x) : \n",
    "    a = list(str(x))\n",
    "    a.reverse()\n",
    "    return int(''.join(a))\n",
    "def isprime(x) : \n",
    "    if x<2 : \n",
    "        return False\n",
    "    for i in range(2,x) : \n",
    "        if x % i == 0 : return False\n",
    "    return True\n",
    "n = int(input())\n",
    "list1 = list(map(int,input().split()))\n",
    "for i in list1 : \n",
    "    if isprime(reverse(i)) == True : \n",
    "        print(reverse(i), end=' ')"
   ]
  },
  {
   "cell_type": "code",
   "execution_count": null,
   "metadata": {},
   "outputs": [],
   "source": [
    "# 9. 주사위 게임\n",
    "import sys\n",
    "#sys.stdin = open('input.txt','rt')\n",
    "def moneycalculator(alist) : \n",
    "    blist = list(set(alist))\n",
    "    if len(blist) == 1 : \n",
    "        return 10000+blist[0]*1000\n",
    "    elif len(blist)==2 : \n",
    "        for i in blist :\n",
    "            if alist.count(i)==2 : \n",
    "                return 1000 + i*100\n",
    "    else : return max(alist)*100\n",
    "n = int(input())\n",
    "answer = []\n",
    "for i in range(n) : \n",
    "    list1 = list(map(int,input().split()))\n",
    "    answer.append(moneycalculator(list1))\n",
    "print(max(answer))"
   ]
  },
  {
   "cell_type": "code",
   "execution_count": 40,
   "metadata": {},
   "outputs": [
    {
     "name": "stdout",
     "output_type": "stream",
     "text": [
      "True\n"
     ]
    }
   ],
   "source": [
    "# 10. 점수 계산\n",
    "import sys\n",
    "#sys.stdin = open('input.txt','rt')\n",
    "n = int(input())\n",
    "list1 = list(map(int,input().split()))\n",
    "score=0\n",
    "plusnum = 1\n",
    "for i in range(n) : \n",
    "    if list1[i]==1 : \n",
    "        score += plusnum\n",
    "        plusnum += 1\n",
    "    elif list1[i] == 0 : \n",
    "        plusnum = 1\n",
    "print(score)"
   ]
  }
 ],
 "metadata": {
  "kernelspec": {
   "display_name": "Python 3",
   "language": "python",
   "name": "python3"
  },
  "language_info": {
   "codemirror_mode": {
    "name": "ipython",
    "version": 3
   },
   "file_extension": ".py",
   "mimetype": "text/x-python",
   "name": "python",
   "nbconvert_exporter": "python",
   "pygments_lexer": "ipython3",
   "version": "3.7.3"
  }
 },
 "nbformat": 4,
 "nbformat_minor": 2
}
