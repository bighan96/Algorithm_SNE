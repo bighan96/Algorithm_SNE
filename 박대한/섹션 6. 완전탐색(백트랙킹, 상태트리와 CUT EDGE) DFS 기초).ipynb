{
 "cells": [
  {
   "cell_type": "code",
   "execution_count": null,
   "metadata": {},
   "outputs": [],
   "source": [
    "못 푼 문제 : 7, 9"
   ]
  },
  {
   "cell_type": "markdown",
   "metadata": {},
   "source": [
    "## 1. 재귀함수란(이진수출력)"
   ]
  },
  {
   "cell_type": "code",
   "execution_count": null,
   "metadata": {},
   "outputs": [],
   "source": [
    "import sys\n",
    "#sys.stdin=open(\"input.txt\", \"r\")\n",
    "n = int(input())\n",
    "def DFS(x) : \n",
    "    if x > 0 : \n",
    "        DFS(x//2)\n",
    "        print(x%2,end='')\n",
    "DFS(n)"
   ]
  },
  {
   "cell_type": "markdown",
   "metadata": {},
   "source": [
    "## 2. 이진트리순회"
   ]
  },
  {
   "cell_type": "code",
   "execution_count": null,
   "metadata": {},
   "outputs": [],
   "source": [
    "전위 부 왼 오\n",
    "중위 왼 부 오\n",
    "후위 왼 오 부\n",
    "\n",
    "import sys\n",
    "sys.stdin=open(\"input.txt\", \"r\")\n",
    "#전위순회\n",
    "def DFS(x) : \n",
    "    if x >= 8 :\n",
    "        return\n",
    "    print(x,end=' ')\n",
    "    DFS(2*x)\n",
    "    DFS(2*x+1)\n",
    "DFS(1)\n",
    "\n",
    "#중위순회\n",
    "def DFS(x) : \n",
    "    if x >= 8 :\n",
    "        return\n",
    "    DFS(2*x)\n",
    "    print(x,end=' ')\n",
    "    DFS(2*x+1)\n",
    "DFS(1)\n",
    "\n",
    "#후위순회\n",
    "def DFS(x) : \n",
    "    if x >= 8 :\n",
    "        return\n",
    "    DFS(2*x)\n",
    "    DFS(2*x+1)\n",
    "    print(x,end=' ')\n",
    "DFS(1)\n"
   ]
  },
  {
   "cell_type": "markdown",
   "metadata": {},
   "source": [
    "## 3. 부분집합 구하기"
   ]
  },
  {
   "cell_type": "code",
   "execution_count": null,
   "metadata": {},
   "outputs": [],
   "source": [
    "import sys\n",
    "#sys.stdin=open(\"input.txt\", \"r\")\n",
    "n = int(input())\n",
    "def DFS(x,sub) : \n",
    "    if x >= n+1 :\n",
    "        return\n",
    "    DFS(x+1,sub+str(x+1))\n",
    "    DFS(x+1,sub)\n",
    "    if x == n and sub : \n",
    "        for i in sub : \n",
    "            print(i, end=' ')\n",
    "        print()\n",
    "sub = ''    \n",
    "DFS(0,sub)"
   ]
  },
  {
   "cell_type": "markdown",
   "metadata": {},
   "source": [
    "## 4. 합이 같은 부분집합"
   ]
  },
  {
   "cell_type": "code",
   "execution_count": null,
   "metadata": {},
   "outputs": [],
   "source": [
    "import sys\n",
    "#sys.stdin=open(\"input.txt\", \"r\")\n",
    "def DFS(x) : \n",
    "    global ans\n",
    "    if x==n :\n",
    "        sum=0\n",
    "        for i in range(n):\n",
    "            if ch[i]==1 : \n",
    "                sum += a[i]\n",
    "        if 2*sum == total : \n",
    "            ans = 'YES'\n",
    "    else : \n",
    "        ch[x]=1\n",
    "        DFS(x+1)\n",
    "        ch[x]=0\n",
    "        DFS(x+1)\n",
    "\n",
    "if __name__ == '__main__' : \n",
    "    n = int(input())\n",
    "    a = list(map(int,input().split()))\n",
    "    ch = [0]*n\n",
    "    total=sum(a)\n",
    "    ans='NO'\n",
    "    DFS(0)\n",
    "    print(ans)"
   ]
  },
  {
   "cell_type": "markdown",
   "metadata": {},
   "source": [
    "## 5. 바둑이 승차"
   ]
  },
  {
   "cell_type": "code",
   "execution_count": null,
   "metadata": {},
   "outputs": [],
   "source": [
    "# 답지 풀이\n",
    "import sys\n",
    "#sys.stdin=open(\"input.txt\", \"r\")\n",
    "c, n = map(int,input().split())\n",
    "a = [int(input()) for _ in range(n)]\n",
    "result = 0\n",
    "total = sum(a)\n",
    "\n",
    "def DFS(L,sum,tsum) :\n",
    "    global result\n",
    "    if sum > c :\n",
    "        return\n",
    "    if sum + (total-tsum) < result : \n",
    "        return\n",
    "    if L==n :\n",
    "        if sum > result : \n",
    "            result = sum\n",
    "    else : \n",
    "        DFS(L+1,sum+a[L],tsum+a[L])\n",
    "        DFS(L+1,sum,tsum+a[L])\n",
    "if __name__ == '__main__' : \n",
    "    DFS(0,0,0)\n",
    "    print(result)\n",
    "\n",
    "# 20점 풀이. 2,3,4,5틀림\n",
    "import sys\n",
    "#sys.stdin=open(\"input.txt\", \"r\")\n",
    "c, n = map(int,input().split())\n",
    "a = [int(input()) for _ in range(n)]\n",
    "def DFS(a) : \n",
    "    gap = sum(a)-c\n",
    "    if gap > 0 :\n",
    "        dellist = [x for x in a if x >= gap]\n",
    "        if dellist : \n",
    "            a.remove(min(dellist))\n",
    "        else : \n",
    "            a.remove(max(a))\n",
    "        DFS(a)\n",
    "        print(sum(a))\n",
    "    else : \n",
    "        return\n",
    "DFS(a)\n"
   ]
  },
  {
   "cell_type": "markdown",
   "metadata": {},
   "source": [
    "## 6. 중복순열"
   ]
  },
  {
   "cell_type": "code",
   "execution_count": null,
   "metadata": {},
   "outputs": [],
   "source": [
    "import sys\n",
    "#sys.stdin=open(\"input.txt\", \"r\")\n",
    "def DFS(x,a) : \n",
    "    if x == m : \n",
    "        for i in a : \n",
    "            print(i,end=' ')\n",
    "        print()\n",
    "    else : \n",
    "        for i in range(1,n+1) : \n",
    "            DFS(x+1,a+[i])\n",
    "if __name__ == '__main__' : \n",
    "    n,m = map(int,input().split())\n",
    "    DFS(0,[])\n",
    "    print(n**m)\n",
    "\n",
    "# 이렇게 하면 n=10일 경우 문제생김.\n",
    "import sys\n",
    "#sys.stdin=open(\"input.txt\", \"r\")\n",
    "def DFS(x,sub) : \n",
    "    if x==m+1 and sub :\n",
    "        for i in sub : \n",
    "            print(i,end=' ')\n",
    "        print()\n",
    "    else : \n",
    "        for i in range(1,n+1) : \n",
    "            DFS(x+1,sub+str(i))\n",
    "\n",
    "if __name__ == '__main__' : \n",
    "    n,m = map(int,input().split())\n",
    "    sub=''\n",
    "    DFS(1,sub)\n",
    "    print(n**m)"
   ]
  },
  {
   "cell_type": "markdown",
   "metadata": {},
   "source": [
    "## 7. 동전교환"
   ]
  },
  {
   "cell_type": "code",
   "execution_count": null,
   "metadata": {},
   "outputs": [],
   "source": [
    "#복습풀이\n",
    "import sys\n",
    "#sys.stdin=open(\"input.txt\", \"r\")\n",
    "# x는 동전 개수, sum은 금액 합\n",
    "def DFS(x,sum,pre) : \n",
    "    global result\n",
    "    if sum > m or x>result : \n",
    "        return\n",
    "    elif sum == m : \n",
    "        if x<result : \n",
    "            result = x\n",
    "    else : \n",
    "        for i in coinlist : \n",
    "            if i <= pre : \n",
    "                DFS(x+1,sum+i,i)\n",
    "\n",
    "\n",
    "if __name__ == '__main__' : \n",
    "    n= int(input())\n",
    "    coinlist=list(map(int,input().split()))\n",
    "    coinlist.sort(reverse=True)\n",
    "    m = int(input())\n",
    "    result = float('inf')\n",
    "    DFS(0,0,coinlist[0])\n",
    "    print(result)\n",
    "\n",
    "\n",
    "# 60점. 4,5 타임리밋.\n",
    "import sys\n",
    "#sys.stdin=open(\"input.txt\", \"r\")\n",
    "# x는 동전 개수, sum은 금액 합\n",
    "def DFS(x,sum,pre) : \n",
    "    global result\n",
    "    if sum > m : \n",
    "        return\n",
    "    elif sum == m : \n",
    "        if x<result : \n",
    "            result = x\n",
    "    else : \n",
    "        for i in coinlist : \n",
    "            if i <= pre : \n",
    "                DFS(x+1,sum+i,i)\n",
    "\n",
    "\n",
    "if __name__ == '__main__' : \n",
    "    n= int(input())\n",
    "    coinlist=list(map(int,input().split()))\n",
    "    coinlist.sort(reverse=True)\n",
    "    m = int(input())\n",
    "    result = float('inf')\n",
    "    DFS(0,0,coinlist[0])\n",
    "    print(result)\n",
    "\n",
    "# 80점. 3번 틀림\n",
    "import sys\n",
    "sys.stdin=open(\"input.txt\", \"r\")\n",
    "# x는 동전 개수, sum은 금액 합\n",
    "def DFS(i,m) : \n",
    "    global num\n",
    "    if m==0 : \n",
    "        print(num)\n",
    "    else : \n",
    "        if m//coinlist[i] > 0 :\n",
    "            num += m//coinlist[i]\n",
    "            DFS(i+1,m%coinlist[i])\n",
    "        else : \n",
    "            DFS(i+1,m)\n",
    "\n",
    "\n",
    "if __name__ == '__main__' : \n",
    "    n= int(input())\n",
    "    coinlist=list(map(int,input().split()))\n",
    "    coinlist.sort(reverse=True)\n",
    "    m = int(input())\n",
    "    num=0\n",
    "    DFS(0,m)"
   ]
  },
  {
   "cell_type": "markdown",
   "metadata": {},
   "source": [
    "## 8. 순열"
   ]
  },
  {
   "cell_type": "code",
   "execution_count": null,
   "metadata": {},
   "outputs": [],
   "source": [
    "import sys\n",
    "#sys.stdin=open(\"input.txt\", \"r\")\n",
    "# x는 횟수, a는 저장하는 순열\n",
    "def DFS(x,a) : \n",
    "    global cnt\n",
    "    if x==m : \n",
    "        for i in a : \n",
    "            print(i,end=' ')\n",
    "        print()\n",
    "        cnt+=1\n",
    "    else : \n",
    "        for i in range(1,n+1) : \n",
    "            if i not in a : \n",
    "                DFS(x+1,a+[i])\n",
    "\n",
    "if __name__ == '__main__' : \n",
    "    n, m = map(int,input().split())\n",
    "    cnt=0\n",
    "    DFS(0,[])\n",
    "    print(cnt)"
   ]
  },
  {
   "cell_type": "markdown",
   "metadata": {},
   "source": [
    "## 9. 수열 추측하기"
   ]
  },
  {
   "cell_type": "code",
   "execution_count": null,
   "metadata": {},
   "outputs": [],
   "source": [
    "#복습풀이\n",
    "import sys\n",
    "#sys.stdin=open(\"input.txt\", \"r\")\n",
    "def DFS(L,list1) : \n",
    "    global cnt\n",
    "    if L == n: \n",
    "        if sum(x*y for x, y in zip(b,list1)) == f : \n",
    "            for i in list1 : \n",
    "                print(i,end=' ')\n",
    "            sys.exit(0)\n",
    "    else : \n",
    "        for i in range(1,n+1):\n",
    "            if ch[i] ==0 : \n",
    "                ch[i] = 1\n",
    "                DFS(L+1,list1+[i])\n",
    "                ch[i] = 0\n",
    "\n",
    "if __name__=='__main__' : \n",
    "    n,f = map(int,input().split())\n",
    "    b = [1]*n\n",
    "    ch=[0]*(n+1)\n",
    "    for i in range(n-1) : \n",
    "        b[i+1] = b[i]*(n-i-1)/(i+1)\n",
    "    DFS(0,[])\n",
    "    \n",
    "# 60점. 3,5번 타임리밋.\n",
    "import sys\n",
    "#sys.stdin=open(\"input.txt\", \"r\")\n",
    "def DFS1(list1) : \n",
    "    global result\n",
    "    a= []\n",
    "    if len(list1) == 1 : \n",
    "        result = list1[0]\n",
    "    else : \n",
    "        for i in range(len(list1)-1) : \n",
    "            a.append(list1[i]+list1[i+1])\n",
    "            list2 = a.copy()\n",
    "            DFS1(list2)\n",
    "\n",
    "\n",
    "def DFS2(L,list11) :\n",
    "    if L == n : \n",
    "        DFS1(list11)\n",
    "        if result == m : \n",
    "            for i in list11 : \n",
    "                print(i,end=' ')\n",
    "            sys.exit(0)\n",
    "    else : \n",
    "        for i in range(1,n+1) : \n",
    "            if i not in list11 : \n",
    "                DFS2(L+1,list11+[i])\n",
    "\n",
    "if __name__ == '__main__' : \n",
    "    n,m = map(int,input().split())\n",
    "    result=0\n",
    "    DFS2(0,[])"
   ]
  },
  {
   "cell_type": "markdown",
   "metadata": {},
   "source": [
    "## 10. 조합"
   ]
  },
  {
   "cell_type": "code",
   "execution_count": null,
   "metadata": {},
   "outputs": [],
   "source": [
    "import sys\n",
    "#sys.stdin=open(\"input.txt\", \"r\")\n",
    "def DFS(x,list1,pre) : \n",
    "    global cnt\n",
    "    if x==m : \n",
    "        for i in list1 : \n",
    "            print(i,end= ' ')\n",
    "        print()\n",
    "        cnt+=1\n",
    "    else : \n",
    "        for i in range(pre+1,n+1) : \n",
    "            DFS(x+1,list1+[i],i)\n",
    "\n",
    "        \n",
    "\n",
    "if __name__ == '__main__' : \n",
    "    n,m = map(int,input().split())\n",
    "    cnt=0\n",
    "    DFS(0,[],0)\n",
    "    print(cnt)"
   ]
  },
  {
   "cell_type": "markdown",
   "metadata": {},
   "source": [
    "## 11. 수들의 조합"
   ]
  },
  {
   "cell_type": "code",
   "execution_count": null,
   "metadata": {},
   "outputs": [],
   "source": [
    "import sys\n",
    "#sys.stdin=open(\"input.txt\", \"r\")\n",
    "def DFS(x,list1) : \n",
    "    global cnt\n",
    "    if x==k : \n",
    "        if sum(list1)%m == 0 : \n",
    "            cnt +=1\n",
    "        \n",
    "    else : \n",
    "        for i in a :\n",
    "            if list1 : \n",
    "                if i > max(list1) : \n",
    "                    DFS(x+1,list1+[i])\n",
    "            else : \n",
    "                DFS(x+1,list1+[i])\n",
    "           \n",
    "\n",
    "        \n",
    "\n",
    "if __name__ == '__main__' : \n",
    "    n,k = map(int,input().split())\n",
    "    a=list(map(int,input().split()))\n",
    "    a.sort()\n",
    "    m=int(input())\n",
    "    cnt=0\n",
    "    DFS(0,[])\n",
    "    print(cnt)\n"
   ]
  },
  {
   "cell_type": "markdown",
   "metadata": {},
   "source": [
    "## 12. 라이브러리를 활용한 수열 추측하기"
   ]
  },
  {
   "cell_type": "code",
   "execution_count": null,
   "metadata": {},
   "outputs": [],
   "source": []
  },
  {
   "cell_type": "markdown",
   "metadata": {},
   "source": [
    "## 13. 라이브러리를 활용한 수의 조합"
   ]
  },
  {
   "cell_type": "code",
   "execution_count": null,
   "metadata": {},
   "outputs": [],
   "source": []
  },
  {
   "cell_type": "markdown",
   "metadata": {},
   "source": [
    "## 14. 인접행렬"
   ]
  },
  {
   "cell_type": "code",
   "execution_count": null,
   "metadata": {},
   "outputs": [],
   "source": [
    "import sys\n",
    "sys.stdin=open(\"input.txt\", \"r\")\n",
    "def DFS(x) : \n",
    "    global list1\n",
    "    if x==m : \n",
    "        return\n",
    "    else : \n",
    "        a,b,c = map(int,input().split())\n",
    "        list1[a-1][b-1] = c\n",
    "        DFS(x+1)\n",
    "\n",
    "if __name__ == '__main__' : \n",
    "    n,m = map(int,input().split())\n",
    "    list1 = [[0]*n for _ in range(n)]\n",
    "    DFS(0)\n",
    "    for i in list1 : \n",
    "        for j in i : \n",
    "            print(j,end=' ')\n",
    "        print()"
   ]
  },
  {
   "cell_type": "markdown",
   "metadata": {},
   "source": [
    "## 15. 경로탐색(그래프 DFS)"
   ]
  },
  {
   "cell_type": "code",
   "execution_count": null,
   "metadata": {},
   "outputs": [],
   "source": [
    "import sys\n",
    "#sys.stdin=open(\"input.txt\", \"r\")\n",
    "def DFS(a,alist) : \n",
    "    global cnt\n",
    "    if n in alist : \n",
    "        cnt += 1\n",
    "    else : \n",
    "        for i,j in list1 : \n",
    "            if i==a and j not in alist :\n",
    "                DFS(j,alist+[j])\n",
    "\n",
    "if __name__ == '__main__' : \n",
    "    n,m = map(int,input().split())\n",
    "    list1 = [list(map(int,input().split())) for _ in range(m)]\n",
    "    list1.sort(key = lambda x : (x[0],x[1]))\n",
    "    cnt=0\n",
    "    DFS(1,[1])\n",
    "    print(cnt)"
   ]
  }
 ],
 "metadata": {
  "kernelspec": {
   "display_name": "Python 3",
   "language": "python",
   "name": "python3"
  },
  "language_info": {
   "codemirror_mode": {
    "name": "ipython",
    "version": 3
   },
   "file_extension": ".py",
   "mimetype": "text/x-python",
   "name": "python",
   "nbconvert_exporter": "python",
   "pygments_lexer": "ipython3",
   "version": "3.7.3"
  }
 },
 "nbformat": 4,
 "nbformat_minor": 2
}
