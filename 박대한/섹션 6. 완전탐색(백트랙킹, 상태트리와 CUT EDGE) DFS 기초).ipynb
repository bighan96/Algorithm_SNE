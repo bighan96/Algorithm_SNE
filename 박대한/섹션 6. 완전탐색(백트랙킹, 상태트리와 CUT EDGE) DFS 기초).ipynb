{
 "cells": [
  {
   "cell_type": "code",
   "execution_count": null,
   "metadata": {},
   "outputs": [],
   "source": [
    "못 푼 문제 : 7"
   ]
  },
  {
   "cell_type": "markdown",
   "metadata": {},
   "source": [
    "## 1. 재귀함수란(이진수출력)"
   ]
  },
  {
   "cell_type": "code",
   "execution_count": null,
   "metadata": {},
   "outputs": [],
   "source": [
    "import sys\n",
    "#sys.stdin=open(\"input.txt\", \"r\")\n",
    "n = int(input())\n",
    "def DFS(x) : \n",
    "    if x > 0 : \n",
    "        DFS(x//2)\n",
    "        print(x%2,end='')\n",
    "DFS(n)"
   ]
  },
  {
   "cell_type": "markdown",
   "metadata": {},
   "source": [
    "## 2. 이진트리순회"
   ]
  },
  {
   "cell_type": "code",
   "execution_count": null,
   "metadata": {},
   "outputs": [],
   "source": [
    "전위 부 왼 오\n",
    "중위 왼 부 오\n",
    "후위 왼 오 부\n",
    "\n",
    "import sys\n",
    "sys.stdin=open(\"input.txt\", \"r\")\n",
    "#전위순회\n",
    "def DFS(x) : \n",
    "    if x >= 8 :\n",
    "        return\n",
    "    print(x,end=' ')\n",
    "    DFS(2*x)\n",
    "    DFS(2*x+1)\n",
    "DFS(1)\n",
    "\n",
    "#중위순회\n",
    "def DFS(x) : \n",
    "    if x >= 8 :\n",
    "        return\n",
    "    DFS(2*x)\n",
    "    print(x,end=' ')\n",
    "    DFS(2*x+1)\n",
    "DFS(1)\n",
    "\n",
    "#후위순회\n",
    "def DFS(x) : \n",
    "    if x >= 8 :\n",
    "        return\n",
    "    DFS(2*x)\n",
    "    DFS(2*x+1)\n",
    "    print(x,end=' ')\n",
    "DFS(1)\n"
   ]
  },
  {
   "cell_type": "markdown",
   "metadata": {},
   "source": [
    "## 3. 부분집합 구하기"
   ]
  },
  {
   "cell_type": "code",
   "execution_count": null,
   "metadata": {},
   "outputs": [],
   "source": [
    "import sys\n",
    "#sys.stdin=open(\"input.txt\", \"r\")\n",
    "n = int(input())\n",
    "def DFS(x,sub) : \n",
    "    if x >= n+1 :\n",
    "        return\n",
    "    DFS(x+1,sub+str(x+1))\n",
    "    DFS(x+1,sub)\n",
    "    if x == n and sub : \n",
    "        for i in sub : \n",
    "            print(i, end=' ')\n",
    "        print()\n",
    "sub = ''    \n",
    "DFS(0,sub)"
   ]
  },
  {
   "cell_type": "markdown",
   "metadata": {},
   "source": [
    "## 4. 합이 같은 부분집합"
   ]
  },
  {
   "cell_type": "code",
   "execution_count": null,
   "metadata": {},
   "outputs": [],
   "source": [
    "import sys\n",
    "#sys.stdin=open(\"input.txt\", \"r\")\n",
    "def DFS(x) : \n",
    "    global ans\n",
    "    if x==n :\n",
    "        sum=0\n",
    "        for i in range(n):\n",
    "            if ch[i]==1 : \n",
    "                sum += a[i]\n",
    "        if 2*sum == total : \n",
    "            ans = 'YES'\n",
    "    else : \n",
    "        ch[x]=1\n",
    "        DFS(x+1)\n",
    "        ch[x]=0\n",
    "        DFS(x+1)\n",
    "\n",
    "if __name__ == '__main__' : \n",
    "    n = int(input())\n",
    "    a = list(map(int,input().split()))\n",
    "    ch = [0]*n\n",
    "    total=sum(a)\n",
    "    ans='NO'\n",
    "    DFS(0)\n",
    "    print(ans)"
   ]
  },
  {
   "cell_type": "markdown",
   "metadata": {},
   "source": [
    "## 5. 바둑이 승차"
   ]
  },
  {
   "cell_type": "code",
   "execution_count": null,
   "metadata": {},
   "outputs": [],
   "source": [
    "# 답지 풀이\n",
    "import sys\n",
    "#sys.stdin=open(\"input.txt\", \"r\")\n",
    "c, n = map(int,input().split())\n",
    "a = [int(input()) for _ in range(n)]\n",
    "result = 0\n",
    "total = sum(a)\n",
    "\n",
    "def DFS(L,sum,tsum) :\n",
    "    global result\n",
    "    if sum > c :\n",
    "        return\n",
    "    if sum + (total-tsum) < result : \n",
    "        return\n",
    "    if L==n :\n",
    "        if sum > result : \n",
    "            result = sum\n",
    "    else : \n",
    "        DFS(L+1,sum+a[L],tsum+a[L])\n",
    "        DFS(L+1,sum,tsum+a[L])\n",
    "if __name__ == '__main__' : \n",
    "    DFS(0,0,0)\n",
    "    print(result)\n",
    "\n",
    "# 20점 풀이. 2,3,4,5틀림\n",
    "import sys\n",
    "#sys.stdin=open(\"input.txt\", \"r\")\n",
    "c, n = map(int,input().split())\n",
    "a = [int(input()) for _ in range(n)]\n",
    "def DFS(a) : \n",
    "    gap = sum(a)-c\n",
    "    if gap > 0 :\n",
    "        dellist = [x for x in a if x >= gap]\n",
    "        if dellist : \n",
    "            a.remove(min(dellist))\n",
    "        else : \n",
    "            a.remove(max(a))\n",
    "        DFS(a)\n",
    "        print(sum(a))\n",
    "    else : \n",
    "        return\n",
    "DFS(a)\n"
   ]
  },
  {
   "cell_type": "markdown",
   "metadata": {},
   "source": [
    "## 6. 중복순열"
   ]
  },
  {
   "cell_type": "code",
   "execution_count": null,
   "metadata": {},
   "outputs": [],
   "source": [
    "import sys\n",
    "#sys.stdin=open(\"input.txt\", \"r\")\n",
    "def DFS(x,a) : \n",
    "    if x == m : \n",
    "        for i in a : \n",
    "            print(i,end=' ')\n",
    "        print()\n",
    "    else : \n",
    "        for i in range(1,n+1) : \n",
    "            DFS(x+1,a+[i])\n",
    "if __name__ == '__main__' : \n",
    "    n,m = map(int,input().split())\n",
    "    DFS(0,[])\n",
    "    print(n**m)\n",
    "\n",
    "# 이렇게 하면 n=10일 경우 문제생김.\n",
    "import sys\n",
    "#sys.stdin=open(\"input.txt\", \"r\")\n",
    "def DFS(x,sub) : \n",
    "    if x==m+1 and sub :\n",
    "        for i in sub : \n",
    "            print(i,end=' ')\n",
    "        print()\n",
    "    else : \n",
    "        for i in range(1,n+1) : \n",
    "            DFS(x+1,sub+str(i))\n",
    "\n",
    "if __name__ == '__main__' : \n",
    "    n,m = map(int,input().split())\n",
    "    sub=''\n",
    "    DFS(1,sub)\n",
    "    print(n**m)"
   ]
  },
  {
   "cell_type": "markdown",
   "metadata": {},
   "source": [
    "## 7. 동전교환"
   ]
  },
  {
   "cell_type": "code",
   "execution_count": null,
   "metadata": {},
   "outputs": [],
   "source": [
    "# 60점. 4,5 타임리밋.\n",
    "import sys\n",
    "#sys.stdin=open(\"input.txt\", \"r\")\n",
    "# x는 동전 개수, sum은 금액 합\n",
    "def DFS(x,sum,pre) : \n",
    "    global result\n",
    "    if sum > m : \n",
    "        return\n",
    "    elif sum == m : \n",
    "        if x<result : \n",
    "            result = x\n",
    "    else : \n",
    "        for i in coinlist : \n",
    "            if i <= pre : \n",
    "                DFS(x+1,sum+i,i)\n",
    "\n",
    "\n",
    "if __name__ == '__main__' : \n",
    "    n= int(input())\n",
    "    coinlist=list(map(int,input().split()))\n",
    "    coinlist.sort(reverse=True)\n",
    "    m = int(input())\n",
    "    result = float('inf')\n",
    "    DFS(0,0,coinlist[0])\n",
    "    print(result)\n",
    "\n",
    "# 80점. 3번 틀림\n",
    "import sys\n",
    "sys.stdin=open(\"input.txt\", \"r\")\n",
    "# x는 동전 개수, sum은 금액 합\n",
    "def DFS(i,m) : \n",
    "    global num\n",
    "    if m==0 : \n",
    "        print(num)\n",
    "    else : \n",
    "        if m//coinlist[i] > 0 :\n",
    "            num += m//coinlist[i]\n",
    "            DFS(i+1,m%coinlist[i])\n",
    "        else : \n",
    "            DFS(i+1,m)\n",
    "\n",
    "\n",
    "if __name__ == '__main__' : \n",
    "    n= int(input())\n",
    "    coinlist=list(map(int,input().split()))\n",
    "    coinlist.sort(reverse=True)\n",
    "    m = int(input())\n",
    "    num=0\n",
    "    DFS(0,m)"
   ]
  },
  {
   "cell_type": "markdown",
   "metadata": {},
   "source": [
    "## 8. 순열"
   ]
  },
  {
   "cell_type": "code",
   "execution_count": null,
   "metadata": {},
   "outputs": [],
   "source": [
    "import sys\n",
    "#sys.stdin=open(\"input.txt\", \"r\")\n",
    "# x는 횟수, a는 저장하는 순열\n",
    "def DFS(x,a) : \n",
    "    global cnt\n",
    "    if x==m : \n",
    "        for i in a : \n",
    "            print(i,end=' ')\n",
    "        print()\n",
    "        cnt+=1\n",
    "    else : \n",
    "        for i in range(1,n+1) : \n",
    "            if i not in a : \n",
    "                DFS(x+1,a+[i])\n",
    "\n",
    "if __name__ == '__main__' : \n",
    "    n, m = map(int,input().split())\n",
    "    cnt=0\n",
    "    DFS(0,[])\n",
    "    print(cnt)"
   ]
  },
  {
   "cell_type": "markdown",
   "metadata": {},
   "source": [
    "## 9. 수열 추측하기"
   ]
  },
  {
   "cell_type": "code",
   "execution_count": null,
   "metadata": {},
   "outputs": [],
   "source": []
  },
  {
   "cell_type": "markdown",
   "metadata": {},
   "source": [
    "## 10. 조합"
   ]
  },
  {
   "cell_type": "code",
   "execution_count": null,
   "metadata": {},
   "outputs": [],
   "source": []
  },
  {
   "cell_type": "markdown",
   "metadata": {},
   "source": [
    "## 11. 수들의 조합"
   ]
  },
  {
   "cell_type": "code",
   "execution_count": null,
   "metadata": {},
   "outputs": [],
   "source": []
  },
  {
   "cell_type": "markdown",
   "metadata": {},
   "source": [
    "## 12. 라이브러리를 활용한 수열 추측하기"
   ]
  },
  {
   "cell_type": "code",
   "execution_count": null,
   "metadata": {},
   "outputs": [],
   "source": []
  },
  {
   "cell_type": "markdown",
   "metadata": {},
   "source": [
    "## 13. 라이브러리를 활용한 수의 조합"
   ]
  },
  {
   "cell_type": "code",
   "execution_count": null,
   "metadata": {},
   "outputs": [],
   "source": []
  },
  {
   "cell_type": "markdown",
   "metadata": {},
   "source": [
    "## 14. 인접행렬"
   ]
  },
  {
   "cell_type": "code",
   "execution_count": null,
   "metadata": {},
   "outputs": [],
   "source": []
  },
  {
   "cell_type": "markdown",
   "metadata": {},
   "source": [
    "## 15. 경로탐색(그래프 DFS)"
   ]
  },
  {
   "cell_type": "code",
   "execution_count": null,
   "metadata": {},
   "outputs": [],
   "source": []
  }
 ],
 "metadata": {
  "kernelspec": {
   "display_name": "Python 3",
   "language": "python",
   "name": "python3"
  },
  "language_info": {
   "codemirror_mode": {
    "name": "ipython",
    "version": 3
   },
   "file_extension": ".py",
   "mimetype": "text/x-python",
   "name": "python",
   "nbconvert_exporter": "python",
   "pygments_lexer": "ipython3",
   "version": "3.7.3"
  }
 },
 "nbformat": 4,
 "nbformat_minor": 2
}
