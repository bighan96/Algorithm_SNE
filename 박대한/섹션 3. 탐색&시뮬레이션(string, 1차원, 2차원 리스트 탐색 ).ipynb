{
 "cells": [
  {
   "cell_type": "code",
   "execution_count": null,
   "metadata": {},
   "outputs": [],
   "source": [
    "못 푼 문제 : 5번"
   ]
  },
  {
   "cell_type": "code",
   "execution_count": null,
   "metadata": {},
   "outputs": [],
   "source": [
    "# 1. 회문 문자열 검사\n",
    "import sys\n",
    "#sys.stdin = open('input.txt','rt')\n",
    "n = int(input())\n",
    "for i in range(n) : \n",
    "    word = input()\n",
    "    list1 = list(word.lower())\n",
    "    list2 = list1.copy()\n",
    "    list2.reverse()\n",
    "    if list1 == list2 : \n",
    "        print('#%d' %(i+1),end=' ')\n",
    "        print('YES')\n",
    "    else : \n",
    "        print('#{}'.format(i+1),'NO')\n",
    "        \n",
    "- print('#%d YES' %(i+1))\n",
    "- list1[::-1] 리스트를 역순으로 뱉음\n",
    "- list1[start:stop:step] https://stackoverflow.com/questions/509211/understanding-slice-notation"
   ]
  },
  {
   "cell_type": "code",
   "execution_count": null,
   "metadata": {},
   "outputs": [],
   "source": [
    "# 2. 숫자만 추출\n",
    "import sys\n",
    "#sys.stdin = open('input.txt','rt')\n",
    "word = input()\n",
    "list1 = list(word)\n",
    "list2 = [x for x in list1 if x.isalpha() == False]\n",
    "num = int(''.join(list2))\n",
    "def countdivisor(x) : \n",
    "    cnt=0\n",
    "    for i in range(1,x+1) : \n",
    "        if x % i == 0 : cnt += 1\n",
    "    return cnt\n",
    "print(num)\n",
    "print(countdivisor(num))\n",
    "\n",
    "- isalpha() : 알파벳이냐\n",
    "- isdecimal() : 숫자냐"
   ]
  },
  {
   "cell_type": "code",
   "execution_count": null,
   "metadata": {},
   "outputs": [],
   "source": [
    "# 3. 카드 역배치 (정올 기출)\n",
    "import sys\n",
    "#sys.stdin = open('input.txt','rt')\n",
    "list1 = list(range(1,21))\n",
    "for i in range(10) : \n",
    "    a, b = map(int,input().split())\n",
    "    list2 = list1[a-1:b]\n",
    "    list2.reverse()\n",
    "    list1[a-1:b] = list2\n",
    "for i in list1 :\n",
    "    print(i,end=' ')"
   ]
  },
  {
   "cell_type": "code",
   "execution_count": null,
   "metadata": {},
   "outputs": [],
   "source": [
    "# 4. 두 리스트 합치기\n",
    "import sys\n",
    "#sys.stdin = open('input.txt','rt')\n",
    "n = input()\n",
    "list1 = list(input().split())\n",
    "m = input()\n",
    "list2 = list(input().split())\n",
    "list3 = list1 + list2\n",
    "list3 = list(map(int,list3))\n",
    "list3.sort()\n",
    "list3 = list(map(str,list3))\n",
    "for i in list3 : \n",
    "    print(i,end = ' ')"
   ]
  },
  {
   "cell_type": "code",
   "execution_count": 2,
   "metadata": {},
   "outputs": [],
   "source": [
    "# 5. 수들의 합\n",
    "# 80점. 마지막문제 타임리밋.\n",
    "import sys\n",
    "#sys.stdin = open('input.txt','rt')\n",
    "n,m = map(int,input().split())\n",
    "list1 = list(map(int,input().split()))\n",
    "cnt = 0\n",
    "check=0\n",
    "for i in range(n) : \n",
    "    check = list1[i]\n",
    "    for j in range(i+1,n) : \n",
    "        if check >= m : \n",
    "            break\n",
    "        check += list1[j]\n",
    "    if check == m : \n",
    "        cnt += 1 \n",
    "print(cnt)"
   ]
  },
  {
   "cell_type": "code",
   "execution_count": null,
   "metadata": {},
   "outputs": [],
   "source": [
    "# 6. 격자판 최대합\n",
    "import sys\n",
    "#sys.stdin = open('input.txt','rt')\n",
    "n = int(input())\n",
    "grid = []\n",
    "for _ in range(n) : \n",
    "    grid.append(list(map(int,input().split())))\n",
    "rowlist = []\n",
    "collist = []\n",
    "b , c = 0, 0\n",
    "for i in range(n) : \n",
    "    rowlist.append(sum(grid[i]))\n",
    "    a = 0\n",
    "    b += grid[i][i]\n",
    "    for j in range(n) : \n",
    "        a += grid[j][i]\n",
    "        if i+j == n-1 : \n",
    "            c += grid[i][j]\n",
    "    collist.append(a)\n",
    "alllist=rowlist + collist + [b,c]\n",
    "print(max(alllist))"
   ]
  },
  {
   "cell_type": "code",
   "execution_count": null,
   "metadata": {},
   "outputs": [],
   "source": [
    "# 7. 사과나무\n",
    "import sys\n",
    "#sys.stdin = open('input.txt','rt')\n",
    "n = int(input())\n",
    "list1 = [list(map(int,input().split())) for _ in range(n)]\n",
    "answer = 0\n",
    "for i in range(n) : \n",
    "    x = abs(n//2 - i)\n",
    "    for j in range(x,n-x) : \n",
    "        answer += list1[i][j]\n",
    "print(answer)"
   ]
  },
  {
   "cell_type": "code",
   "execution_count": null,
   "metadata": {},
   "outputs": [],
   "source": [
    "# 8. 곳감\n",
    "import sys\n",
    "#sys.stdin = open('input.txt','rt')\n",
    "n = int(input())\n",
    "list1 = [list(map(int,input().split())) for _ in range(n)]\n",
    "m = int(input())\n",
    "for _ in range(m) :\n",
    "    i, j, k = map(int,input().split())\n",
    "    list2 = list1[i-1]*2\n",
    "    if j == 0 : \n",
    "        list1[i-1] = list2[(k%n):(k%n)+n]\n",
    "    elif j == 1 :\n",
    "        list1[i-1] = list2[n-(k%n):2*n-(k%n)]\n",
    "ans=0\n",
    "for i in range(n) : \n",
    "    x=abs(n//2-i)\n",
    "    for j in range(n//2-x,x+n//2+1):\n",
    "        ans += list1[i][j]\n",
    "print(ans)\n"
   ]
  },
  {
   "cell_type": "code",
   "execution_count": null,
   "metadata": {},
   "outputs": [],
   "source": [
    "# 9. 봉우리\n",
    "import sys\n",
    "#sys.stdin = open('input.txt','rt')\n",
    "n = int(input())\n",
    "list1 = [[0]*(n+2) for _ in range(n+2)]\n",
    "for i in range(1,n+1) : \n",
    "    list1[i][1:n+1] = list(map(int,input().split()))\n",
    "cnt=0\n",
    "for i in range(1,n+1) : \n",
    "    for j in range(1,n+1) : \n",
    "        if (list1[i][j] > list1[i][j-1])&(list1[i][j] > list1[i][j+1])&(list1[i][j] > list1[i-1][j])&(list1[i][j] > list1[i+1][j]) : \n",
    "            cnt += 1\n",
    "print(cnt)"
   ]
  },
  {
   "cell_type": "code",
   "execution_count": null,
   "metadata": {},
   "outputs": [],
   "source": [
    "# 10. 스도쿠 검사\n",
    "import sys\n",
    "#sys.stdin = open('input.txt','rt')\n",
    "list1 = [list(map(int,input().split())) for _ in range(9)]\n",
    "def yesorno(list1) : \n",
    "    # 3*3 사각형 확인\n",
    "    for i in range(0,9,3) : \n",
    "        for j in range(0,9,3) : \n",
    "            if list(set([x for k in range(i,i+3) for x in list1[k][j:j+3]])) != list(range(1,10)) : \n",
    "                return 'NO'\n",
    "    for i in range(9) : \n",
    "        if list(set(list1[i])) != list(range(1,10)) : \n",
    "            return 'NO'\n",
    "        if list(set([list1[k][i] for k in range(9)])) != list(range(1,10)) : \n",
    "            return 'NO'\n",
    "    return 'YES'\n",
    "print(yesorno(list1))"
   ]
  },
  {
   "cell_type": "code",
   "execution_count": null,
   "metadata": {},
   "outputs": [],
   "source": [
    "# 11. 격자판 회문수\n",
    "import sys\n",
    "#sys.stdin = open('input.txt','rt')\n",
    "list1 = [list(map(int,input().split())) for _ in range(7)]\n",
    "cnt = 0\n",
    "for i in range(7) : \n",
    "    for j in range(3) : \n",
    "        if list1[i][j:j+5] == list1[i][j:j+5][::-1] :\n",
    "            cnt += 1\n",
    "        list2 = [list1[j+k][i] for k in range(5)]\n",
    "        if list2 == list2[::-1] :\n",
    "            cnt += 1\n",
    "print(cnt)"
   ]
  }
 ],
 "metadata": {
  "kernelspec": {
   "display_name": "Python 3",
   "language": "python",
   "name": "python3"
  },
  "language_info": {
   "codemirror_mode": {
    "name": "ipython",
    "version": 3
   },
   "file_extension": ".py",
   "mimetype": "text/x-python",
   "name": "python",
   "nbconvert_exporter": "python",
   "pygments_lexer": "ipython3",
   "version": "3.7.3"
  }
 },
 "nbformat": 4,
 "nbformat_minor": 2
}
