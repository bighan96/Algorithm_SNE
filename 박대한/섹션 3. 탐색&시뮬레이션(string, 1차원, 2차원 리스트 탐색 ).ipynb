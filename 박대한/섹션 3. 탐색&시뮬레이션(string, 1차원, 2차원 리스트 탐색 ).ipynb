{
 "cells": [
  {
   "cell_type": "code",
   "execution_count": null,
   "metadata": {},
   "outputs": [],
   "source": [
    "못 푼 문제 : "
   ]
  },
  {
   "cell_type": "code",
   "execution_count": null,
   "metadata": {},
   "outputs": [],
   "source": [
    "# 1. 회문 문자열 검사\n",
    "import sys\n",
    "#sys.stdin = open('input.txt','rt')\n",
    "n = int(input())\n",
    "for i in range(n) : \n",
    "    word = input()\n",
    "    list1 = list(word.lower())\n",
    "    list2 = list1.copy()\n",
    "    list2.reverse()\n",
    "    if list1 == list2 : \n",
    "        print('#%d' %(i+1),end=' ')\n",
    "        print('YES')\n",
    "    else : \n",
    "        print('#{}'.format(i+1),'NO')\n",
    "        \n",
    "- print('#%d YES' %(i+1))\n",
    "- list1[::-1] 리스트를 역순으로 뱉음\n",
    "- list1[start:stop:step] https://stackoverflow.com/questions/509211/understanding-slice-notation"
   ]
  },
  {
   "cell_type": "code",
   "execution_count": null,
   "metadata": {},
   "outputs": [],
   "source": [
    "# 2. 숫자만 추출\n",
    "import sys\n",
    "#sys.stdin = open('input.txt','rt')\n",
    "word = input()\n",
    "list1 = list(word)\n",
    "list2 = [x for x in list1 if x.isalpha() == False]\n",
    "num = int(''.join(list2))\n",
    "def countdivisor(x) : \n",
    "    cnt=0\n",
    "    for i in range(1,x+1) : \n",
    "        if x % i == 0 : cnt += 1\n",
    "    return cnt\n",
    "print(num)\n",
    "print(countdivisor(num))\n",
    "\n",
    "- isalpha() : 알파벳이냐\n",
    "- isdecimal() : 숫자냐"
   ]
  },
  {
   "cell_type": "code",
   "execution_count": null,
   "metadata": {},
   "outputs": [],
   "source": [
    "# 3. 카드 역배치 (정올 기출)\n",
    "import sys\n",
    "#sys.stdin = open('input.txt','rt')\n",
    "list1 = list(range(1,21))\n",
    "for i in range(10) : \n",
    "    a, b = map(int,input().split())\n",
    "    list2 = list1[a-1:b]\n",
    "    list2.reverse()\n",
    "    list1[a-1:b] = list2\n",
    "for i in list1 :\n",
    "    print(i,end=' ')"
   ]
  },
  {
   "cell_type": "code",
   "execution_count": null,
   "metadata": {},
   "outputs": [],
   "source": []
  },
  {
   "cell_type": "code",
   "execution_count": null,
   "metadata": {},
   "outputs": [],
   "source": []
  },
  {
   "cell_type": "code",
   "execution_count": null,
   "metadata": {},
   "outputs": [],
   "source": []
  }
 ],
 "metadata": {
  "kernelspec": {
   "display_name": "Python 3",
   "language": "python",
   "name": "python3"
  },
  "language_info": {
   "codemirror_mode": {
    "name": "ipython",
    "version": 3
   },
   "file_extension": ".py",
   "mimetype": "text/x-python",
   "name": "python",
   "nbconvert_exporter": "python",
   "pygments_lexer": "ipython3",
   "version": "3.7.3"
  }
 },
 "nbformat": 4,
 "nbformat_minor": 2
}
