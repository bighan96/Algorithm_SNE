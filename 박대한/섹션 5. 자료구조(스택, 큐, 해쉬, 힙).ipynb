{
 "cells": [
  {
   "cell_type": "markdown",
   "metadata": {},
   "source": [
    "못 푼 문제 : "
   ]
  },
  {
   "cell_type": "markdown",
   "metadata": {},
   "source": [
    "1. 가장 큰 수"
   ]
  },
  {
   "cell_type": "code",
   "execution_count": null,
   "metadata": {},
   "outputs": [],
   "source": [
    "import sys\n",
    "#sys.stdin = open('input.txt','rt')\n",
    "num,m = map(int,input().split())\n",
    "num = list(map(int,str(num)))\n",
    "stack=[]\n",
    "for x in num : \n",
    "    while (stack) and (m>0) and (stack[-1] < x) : \n",
    "        stack.pop()\n",
    "        m -= 1\n",
    "    stack.append(x)\n",
    "if m != 0 : \n",
    "    stack = stack[:-m]\n",
    "res = ''.join(list(map(str,stack)))\n",
    "print(res)"
   ]
  },
  {
   "cell_type": "markdown",
   "metadata": {},
   "source": [
    "2. 쇠막대기"
   ]
  },
  {
   "cell_type": "code",
   "execution_count": null,
   "metadata": {},
   "outputs": [],
   "source": [
    "import sys\n",
    "#sys.stdin = open('input.txt','rt')\n",
    "a = list(input())\n",
    "b = [idx for idx,x in enumerate(a) if a[idx]=='(' and a[idx+1]=='(']\n",
    "stack = 0\n",
    "for i in b : \n",
    "    left=1\n",
    "    right=0\n",
    "    laser=0\n",
    "    for j in range(i+1,len(a)) : \n",
    "        if a[j]=='(' : \n",
    "           left += 1\n",
    "           if a[j+1]==')' :\n",
    "               laser += 1\n",
    "        else :\n",
    "            right += 1\n",
    "        if left == right :\n",
    "            break\n",
    "    if laser != 0 : \n",
    "        stack += laser+1\n",
    "\n",
    "print(stack)"
   ]
  },
  {
   "cell_type": "markdown",
   "metadata": {},
   "source": [
    "3. 후위표기식 만들기"
   ]
  },
  {
   "cell_type": "code",
   "execution_count": null,
   "metadata": {},
   "outputs": [],
   "source": [
    "import sys\n",
    "#sys.stdin = open('input.txt','rt')\n",
    "# 우선순위 순서 ), */ , +- , ( , 숫자\n",
    "# 자기보다 우선순위가 높거나 같은 연산자가 스택에 있으면 아닐 때까지 밖으로 빼낸 후 자신이 들어간다.\n",
    "a = list(input())\n",
    "stack = []\n",
    "answer = ''\n",
    "for x in a : \n",
    "    if x.isdecimal() : \n",
    "        answer += x\n",
    "\n",
    "    elif x == '(' : \n",
    "        stack.append(x)\n",
    "\n",
    "    elif x in '+-' : \n",
    "        while stack and stack[-1] in '+-*/' : \n",
    "            answer += stack.pop()\n",
    "        stack.append(x)\n",
    "\n",
    "    elif x in '*/' : \n",
    "        while stack and stack[-1] in '*/' : \n",
    "            answer += stack.pop()\n",
    "        stack.append(x)\n",
    "\n",
    "    else :  # ')'인 경우\n",
    "        while stack and stack[-1] != '(' : \n",
    "            answer += stack.pop()\n",
    "        stack.pop()\n",
    "\n",
    "while stack != [] : \n",
    "    answer += stack.pop()\n",
    "print(answer)\n",
    "\n"
   ]
  },
  {
   "cell_type": "markdown",
   "metadata": {},
   "source": [
    "4. 후위식 연산"
   ]
  },
  {
   "cell_type": "code",
   "execution_count": null,
   "metadata": {},
   "outputs": [],
   "source": [
    "import sys\n",
    "#sys.stdin = open('input.txt','rt')\n",
    "a = list(input())\n",
    "stack = []\n",
    "for x in a : \n",
    "    if x.isdecimal() : \n",
    "        stack.append(int(x))\n",
    "    elif x == '+' : \n",
    "        a = int(stack.pop())\n",
    "        b = int(stack.pop())\n",
    "        stack.append(b+a)\n",
    "    elif x == '-' : \n",
    "        a = int(stack.pop())\n",
    "        b = int(stack.pop())\n",
    "        stack.append(b-a)\n",
    "    elif x == '*' : \n",
    "        a = int(stack.pop())\n",
    "        b = int(stack.pop())\n",
    "        stack.append(b*a)\n",
    "    elif x == '/' : \n",
    "        a = int(stack.pop())\n",
    "        b = int(stack.pop())\n",
    "        stack.append(b/a)\n",
    "print(stack[0])\n",
    "\n"
   ]
  },
  {
   "cell_type": "markdown",
   "metadata": {},
   "source": [
    "5. 공주 구하기"
   ]
  },
  {
   "cell_type": "code",
   "execution_count": null,
   "metadata": {},
   "outputs": [],
   "source": [
    "import sys\n",
    "#sys.stdin = open('input.txt','rt')\n",
    "n,k = map(int, input().split())\n",
    "a = list(range(1,n+1))\n",
    "while len(a) > 1 :\n",
    "    x = k%len(a)-1\n",
    "    a.pop(x)\n",
    "    if x != -1 :\n",
    "        a = a[x:]+a[:x]\n",
    "print(a[0])\n",
    "\n",
    "# 선생님 풀이\n",
    "import sys\n",
    "#sys.stdin = open('input.txt','rt')\n",
    "from collections import deque\n",
    "n,k = map(int, input().split())\n",
    "a = list(range(1,n+1))\n",
    "a = deque(a)\n",
    "while len(a) > 1 : \n",
    "    for _ in range(k-1) : \n",
    "        a.append(a.popleft())\n",
    "    a.popleft()\n",
    "print(a[0])\n",
    "\n",
    "import sys\n",
    "#sys.stdin = open('input.txt','rt')\n",
    "n,k = map(int, input().split())\n",
    "a = list(range(1,n+1))\n",
    "while len(a) > 1 : \n",
    "    for _ in range(k-1) : \n",
    "        a.append(a.pop(0))\n",
    "    a.pop(0)\n",
    "print(a[0])"
   ]
  },
  {
   "cell_type": "markdown",
   "metadata": {},
   "source": [
    "6. 응급실"
   ]
  },
  {
   "cell_type": "code",
   "execution_count": null,
   "metadata": {},
   "outputs": [],
   "source": [
    "import sys\n",
    "#sys.stdin = open('input.txt','rt')\n",
    "n,m = map(int, input().split())\n",
    "a = list(map(int,input().split()))\n",
    "a = [[x,idx] for idx,x in enumerate(a)]\n",
    "check = a[m]\n",
    "cnt=0\n",
    "while check in a :\n",
    "    maxx=a[0][0]\n",
    "    myturn = 0\n",
    "    for idx,x in enumerate(a) : # 맨앞보다 위급한 사람있는지 찾는다\n",
    "        if x[0] > maxx:\n",
    "            maxx = x[0]\n",
    "            myturn = idx\n",
    "    if myturn == 0 : # 치료 받음\n",
    "        a.pop(myturn)\n",
    "        cnt += 1\n",
    "    else : # 치료 못받고 맨 뒤로감\n",
    "        a.append(a.pop(0))\n",
    "print(cnt)\n",
    "\n",
    "# 잘못된 풀이\n",
    "import sys\n",
    "#sys.stdin = open('input.txt','rt')\n",
    "n,m = map(int, input().split())\n",
    "a = list(map(int,input().split()))\n",
    "idxlist = list(range(n))\n",
    "for i in range(0,n) : \n",
    "    check=[idx for idx, x in enumerate(a) if x > a[0]]\n",
    "    if check !=[] :\n",
    "        del_idx = check[0]\n",
    "        a.pop(del_idx)\n",
    "        idxlist.pop(del_idx)\n",
    "        a.append(a.pop(0))\n",
    "        idxlist.append(idxlist.pop(0))\n",
    "    else : \n",
    "        a.pop(0)\n",
    "        idxlist.pop(0)\n",
    "    if m not in idxlist : \n",
    "        break\n",
    "print(i)\n"
   ]
  },
  {
   "cell_type": "markdown",
   "metadata": {},
   "source": [
    "7. 교육과정 설계"
   ]
  },
  {
   "cell_type": "code",
   "execution_count": null,
   "metadata": {},
   "outputs": [],
   "source": []
  },
  {
   "cell_type": "markdown",
   "metadata": {},
   "source": [
    "8. 단어찾기"
   ]
  },
  {
   "cell_type": "code",
   "execution_count": null,
   "metadata": {},
   "outputs": [],
   "source": []
  },
  {
   "cell_type": "markdown",
   "metadata": {},
   "source": [
    "9. 아나그램(구글)"
   ]
  },
  {
   "cell_type": "code",
   "execution_count": null,
   "metadata": {},
   "outputs": [],
   "source": []
  },
  {
   "cell_type": "markdown",
   "metadata": {},
   "source": [
    "10. 최소힙"
   ]
  },
  {
   "cell_type": "code",
   "execution_count": null,
   "metadata": {},
   "outputs": [],
   "source": []
  },
  {
   "cell_type": "markdown",
   "metadata": {},
   "source": [
    "11. 최대힙"
   ]
  },
  {
   "cell_type": "code",
   "execution_count": null,
   "metadata": {},
   "outputs": [],
   "source": []
  }
 ],
 "metadata": {
  "kernelspec": {
   "display_name": "Python 3",
   "language": "python",
   "name": "python3"
  },
  "language_info": {
   "codemirror_mode": {
    "name": "ipython",
    "version": 3
   },
   "file_extension": ".py",
   "mimetype": "text/x-python",
   "name": "python",
   "nbconvert_exporter": "python",
   "pygments_lexer": "ipython3",
   "version": "3.7.3"
  }
 },
 "nbformat": 4,
 "nbformat_minor": 2
}
