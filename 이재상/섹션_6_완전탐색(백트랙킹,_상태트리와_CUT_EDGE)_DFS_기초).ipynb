{
  "nbformat": 4,
  "nbformat_minor": 0,
  "metadata": {
    "colab": {
      "name": "섹션 6. 완전탐색(백트랙킹, 상태트리와 CUT EDGE) DFS 기초) ",
      "private_outputs": true,
      "provenance": [],
      "collapsed_sections": [],
      "authorship_tag": "ABX9TyOh5Rq+qNrq6vwAtouma0TK",
      "include_colab_link": true
    },
    "kernelspec": {
      "name": "python3",
      "display_name": "Python 3"
    }
  },
  "cells": [
    {
      "cell_type": "markdown",
      "metadata": {
        "id": "view-in-github",
        "colab_type": "text"
      },
      "source": [
        "<a href=\"https://colab.research.google.com/github/jaesanglee95/Algorithm_SNE/blob/main/%EC%9D%B4%EC%9E%AC%EC%83%81/%EC%84%B9%EC%85%98_6_%EC%99%84%EC%A0%84%ED%83%90%EC%83%89(%EB%B0%B1%ED%8A%B8%EB%9E%99%ED%82%B9%2C_%EC%83%81%ED%83%9C%ED%8A%B8%EB%A6%AC%EC%99%80_CUT_EDGE)_DFS_%EA%B8%B0%EC%B4%88).ipynb\" target=\"_parent\"><img src=\"https://colab.research.google.com/assets/colab-badge.svg\" alt=\"Open In Colab\"/></a>"
      ]
    },
    {
      "cell_type": "markdown",
      "metadata": {
        "id": "HDrHkAl7vD2H"
      },
      "source": [
        "## 섹션 6. 완전탐색(백트랙킹, 상태트리와 CUT EDGE) DFS 기초) \n",
        "\n",
        "\n",
        "\n",
        "이재상"
      ]
    },
    {
      "cell_type": "markdown",
      "metadata": {
        "id": "lDxhzI9_vL_c"
      },
      "source": [
        "### 1. 재귀함수란(이진수출력)"
      ]
    },
    {
      "cell_type": "code",
      "metadata": {
        "id": "Jwqk1vz-vNwt"
      },
      "source": [
        "import sys\n",
        "# sys.stdin = open('input.txt', 'rt')\n",
        "\n",
        "def DFS(x):\n",
        "    if x > 0 :\n",
        "        r = x%2\n",
        "        DFS(x//2 )\n",
        "        print(r, end = \"\")\n",
        "\n",
        "       \n",
        "if __name__ == \"__main__\" :\n",
        "    n = int(input())\n",
        "    DFS(n)\n",
        "    print()\n"
      ],
      "execution_count": null,
      "outputs": []
    },
    {
      "cell_type": "markdown",
      "metadata": {
        "id": "G0dUxl_zw11G"
      },
      "source": [
        "### 2. 이진트리 순회(깊이우선탐색)"
      ]
    },
    {
      "cell_type": "code",
      "metadata": {
        "id": "7kySKDhvxZkQ"
      },
      "source": [
        "# 전위순회\n",
        "def DFS1(x):\n",
        "    if x < 8 :\n",
        "        print(x, end = \" \")\n",
        "        DFS1(x*2)\n",
        "        DFS1(x*2 + 1)\n",
        "        \n",
        "# 중위순회       \n",
        "def DFS2(x):\n",
        "    if x < 8 :\n",
        "        DFS2(x*2)\n",
        "        print(x, end = \" \")\n",
        "        DFS2(x*2 + 1)\n",
        "\n",
        "# 후위순회        \n",
        "def DFS3(x):\n",
        "    if x < 8 :\n",
        "        DFS3(x*2)\n",
        "        DFS3(x*2 + 1)\n",
        "        print(x, end = \" \")\n",
        "        \n",
        "\n",
        "if __name__ == \"__main__\" :\n",
        "    DFS1(1)\n",
        "    print()\n",
        "    DFS2(1)\n",
        "    print()\n",
        "    DFS3(1)\n",
        "    print()"
      ],
      "execution_count": null,
      "outputs": []
    },
    {
      "cell_type": "markdown",
      "metadata": {
        "id": "i1vbNfAY2hUl"
      },
      "source": [
        "  ### 3. 부분집합 구하기"
      ]
    },
    {
      "cell_type": "code",
      "metadata": {
        "id": "Ox1mW7OYo7Rl"
      },
      "source": [
        "import sys\n",
        "# sys.stdin = open('input.txt', 'rt')\n",
        "\n",
        "def DFS(x):\n",
        "    if x == 0 :\n",
        "        return \"\"\n",
        "    else :\n",
        "        r = str(x%2)\n",
        "        r = DFS(x//2) + r\n",
        "        return r\n",
        "       \n",
        "if __name__ == \"__main__\" :\n",
        "    n = int(input())\n",
        "    iter = 2 ** n \n",
        "    for i in range(iter) :\n",
        "        tmp = DFS(i)\n",
        "        if len(tmp) < n :\n",
        "            tmp2 = n - len(tmp)\n",
        "            tmp = '0'*tmp2 + tmp\n",
        "\n",
        "        for j in range(0,n) :\n",
        "            if tmp[j] == '0' :\n",
        "                print(j+1, end = \" \")\n",
        "        print()\n",
        "\n",
        "    "
      ],
      "execution_count": null,
      "outputs": []
    },
    {
      "cell_type": "markdown",
      "metadata": {
        "id": "M-2PCc9io6tX"
      },
      "source": [
        "### 4. 합이 같은 부분집합"
      ]
    },
    {
      "cell_type": "code",
      "metadata": {
        "id": "lwJS27Fuo3Gg"
      },
      "source": [
        "import sys\n",
        "# sys.stdin = open('input.txt', 'rt')\n",
        "\n",
        "n = int(input())\n",
        "a = list(map(int, input().split()))\n",
        "s = sum(a) / 2\n",
        "ans = \"NO\"\n",
        "def DFS(i, sum) :\n",
        "    global ans\n",
        "    if sum > s :\n",
        "        return\n",
        "    elif sum == s :\n",
        "        ans = \"YES\"\n",
        "    else :\n",
        "        if i < n :\n",
        "            tmp = sum + a[i]\n",
        "            DFS(i+1, tmp)\n",
        "            DFS(i+1, sum)   \n",
        "        else :\n",
        "            return\n",
        "\n",
        "\n",
        "DFS(0,0)\n",
        "print(ans)\n",
        "        \n"
      ],
      "execution_count": null,
      "outputs": []
    },
    {
      "cell_type": "markdown",
      "metadata": {
        "id": "zhcf9oAWo2L4"
      },
      "source": [
        "### 5. 바둑이 승차 : 미완(60점)"
      ]
    },
    {
      "cell_type": "code",
      "metadata": {
        "id": "8dVkUVM5o1S_"
      },
      "source": [
        "import sys\n",
        "# sys.stdin = open('input.txt', 'rt')\n",
        "\n",
        "C, n = map(int, input().split())\n",
        "a = [int(input()) for _ in range(n)]\n",
        "ans = 0\n",
        "\n",
        "def DFS(i, s) :\n",
        "    global ans\n",
        "    if i < n :\n",
        "        tmp = s + a[i]\n",
        "        if tmp < C :\n",
        "            DFS(i+1, tmp)\n",
        "            ans = max(ans, tmp)\n",
        "            DFS(i+1, s)\n",
        "            ans = max(ans, s)\n",
        "            \n",
        "    else :\n",
        "        return\n",
        "\n",
        "\n",
        "DFS(0, 0)\n",
        "print(ans)\n",
        "\n",
        "# 효율성 60점"
      ],
      "execution_count": null,
      "outputs": []
    },
    {
      "cell_type": "code",
      "metadata": {
        "id": "lHmYxKxWqfOR"
      },
      "source": [
        "import sys\n",
        "#sys.stdin = open('input.txt', 'rt')\n",
        "\n",
        "C, n = map(int, input().split())\n",
        "a = [int(input()) for _ in range(n)]\n",
        "ans = 0\n",
        "\n",
        "def DFS(i, s) :\n",
        "    global ans\n",
        "\n",
        "    if i == n :\n",
        "        return\n",
        "    else :\n",
        "        tmp = a[i] + s\n",
        "        \n",
        "        if tmp < C :\n",
        "            ans = max(ans, tmp)\n",
        "            DFS(i+1, tmp)\n",
        "            DFS(i+1, s)\n",
        "            \n",
        "    \n",
        "\n",
        "DFS(0, 0)\n",
        "print(ans)\n",
        "\n",
        "# 효율성 60점"
      ],
      "execution_count": null,
      "outputs": []
    },
    {
      "cell_type": "markdown",
      "metadata": {
        "id": "uGWp9-prAM7t"
      },
      "source": [
        "### 6. 중복순열 구하기"
      ]
    },
    {
      "cell_type": "code",
      "metadata": {
        "id": "FcTLQIwLAOp0"
      },
      "source": [
        "import sys\n",
        "# sys.stdin = open('input.txt', 'rt')\n",
        "\n",
        "n, m = map(int, input().split())\n",
        "a = [0] * m\n",
        "\n",
        "def DFS(i) :\n",
        "    if i == m:\n",
        "        return\n",
        "    else :\n",
        "        for j in range(1,n+1):\n",
        "            a[i] = j \n",
        "            DFS(i+1)\n",
        "            \n",
        "            if i == m - 1:\n",
        "                for k in a :\n",
        "                    print(k, end = \" \")\n",
        "                print()\n",
        "      \n",
        "DFS(0)\n",
        "print(n**m)"
      ],
      "execution_count": null,
      "outputs": []
    },
    {
      "cell_type": "markdown",
      "metadata": {
        "id": "t9MZNYjKAPzN"
      },
      "source": [
        "### 7. 동전교환"
      ]
    },
    {
      "cell_type": "code",
      "metadata": {
        "id": "bl_LCM_9NEp8"
      },
      "source": [
        "import sys\n",
        "# sys.stdin = open('input.txt', 'rt')\n",
        "\n",
        "n = int(input())\n",
        "c = list(map(int, input().split()))\n",
        "c.sort(reverse =True)\n",
        "m = int(input())\n",
        "\n",
        "ans = float('inf')\n",
        "\n",
        "def DFS(i, sum) :\n",
        "    global ans\n",
        "    \n",
        "    if i > ans or sum > m:\n",
        "        return\n",
        "    else :\n",
        "        for j in range(n):\n",
        "            tmp = sum + c[j] \n",
        "            k = i + 1\n",
        "            DFS(k, tmp)\n",
        "            \n",
        "            if tmp == m:\n",
        "                ans = min(ans, k)\n",
        "\n",
        "DFS(0, 0)\n",
        "print(ans)\n"
      ],
      "execution_count": null,
      "outputs": []
    },
    {
      "cell_type": "markdown",
      "metadata": {
        "id": "04H_7Mr9bgLl"
      },
      "source": [
        "### 8. 순열 구하기"
      ]
    },
    {
      "cell_type": "code",
      "metadata": {
        "id": "-t2rPb3ggrSx"
      },
      "source": [
        "import sys\n",
        "#sys.stdin = open('input.txt', 'rt')\n",
        "\n",
        "n, m = map(int, input().split())\n",
        "\n",
        "a = [0] * m\n",
        "cnt = 0\n",
        "def DFS(i, x) :\n",
        "    global cnt\n",
        "\n",
        "    if i == m:\n",
        "        return\n",
        "    else :\n",
        "        for j in range(1,n+1):\n",
        "            x[i:] = [0]*(m-i)\n",
        "\n",
        "            if j in x :\n",
        "                continue\n",
        "            else :\n",
        "                x[i] = j\n",
        "                DFS(i+1, x)\n",
        "                \n",
        "\n",
        "                if i == m-1 :\n",
        "                    for ab in x :\n",
        "                        print(ab, end = \" \")\n",
        "                    print()\n",
        "                    cnt +=1\n",
        "            \n",
        "            \n",
        "DFS(0, a)\n",
        "print(cnt)"
      ],
      "execution_count": null,
      "outputs": []
    }
  ]
}