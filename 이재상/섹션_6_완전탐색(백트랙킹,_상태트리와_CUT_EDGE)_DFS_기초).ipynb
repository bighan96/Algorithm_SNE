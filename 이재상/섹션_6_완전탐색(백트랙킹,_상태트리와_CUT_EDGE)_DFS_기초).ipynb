{
  "nbformat": 4,
  "nbformat_minor": 0,
  "metadata": {
    "colab": {
      "name": "섹션 6. 완전탐색(백트랙킹, 상태트리와 CUT EDGE) DFS 기초) ",
      "private_outputs": true,
      "provenance": [],
      "collapsed_sections": [],
      "authorship_tag": "ABX9TyMJ5pJXQO51GPSLmQFNnFYu",
      "include_colab_link": true
    },
    "kernelspec": {
      "name": "python3",
      "display_name": "Python 3"
    }
  },
  "cells": [
    {
      "cell_type": "markdown",
      "metadata": {
        "id": "view-in-github",
        "colab_type": "text"
      },
      "source": [
        "<a href=\"https://colab.research.google.com/github/jaesanglee95/Algorithm_SNE/blob/main/%EC%9D%B4%EC%9E%AC%EC%83%81/%EC%84%B9%EC%85%98_6_%EC%99%84%EC%A0%84%ED%83%90%EC%83%89(%EB%B0%B1%ED%8A%B8%EB%9E%99%ED%82%B9%2C_%EC%83%81%ED%83%9C%ED%8A%B8%EB%A6%AC%EC%99%80_CUT_EDGE)_DFS_%EA%B8%B0%EC%B4%88).ipynb\" target=\"_parent\"><img src=\"https://colab.research.google.com/assets/colab-badge.svg\" alt=\"Open In Colab\"/></a>"
      ]
    },
    {
      "cell_type": "markdown",
      "metadata": {
        "id": "HDrHkAl7vD2H"
      },
      "source": [
        "## 섹션 6. 완전탐색(백트랙킹, 상태트리와 CUT EDGE) DFS 기초) \n",
        "\n",
        "\n",
        "\n",
        "이재상"
      ]
    },
    {
      "cell_type": "markdown",
      "metadata": {
        "id": "lDxhzI9_vL_c"
      },
      "source": [
        "### 1. 재귀함수란(이진수출력)"
      ]
    },
    {
      "cell_type": "code",
      "metadata": {
        "id": "Jwqk1vz-vNwt"
      },
      "source": [
        "import sys\n",
        "# sys.stdin = open('input.txt', 'rt')\n",
        "\n",
        "def DFS(x):\n",
        "    if x > 0 :\n",
        "        r = x%2\n",
        "        DFS(x//2 )\n",
        "        print(r, end = \"\")\n",
        "\n",
        "       \n",
        "if __name__ == \"__main__\" :\n",
        "    n = int(input())\n",
        "    DFS(n)\n",
        "    print()\n"
      ],
      "execution_count": null,
      "outputs": []
    },
    {
      "cell_type": "markdown",
      "metadata": {
        "id": "G0dUxl_zw11G"
      },
      "source": [
        "### 2. 이진트리 순회(깊이우선탐색)"
      ]
    },
    {
      "cell_type": "code",
      "metadata": {
        "id": "7kySKDhvxZkQ"
      },
      "source": [
        "# 전위순회\n",
        "def DFS1(x):\n",
        "    if x < 8 :\n",
        "        print(x, end = \" \")\n",
        "        DFS1(x*2)\n",
        "        DFS1(x*2 + 1)\n",
        "        \n",
        "# 중위순회       \n",
        "def DFS2(x):\n",
        "    if x < 8 :\n",
        "        DFS2(x*2)\n",
        "        print(x, end = \" \")\n",
        "        DFS2(x*2 + 1)\n",
        "\n",
        "# 후위순회        \n",
        "def DFS3(x):\n",
        "    if x < 8 :\n",
        "        DFS3(x*2)\n",
        "        DFS3(x*2 + 1)\n",
        "        print(x, end = \" \")\n",
        "        \n",
        "\n",
        "if __name__ == \"__main__\" :\n",
        "    DFS1(1)\n",
        "    print()\n",
        "    DFS2(1)\n",
        "    print()\n",
        "    DFS3(1)\n",
        "    print()"
      ],
      "execution_count": null,
      "outputs": []
    },
    {
      "cell_type": "markdown",
      "metadata": {
        "id": "i1vbNfAY2hUl"
      },
      "source": [
        "  ### 3. 부분집합 구하기"
      ]
    },
    {
      "cell_type": "code",
      "metadata": {
        "id": "Ox1mW7OYo7Rl"
      },
      "source": [
        "import sys\n",
        "# sys.stdin = open('input.txt', 'rt')\n",
        "\n",
        "def DFS(x):\n",
        "    if x == 0 :\n",
        "        return \"\"\n",
        "    else :\n",
        "        r = str(x%2)\n",
        "        r = DFS(x//2) + r\n",
        "        return r\n",
        "       \n",
        "if __name__ == \"__main__\" :\n",
        "    n = int(input())\n",
        "    iter = 2 ** n \n",
        "    for i in range(iter) :\n",
        "        tmp = DFS(i)\n",
        "        if len(tmp) < n :\n",
        "            tmp2 = n - len(tmp)\n",
        "            tmp = '0'*tmp2 + tmp\n",
        "\n",
        "        for j in range(0,n) :\n",
        "            if tmp[j] == '0' :\n",
        "                print(j+1, end = \" \")\n",
        "        print()\n",
        "\n",
        "    "
      ],
      "execution_count": null,
      "outputs": []
    },
    {
      "cell_type": "markdown",
      "metadata": {
        "id": "M-2PCc9io6tX"
      },
      "source": [
        "### 4. 합이 같은 부분집합"
      ]
    },
    {
      "cell_type": "code",
      "metadata": {
        "id": "lwJS27Fuo3Gg"
      },
      "source": [
        "import sys\n",
        "# sys.stdin = open('input.txt', 'rt')\n",
        "\n",
        "n = int(input())\n",
        "a = list(map(int, input().split()))\n",
        "s = sum(a) / 2\n",
        "ans = \"NO\"\n",
        "def DFS(i, sum) :\n",
        "    global ans\n",
        "    if sum > s :\n",
        "        return\n",
        "    elif sum == s :\n",
        "        ans = \"YES\"\n",
        "    else :\n",
        "        if i < n :\n",
        "            tmp = sum + a[i]\n",
        "            DFS(i+1, tmp)\n",
        "            DFS(i+1, sum)   \n",
        "        else :\n",
        "            return\n",
        "\n",
        "\n",
        "DFS(0,0)\n",
        "print(ans)\n",
        "        \n"
      ],
      "execution_count": null,
      "outputs": []
    },
    {
      "cell_type": "markdown",
      "metadata": {
        "id": "zhcf9oAWo2L4"
      },
      "source": [
        "### 5. 바둑이 승차 : 미완(60점) : 수정완료\n"
      ]
    },
    {
      "cell_type": "code",
      "metadata": {
        "id": "8dVkUVM5o1S_"
      },
      "source": [
        "import sys\n",
        "# sys.stdin = open('input.txt', 'rt')\n",
        "\n",
        "C, n = map(int, input().split())\n",
        "a = [int(input()) for _ in range(n)]\n",
        "ans = 0\n",
        "\n",
        "def DFS(i, s) :\n",
        "    global ans\n",
        "    if i < n :\n",
        "        tmp = s + a[i]\n",
        "        if tmp < C :\n",
        "            DFS(i+1, tmp)\n",
        "            ans = max(ans, tmp)\n",
        "            DFS(i+1, s)\n",
        "            ans = max(ans, s)\n",
        "            \n",
        "    else :\n",
        "        return\n",
        "\n",
        "\n",
        "DFS(0, 0)\n",
        "print(ans)\n",
        "\n",
        "# 효율성 60점"
      ],
      "execution_count": null,
      "outputs": []
    },
    {
      "cell_type": "code",
      "metadata": {
        "id": "YJXnoOjsPxaa"
      },
      "source": [
        "# 수정본\n",
        "import sys\n",
        "# sys.stdin = open('input.txt', 'rt')\n",
        "\n",
        "C, n = map(int, input().split())\n",
        "a = [int(input()) for _ in range(n)]\n",
        "ans = 0\n",
        "total = sum(a)\n",
        "def DFS(i, s, s2) :\n",
        "    global ans\n",
        "    if s + total - s2 < ans :\n",
        "        return\n",
        "    if s > C:\n",
        "        return\n",
        "    if i == n :\n",
        "        if s > ans :\n",
        "            ans = s\n",
        "    else :\n",
        "        tmp = s + a[i]\n",
        "        tmp2 = s2 + a[i]\n",
        "        DFS(i+1, tmp, tmp2)\n",
        "        DFS(i+1, s, tmp2)\n",
        "            \n",
        "    \n",
        "\n",
        "DFS(0, 0, 0)\n",
        "print(ans)"
      ],
      "execution_count": null,
      "outputs": []
    },
    {
      "cell_type": "markdown",
      "metadata": {
        "id": "uGWp9-prAM7t"
      },
      "source": [
        "### 6. 중복순열 구하기"
      ]
    },
    {
      "cell_type": "code",
      "metadata": {
        "id": "FcTLQIwLAOp0"
      },
      "source": [
        "import sys\n",
        "# sys.stdin = open('input.txt', 'rt')\n",
        "\n",
        "n, m = map(int, input().split())\n",
        "a = [0] * m\n",
        "\n",
        "def DFS(i) :\n",
        "    if i == m:\n",
        "        return\n",
        "    else :\n",
        "        for j in range(1,n+1):\n",
        "            a[i] = j \n",
        "            DFS(i+1)\n",
        "            \n",
        "            if i == m - 1:\n",
        "                for k in a :\n",
        "                    print(k, end = \" \")\n",
        "                print()\n",
        "      \n",
        "DFS(0)\n",
        "print(n**m)"
      ],
      "execution_count": null,
      "outputs": []
    },
    {
      "cell_type": "markdown",
      "metadata": {
        "id": "t9MZNYjKAPzN"
      },
      "source": [
        "### 7. 동전교환"
      ]
    },
    {
      "cell_type": "code",
      "metadata": {
        "id": "bl_LCM_9NEp8"
      },
      "source": [
        "import sys\n",
        "# sys.stdin = open('input.txt', 'rt')\n",
        "\n",
        "n = int(input())\n",
        "c = list(map(int, input().split()))\n",
        "c.sort(reverse =True)\n",
        "m = int(input())\n",
        "\n",
        "ans = float('inf')\n",
        "\n",
        "def DFS(i, sum) :\n",
        "    global ans\n",
        "    \n",
        "    if i > ans or sum > m:\n",
        "        return\n",
        "    else :\n",
        "        for j in range(n):\n",
        "            tmp = sum + c[j] \n",
        "            k = i + 1\n",
        "            DFS(k, tmp)\n",
        "            \n",
        "            if tmp == m:\n",
        "                ans = min(ans, k)\n",
        "\n",
        "DFS(0, 0)\n",
        "print(ans)\n"
      ],
      "execution_count": null,
      "outputs": []
    },
    {
      "cell_type": "markdown",
      "metadata": {
        "id": "04H_7Mr9bgLl"
      },
      "source": [
        "### 8. 순열 구하기"
      ]
    },
    {
      "cell_type": "code",
      "metadata": {
        "id": "-t2rPb3ggrSx"
      },
      "source": [
        "import sys\n",
        "#sys.stdin = open('input.txt', 'rt')\n",
        "\n",
        "n, m = map(int, input().split())\n",
        "\n",
        "a = [0] * m\n",
        "cnt = 0\n",
        "def DFS(i, x) :\n",
        "    global cnt\n",
        "\n",
        "    if i == m:\n",
        "        return\n",
        "    else :\n",
        "        for j in range(1,n+1):\n",
        "            x[i:] = [0]*(m-i)\n",
        "\n",
        "            if j in x :\n",
        "                continue\n",
        "            else :\n",
        "                x[i] = j\n",
        "                DFS(i+1, x)\n",
        "                \n",
        "\n",
        "                if i == m-1 :\n",
        "                    for ab in x :\n",
        "                        print(ab, end = \" \")\n",
        "                    print()\n",
        "                    cnt +=1\n",
        "            \n",
        "            \n",
        "DFS(0, a)\n",
        "print(cnt)"
      ],
      "execution_count": null,
      "outputs": []
    },
    {
      "cell_type": "markdown",
      "metadata": {
        "id": "wZmeeNJ-0ikq"
      },
      "source": [
        "### 9. 수열 추측하기"
      ]
    },
    {
      "cell_type": "code",
      "metadata": {
        "id": "g6PD1veN0lGr"
      },
      "source": [
        "import sys\n",
        "# sys.stdin = open('input.txt', 'rt')\n",
        "\n",
        "def DFS(i, x) :\n",
        "    global my_ans\n",
        "    if i == n :\n",
        "        DFS2(x)\n",
        "        if my_ans == ans :\n",
        "            for a in x :\n",
        "                print(a, end = \" \")\n",
        "            print()\n",
        "            sys.exit(0)\n",
        "    else :\n",
        "        for k in  range(1, n+1):\n",
        "            if ch[k] == 0 :\n",
        "                ch[k] = 1\n",
        "                iter = i+1\n",
        "                x += [k]\n",
        "                DFS(iter, x)\n",
        "                x = x[:iter-1]\n",
        "                ch[k] = 0\n",
        "\n",
        "            if i == 0 :\n",
        "                x = []\n",
        "\n",
        "def DFS2(y) :\n",
        "    global my_ans\n",
        "    if len(y) == 1 :\n",
        "        my_ans = y[0]\n",
        "    else : \n",
        "        tmp = []\n",
        "        m = len(y)\n",
        "        for v in range(m-1) :\n",
        "            tmp += [y[v] + y[v+1]]\n",
        "        \n",
        "        DFS2(tmp)\n",
        "    \n",
        "\n",
        "if __name__ == \"__main__\" :\n",
        "    n, ans = map(int, input().split())\n",
        "    ch = [0]*(n+1) \n",
        "    a = []\n",
        "    my_ans =0\n",
        "    DFS(0, a)"
      ],
      "execution_count": null,
      "outputs": []
    },
    {
      "cell_type": "markdown",
      "metadata": {
        "id": "K1VnXEJ6VMfS"
      },
      "source": [
        "### 10. 조합 구하기"
      ]
    },
    {
      "cell_type": "code",
      "metadata": {
        "id": "Oard41L8VNjO"
      },
      "source": [
        "import sys\n",
        "#sys.stdin = open('input.txt', 'rt')\n",
        "\n",
        "def DFS(i, j) :\n",
        "    global cnt\n",
        "    if i == m :\n",
        "        for j in a :\n",
        "            print(j, end = \" \")\n",
        "        print()\n",
        "        cnt+=1\n",
        "    else :\n",
        "        for k in range(j+1, n+1) :\n",
        "            a[i] = k\n",
        "            DFS(i+1, k)\n",
        "\n",
        "\n",
        "\n",
        "if __name__ == \"__main__\" :\n",
        "    n, m= map(int, input().split())\n",
        "    a = [0]*(m) \n",
        "    cnt = 0\n",
        "    DFS(0, 0)\n",
        "    print(cnt)"
      ],
      "execution_count": null,
      "outputs": []
    },
    {
      "cell_type": "markdown",
      "metadata": {
        "id": "GxuFGkZHVQK3"
      },
      "source": [
        "### 11. 수들의 조합"
      ]
    },
    {
      "cell_type": "code",
      "metadata": {
        "id": "MgEu-hO3VSDI"
      },
      "source": [
        "import sys\n",
        "# sys.stdin = open('input.txt', 'rt')\n",
        "\n",
        "def DFS(i, j) :\n",
        "    global cnt\n",
        "    if i == k :\n",
        "        s = sum(b)\n",
        "        if s % m == 0 :\n",
        "            cnt += 1\n",
        "    else :\n",
        "        for p in range(j,n) :\n",
        "            b[i] = a[p]\n",
        "            DFS(i+1, p+1)\n",
        "\n",
        "\n",
        "\n",
        "if __name__ == \"__main__\" :\n",
        "    n, k= map(int, input().split())\n",
        "    a = list(map(int, input().split()))\n",
        "    m = int(input())\n",
        "    b = [0]*k\n",
        "    cnt = 0\n",
        "    DFS(0, 0)\n",
        "    print(cnt)"
      ],
      "execution_count": null,
      "outputs": []
    },
    {
      "cell_type": "markdown",
      "metadata": {
        "id": "FoRDoxwKXSmv"
      },
      "source": [
        "### 12. 인접행렬(가중치 방향그래프)"
      ]
    },
    {
      "cell_type": "code",
      "metadata": {
        "id": "ujtIt9jVXYgf"
      },
      "source": [
        "import sys\n",
        "# sys.stdin = open('input.txt', 'rt')\n",
        "\n",
        "n, m = map(int, input().split())\n",
        "mat =[]\n",
        "for _ in range(n) :\n",
        "    mat += [[0]*n]\n",
        "\n",
        "a = [list(map(int, (input().split()))) for _ in range(m)]\n",
        "\n",
        "for i, j, c in a :\n",
        "    mat[i-1][j-1] = c\n",
        "\n",
        "print(mat)"
      ],
      "execution_count": null,
      "outputs": []
    },
    {
      "cell_type": "markdown",
      "metadata": {
        "id": "IlR5dho7YGha"
      },
      "source": [
        "### 15. 경로 탐색(그래프 DFS)"
      ]
    },
    {
      "cell_type": "code",
      "metadata": {
        "id": "YH1h82lrYLVp"
      },
      "source": [
        "import sys\n",
        "# sys.stdin = open('input.txt', 'rt')\n",
        "\n",
        "def DFS(i, pre) :\n",
        "    global cnt\n",
        "    if i == n-1 :\n",
        "        cnt += 1\n",
        "\n",
        "    else :\n",
        "        for j in range(n) :\n",
        "            if j not in pre:\n",
        "                if mat[i][j] == 1:\n",
        "                    DFS(j, pre + [j])\n",
        "            \n",
        "\n",
        "if __name__ == \"__main__\" :\n",
        "    n, m = map(int, input().split())\n",
        "    mat =[]\n",
        "    for _ in range(n) :\n",
        "        mat += [[0]*n]\n",
        "\n",
        "    a = [list(map(int, (input().split()))) for _ in range(m)]\n",
        "    for i, j in a :\n",
        "        mat[i-1][j-1] = 1\n",
        "\n",
        "    cnt = 0\n",
        "    DFS(0,[0])\n",
        "    print(cnt)\n"
      ],
      "execution_count": null,
      "outputs": []
    }
  ]
}