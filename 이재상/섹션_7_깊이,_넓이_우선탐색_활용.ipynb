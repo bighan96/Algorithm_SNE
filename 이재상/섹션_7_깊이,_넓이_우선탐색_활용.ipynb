{
  "nbformat": 4,
  "nbformat_minor": 0,
  "metadata": {
    "colab": {
      "name": "섹션 7. 깊이, 넓이 우선탐색 활용",
      "private_outputs": true,
      "provenance": [],
      "collapsed_sections": [],
      "authorship_tag": "ABX9TyN06WTVnahHokdpxOx+kp1k",
      "include_colab_link": true
    },
    "kernelspec": {
      "name": "python3",
      "display_name": "Python 3"
    }
  },
  "cells": [
    {
      "cell_type": "markdown",
      "metadata": {
        "id": "view-in-github",
        "colab_type": "text"
      },
      "source": [
        "<a href=\"https://colab.research.google.com/github/jaesanglee95/Algorithm_SNE/blob/main/%EC%9D%B4%EC%9E%AC%EC%83%81/%EC%84%B9%EC%85%98_7_%EA%B9%8A%EC%9D%B4%2C_%EB%84%93%EC%9D%B4_%EC%9A%B0%EC%84%A0%ED%83%90%EC%83%89_%ED%99%9C%EC%9A%A9.ipynb\" target=\"_parent\"><img src=\"https://colab.research.google.com/assets/colab-badge.svg\" alt=\"Open In Colab\"/></a>"
      ]
    },
    {
      "cell_type": "markdown",
      "metadata": {
        "id": "HDrHkAl7vD2H"
      },
      "source": [
        "## 섹션 7. 깊이, 넓이 우선탐색 활용\n",
        "\n",
        "\n",
        "\n",
        "이재상"
      ]
    },
    {
      "cell_type": "markdown",
      "metadata": {
        "id": "2oPl28FziwWC"
      },
      "source": [
        "### 1. 최대점수 구하기"
      ]
    },
    {
      "cell_type": "code",
      "metadata": {
        "id": "aWpc4Awbikii"
      },
      "source": [
        "import sys\n",
        "# sys.stdin = open('input.txt', 'rt')\n",
        "\n",
        "def DFS(i, s, t) :\n",
        "    global ans\n",
        "    if t > m or i == n:\n",
        "        return\n",
        "\n",
        "    else:\n",
        "        for j in range(i,n) :\n",
        "            tmp_s =  s + a[j][0]\n",
        "            tmp_t = t + a[j][1]\n",
        "            DFS(j+1, tmp_s, tmp_t)\n",
        "\n",
        "            if tmp_t <= m  and tmp_s > ans :\n",
        "                ans = tmp_s\n",
        "\n",
        "            \n",
        "           \n",
        "\n",
        "\n",
        "if __name__ == \"__main__\" :\n",
        "    n, m = map(int, input().split())\n",
        "    a = list()\n",
        "    for _ in range(n) :\n",
        "        s, t = map(int, input().split())\n",
        "        a.append([s, t, s/t])\n",
        "\n",
        "    a = sorted(a, key = lambda x : -x[2])\n",
        "    ans = 0\n",
        "    DFS(0,0,0)\n",
        "    print(ans)\n",
        "\n",
        "\n"
      ],
      "execution_count": null,
      "outputs": []
    },
    {
      "cell_type": "markdown",
      "metadata": {
        "id": "Nz5uxrtXiyWy"
      },
      "source": [
        "### 2. 휴가"
      ]
    },
    {
      "cell_type": "code",
      "metadata": {
        "id": "RTfulNZ2iz1t"
      },
      "source": [
        "import sys\n",
        "# sys.stdin = open('input.txt', 'rt')\n",
        "\n",
        "def DFS(i, p) :\n",
        "    global ans\n",
        "    \n",
        "    if i > n :\n",
        "        return\n",
        "\n",
        "    elif i <=n and p >ans:\n",
        "        ans = p\n",
        "        \n",
        "    \n",
        "    for j in range(n-i) :\n",
        "        tmp_t =  i + j + a[i+j][0]\n",
        "        tmp_p = p + a[i+j][1]\n",
        "        DFS(tmp_t, tmp_p)\n",
        "\n",
        "\n",
        "if __name__ == \"__main__\" :\n",
        "    n = int(input())\n",
        "    a = [list(map(int, input().split())) for _ in range(n)]\n",
        "\n",
        "    ans = 0\n",
        "    DFS(0,0)\n",
        "    print(ans)\n"
      ],
      "execution_count": null,
      "outputs": []
    }
  ]
}