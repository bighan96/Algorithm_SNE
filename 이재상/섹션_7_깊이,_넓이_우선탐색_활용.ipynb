{
  "nbformat": 4,
  "nbformat_minor": 0,
  "metadata": {
    "colab": {
      "name": "섹션 7. 깊이, 넓이 우선탐색 활용",
      "private_outputs": true,
      "provenance": [],
      "collapsed_sections": [],
      "authorship_tag": "ABX9TyO6y4JEqHzXXsth1BacmT8m",
      "include_colab_link": true
    },
    "kernelspec": {
      "name": "python3",
      "display_name": "Python 3"
    }
  },
  "cells": [
    {
      "cell_type": "markdown",
      "metadata": {
        "id": "view-in-github",
        "colab_type": "text"
      },
      "source": [
        "<a href=\"https://colab.research.google.com/github/jaesanglee95/Algorithm_SNE/blob/main/%EC%9D%B4%EC%9E%AC%EC%83%81/%EC%84%B9%EC%85%98_7_%EA%B9%8A%EC%9D%B4%2C_%EB%84%93%EC%9D%B4_%EC%9A%B0%EC%84%A0%ED%83%90%EC%83%89_%ED%99%9C%EC%9A%A9.ipynb\" target=\"_parent\"><img src=\"https://colab.research.google.com/assets/colab-badge.svg\" alt=\"Open In Colab\"/></a>"
      ]
    },
    {
      "cell_type": "markdown",
      "metadata": {
        "id": "HDrHkAl7vD2H"
      },
      "source": [
        "## 섹션 7. 깊이, 넓이 우선탐색 활용\n",
        "\n",
        "\n",
        "\n",
        "이재상"
      ]
    },
    {
      "cell_type": "markdown",
      "metadata": {
        "id": "2oPl28FziwWC"
      },
      "source": [
        "### 1. 최대점수 구하기 : 풀이 추가 "
      ]
    },
    {
      "cell_type": "code",
      "metadata": {
        "id": "aWpc4Awbikii"
      },
      "source": [
        "import sys\n",
        "# sys.stdin = open('input.txt', 'rt')\n",
        "\n",
        "def DFS(i, s, t) :\n",
        "    global ans\n",
        "    if t > m or i == n:\n",
        "        return\n",
        "\n",
        "    else:\n",
        "        for j in range(i,n) :\n",
        "            tmp_s =  s + a[j][0]\n",
        "            tmp_t = t + a[j][1]\n",
        "            DFS(j+1, tmp_s, tmp_t)\n",
        "\n",
        "            if tmp_t <= m  and tmp_s > ans :\n",
        "                ans = tmp_s\n",
        "\n",
        "\n",
        "if __name__ == \"__main__\" :\n",
        "    n, m = map(int, input().split())\n",
        "    a = list()\n",
        "    for _ in range(n) :\n",
        "        s, t = map(int, input().split())\n",
        "        a.append([s, t, s/t])\n",
        "\n",
        "    a = sorted(a, key = lambda x : -x[2])\n",
        "    ans = 0\n",
        "    DFS(0,0,0)\n",
        "    print(ans)\n"
      ],
      "execution_count": null,
      "outputs": []
    },
    {
      "cell_type": "code",
      "metadata": {
        "id": "Xxjr5bnCf-V3"
      },
      "source": [
        "import sys\n",
        "# sys.stdin = open('input.txt', 'rt')\n",
        "\n",
        "def DFS(i,s,t) :\n",
        "    global res\n",
        "    if t > m :\n",
        "        return\n",
        "    \n",
        "    if i == n :\n",
        "        if s > res :\n",
        "            res = s\n",
        "\n",
        "    else :\n",
        "        DFS(i+1, s + s_list[i], t + t_list[i])\n",
        "        DFS(i+1, s, t)\n",
        "\n",
        "\n",
        "if __name__ == \"__main__\" :\n",
        "    n, m = map(int, input().split())\n",
        "    s_list = []\n",
        "    t_list = []\n",
        "    for _ in range(n):\n",
        "        i, j = map(int, input().split())\n",
        "        s_list.append(i)\n",
        "        t_list.append(j)\n",
        "\n",
        "    res = 0\n",
        "    DFS(0, 0, 0)\n",
        "    print(res)\n"
      ],
      "execution_count": null,
      "outputs": []
    },
    {
      "cell_type": "markdown",
      "metadata": {
        "id": "Nz5uxrtXiyWy"
      },
      "source": [
        "### 2. 휴가"
      ]
    },
    {
      "cell_type": "code",
      "metadata": {
        "id": "RTfulNZ2iz1t"
      },
      "source": [
        "import sys\n",
        "# sys.stdin = open('input.txt', 'rt')\n",
        "\n",
        "def DFS(i, p) :\n",
        "    global ans\n",
        "    \n",
        "    if i > n :\n",
        "        return\n",
        "\n",
        "    elif i <=n and p >ans:\n",
        "        ans = p\n",
        "        \n",
        "    \n",
        "    for j in range(n-i) :\n",
        "        tmp_t =  i + j + a[i+j][0]\n",
        "        tmp_p = p + a[i+j][1]\n",
        "        DFS(tmp_t, tmp_p)\n",
        "\n",
        "\n",
        "if __name__ == \"__main__\" :\n",
        "    n = int(input())\n",
        "    a = [list(map(int, input().split())) for _ in range(n)]\n",
        "\n",
        "    ans = 0\n",
        "    DFS(0,0)\n",
        "    print(ans)\n"
      ],
      "execution_count": null,
      "outputs": []
    },
    {
      "cell_type": "markdown",
      "metadata": {
        "id": "EipnGm40Ag2w"
      },
      "source": [
        "### 3. 양팔저울"
      ]
    },
    {
      "cell_type": "code",
      "metadata": {
        "id": "gUku3lNaAhIV"
      },
      "source": [
        "# DFS 미사용 \n",
        "import sys\n",
        "# sys.stdin = open('input.txt', 'rt')\n",
        "\n",
        "k = int(input())\n",
        "c = list(map(int, input().split()))\n",
        "c.sort()\n",
        "ch = [0]*k\n",
        "p = [0]\n",
        "\n",
        "for i in range(k) :\n",
        "    tmp = []\n",
        "    for j in p :\n",
        "        tmp.append(j+c[i])\n",
        "        tmp.append(abs(j-c[i]))\n",
        "    p += tmp\n",
        "\n",
        "print(sum(c) - len(set(p))+1)"
      ],
      "execution_count": null,
      "outputs": []
    },
    {
      "cell_type": "code",
      "metadata": {
        "id": "rPuB4siBAlPs"
      },
      "source": [
        "# DFS 사용\n",
        "import sys\n",
        "# sys.stdin = open('input.txt', 'rt')\n",
        "\n",
        "def DFS(i, w) :\n",
        "    global ch\n",
        "    if i == k :\n",
        "        if w > 0 :\n",
        "            ch[w] = 1\n",
        "    else :\n",
        "        DFS(i+1, w - c[i])\n",
        "        DFS(i+1, w)\n",
        "        DFS(i+1, w + c[i])\n",
        "\n",
        "\n",
        "if __name__ == \"__main__\" :\n",
        "    k = int(input())\n",
        "    c = list(map(int, input().split()))\n",
        "    ch = [0]*200000\n",
        "    DFS(0, 0)\n",
        "\n",
        "print(sum(c) - sum(ch))"
      ],
      "execution_count": null,
      "outputs": []
    },
    {
      "cell_type": "markdown",
      "metadata": {
        "id": "AmLUSETxhhdN"
      },
      "source": [
        "### 4. 동전바꿔주기"
      ]
    },
    {
      "cell_type": "code",
      "metadata": {
        "id": "G0sTFf9ChjxR"
      },
      "source": [
        "import sys\n",
        "# sys.stdin = open('input.txt', 'rt')\n",
        "\n",
        "def DFS(i, s , n) :\n",
        "    global cnt\n",
        "    if s == t :\n",
        "        cnt+=1\n",
        "    elif s > t or i == k :\n",
        "        return\n",
        "    else :\n",
        "        if n > 0 :\n",
        "            DFS(i, s+c[i][0], n - 1)\n",
        "\n",
        "        DFS(i+1, s, c[i+1][1])\n",
        "        \n",
        "\n",
        "if __name__ == \"__main__\" :\n",
        "    t = int(input())\n",
        "    k = int(input())\n",
        "    c = [list(map(int, input().split())) for _ in range(k)]\n",
        "    c.append([0,0])\n",
        "    c.sort(reverse = True)\n",
        "    cnt = 0\n",
        "    DFS(0,0,c[0][1])\n",
        "\n",
        "print(cnt)\n"
      ],
      "execution_count": null,
      "outputs": []
    },
    {
      "cell_type": "markdown",
      "metadata": {
        "id": "V2whnbycm77R"
      },
      "source": [
        "### 5. 동전분배하기"
      ]
    },
    {
      "cell_type": "code",
      "metadata": {
        "id": "kaDWNmhwm-Je"
      },
      "source": [
        "import sys\n",
        "# sys.stdin = open('input.txt', 'rt')\n",
        "\n",
        "def DFS(i, g1, g2) :\n",
        "    global res\n",
        "    if i == N :\n",
        "        tmp = s - g1 - g2\n",
        "        if tmp == g1 or tmp == g2 or g1 == g2 :\n",
        "            return\n",
        "        else :\n",
        "            tmp_max = max(tmp, g1, g2)\n",
        "            tmp_min = min(tmp, g1, g2)\n",
        "            if tmp_max - tmp_min < res :\n",
        "                res = tmp_max - tmp_min\n",
        "    else :\n",
        "        DFS(i+1, g1-c[i], g2 + c[i])\n",
        "        DFS(i+1, g1-c[i], g2)\n",
        "        DFS(i+1, g1, g2)\n",
        "\n",
        "\n",
        "if __name__ == \"__main__\" :\n",
        "    N = int(input())\n",
        "    c = [int(input()) for _ in range(N)]\n",
        "    s = sum(c)\n",
        "    res = s\n",
        "    DFS(0, s, 0)\n",
        "print(res)\n"
      ],
      "execution_count": null,
      "outputs": []
    },
    {
      "cell_type": "markdown",
      "metadata": {
        "id": "z0ANB_0Pt5aR"
      },
      "source": [
        "### 6. 알파코드"
      ]
    },
    {
      "cell_type": "code",
      "metadata": {
        "id": "BQRnVMGut6V7"
      },
      "source": [
        "import sys\n",
        "# sys.stdin = open('input.txt', 'rt')\n",
        "\n",
        "def DFS(c, a) :\n",
        "    global cnt, ans\n",
        "    if not c :\n",
        "        ans += [a]\n",
        "        cnt += 1\n",
        "    else :\n",
        "        tmp = int(c.pop(0))\n",
        "        if tmp == 0 :\n",
        "            return\n",
        "        elif tmp == 1 and c:\n",
        "            DFS(c[1:], a + [tmp*10 + int(c[0])])\n",
        "        elif tmp == 2 and c:\n",
        "            if c[0] in '0123456' :\n",
        "                DFS(c[1:], a + [tmp*10 + int(c[0])])\n",
        "        DFS(c, a + [tmp])\n",
        "\n",
        "if __name__ == \"__main__\" :\n",
        "    code = list(input())\n",
        "    cnt = 0\n",
        "    ans = []\n",
        "    a = []\n",
        "    DFS(code, a)\n",
        "    alpha = ' ABCDEFGHIJKLMNOPQRSTUVWXYZ'\n",
        "\n",
        "    while ans :\n",
        "        word = ans.pop()\n",
        "        for k in word :\n",
        "            print(alpha[k], end = '')\n",
        "        print()\n",
        "\n",
        "    print(cnt)"
      ],
      "execution_count": null,
      "outputs": []
    },
    {
      "cell_type": "markdown",
      "metadata": {
        "id": "vokkYxSwAEGK"
      },
      "source": [
        "### 7. 송아지 찾기"
      ]
    },
    {
      "cell_type": "code",
      "metadata": {
        "id": "TH7kjUgZAGA6"
      },
      "source": [
        "import sys\n",
        "from collections import deque\n",
        "# sys.stdin = open('input.txt', 'rt')\n",
        "\n",
        "\n",
        "s, e = map(int, input().split())\n",
        "grid = [-1]*10005\n",
        "grid[s] = 0\n",
        "dq = deque()\n",
        "dq.append(s)\n",
        "\n",
        "while dq :\n",
        "    tmp = dq.popleft()    \n",
        "    if 0< tmp < 10000:\n",
        "        for i in [-1,1,5] :\n",
        "            if grid[tmp+i] == -1 :\n",
        "                grid[tmp+i] = grid[tmp]+1\n",
        "                dq.append(tmp+i)\n",
        "    \n",
        "    if grid[e] != -1 :\n",
        "        print(grid[e])\n",
        "        break"
      ],
      "execution_count": null,
      "outputs": []
    },
    {
      "cell_type": "markdown",
      "metadata": {
        "id": "HXjWbTEmEFGz"
      },
      "source": [
        "### 8. 사과나무(BFS)"
      ]
    },
    {
      "cell_type": "code",
      "metadata": {
        "id": "fKB4vDOQM_FV"
      },
      "source": [
        "import sys\n",
        "# sys.stdin = open('input.txt', 'rt')\n",
        "\n",
        "N = int(input())\n",
        "a = [list(map(int, input().split())) for _ in range(N)]\n",
        "h = N//2\n",
        "grid = []\n",
        "for i in range(N) :\n",
        "    tmp = [0]*N\n",
        "    if i < h :\n",
        "        tmp[h-i:i-h] = [1]*(2*i+ 1)\n",
        "    elif i == h :\n",
        "        tmp = [1] * N\n",
        "    else :\n",
        "        tmp[i-h:h-i] = [1]*(-2*i+ 2*N - 1)\n",
        "    \n",
        "    grid.append(tmp)\n",
        "\n",
        "apple = list()\n",
        "apple.append([0,h])\n",
        "sum = a[0][h]\n",
        "while apple :\n",
        "    tmp = apple.pop(0)\n",
        "    i = tmp[0] + 1\n",
        "    j = tmp[1]\n",
        "    if i < N :\n",
        "        for k in [-1,0,1] :\n",
        "            if 0<= j+k < N :\n",
        "                if grid[i][j+k] == 1 :\n",
        "                    grid[i][j+k] = 0\n",
        "                    sum += a[i][j+k]\n",
        "                    apple.append([i,j+k])\n",
        "    \n",
        "print(sum)"
      ],
      "execution_count": null,
      "outputs": []
    },
    {
      "cell_type": "markdown",
      "metadata": {
        "id": "9Cq5om_PQTGr"
      },
      "source": [
        "### 9. 미로의 최단거리 통로(BFS 활용)\n",
        "\n"
      ]
    },
    {
      "cell_type": "code",
      "metadata": {
        "id": "4-1geLs9QVd1"
      },
      "source": [
        "import sys\n",
        "# sys.stdin = open('input.txt', 'rt')\n",
        "\n",
        "maze = [list(map(int, input().split())) for _ in range(7)]\n",
        "ch= [[0]*7 for _ in range(7)]\n",
        "\n",
        "a = list()\n",
        "a.append([0,0])\n",
        "\n",
        "while a :\n",
        "    i, j = a.pop(0)\n",
        " \n",
        "    for n, m in ([0,1], [0,-1],[1,0], [-1,0]) :\n",
        "        if 0<= i+n <7 and 0<= j+m <7 :\n",
        "            if maze[i+n][j+m] == 0 and ch[i+n][j+m] == 0 :\n",
        "                ch[i+n][j+m] =  ch[i][j] + 1\n",
        "                a.append([i+n,j+m])\n",
        "    if ch[-1][-1] != 0 :\n",
        "       print(ch[-1][-1])\n",
        "       break\n",
        "    \n",
        "if ch[-1][-1] == 0 :\n",
        "    print(-1)"
      ],
      "execution_count": null,
      "outputs": []
    },
    {
      "cell_type": "markdown",
      "metadata": {
        "id": "sSDYYYKnXQtR"
      },
      "source": [
        "### 10. 미로탐색(DFS)"
      ]
    },
    {
      "cell_type": "code",
      "metadata": {
        "id": "3Doj3PncuKEc"
      },
      "source": [
        "import sys\n",
        "# sys.stdin = open('input.txt', 'rt')\n",
        "\n",
        "def DFS(grid, a) :\n",
        "    global cnt\n",
        "\n",
        "    if grid == [6,6] :\n",
        "        cnt += 1\n",
        "\n",
        "    else :\n",
        "        i, j = grid\n",
        "        for n, m in ([0,1], [0,-1],[1,0], [-1,0]) :\n",
        "            if 0<= i+n <7 and 0<= j+m <7 :\n",
        "                if maze[i+n][j+m] == 0 :\n",
        "                    if [i+n, j+m] not in a :\n",
        "                        DFS([i+n,j+m], a + [[i+n, j+m]])\n",
        "\n",
        "if __name__ == \"__main__\" :\n",
        "    maze = [list(map(int, input().split())) for _ in range(7)]\n",
        "    ch= [[0]*7 for _ in range(7)]\n",
        "    cnt = 0\n",
        "    DFS([0,0],[[0,0]])\n",
        "\n",
        "print(cnt)"
      ],
      "execution_count": null,
      "outputs": []
    }
  ]
}