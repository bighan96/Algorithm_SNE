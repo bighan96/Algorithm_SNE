{
  "nbformat": 4,
  "nbformat_minor": 0,
  "metadata": {
    "colab": {
      "name": "섹션 4. 이분 탐색(결정알고리즘)&그리디 알고리즘",
      "private_outputs": true,
      "provenance": [],
      "collapsed_sections": [],
      "authorship_tag": "ABX9TyNEGJjlSYV/2Ki3z4jygipq",
      "include_colab_link": true
    },
    "kernelspec": {
      "name": "python3",
      "display_name": "Python 3"
    }
  },
  "cells": [
    {
      "cell_type": "markdown",
      "metadata": {
        "id": "view-in-github",
        "colab_type": "text"
      },
      "source": [
        "<a href=\"https://colab.research.google.com/github/jaesanglee95/Algorithm_SNE/blob/main/%EC%9D%B4%EC%9E%AC%EC%83%81/%EC%84%B9%EC%85%98_4_%EC%9D%B4%EB%B6%84_%ED%83%90%EC%83%89(%EA%B2%B0%EC%A0%95%EC%95%8C%EA%B3%A0%EB%A6%AC%EC%A6%98)%26%EA%B7%B8%EB%A6%AC%EB%94%94_%EC%95%8C%EA%B3%A0%EB%A6%AC%EC%A6%98.ipynb\" target=\"_parent\"><img src=\"https://colab.research.google.com/assets/colab-badge.svg\" alt=\"Open In Colab\"/></a>"
      ]
    },
    {
      "cell_type": "markdown",
      "metadata": {
        "id": "2Z2J2aBq0Ak3"
      },
      "source": [
        "## 섹션 4. 이분 탐색(결정알고리즘)&그리디 알고리즘\r\n",
        "\r\n",
        "\r\n",
        "\r\n",
        "\r\n",
        "이재상"
      ]
    },
    {
      "cell_type": "markdown",
      "metadata": {
        "id": "fd9KmsVSFUnQ"
      },
      "source": [
        "### 1. 이분검색"
      ]
    },
    {
      "cell_type": "code",
      "metadata": {
        "id": "LdNNfsClJlbJ"
      },
      "source": [
        "import sys\r\n",
        "# sys.stdin = open('input.txt', 'rt')\r\n",
        "\r\n",
        "n, m  = map(int,input().split())\r\n",
        "data = list(map(int,input().split()))\r\n",
        "\r\n",
        "data.sort()\r\n",
        "\r\n",
        "for i in range(n) :\r\n",
        "    if data[i] == m :\r\n",
        "        print(i+1)\r\n",
        "        break;"
      ],
      "execution_count": null,
      "outputs": []
    },
    {
      "cell_type": "markdown",
      "metadata": {
        "id": "8WnHvIJdJlck"
      },
      "source": [
        "### 2. 랜선자르기(결정알고리즘) : (미완 : 60점)"
      ]
    },
    {
      "cell_type": "code",
      "metadata": {
        "id": "v4AAr0EhKjIH"
      },
      "source": [
        "import sys\r\n",
        "# sys.stdin = open('input.txt', 'rt')\r\n",
        "\r\n",
        "k, n  = map(int,input().split())\r\n",
        "\r\n",
        "wire_list = list()\r\n",
        "\r\n",
        "for _ in range(k) :\r\n",
        "    wire_list.append(int(input()))\r\n",
        "\r\n",
        "max = sum(wire_list) // n\r\n",
        "q = 0 \r\n",
        "\r\n",
        "while q < n :\r\n",
        "    q = 0 \r\n",
        "    for i in range(k) :\r\n",
        "        q += wire_list[i] // max \r\n",
        "\r\n",
        "    max -= 1\r\n",
        "\r\n",
        "print(q, max)\r\n",
        "\r\n",
        "# 효율성 도달 실패 : 60점"
      ],
      "execution_count": null,
      "outputs": []
    },
    {
      "cell_type": "markdown",
      "metadata": {
        "id": "kskV3DRAy4Lo"
      },
      "source": [
        "### 3. 뮤직비디오\r\n"
      ]
    },
    {
      "cell_type": "code",
      "metadata": {
        "id": "XUEzUWn-7OA7"
      },
      "source": [
        "import sys\r\n",
        "# sys.stdin = open('input.txt', 'rt')\r\n",
        "\r\n",
        "n, m  = map(int,input().split())\r\n",
        "data = list(map(int,input().split()))\r\n",
        "\r\n",
        "data_min = max(sum(data) // m, max(data))\r\n",
        "cnt = 0\r\n",
        "\r\n",
        "for _ in range(n):\r\n",
        "    cnt = 1\r\n",
        "    tmp_sum = 0\r\n",
        "\r\n",
        "    for i in data :\r\n",
        "        tmp_sum += i\r\n",
        "        \r\n",
        "        if tmp_sum > data_min :\r\n",
        "            cnt += 1\r\n",
        "            tmp_sum = i\r\n",
        "        \r\n",
        "    if cnt > m :\r\n",
        "        data_min += 1\r\n",
        "\r\n",
        "    if cnt <= m :\r\n",
        "        break ;\r\n",
        "    \r\n",
        "print(data_min)\r\n"
      ],
      "execution_count": null,
      "outputs": []
    },
    {
      "cell_type": "markdown",
      "metadata": {
        "id": "pmrY7jkiTGyK"
      },
      "source": [
        "### 4. 마구간 정하기 : 미완(60점)"
      ]
    },
    {
      "cell_type": "code",
      "metadata": {
        "id": "TB3ziFCxTMPU"
      },
      "source": [
        "import sys\r\n",
        "# sys.stdin = open('input.txt', 'rt')\r\n",
        "\r\n",
        "n, c  = map(int,input().split())\r\n",
        "\r\n",
        "grid = list()\r\n",
        "\r\n",
        "for _ in range(n) :\r\n",
        "    grid.append(int(input()))\r\n",
        "    \r\n",
        "grid.sort()\r\n",
        "\r\n",
        "dist = max(grid) - min(grid)\r\n",
        "max_dist = dist//(c-1) + 1\r\n",
        "cnt = 0\r\n",
        "\r\n",
        "while cnt != c :\r\n",
        "    dist_list = [1]*n\r\n",
        "    max_dist -= 1\r\n",
        "\r\n",
        "    for i in range(n) :\r\n",
        "        if dist_list[i] == 0 :\r\n",
        "            continue\r\n",
        "\r\n",
        "        for j in range(i+1,n) :\r\n",
        "            if grid[j] - grid[i] < max_dist :\r\n",
        "                dist_list[j] = 0\r\n",
        "            else :\r\n",
        "                break\r\n",
        "    \r\n",
        "    cnt = sum(dist_list) \r\n",
        "\r\n",
        "print(max_dist)\r\n",
        "\r\n",
        "# 효율성 도달 실패 60점\r\n"
      ],
      "execution_count": null,
      "outputs": []
    },
    {
      "cell_type": "markdown",
      "metadata": {
        "id": "tI5e5EoUboDt"
      },
      "source": [
        "### 5. 회의실 배정(그리디) : 미완"
      ]
    },
    {
      "cell_type": "code",
      "metadata": {
        "id": "EQDIrYOzbqqd"
      },
      "source": [
        "# 포기"
      ],
      "execution_count": null,
      "outputs": []
    },
    {
      "cell_type": "markdown",
      "metadata": {
        "id": "NZywFM6Qpfgu"
      },
      "source": [
        "### 6. 씨름 선수(그리디)"
      ]
    },
    {
      "cell_type": "code",
      "metadata": {
        "id": "k7De_CfNpjnm"
      },
      "source": [
        "import sys\r\n",
        "# sys.stdin = open('input.txt', 'rt')\r\n",
        "\r\n",
        "n = int(input())\r\n",
        "player = []\r\n",
        "for _ in range(n) :\r\n",
        "    player.append(list(map(int,input().split())))\r\n",
        "    \r\n",
        "\r\n",
        "s = [1]*n\r\n",
        "\r\n",
        "for i in range(n) :\r\n",
        "    if s[i] == 0 :\r\n",
        "        continue\r\n",
        "    \r\n",
        "    h1, w1 = player[i]\r\n",
        "\r\n",
        "    for j in range(i+1,n) :\r\n",
        "        h, w = player[j]\r\n",
        "\r\n",
        "        if h1 < h and w1 < w :\r\n",
        "            s[i] = 0\r\n",
        "\r\n",
        "        elif h1 > h and w1 > w :\r\n",
        "            s[j] = 0\r\n",
        "\r\n",
        "print(sum(s))"
      ],
      "execution_count": null,
      "outputs": []
    },
    {
      "cell_type": "markdown",
      "metadata": {
        "id": "wbUx9knUrdcT"
      },
      "source": [
        "### 7. 창고 정리\r\n"
      ]
    },
    {
      "cell_type": "code",
      "metadata": {
        "id": "MeQmW032rfca"
      },
      "source": [
        "import sys\r\n",
        "# sys.stdin = open('input.txt', 'rt')\r\n",
        "\r\n",
        "L = int(input())\r\n",
        "box_list = list(map(int,input().split()))\r\n",
        "M = int(input())\r\n",
        "\r\n",
        "for _ in range(M) :\r\n",
        "    \r\n",
        "    for i in range(L) :\r\n",
        "        if box_list[i] == max(box_list) :\r\n",
        "            max_index = i\r\n",
        "            break;\r\n",
        "\r\n",
        "    for i in range(L) :\r\n",
        "        if box_list[i] == min(box_list) :\r\n",
        "            min_index = i\r\n",
        "            break;\r\n",
        "\r\n",
        "    box_list[max_index] -= 1\r\n",
        "    box_list[min_index] += 1\r\n",
        "\r\n",
        "\r\n",
        "\r\n",
        "print(max(box_list) - min(box_list))"
      ],
      "execution_count": null,
      "outputs": []
    },
    {
      "cell_type": "markdown",
      "metadata": {
        "id": "SL_h1mM5tB-2"
      },
      "source": [
        "### 8. 침몰하는 타이타닉"
      ]
    },
    {
      "cell_type": "code",
      "metadata": {
        "id": "7G5p1UZrvsmy"
      },
      "source": [
        "import sys\r\n",
        "#sys.stdin = open('input.txt', 'rt')\r\n",
        "\r\n",
        "n, m = map(int, input().split())\r\n",
        "pass_list = list(map(int,input().split()))\r\n",
        "\r\n",
        "pass_list.sort(reverse = True)\r\n",
        "cnt = 0\r\n",
        "s = [1]*n\r\n",
        "\r\n",
        "for i in range(n) :\r\n",
        "    if s[i] == 0:\r\n",
        "        continue\r\n",
        "\r\n",
        "    s[i] = 0\r\n",
        "    pass_sum = pass_list[i]\r\n",
        "    \r\n",
        "    for j in range(i+1, n) :\r\n",
        "        if s[j] == 0 :\r\n",
        "            continue\r\n",
        "\r\n",
        "        if pass_sum + pass_list[j] <= m :\r\n",
        "            pass_sum += pass_list[j]\r\n",
        "            s[j] = 0\r\n",
        "            break\r\n",
        "        \r\n",
        "    cnt += 1\r\n",
        "\r\n",
        "print(cnt)"
      ],
      "execution_count": null,
      "outputs": []
    },
    {
      "cell_type": "markdown",
      "metadata": {
        "id": "aqJD64zVv9A5"
      },
      "source": [
        "### 9. 증가수열 만들기"
      ]
    },
    {
      "cell_type": "code",
      "metadata": {
        "id": "ko3bCcOzxVVj"
      },
      "source": [
        "import sys\r\n",
        "# sys.stdin = open('input.txt', 'rt')\r\n",
        "\r\n",
        "n = int(input())\r\n",
        "data = list(map(int,input().split()))\r\n",
        "\r\n",
        "LR = \"\"\r\n",
        "last = 0\r\n",
        "for _ in range(n) :\r\n",
        "    L = data[0]\r\n",
        "    R = data[-1]\r\n",
        "    if L > last or R > last :\r\n",
        "        if L >= R :\r\n",
        "            if R > last :\r\n",
        "                last = R\r\n",
        "                data = data[:-1]\r\n",
        "                LR += \"R\"\r\n",
        "            else : \r\n",
        "                last = L\r\n",
        "                data = data[1:]\r\n",
        "                LR += \"L\"\r\n",
        "        else :\r\n",
        "            if L > last :\r\n",
        "                last = L\r\n",
        "                data = data[1:]\r\n",
        "                LR += \"L\"\r\n",
        "            else :\r\n",
        "                last = R\r\n",
        "                data = data[:-1]\r\n",
        "                LR += \"R\"\r\n",
        "    else :\r\n",
        "        break\r\n",
        "\r\n",
        "print(len(LR))\r\n",
        "print(LR)"
      ],
      "execution_count": null,
      "outputs": []
    },
    {
      "cell_type": "markdown",
      "metadata": {
        "id": "S-_bpCUw0HVz"
      },
      "source": [
        "### 10. 역수열"
      ]
    },
    {
      "cell_type": "code",
      "metadata": {
        "id": "h649HGam0JCn"
      },
      "source": [
        "import sys\r\n",
        "# sys.stdin = open('input.txt', 'rt')\r\n",
        "\r\n",
        "n = int(input())\r\n",
        "rev_data = list(map(int,input().split()))\r\n",
        "data = [n]*n\r\n",
        "\r\n",
        "for i in range(n) :\r\n",
        "    tmp = rev_data[i]\r\n",
        "    for j in range(tmp,n):\r\n",
        "        cnt = 0\r\n",
        "        tmp_data = data[:j]\r\n",
        "        \r\n",
        "        for k in tmp_data :\r\n",
        "            if k > i :\r\n",
        "                cnt +=1\r\n",
        "\r\n",
        "        if cnt == tmp and data[j] == n :\r\n",
        "            data[j] = i+1\r\n",
        "            break\r\n",
        "\r\n",
        "for i in data :\r\n",
        "    print(i, end = \" \")"
      ],
      "execution_count": null,
      "outputs": []
    }
  ]
}