{
  "nbformat": 4,
  "nbformat_minor": 0,
  "metadata": {
    "colab": {
      "name": "섹션 4. 이분 탐색(결정알고리즘)&그리디 알고리즘",
      "private_outputs": true,
      "provenance": [],
      "collapsed_sections": [],
      "authorship_tag": "ABX9TyNxPvx3D5YLqgRfUINMUvxA",
      "include_colab_link": true
    },
    "kernelspec": {
      "name": "python3",
      "display_name": "Python 3"
    }
  },
  "cells": [
    {
      "cell_type": "markdown",
      "metadata": {
        "id": "view-in-github",
        "colab_type": "text"
      },
      "source": [
        "<a href=\"https://colab.research.google.com/github/jaesanglee95/Algorithm_SNE/blob/main/%EC%9D%B4%EC%9E%AC%EC%83%81/%EC%84%B9%EC%85%98_4_%EC%9D%B4%EB%B6%84_%ED%83%90%EC%83%89(%EA%B2%B0%EC%A0%95%EC%95%8C%EA%B3%A0%EB%A6%AC%EC%A6%98)%26%EA%B7%B8%EB%A6%AC%EB%94%94_%EC%95%8C%EA%B3%A0%EB%A6%AC%EC%A6%98.ipynb\" target=\"_parent\"><img src=\"https://colab.research.google.com/assets/colab-badge.svg\" alt=\"Open In Colab\"/></a>"
      ]
    },
    {
      "cell_type": "markdown",
      "metadata": {
        "id": "2Z2J2aBq0Ak3"
      },
      "source": [
        "## 섹션 4. 이분 탐색(결정알고리즘)&그리디 알고리즘\n",
        "\n",
        "\n",
        "\n",
        "\n",
        "이재상"
      ]
    },
    {
      "cell_type": "markdown",
      "metadata": {
        "id": "fd9KmsVSFUnQ"
      },
      "source": [
        "### 1. 이분검색 : 문제의도에 맞춰 수정 완료"
      ]
    },
    {
      "cell_type": "code",
      "metadata": {
        "id": "LdNNfsClJlbJ"
      },
      "source": [
        "import sys\n",
        "# sys.stdin = open('input.txt', 'rt')\n",
        "\n",
        "n, m  = map(int,input().split())\n",
        "data = list(map(int,input().split()))\n",
        "\n",
        "data.sort()\n",
        "\n",
        "for i in range(n) :\n",
        "    if data[i] == m :\n",
        "        print(i+1)\n",
        "        break;"
      ],
      "execution_count": null,
      "outputs": []
    },
    {
      "cell_type": "code",
      "metadata": {
        "id": "lQpP-KMDKHPf"
      },
      "source": [
        "# 이분검색의 방향성!!!!\n",
        "\n",
        "import sys\n",
        "# sys.stdin = open('input.txt', 'rt')\n",
        "\n",
        "n, m = map (int, input().split())\n",
        "num_list = list(map(int, input().split()))\n",
        "\n",
        "lt = 0\n",
        "rt = n\n",
        "num_list.sort()\n",
        "\n",
        "while True: \n",
        "    mid = (lt + rt)//2\n",
        "    check = num_list[mid]\n",
        "    \n",
        "    if check == m:\n",
        "        res = mid + 1\n",
        "        break\n",
        "    elif check > m :\n",
        "        rt = mid -1\n",
        "    else :\n",
        "        lt = mid + 1\n",
        "\n",
        "\n",
        "print(res)\n"
      ],
      "execution_count": null,
      "outputs": []
    },
    {
      "cell_type": "markdown",
      "metadata": {
        "id": "8WnHvIJdJlck"
      },
      "source": [
        "### 2. 랜선자르기(결정알고리즘) : (미완 : 60점) : 수정완료"
      ]
    },
    {
      "cell_type": "code",
      "metadata": {
        "id": "v4AAr0EhKjIH"
      },
      "source": [
        "import sys\n",
        "# sys.stdin = open('input.txt', 'rt')\n",
        "\n",
        "k, n  = map(int,input().split())\n",
        "\n",
        "wire_list = list()\n",
        "\n",
        "for _ in range(k) :\n",
        "    wire_list.append(int(input()))\n",
        "\n",
        "max = sum(wire_list) // n\n",
        "q = 0 \n",
        "\n",
        "while q < n :\n",
        "    q = 0 \n",
        "    for i in range(k) :\n",
        "        q += wire_list[i] // max \n",
        "\n",
        "    max -= 1\n",
        "\n",
        "print(q, max)\n",
        "\n",
        "# 효율성 도달 실패 : 60점"
      ],
      "execution_count": null,
      "outputs": []
    },
    {
      "cell_type": "code",
      "metadata": {
        "id": "GKxL2e_VHCTN"
      },
      "source": [
        "import sys\n",
        "#sys.stdin = open('input.txt', 'rt')\n",
        "\n",
        "k, n  = map(int,input().split())\n",
        "\n",
        "wire_list = list()\n",
        "\n",
        "for _ in range(k) :\n",
        "    wire_list.append(int(input()))\n",
        "\n",
        "lt = 0\n",
        "rt = max(wire_list)\n",
        "\n",
        "\n",
        "while lt <= rt :\n",
        "    mid = (lt + rt)//2\n",
        "    q = 0\n",
        "    for i in range(k) :\n",
        "        q += wire_list[i] // mid \n",
        "\n",
        "    if q >= n :\n",
        "        res = mid\n",
        "        lt = mid + 1\n",
        "    else :\n",
        "        rt = mid - 1\n",
        "\n",
        "\n",
        "print(res)\n"
      ],
      "execution_count": null,
      "outputs": []
    },
    {
      "cell_type": "markdown",
      "metadata": {
        "id": "kskV3DRAy4Lo"
      },
      "source": [
        "### 3. 뮤직비디오\n"
      ]
    },
    {
      "cell_type": "code",
      "metadata": {
        "id": "XUEzUWn-7OA7"
      },
      "source": [
        "import sys\n",
        "# sys.stdin = open('input.txt', 'rt')\n",
        "\n",
        "n, m  = map(int,input().split())\n",
        "data = list(map(int,input().split()))\n",
        "\n",
        "data_min = max(sum(data) // m, max(data))\n",
        "cnt = 0\n",
        "\n",
        "for _ in range(n):\n",
        "    cnt = 1\n",
        "    tmp_sum = 0\n",
        "\n",
        "    for i in data :\n",
        "        tmp_sum += i\n",
        "        \n",
        "        if tmp_sum > data_min :\n",
        "            cnt += 1\n",
        "            tmp_sum = i\n",
        "        \n",
        "    if cnt > m :\n",
        "        data_min += 1\n",
        "\n",
        "    if cnt <= m :\n",
        "        break ;\n",
        "    \n",
        "print(data_min)\n"
      ],
      "execution_count": null,
      "outputs": []
    },
    {
      "cell_type": "code",
      "metadata": {
        "id": "4cHSjYvMLC8_"
      },
      "source": [
        "import sys\n",
        "# sys.stdin = open('input.txt', 'rt')\n",
        "\n",
        "n, m  = map(int,input().split())\n",
        "data = list(map(int,input().split()))\n",
        "\n",
        "data_min = max(sum(data) // m, max(data))\n",
        "cnt = 0\n",
        "\n",
        "while True:\n",
        "    cnt = 1\n",
        "    tmp_sum = 0\n",
        "\n",
        "    for i in data :\n",
        "        tmp_sum += i\n",
        "        \n",
        "        if tmp_sum > data_min :\n",
        "            cnt += 1\n",
        "            tmp_sum = i\n",
        "        \n",
        "    if cnt > m :\n",
        "        data_min += 1\n",
        "\n",
        "    if cnt <= m :\n",
        "        break ;\n",
        "    \n",
        "print(data_min)\n"
      ],
      "execution_count": null,
      "outputs": []
    },
    {
      "cell_type": "markdown",
      "metadata": {
        "id": "pmrY7jkiTGyK"
      },
      "source": [
        "### 4. 마구간 정하기 : 미완(60점) : 수정완료"
      ]
    },
    {
      "cell_type": "code",
      "metadata": {
        "id": "TB3ziFCxTMPU"
      },
      "source": [
        "import sys\n",
        "# sys.stdin = open('input.txt', 'rt')\n",
        "\n",
        "n, c  = map(int,input().split())\n",
        "\n",
        "grid = list()\n",
        "\n",
        "for _ in range(n) :\n",
        "    grid.append(int(input()))\n",
        "    \n",
        "grid.sort()\n",
        "\n",
        "dist = max(grid) - min(grid)\n",
        "max_dist = dist//(c-1)\n",
        "\n",
        "def Count(x) :\n",
        "    dist_list = [1]*n\n",
        "    \n",
        "    for i in range(n) :\n",
        "        if dist_list[i] == 0 :\n",
        "            continue\n",
        "\n",
        "        for j in range(i+1,n) :\n",
        "            if grid[j] - grid[i] < x :\n",
        "                dist_list[j] = 0\n",
        "            else :\n",
        "                break\n",
        "    \n",
        "    cnt = sum(dist_list) \n",
        "\n",
        "    return cnt\n",
        "\n",
        "lt = 0\n",
        "rt = max_dist\n",
        "res = 0\n",
        "\n",
        "while lt <= rt :\n",
        "    mid = (lt + rt) // 2\n",
        "    if Count(mid) >= c :\n",
        "        res = mid\n",
        "        lt = mid + 1\n",
        "    else :\n",
        "        rt = mid - 1\n",
        "\n",
        "print(res)\n"
      ],
      "execution_count": null,
      "outputs": []
    },
    {
      "cell_type": "markdown",
      "metadata": {
        "id": "tI5e5EoUboDt"
      },
      "source": [
        "### 5. 회의실 배정(그리디) : 미완 => 수정완료"
      ]
    },
    {
      "cell_type": "code",
      "metadata": {
        "id": "EQDIrYOzbqqd"
      },
      "source": [
        "import sys\n",
        "# sys.stdin = open('input.txt', 'rt')\n",
        "\n",
        "n = int(input())\n",
        "timetable = []\n",
        "for _ in range(n) :\n",
        "    s, e = map(int, input().split())\n",
        "    timetable.append((s,e))\n",
        "\n",
        "timetable.sort(key = lambda x: x[1])\n",
        "\n",
        "f = 0\n",
        "i = 0\n",
        "cnt = 0\n",
        "\n",
        "while i < n :\n",
        "    s, e = timetable[i]\n",
        "\n",
        "    if s >= f :\n",
        "        f = e\n",
        "        cnt += 1\n",
        "    \n",
        "    i += 1\n",
        "\n",
        "print(cnt)"
      ],
      "execution_count": null,
      "outputs": []
    },
    {
      "cell_type": "markdown",
      "metadata": {
        "id": "NZywFM6Qpfgu"
      },
      "source": [
        "### 6. 씨름 선수(그리디)"
      ]
    },
    {
      "cell_type": "code",
      "metadata": {
        "id": "k7De_CfNpjnm"
      },
      "source": [
        "import sys\n",
        "# sys.stdin = open('input.txt', 'rt')\n",
        "\n",
        "n = int(input())\n",
        "player = []\n",
        "for _ in range(n) :\n",
        "    player.append(list(map(int,input().split())))\n",
        "    \n",
        "\n",
        "s = [1]*n\n",
        "\n",
        "for i in range(n) :\n",
        "    if s[i] == 0 :\n",
        "        continue\n",
        "    \n",
        "    h1, w1 = player[i]\n",
        "\n",
        "    for j in range(i+1,n) :\n",
        "        h, w = player[j]\n",
        "\n",
        "        if h1 < h and w1 < w :\n",
        "            s[i] = 0\n",
        "\n",
        "        elif h1 > h and w1 > w :\n",
        "            s[j] = 0\n",
        "\n",
        "print(sum(s))"
      ],
      "execution_count": null,
      "outputs": []
    },
    {
      "cell_type": "markdown",
      "metadata": {
        "id": "wbUx9knUrdcT"
      },
      "source": [
        "### 7. 창고 정리\n"
      ]
    },
    {
      "cell_type": "code",
      "metadata": {
        "id": "MeQmW032rfca"
      },
      "source": [
        "import sys\n",
        "# sys.stdin = open('input.txt', 'rt')\n",
        "\n",
        "L = int(input())\n",
        "box_list = list(map(int,input().split()))\n",
        "M = int(input())\n",
        "\n",
        "for _ in range(M) :\n",
        "    \n",
        "    for i in range(L) :\n",
        "        if box_list[i] == max(box_list) :\n",
        "            max_index = i\n",
        "            break;\n",
        "\n",
        "    for i in range(L) :\n",
        "        if box_list[i] == min(box_list) :\n",
        "            min_index = i\n",
        "            break;\n",
        "\n",
        "    box_list[max_index] -= 1\n",
        "    box_list[min_index] += 1\n",
        "\n",
        "\n",
        "\n",
        "print(max(box_list) - min(box_list))"
      ],
      "execution_count": null,
      "outputs": []
    },
    {
      "cell_type": "markdown",
      "metadata": {
        "id": "SL_h1mM5tB-2"
      },
      "source": [
        "### 8. 침몰하는 타이타닉"
      ]
    },
    {
      "cell_type": "code",
      "metadata": {
        "id": "7G5p1UZrvsmy"
      },
      "source": [
        "import sys\n",
        "#sys.stdin = open('input.txt', 'rt')\n",
        "\n",
        "n, m = map(int, input().split())\n",
        "pass_list = list(map(int,input().split()))\n",
        "\n",
        "pass_list.sort(reverse = True)\n",
        "cnt = 0\n",
        "s = [1]*n\n",
        "\n",
        "for i in range(n) :\n",
        "    if s[i] == 0:\n",
        "        continue\n",
        "\n",
        "    s[i] = 0\n",
        "    pass_sum = pass_list[i]\n",
        "    \n",
        "    for j in range(i+1, n) :\n",
        "        if s[j] == 0 :\n",
        "            continue\n",
        "\n",
        "        if pass_sum + pass_list[j] <= m :\n",
        "            pass_sum += pass_list[j]\n",
        "            s[j] = 0\n",
        "            break\n",
        "        \n",
        "    cnt += 1\n",
        "\n",
        "print(cnt)"
      ],
      "execution_count": null,
      "outputs": []
    },
    {
      "cell_type": "markdown",
      "metadata": {
        "id": "aqJD64zVv9A5"
      },
      "source": [
        "### 9. 증가수열 만들기"
      ]
    },
    {
      "cell_type": "code",
      "metadata": {
        "id": "ko3bCcOzxVVj"
      },
      "source": [
        "import sys\n",
        "# sys.stdin = open('input.txt', 'rt')\n",
        "\n",
        "n = int(input())\n",
        "data = list(map(int,input().split()))\n",
        "\n",
        "LR = \"\"\n",
        "last = 0\n",
        "for _ in range(n) :\n",
        "    L = data[0]\n",
        "    R = data[-1]\n",
        "    if L > last or R > last :\n",
        "        if L >= R :\n",
        "            if R > last :\n",
        "                last = R\n",
        "                data = data[:-1]\n",
        "                LR += \"R\"\n",
        "            else : \n",
        "                last = L\n",
        "                data = data[1:]\n",
        "                LR += \"L\"\n",
        "        else :\n",
        "            if L > last :\n",
        "                last = L\n",
        "                data = data[1:]\n",
        "                LR += \"L\"\n",
        "            else :\n",
        "                last = R\n",
        "                data = data[:-1]\n",
        "                LR += \"R\"\n",
        "    else :\n",
        "        break\n",
        "\n",
        "print(len(LR))\n",
        "print(LR)"
      ],
      "execution_count": null,
      "outputs": []
    },
    {
      "cell_type": "markdown",
      "metadata": {
        "id": "S-_bpCUw0HVz"
      },
      "source": [
        "### 10. 역수열"
      ]
    },
    {
      "cell_type": "code",
      "metadata": {
        "id": "h649HGam0JCn"
      },
      "source": [
        "import sys\n",
        "# sys.stdin = open('input.txt', 'rt')\n",
        "\n",
        "n = int(input())\n",
        "rev_data = list(map(int,input().split()))\n",
        "data = [n]*n\n",
        "\n",
        "for i in range(n) :\n",
        "    tmp = rev_data[i]\n",
        "    for j in range(tmp,n):\n",
        "        cnt = 0\n",
        "        tmp_data = data[:j]\n",
        "        \n",
        "        for k in tmp_data :\n",
        "            if k > i :\n",
        "                cnt +=1\n",
        "\n",
        "        if cnt == tmp and data[j] == n :\n",
        "            data[j] = i+1\n",
        "            break\n",
        "\n",
        "for i in data :\n",
        "    print(i, end = \" \")"
      ],
      "execution_count": null,
      "outputs": []
    }
  ]
}