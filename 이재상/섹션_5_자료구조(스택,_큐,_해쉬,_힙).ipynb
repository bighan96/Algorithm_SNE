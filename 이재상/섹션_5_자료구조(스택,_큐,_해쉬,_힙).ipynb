{
  "nbformat": 4,
  "nbformat_minor": 0,
  "metadata": {
    "colab": {
      "name": "섹션 5. 자료구조(스택, 큐, 해쉬, 힙)",
      "private_outputs": true,
      "provenance": [],
      "collapsed_sections": [],
      "authorship_tag": "ABX9TyPF+lHCGb7LT80xa+VdpDWA",
      "include_colab_link": true
    },
    "kernelspec": {
      "name": "python3",
      "display_name": "Python 3"
    }
  },
  "cells": [
    {
      "cell_type": "markdown",
      "metadata": {
        "id": "view-in-github",
        "colab_type": "text"
      },
      "source": [
        "<a href=\"https://colab.research.google.com/github/jaesanglee95/Algorithm_SNE/blob/main/%EC%9D%B4%EC%9E%AC%EC%83%81/%EC%84%B9%EC%85%98_5_%EC%9E%90%EB%A3%8C%EA%B5%AC%EC%A1%B0(%EC%8A%A4%ED%83%9D%2C_%ED%81%90%2C_%ED%95%B4%EC%89%AC%2C_%ED%9E%99).ipynb\" target=\"_parent\"><img src=\"https://colab.research.google.com/assets/colab-badge.svg\" alt=\"Open In Colab\"/></a>"
      ]
    },
    {
      "cell_type": "markdown",
      "metadata": {
        "id": "2Z2J2aBq0Ak3"
      },
      "source": [
        "## 섹션 5. 자료구조(스택, 큐, 해쉬, 힙)\n",
        "\n",
        "\n",
        "\n",
        "\n",
        "이재상"
      ]
    },
    {
      "cell_type": "markdown",
      "metadata": {
        "id": "7Rfkk240O1q4"
      },
      "source": [
        "### 1. 가장 큰 수"
      ]
    },
    {
      "cell_type": "code",
      "metadata": {
        "id": "w-_59ILwRmkD"
      },
      "source": [
        "import sys\n",
        "# sys.stdin = open('input.txt', 'rt')\n",
        "\n",
        "n, del_num = map(int,(input().split()))\n",
        "n = str(n)\n",
        "digit = len(n) - del_num\n",
        "new = []\n",
        "i = 0\n",
        "while i < len(n) :\n",
        "    if new == [] or new[-1] >= int(n[i]):\n",
        "        new.append(int(n[i]))\n",
        "        i += 1\n",
        "    \n",
        "    elif new[-1] < int(n[i]) :\n",
        "        new.pop() \n",
        "        del_num -= 1\n",
        "\n",
        "    if del_num == 0 :\n",
        "        new += list(n[i:])\n",
        "        break\n",
        "\n",
        "   \n",
        "for i in range(digit) :\n",
        "    print(new[i], end = \"\")\n",
        "print()"
      ],
      "execution_count": null,
      "outputs": []
    },
    {
      "cell_type": "markdown",
      "metadata": {
        "id": "xifRc8IqRmmW"
      },
      "source": [
        "### 2. 쇠막대기 : 풀이 추가"
      ]
    },
    {
      "cell_type": "code",
      "metadata": {
        "id": "y2LO811Y9X_Y"
      },
      "source": [
        "import sys\n",
        "# sys.stdin = open('input.txt', 'rt')\n",
        "\n",
        "# laser 배치 파악\n",
        "pipe = str(input())\n",
        "n = len(pipe)\n",
        "laser = [0]*n\n",
        "for i in range(n-1):\n",
        "    if pipe[i] == \"(\" and pipe[i+1] ==\")\" :\n",
        "        laser[i]= laser[i+1] = 1\n",
        "\n",
        "# pipe 배치 파악\n",
        "pipe_list = [0]*n\n",
        "s = e = cnt = 0\n",
        "for i in range(n):\n",
        "    if laser[i] != 0 :\n",
        "        continue\n",
        "    if pipe[i] == \"(\" :\n",
        "        s += 1\n",
        "        pipe_list[i] = s\n",
        "    \n",
        "    elif s > e :\n",
        "        e = s\n",
        "        cnt += 1\n",
        "        pipe_list[i] = e\n",
        "    else :\n",
        "        pipe_list[i] = s - cnt\n",
        "        cnt+=1\n",
        "    \n",
        "    if s == cnt :\n",
        "        s = e = cnt = 0\n",
        "\n",
        "\n",
        "# pipe가 나뉘는 개수 계산\n",
        "check = [0]*n\n",
        "res = 0\n",
        "for i in range(n) :\n",
        "    if pipe_list[i] == 0 or check[i] != 0:\n",
        "        continue\n",
        "    pipe_num = pipe_list[i]\n",
        "    j = pipe_list[i+1:].index(pipe_num) + i + 1\n",
        "    res += sum(laser[i:j])//2\n",
        "    res += 1\n",
        "    check[j] = 1\n",
        "\n",
        "print(res)"
      ],
      "execution_count": null,
      "outputs": []
    },
    {
      "cell_type": "code",
      "metadata": {
        "id": "CXDU8EGEWh3z"
      },
      "source": [
        "import sys\n",
        "# sys.stdin = open('input.txt', 'rt')\n",
        "\n",
        "pipe = input()\n",
        "s = 0\n",
        "cnt = 0\n",
        "for i in range(len(pipe)):\n",
        "    \n",
        "    if  pipe[i] == \"(\" :\n",
        "        s += 1\n",
        "\n",
        "    else: \n",
        "        s -= 1\n",
        "\n",
        "        if pipe[i-1] == \"(\" :\n",
        "            cnt += s\n",
        "        else :\n",
        "            cnt += 1\n",
        "\n",
        "print(cnt)"
      ],
      "execution_count": null,
      "outputs": []
    },
    {
      "cell_type": "markdown",
      "metadata": {
        "id": "CAK9Sr2SUdwK"
      },
      "source": [
        "### 3. 후위표기식 만들기 : 풀이 추가 "
      ]
    },
    {
      "cell_type": "code",
      "metadata": {
        "id": "MD2EhjlvhPzM"
      },
      "source": [
        "import sys\n",
        "# sys.stdin = open('input.txt', 'rt')\n",
        "\n",
        "infix = list(str(input()))\n",
        "tmp = [0] * len(infix)\n",
        "\n",
        "# 중위표기식 연산 순서 계산\n",
        "ord = 1\n",
        "bracket = []\n",
        "for i in range(len(tmp)) :\n",
        "        if infix[i] == \"(\" :\n",
        "            j = infix[i:].index(\")\") + i\n",
        "            bracket.append(i)\n",
        "            bracket.append(j)\n",
        "            for k in range(i,j) :\n",
        "                if infix [k] == \"*\" or infix[k] == \"/\" :\n",
        "                    tmp[k] = ord\n",
        "                    ord += 1\n",
        "            for k in range(i,j) :\n",
        "                if infix [k] == \"+\" or infix[k] == \"-\" :\n",
        "                    tmp[k] = ord\n",
        "                    ord += 1\n",
        "for i in range(len(tmp)) :\n",
        "        if (infix [i] == \"*\" or infix[i] == \"/\") and tmp[i] == 0 :\n",
        "            tmp[i] = ord\n",
        "            ord += 1\n",
        "for i in range(len(tmp)) :\n",
        "        if (infix [i] == \"+\" or infix[i] == \"-\") and tmp[i] == 0 :\n",
        "            tmp[i] = ord\n",
        "            ord += 1\n",
        "\n",
        "# 괄호 제거\n",
        "bracket.sort(reverse = True)\n",
        "for i in bracket :\n",
        "    tmp.pop(i)\n",
        "    infix.pop(i)\n",
        "\n",
        "# 재배열\n",
        "iter = max(tmp)\n",
        "tmp2 = []\n",
        "\n",
        "def switch(lt, j, rt, x) :\n",
        "    a = x[:lt]\n",
        "    b = x[lt:rt+1]\n",
        "    c = x[rt+1:]\n",
        "    b.append(b.pop(j-lt))\n",
        "\n",
        "    return a + b + c\n",
        "\n",
        "\n",
        "for i in tmp :\n",
        "    if i == 0 :\n",
        "        tmp2.append(0)\n",
        "    else :\n",
        "        tmp2.append(1)        \n",
        "\n",
        "for i in range(1,iter+1) :\n",
        "    j = tmp.index(i)\n",
        "    try :\n",
        "        rt = tmp2[j+1:].index(1) + j\n",
        "    except :\n",
        "        rt = len(tmp)\n",
        "\n",
        "    try :\n",
        "        lt = j - tmp2[j-1::-1].index(1)\n",
        "    except :\n",
        "        lt = 0\n",
        "\n",
        "    tmp2[j] = 0\n",
        "    tmp = switch(lt, j, rt, tmp)\n",
        "    tmp2 = switch(lt, j, rt, tmp2)\n",
        "    infix = switch(lt, j, rt, infix)\n",
        "\n",
        "for i in infix :\n",
        "    print(i, end = \"\")\n",
        "\n",
        "print()\n",
        "# 괄호 안에 괄호가 있는 식의 경우, 오류 발생 가능!! "
      ],
      "execution_count": null,
      "outputs": []
    },
    {
      "cell_type": "code",
      "metadata": {
        "id": "u5yu5ic9X0ar"
      },
      "source": [
        "import sys\n",
        "# sys.stdin = open('input.txt', 'rt')\n",
        "\n",
        "infix = input()\n",
        "post = ''\n",
        "stack = []\n",
        "for i in infix :\n",
        "    if i.isdecimal() :\n",
        "        post += i\n",
        "\n",
        "    else :\n",
        "        if i == \"(\" :\n",
        "            stack.append(i)\n",
        "\n",
        "        elif  i in \"+-\" :\n",
        "            while stack and stack[-1] in \"+-*/\" :\n",
        "                tmp = stack.pop()\n",
        "                post += tmp\n",
        "            stack.append(i)\n",
        "\n",
        "        elif i in \"*/\" :\n",
        "            while stack and stack[-1] in \"*/\" :\n",
        "                tmp = stack.pop()\n",
        "                post += tmp\n",
        "            stack.append(i)\n",
        "\n",
        "        else :\n",
        "            while stack[-1] != \"(\" :\n",
        "                tmp= stack.pop()\n",
        "                post += tmp\n",
        "            stack.pop()\n",
        "\n",
        "\n",
        "while stack :\n",
        "    tmp= stack.pop()\n",
        "    post += tmp\n",
        "            \n",
        "print(post)"
      ],
      "execution_count": null,
      "outputs": []
    },
    {
      "cell_type": "markdown",
      "metadata": {
        "id": "pGAMbn2Dvtl_"
      },
      "source": [
        "### 4. 후위식 연산"
      ]
    },
    {
      "cell_type": "code",
      "metadata": {
        "id": "RSdg06q1v699"
      },
      "source": [
        "import sys\n",
        "# sys.stdin = open('input.txt', 'rt')\n",
        "\n",
        "postfix= list(str(input()))\n",
        "tmp = []\n",
        "for i in postfix :\n",
        "    try : \n",
        "        int(i)\n",
        "        tmp.append(0)\n",
        "    except:\n",
        "        tmp.append(1)\n",
        "\n",
        "def operating (a1, b1, x) :\n",
        "    a = int(a1)\n",
        "    b = int(b1)\n",
        "    if x == \"+\" :\n",
        "        return a + b\n",
        "    elif x == \"-\" :\n",
        "        return a - b\n",
        "    elif x == \"*\" :\n",
        "        return a * b\n",
        "    elif x == \"/\" :\n",
        "        return a / b\n",
        "\n",
        "while True :\n",
        "    i= tmp.index(1)\n",
        "    tmp_num = operating(postfix[i-2], postfix[i-1], postfix[i])\n",
        "    postfix[i-2:i+1] = [tmp_num]\n",
        "    tmp[i-2:i+1] = [0]\n",
        "\n",
        "    if tmp == [0] :\n",
        "        break\n",
        "\n",
        "print(postfix[0])"
      ],
      "execution_count": null,
      "outputs": []
    },
    {
      "cell_type": "markdown",
      "metadata": {
        "id": "3LCufI8Kv7Ag"
      },
      "source": [
        "### 5. 공주구하기"
      ]
    },
    {
      "cell_type": "code",
      "metadata": {
        "id": "tbBe38A019Qh"
      },
      "source": [
        "import sys\n",
        "# sys.stdin = open('input.txt', 'rt')\n",
        "\n",
        "n, k = map(int, input().split())\n",
        "prince = []\n",
        "for i in range(n) :\n",
        "    prince.append(i+1)\n",
        "\n",
        "while len(prince) > 1:\n",
        "    if k  < len(prince) :\n",
        "        loc = k -1\n",
        "    \n",
        "    elif k % len(prince) == 0 :\n",
        "        loc = len(prince) - 1\n",
        "\n",
        "    elif k > len(prince) :\n",
        "        loc = k % len(prince) - 1\n",
        "\n",
        "    prince.pop(loc)\n",
        "    prince = prince[loc:] + prince[:loc]\n",
        "\n",
        "print(prince[0])"
      ],
      "execution_count": null,
      "outputs": []
    },
    {
      "cell_type": "markdown",
      "metadata": {
        "id": "kP5Jval9514_"
      },
      "source": [
        "### 6. 응급실"
      ]
    },
    {
      "cell_type": "code",
      "metadata": {
        "id": "CpJUOLQb54DI"
      },
      "source": [
        "import sys\n",
        "# sys.stdin = open('input.txt', 'rt')\n",
        "\n",
        "n, m = map(int, input().split())\n",
        "chart = list(map(int, input().split()))\n",
        "ord = []\n",
        "for i in range(n) :\n",
        "    ord.append(i)\n",
        "\n",
        "cnt = 0\n",
        "\n",
        "def rotate(x, num) :\n",
        "    x.pop(num)\n",
        "    new = x[num:] + x[:num]\n",
        "    return new\n",
        "\n",
        "while True:\n",
        "    tmp = max(chart)\n",
        "    loc = chart.index(tmp)\n",
        "    cnt += 1\n",
        "    \n",
        "    if ord[loc] == m :\n",
        "        break\n",
        "\n",
        "    chart = rotate(chart, loc)\n",
        "    ord = rotate(ord, loc)\n",
        "\n",
        "print(cnt)"
      ],
      "execution_count": null,
      "outputs": []
    },
    {
      "cell_type": "markdown",
      "metadata": {
        "id": "IeoKxUNP54Fw"
      },
      "source": [
        "### 7. 교육과정 설계"
      ]
    },
    {
      "cell_type": "code",
      "metadata": {
        "id": "L-JeWHY054H8"
      },
      "source": [
        "import sys\n",
        "# sys.stdin = open('input.txt', 'rt')\n",
        "\n",
        "ord = input()\n",
        "n = int(input())\n",
        "\n",
        "def check_class(cl, ord) : \n",
        "\n",
        "    ord_list = list(ord)\n",
        "    ord_len = len(ord)\n",
        "    tmp_list = cl\n",
        "    \n",
        "    while tmp_list and ord_len > 0 :\n",
        "        tmp = tmp_list.pop(0)\n",
        "        if  tmp == ord_list[0] :\n",
        "            ord_list.pop(0)\n",
        "            ord_len -= 1\n",
        "        \n",
        "        else :\n",
        "            for i in range(1, ord_len) :\n",
        "                if tmp == ord_list[i] :\n",
        "                    ord_len = -1\n",
        "\n",
        "\n",
        "    if ord_len == 0 :\n",
        "        return \"YES\"\n",
        "    else :\n",
        "        return \"NO\"\n",
        "\n",
        "\n",
        "for i in range(1,n+1) :\n",
        "    cl = list(input())\n",
        "    ans = check_class(cl, ord)\n",
        "    print(\"#\",i,\" \",ans, sep = \"\")\n"
      ],
      "execution_count": null,
      "outputs": []
    },
    {
      "cell_type": "markdown",
      "metadata": {
        "id": "Ro2wn1hg54LO"
      },
      "source": [
        "### 8. 단어찾기"
      ]
    },
    {
      "cell_type": "code",
      "metadata": {
        "id": "ls-Lpr6IKUaH"
      },
      "source": [
        "import sys\n",
        "# sys.stdin = open('input.txt', 'rt')\n",
        "\n",
        "n = int(input())\n",
        "word_list = []\n",
        "for _ in range(n) :\n",
        "    word_list.append(input())\n",
        "   \n",
        "for _ in range(n-1) :\n",
        "    poem = input()\n",
        "\n",
        "    while 1: \n",
        "        tmp = word_list.pop(0)\n",
        "        \n",
        "        if tmp == poem :\n",
        "            break\n",
        "        else :\n",
        "            word_list.append(tmp)\n",
        "\n",
        "print(word_list[0])"
      ],
      "execution_count": null,
      "outputs": []
    },
    {
      "cell_type": "markdown",
      "metadata": {
        "id": "VwbaDuw1KUlN"
      },
      "source": [
        "### 9. 아나그램(구글)"
      ]
    },
    {
      "cell_type": "code",
      "metadata": {
        "id": "dP3wsbFUKVHW"
      },
      "source": [
        "import sys\n",
        "# sys.stdin = open('input.txt', 'rt')\n",
        "\n",
        "first = list(input())\n",
        "second = list(input())\n",
        "ans = 'YES'\n",
        "while first :\n",
        "    iter = len(second)\n",
        "    tmp_1 = first[0]\n",
        "    for _ in range(iter) :\n",
        "        tmp_2 = second.pop(0)\n",
        "\n",
        "        if tmp_2 == tmp_1 :\n",
        "            first.pop(0)\n",
        "            break\n",
        "        else :\n",
        "            second.append(tmp_2)\n",
        "    if iter == len(second) :\n",
        "        ans = 'NO'\n",
        "        break\n",
        "\n",
        "print(ans)"
      ],
      "execution_count": null,
      "outputs": []
    },
    {
      "cell_type": "markdown",
      "metadata": {
        "id": "rKaXtlTAKVUp"
      },
      "source": [
        "### 10. 최소힙 : 미완(60점)"
      ]
    },
    {
      "cell_type": "code",
      "metadata": {
        "id": "ztFGTv5jPUeI"
      },
      "source": [
        "import sys\n",
        "# sys.stdin = open('input.txt', 'rt')\n",
        "\n",
        "num_list = []\n",
        "while True :\n",
        "    tmp = int(input())\n",
        "    \n",
        "    if tmp == -1 :\n",
        "        break\n",
        "    elif tmp == 0 :\n",
        "        if num_list == [] :\n",
        "            print(-1)\n",
        "        else :\n",
        "            tmp_min = min(num_list)\n",
        "            idx_min = num_list.index(tmp_min)\n",
        "            num_list.pop(idx_min)\n",
        "            print(tmp_min)\n",
        "            \n",
        "\n",
        "    else :\n",
        "       num_list.append(tmp)\n",
        "# 힙 몰라서 리스트로 품 : 채점 결과 60점"
      ],
      "execution_count": null,
      "outputs": []
    },
    {
      "cell_type": "markdown",
      "metadata": {
        "id": "rHKiXKMYPUj0"
      },
      "source": [
        "### 11. 최대힙 : 미완(60점)"
      ]
    },
    {
      "cell_type": "code",
      "metadata": {
        "id": "GOdS4lHcX0Ar"
      },
      "source": [
        "import sys\n",
        "# sys.stdin = open('input.txt', 'rt')\n",
        "\n",
        "num_list = []\n",
        "while True :\n",
        "    tmp = int(input())\n",
        "    \n",
        "    if tmp == -1 :\n",
        "        break\n",
        "    elif tmp == 0 :\n",
        "        if num_list == [] :\n",
        "            print(-1)\n",
        "        else :\n",
        "            tmp_max= max(num_list)\n",
        "            idx_max= num_list.index(tmp_max)\n",
        "            num_list.pop(idx_max)\n",
        "            print(tmp_max)\n",
        "            \n",
        "\n",
        "    else :\n",
        "       num_list.append(tmp)\n",
        "# 당연히 얘도 60점"
      ],
      "execution_count": null,
      "outputs": []
    }
  ]
}