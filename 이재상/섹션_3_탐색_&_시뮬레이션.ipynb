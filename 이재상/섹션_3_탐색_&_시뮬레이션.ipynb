{
  "nbformat": 4,
  "nbformat_minor": 0,
  "metadata": {
    "colab": {
      "name": "섹션 3. 탐색 & 시뮬레이션",
      "private_outputs": true,
      "provenance": [],
      "collapsed_sections": [],
      "authorship_tag": "ABX9TyPQ8B/jgp8x/Zx03sMtts2e",
      "include_colab_link": true
    },
    "kernelspec": {
      "name": "python3",
      "display_name": "Python 3"
    }
  },
  "cells": [
    {
      "cell_type": "markdown",
      "metadata": {
        "id": "view-in-github",
        "colab_type": "text"
      },
      "source": [
        "<a href=\"https://colab.research.google.com/github/jaesanglee95/Algorithm_SNE/blob/main/%EC%9D%B4%EC%9E%AC%EC%83%81/%EC%84%B9%EC%85%98_3_%ED%83%90%EC%83%89_%26_%EC%8B%9C%EB%AE%AC%EB%A0%88%EC%9D%B4%EC%85%98.ipynb\" target=\"_parent\"><img src=\"https://colab.research.google.com/assets/colab-badge.svg\" alt=\"Open In Colab\"/></a>"
      ]
    },
    {
      "cell_type": "markdown",
      "metadata": {
        "id": "2Z2J2aBq0Ak3"
      },
      "source": [
        "## 섹션 3. 탐색 & 시뮬레이션 #1~3\r\n",
        "\r\n",
        "이재상"
      ]
    },
    {
      "cell_type": "markdown",
      "metadata": {
        "id": "zLhNv2Ll1dab"
      },
      "source": [
        "### 1. 회문 문자열 검사"
      ]
    },
    {
      "cell_type": "code",
      "metadata": {
        "id": "nK-lzKRe2wNx"
      },
      "source": [
        "import sys\r\n",
        "# sys.stdin = open('input.txt', 'rt')\r\n",
        "\r\n",
        "N = int(input())\r\n",
        "\r\n",
        "for n in range(N):\r\n",
        "    a = str(input())\r\n",
        "    m = str()\r\n",
        "    \r\n",
        "    for i in range(len(a),0,-1) :\r\n",
        "        l = a[i-1]  \r\n",
        "        m += l\r\n",
        "        \r\n",
        "    if m.upper() == a.upper() :\r\n",
        "        print('#',n+1,' YES', sep =\"\")\r\n",
        "    else : \r\n",
        "        print('#',n+1,' NO', sep =\"\")"
      ],
      "execution_count": null,
      "outputs": []
    },
    {
      "cell_type": "markdown",
      "metadata": {
        "id": "sPDlYAUT35K0"
      },
      "source": [
        "### 2. 숫자만 추출"
      ]
    },
    {
      "cell_type": "code",
      "metadata": {
        "id": "WzaohL6P3-aG"
      },
      "source": [
        "import sys\r\n",
        "# sys.stdin = open('input.txt', 'rt')\r\n",
        "\r\n",
        "a = str(input())\r\n",
        "b = str()\r\n",
        "\r\n",
        "for i in a :\r\n",
        "    try :\r\n",
        "        l = int(i)\r\n",
        "        b += str(l)\r\n",
        "\r\n",
        "    except :\r\n",
        "        continue\r\n",
        "n = int(b)\r\n",
        "print(n)\r\n",
        "\r\n",
        "cnt = 0\r\n",
        "for j in range(1,n+1) :\r\n",
        "    if n % j == 0 :\r\n",
        "        cnt += 1\r\n",
        "\r\n",
        "print(cnt)"
      ],
      "execution_count": null,
      "outputs": []
    },
    {
      "cell_type": "markdown",
      "metadata": {
        "id": "LOchxAhX3-cV"
      },
      "source": [
        "### 3. 카드 역배치(정올 기출)"
      ]
    },
    {
      "cell_type": "code",
      "metadata": {
        "id": "uLBnOXBiATdD"
      },
      "source": [
        "import sys\r\n",
        "# sys.stdin = open('input.txt', 'rt')\r\n",
        "\r\n",
        "card = list(range(1,21))\r\n",
        "\r\n",
        "for r in range(10) :\r\n",
        "    ai, bi = map(int, input().split())\r\n",
        "    target = card[ai-1:bi]\r\n",
        "\r\n",
        "    for i,n in enumerate(target) :\r\n",
        "        card[bi- 1 - i] =  n\r\n",
        "\r\n",
        "\r\n",
        "for answer in card :\r\n",
        "    print(answer, end = \" \")\r\n",
        "print()\r\n"
      ],
      "execution_count": null,
      "outputs": []
    }
  ]
}