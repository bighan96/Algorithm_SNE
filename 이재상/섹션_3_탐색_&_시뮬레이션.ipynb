{
  "nbformat": 4,
  "nbformat_minor": 0,
  "metadata": {
    "colab": {
      "name": "섹션 3. 탐색 & 시뮬레이션",
      "private_outputs": true,
      "provenance": [],
      "collapsed_sections": [
        "zLhNv2Ll1dab",
        "sPDlYAUT35K0",
        "LOchxAhX3-cV"
      ],
      "authorship_tag": "ABX9TyMSd8FKrvzuvCbFujI4l4ra",
      "include_colab_link": true
    },
    "kernelspec": {
      "name": "python3",
      "display_name": "Python 3"
    }
  },
  "cells": [
    {
      "cell_type": "markdown",
      "metadata": {
        "id": "view-in-github",
        "colab_type": "text"
      },
      "source": [
        "<a href=\"https://colab.research.google.com/github/jaesanglee95/Algorithm_SNE/blob/main/%EC%9D%B4%EC%9E%AC%EC%83%81/%EC%84%B9%EC%85%98_3_%ED%83%90%EC%83%89_%26_%EC%8B%9C%EB%AE%AC%EB%A0%88%EC%9D%B4%EC%85%98.ipynb\" target=\"_parent\"><img src=\"https://colab.research.google.com/assets/colab-badge.svg\" alt=\"Open In Colab\"/></a>"
      ]
    },
    {
      "cell_type": "markdown",
      "metadata": {
        "id": "2Z2J2aBq0Ak3"
      },
      "source": [
        "## 섹션 3. 탐색 & 시뮬레이션\r\n",
        "\r\n",
        "이재상"
      ]
    },
    {
      "cell_type": "markdown",
      "metadata": {
        "id": "zLhNv2Ll1dab"
      },
      "source": [
        "### 1. 회문 문자열 검사"
      ]
    },
    {
      "cell_type": "code",
      "metadata": {
        "id": "nK-lzKRe2wNx"
      },
      "source": [
        "import sys\r\n",
        "# sys.stdin = open('input.txt', 'rt')\r\n",
        "\r\n",
        "N = int(input())\r\n",
        "\r\n",
        "for n in range(N):\r\n",
        "    a = str(input())\r\n",
        "    m = str()\r\n",
        "    \r\n",
        "    for i in range(len(a),0,-1) :\r\n",
        "        l = a[i-1]  \r\n",
        "        m += l\r\n",
        "        \r\n",
        "    if m.upper() == a.upper() :\r\n",
        "        print('#',n+1,' YES', sep =\"\")\r\n",
        "    else : \r\n",
        "        print('#',n+1,' NO', sep =\"\")"
      ],
      "execution_count": null,
      "outputs": []
    },
    {
      "cell_type": "markdown",
      "metadata": {
        "id": "sPDlYAUT35K0"
      },
      "source": [
        "### 2. 숫자만 추출"
      ]
    },
    {
      "cell_type": "code",
      "metadata": {
        "id": "WzaohL6P3-aG"
      },
      "source": [
        "import sys\r\n",
        "# sys.stdin = open('input.txt', 'rt')\r\n",
        "\r\n",
        "a = str(input())\r\n",
        "b = str()\r\n",
        "\r\n",
        "for i in a :\r\n",
        "    try :\r\n",
        "        l = int(i)\r\n",
        "        b += str(l)\r\n",
        "\r\n",
        "    except :\r\n",
        "        continue\r\n",
        "n = int(b)\r\n",
        "print(n)\r\n",
        "\r\n",
        "cnt = 0\r\n",
        "for j in range(1,n+1) :\r\n",
        "    if n % j == 0 :\r\n",
        "        cnt += 1\r\n",
        "\r\n",
        "print(cnt)"
      ],
      "execution_count": null,
      "outputs": []
    },
    {
      "cell_type": "markdown",
      "metadata": {
        "id": "LOchxAhX3-cV"
      },
      "source": [
        "### 3. 카드 역배치(정올 기출)"
      ]
    },
    {
      "cell_type": "code",
      "metadata": {
        "id": "uLBnOXBiATdD"
      },
      "source": [
        "import sys\r\n",
        "# sys.stdin = open('input.txt', 'rt')\r\n",
        "\r\n",
        "card = list(range(1,21))\r\n",
        "\r\n",
        "for r in range(10) :\r\n",
        "    ai, bi = map(int, input().split())\r\n",
        "    target = card[ai-1:bi]\r\n",
        "\r\n",
        "    for i,n in enumerate(target) :\r\n",
        "        card[bi- 1 - i] =  n\r\n",
        "\r\n",
        "\r\n",
        "for answer in card :\r\n",
        "    print(answer, end = \" \")\r\n",
        "print()\r\n"
      ],
      "execution_count": null,
      "outputs": []
    },
    {
      "cell_type": "markdown",
      "metadata": {
        "id": "owtTtsOOCL0U"
      },
      "source": [
        "### 4. 두 리스트 합치기\r\n",
        "\r\n"
      ]
    },
    {
      "cell_type": "code",
      "metadata": {
        "id": "C1iv3brse0mx"
      },
      "source": [
        "import sys\r\n",
        "# sys.stdin = open('input.txt', 'rt')\r\n",
        "\r\n",
        "N = int(input())\r\n",
        "list_1 = list(map(int, input().split()))\r\n",
        "M = int(input())\r\n",
        "list_2 = list(map(int, input().split()))\r\n",
        "\r\n",
        "list_3 = list_1 + list_2\r\n",
        "list_3.sort()\r\n",
        "\r\n",
        "for i in range(N+M):\r\n",
        "    print(list_3[i], end = \" \")"
      ],
      "execution_count": null,
      "outputs": []
    },
    {
      "cell_type": "markdown",
      "metadata": {
        "id": "-3MFf1xBe1ha"
      },
      "source": [
        "### 5. 수들의 합 : (미완 80점)\r\n"
      ]
    },
    {
      "cell_type": "code",
      "metadata": {
        "id": "6nVSPmfee55Z"
      },
      "source": [
        "import sys\r\n",
        "# sys.stdin = open('input.txt', 'rt')\r\n",
        "\r\n",
        "n, m = map(int, input().split())\r\n",
        "num_list = list(map(int, input().split()))\r\n",
        "\r\n",
        "cnt = 0\r\n",
        "for i in range(n) :\r\n",
        "    tmp_sum = num_list[i]\r\n",
        "    while tmp_sum <= m :\r\n",
        "        print(i)\r\n",
        "        i += 1\r\n",
        "        tmp_sum += num_list[i]\r\n",
        "\r\n",
        "        if tmp_sum == m :\r\n",
        "            cnt += 1\r\n",
        "        \r\n",
        "    \r\n",
        "print(cnt)\r\n",
        "## 효율성 도달 실패"
      ],
      "execution_count": null,
      "outputs": []
    },
    {
      "cell_type": "markdown",
      "metadata": {
        "id": "pzdJOcd7yzWd"
      },
      "source": [
        "### 6. 격자판 최대합"
      ]
    },
    {
      "cell_type": "code",
      "metadata": {
        "id": "50MFd3Jvy4C7"
      },
      "source": [
        "import sys\r\n",
        "# sys.stdin = open('input.txt', 'rt')\r\n",
        "\r\n",
        "N = int(input())\r\n",
        "grid = list()\r\n",
        "\r\n",
        "for _ in range(N) :\r\n",
        "    tmp = list(map(int, input().split()))\r\n",
        "    grid.append(tmp)\r\n",
        "\r\n",
        "sum_list = []\r\n",
        "tmp_sum3 = 0\r\n",
        "tmp_sum4 = 0\r\n",
        "\r\n",
        "for i in range(N) :\r\n",
        "    tmp_sum1 = 0\r\n",
        "    for j in range(N) :\r\n",
        "        tmp_val = grid[j][i]\r\n",
        "        tmp_sum1 += int(tmp_val)\r\n",
        "    \r\n",
        "    tmp_sum2 = sum(grid[i])\r\n",
        "    sum_list +=  [tmp_sum1, tmp_sum2]\r\n",
        "\r\n",
        "    tmp_val = grid[i][i]\r\n",
        "    tmp_sum3 += int(tmp_val)\r\n",
        "\r\n",
        "    tmp_val = grid[i][-i]\r\n",
        "    tmp_sum4 += int(tmp_val)\r\n",
        "\r\n",
        "sum_list += [tmp_sum3, tmp_sum4]\r\n",
        "\r\n",
        "\r\n",
        "\r\n",
        "print(max(sum_list))"
      ],
      "execution_count": null,
      "outputs": []
    },
    {
      "cell_type": "markdown",
      "metadata": {
        "id": "LjRSZZnby4F2"
      },
      "source": [
        "### 7. 사과나무(다이아몬드)"
      ]
    },
    {
      "cell_type": "code",
      "metadata": {
        "id": "uZPrDddWhIdd"
      },
      "source": [
        "import sys\r\n",
        "# sys.stdin = open('input.txt', 'rt')\r\n",
        "\r\n",
        "n = int(input())\r\n",
        "farm = [list(map(int, input().split())) for _ in range(n)]\r\n",
        "\r\n",
        "s = n//2\r\n",
        "apple = []\r\n",
        "for i in range(s):\r\n",
        "    up = farm[i][s-i:s+i+1]\r\n",
        "    down = farm[n-1-i][s-i:s+i+1]\r\n",
        "    apple += up + down\r\n",
        "\r\n",
        "mid = farm[s]\r\n",
        "apple += mid\r\n",
        "\r\n",
        "print(sum(apple))"
      ],
      "execution_count": null,
      "outputs": []
    },
    {
      "cell_type": "markdown",
      "metadata": {
        "id": "GRr-MLUbhIto"
      },
      "source": [
        "### 8. 곳감(모래시계)"
      ]
    },
    {
      "cell_type": "code",
      "metadata": {
        "id": "cYSD3JH5pWo6"
      },
      "source": [
        "import sys\r\n",
        "# sys.stdin = open('input.txt', 'rt')\r\n",
        "\r\n",
        "n = int(input())\r\n",
        "farm = [list(map(int, input().split())) for _ in range(n)]\r\n",
        "m = int(input())\r\n",
        "\r\n",
        "for _ in range(m):\r\n",
        "    i, sign, j = map(int, input().split())\r\n",
        "    i, j = i - 1, j%n \r\n",
        "    if sign == 0 : \r\n",
        "        farm[i][:n-j], farm[i][n-j:] = farm[i][j:], farm[i][:j]\r\n",
        "    else :\r\n",
        "        farm[i][:j], farm[i][j:] = farm[i][n-j:], farm[i][:n-j]\r\n",
        "\r\n",
        "\r\n",
        "s = n//2\r\n",
        "apple = []\r\n",
        "\r\n",
        "for i in range(s):\r\n",
        "    up = farm[i][i:n-i]\r\n",
        "    down = farm[n-1-i][i:n-i]    \r\n",
        "    apple += up + down\r\n",
        "\r\n",
        "mid = farm[s][s:s+1]\r\n",
        "apple += mid\r\n",
        "\r\n",
        "print(sum(apple))"
      ],
      "execution_count": null,
      "outputs": []
    },
    {
      "cell_type": "markdown",
      "metadata": {
        "id": "_JU2F-sypVur"
      },
      "source": [
        "### 9. 봉우리"
      ]
    },
    {
      "cell_type": "code",
      "metadata": {
        "id": "WnztE6urve7t"
      },
      "source": [
        "import sys\r\n",
        "# sys.stdin = open('input.txt', 'rt')\r\n",
        "\r\n",
        "N = int(input())\r\n",
        "grid = []\r\n",
        "zero_row = [0]*(N+2)\r\n",
        "grid.append(zero_row)\r\n",
        "for i in range(N) :\r\n",
        "    tmp = [0]+list(map(int,input().split()))+[0]\r\n",
        "    grid.append(tmp)\r\n",
        "grid.append(zero_row)\r\n",
        "\r\n",
        "cnt = 0\r\n",
        "for i in range(N) :\r\n",
        "    for j in range(N) :\r\n",
        "        if (grid[i+1][j+1] > grid[i][j+1]) & (grid[i+1][j+1] > grid[i+2][j+1]) & (grid[i+1][j+1] > grid[i+1][j]) & (grid[i+1][j+1] > grid[i+1][j+2]) :\r\n",
        "            cnt += 1\r\n",
        "\r\n",
        "print(cnt)\r\n"
      ],
      "execution_count": null,
      "outputs": []
    },
    {
      "cell_type": "markdown",
      "metadata": {
        "id": "RSM6fmASve_B"
      },
      "source": [
        "### 10. 스도쿠 검사\r\n"
      ]
    },
    {
      "cell_type": "code",
      "metadata": {
        "id": "KADhDqCD5ghY"
      },
      "source": [
        "import sys\r\n",
        "# sys.stdin = open('input.txt', 'rt')\r\n",
        "\r\n",
        "sample = []\r\n",
        "for i in range(9):\r\n",
        "    tmp = list(map(int,input().split()))\r\n",
        "    sample.append(tmp)\r\n",
        "\r\n",
        "def sudoku(s) :\r\n",
        "    answer = set(range(1,10))\r\n",
        "\r\n",
        "    for i in range(9):\r\n",
        "        r = []\r\n",
        "        c = []\r\n",
        "\r\n",
        "        for j in range(9) :\r\n",
        "            r.append(s[i][j])\r\n",
        "            c.append(s[j][i])\r\n",
        "\r\n",
        "        if set(r) != answer or set(c) != answer :\r\n",
        "            return 'NO'\r\n",
        "    \r\n",
        "    for i in range(3):\r\n",
        "        target_row = s[i*3:i*3+3]\r\n",
        "        \r\n",
        "        for j in range(3):\r\n",
        "            sq = target_row[0][j*3:j*3+3] + target_row[1][j*3:j*3+3] + target_row[2][j*3:j*3+3]\r\n",
        "            \r\n",
        "            if set(sq) != answer :\r\n",
        "                return 'NO'\r\n",
        "\r\n",
        "    return 'YES'      \r\n",
        "\r\n",
        "print(sudoku(sample))"
      ],
      "execution_count": null,
      "outputs": []
    },
    {
      "cell_type": "markdown",
      "metadata": {
        "id": "L29GZxve5han"
      },
      "source": [
        "### 11. 격자판 회문수"
      ]
    },
    {
      "cell_type": "code",
      "metadata": {
        "id": "AbyXNvzW6IGi"
      },
      "source": [
        "import sys\r\n",
        "# sys.stdin = open('input.txt', 'rt')\r\n",
        "\r\n",
        "grid= []\r\n",
        "for i in range(7):\r\n",
        "    tmp = list(map(int,input().split()))\r\n",
        "    grid.append(tmp)\r\n",
        "\r\n",
        "def is_rev(a):\r\n",
        "    if a == a[::-1] :\r\n",
        "        return 1\r\n",
        "    else : return 0\r\n",
        "\r\n",
        "cnt = 0\r\n",
        "for i in range(7):\r\n",
        "    for j in range(3):\r\n",
        "        row = grid[i][j:j+5]\r\n",
        "        cnt += is_rev(row) \r\n",
        "            \r\n",
        "    for j in range(3):\r\n",
        "        col = []\r\n",
        "        for k in range(5):\r\n",
        "            col.append(grid[k+j][i])\r\n",
        "        \r\n",
        "        cnt += is_rev(col)\r\n",
        "\r\n",
        "print(cnt)"
      ],
      "execution_count": null,
      "outputs": []
    }
  ]
}