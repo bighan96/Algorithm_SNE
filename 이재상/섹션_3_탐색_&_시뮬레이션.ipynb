{
  "nbformat": 4,
  "nbformat_minor": 0,
  "metadata": {
    "colab": {
      "name": "섹션 3. 탐색 & 시뮬레이션",
      "private_outputs": true,
      "provenance": [],
      "collapsed_sections": [],
      "authorship_tag": "ABX9TyMz4D+5qPmL0IYyhJVBk2SP",
      "include_colab_link": true
    },
    "kernelspec": {
      "name": "python3",
      "display_name": "Python 3"
    }
  },
  "cells": [
    {
      "cell_type": "markdown",
      "metadata": {
        "id": "view-in-github",
        "colab_type": "text"
      },
      "source": [
        "<a href=\"https://colab.research.google.com/github/jaesanglee95/Algorithm_SNE/blob/main/%EC%9D%B4%EC%9E%AC%EC%83%81/%EC%84%B9%EC%85%98_3_%ED%83%90%EC%83%89_%26_%EC%8B%9C%EB%AE%AC%EB%A0%88%EC%9D%B4%EC%85%98.ipynb\" target=\"_parent\"><img src=\"https://colab.research.google.com/assets/colab-badge.svg\" alt=\"Open In Colab\"/></a>"
      ]
    },
    {
      "cell_type": "markdown",
      "metadata": {
        "id": "2Z2J2aBq0Ak3"
      },
      "source": [
        "## 섹션 3. 탐색 & 시뮬레이션\n",
        "\n",
        "이재상"
      ]
    },
    {
      "cell_type": "markdown",
      "metadata": {
        "id": "zLhNv2Ll1dab"
      },
      "source": [
        "### 1. 회문 문자열 검사"
      ]
    },
    {
      "cell_type": "code",
      "metadata": {
        "id": "nK-lzKRe2wNx"
      },
      "source": [
        "import sys\n",
        "# sys.stdin = open('input.txt', 'rt')\n",
        "\n",
        "N = int(input())\n",
        "\n",
        "for n in range(N):\n",
        "    a = str(input())\n",
        "    m = str()\n",
        "    \n",
        "    for i in range(len(a),0,-1) :\n",
        "        l = a[i-1]  \n",
        "        m += l\n",
        "        \n",
        "    if m.upper() == a.upper() :\n",
        "        print('#',n+1,' YES', sep =\"\")\n",
        "    else : \n",
        "        print('#',n+1,' NO', sep =\"\")"
      ],
      "execution_count": null,
      "outputs": []
    },
    {
      "cell_type": "markdown",
      "metadata": {
        "id": "sPDlYAUT35K0"
      },
      "source": [
        "### 2. 숫자만 추출"
      ]
    },
    {
      "cell_type": "code",
      "metadata": {
        "id": "WzaohL6P3-aG"
      },
      "source": [
        "import sys\n",
        "# sys.stdin = open('input.txt', 'rt')\n",
        "\n",
        "a = str(input())\n",
        "b = str()\n",
        "\n",
        "for i in a :\n",
        "    try :\n",
        "        l = int(i)\n",
        "        b += str(l)\n",
        "\n",
        "    except :\n",
        "        continue\n",
        "n = int(b)\n",
        "print(n)\n",
        "\n",
        "cnt = 0\n",
        "for j in range(1,n+1) :\n",
        "    if n % j == 0 :\n",
        "        cnt += 1\n",
        "\n",
        "print(cnt)"
      ],
      "execution_count": null,
      "outputs": []
    },
    {
      "cell_type": "markdown",
      "metadata": {
        "id": "LOchxAhX3-cV"
      },
      "source": [
        "### 3. 카드 역배치(정올 기출)"
      ]
    },
    {
      "cell_type": "code",
      "metadata": {
        "id": "uLBnOXBiATdD"
      },
      "source": [
        "import sys\n",
        "# sys.stdin = open('input.txt', 'rt')\n",
        "\n",
        "card = list(range(1,21))\n",
        "\n",
        "for r in range(10) :\n",
        "    ai, bi = map(int, input().split())\n",
        "    target = card[ai-1:bi]\n",
        "\n",
        "    for i,n in enumerate(target) :\n",
        "        card[bi- 1 - i] =  n\n",
        "\n",
        "\n",
        "for answer in card :\n",
        "    print(answer, end = \" \")\n",
        "print()\n"
      ],
      "execution_count": null,
      "outputs": []
    },
    {
      "cell_type": "markdown",
      "metadata": {
        "id": "owtTtsOOCL0U"
      },
      "source": [
        "### 4. 두 리스트 합치기\n",
        "\n"
      ]
    },
    {
      "cell_type": "code",
      "metadata": {
        "id": "C1iv3brse0mx"
      },
      "source": [
        "import sys\n",
        "# sys.stdin = open('input.txt', 'rt')\n",
        "\n",
        "N = int(input())\n",
        "list_1 = list(map(int, input().split()))\n",
        "M = int(input())\n",
        "list_2 = list(map(int, input().split()))\n",
        "\n",
        "list_3 = list_1 + list_2\n",
        "list_3.sort()\n",
        "\n",
        "for i in range(N+M):\n",
        "    print(list_3[i], end = \" \")"
      ],
      "execution_count": null,
      "outputs": []
    },
    {
      "cell_type": "markdown",
      "metadata": {
        "id": "-3MFf1xBe1ha"
      },
      "source": [
        "### 5. 수들의 합 : (미완 80점) : 수정완료\n"
      ]
    },
    {
      "cell_type": "code",
      "metadata": {
        "id": "6nVSPmfee55Z"
      },
      "source": [
        "import sys\n",
        "# sys.stdin = open('input.txt', 'rt')\n",
        "\n",
        "n, m = map(int, input().split())\n",
        "num_list = list(map(int, input().split()))\n",
        "\n",
        "cnt = 0\n",
        "for i in range(n) :\n",
        "    tmp_sum = num_list[i]\n",
        "    while tmp_sum <= m :\n",
        "        print(i)\n",
        "        i += 1\n",
        "        tmp_sum += num_list[i]\n",
        "\n",
        "        if tmp_sum == m :\n",
        "            cnt += 1\n",
        "        \n",
        "    \n",
        "print(cnt)\n",
        "## 효율성 도달 실패"
      ],
      "execution_count": null,
      "outputs": []
    },
    {
      "cell_type": "code",
      "metadata": {
        "id": "DEDHikjDFNCw"
      },
      "source": [
        "import sys\n",
        "# sys.stdin = open('input.txt', 'rt')\n",
        "\n",
        "n, m = map(int, input().split())\n",
        "num_list = list(map(int, input().split()))\n",
        "i = 0\n",
        "j = 0\n",
        "cnt = 0\n",
        "tmp = 0\n",
        "\n",
        "while j < n or i < n :\n",
        "    if tmp < m and j < n :\n",
        "        tmp += num_list[j]\n",
        "        j += 1\n",
        "    elif tmp == m :\n",
        "        cnt += 1\n",
        "        tmp -= num_list[i]\n",
        "        i += 1\n",
        "    else :\n",
        "        tmp -= num_list[i]\n",
        "        i += 1\n",
        "\n",
        "print(cnt)\n",
        "\n"
      ],
      "execution_count": null,
      "outputs": []
    },
    {
      "cell_type": "markdown",
      "metadata": {
        "id": "pzdJOcd7yzWd"
      },
      "source": [
        "### 6. 격자판 최대합"
      ]
    },
    {
      "cell_type": "code",
      "metadata": {
        "id": "50MFd3Jvy4C7"
      },
      "source": [
        "import sys\n",
        "# sys.stdin = open('input.txt', 'rt')\n",
        "\n",
        "N = int(input())\n",
        "grid = list()\n",
        "\n",
        "for _ in range(N) :\n",
        "    tmp = list(map(int, input().split()))\n",
        "    grid.append(tmp)\n",
        "\n",
        "sum_list = []\n",
        "tmp_sum3 = 0\n",
        "tmp_sum4 = 0\n",
        "\n",
        "for i in range(N) :\n",
        "    tmp_sum1 = 0\n",
        "    for j in range(N) :\n",
        "        tmp_val = grid[j][i]\n",
        "        tmp_sum1 += int(tmp_val)\n",
        "    \n",
        "    tmp_sum2 = sum(grid[i])\n",
        "    sum_list +=  [tmp_sum1, tmp_sum2]\n",
        "\n",
        "    tmp_val = grid[i][i]\n",
        "    tmp_sum3 += int(tmp_val)\n",
        "\n",
        "    tmp_val = grid[i][-i]\n",
        "    tmp_sum4 += int(tmp_val)\n",
        "\n",
        "sum_list += [tmp_sum3, tmp_sum4]\n",
        "\n",
        "\n",
        "\n",
        "print(max(sum_list))"
      ],
      "execution_count": null,
      "outputs": []
    },
    {
      "cell_type": "markdown",
      "metadata": {
        "id": "LjRSZZnby4F2"
      },
      "source": [
        "### 7. 사과나무(다이아몬드)"
      ]
    },
    {
      "cell_type": "code",
      "metadata": {
        "id": "uZPrDddWhIdd"
      },
      "source": [
        "import sys\n",
        "# sys.stdin = open('input.txt', 'rt')\n",
        "\n",
        "n = int(input())\n",
        "farm = [list(map(int, input().split())) for _ in range(n)]\n",
        "\n",
        "s = n//2\n",
        "apple = []\n",
        "for i in range(s):\n",
        "    up = farm[i][s-i:s+i+1]\n",
        "    down = farm[n-1-i][s-i:s+i+1]\n",
        "    apple += up + down\n",
        "\n",
        "mid = farm[s]\n",
        "apple += mid\n",
        "\n",
        "print(sum(apple))"
      ],
      "execution_count": null,
      "outputs": []
    },
    {
      "cell_type": "markdown",
      "metadata": {
        "id": "GRr-MLUbhIto"
      },
      "source": [
        "### 8. 곳감(모래시계)"
      ]
    },
    {
      "cell_type": "code",
      "metadata": {
        "id": "cYSD3JH5pWo6"
      },
      "source": [
        "import sys\n",
        "# sys.stdin = open('input.txt', 'rt')\n",
        "\n",
        "n = int(input())\n",
        "farm = [list(map(int, input().split())) for _ in range(n)]\n",
        "m = int(input())\n",
        "\n",
        "for _ in range(m):\n",
        "    i, sign, j = map(int, input().split())\n",
        "    i, j = i - 1, j%n \n",
        "    if sign == 0 : \n",
        "        farm[i][:n-j], farm[i][n-j:] = farm[i][j:], farm[i][:j]\n",
        "    else :\n",
        "        farm[i][:j], farm[i][j:] = farm[i][n-j:], farm[i][:n-j]\n",
        "\n",
        "\n",
        "s = n//2\n",
        "apple = []\n",
        "\n",
        "for i in range(s):\n",
        "    up = farm[i][i:n-i]\n",
        "    down = farm[n-1-i][i:n-i]    \n",
        "    apple += up + down\n",
        "\n",
        "mid = farm[s][s:s+1]\n",
        "apple += mid\n",
        "\n",
        "print(sum(apple))"
      ],
      "execution_count": null,
      "outputs": []
    },
    {
      "cell_type": "markdown",
      "metadata": {
        "id": "_JU2F-sypVur"
      },
      "source": [
        "### 9. 봉우리"
      ]
    },
    {
      "cell_type": "code",
      "metadata": {
        "id": "WnztE6urve7t"
      },
      "source": [
        "import sys\n",
        "# sys.stdin = open('input.txt', 'rt')\n",
        "\n",
        "N = int(input())\n",
        "grid = []\n",
        "zero_row = [0]*(N+2)\n",
        "grid.append(zero_row)\n",
        "for i in range(N) :\n",
        "    tmp = [0]+list(map(int,input().split()))+[0]\n",
        "    grid.append(tmp)\n",
        "grid.append(zero_row)\n",
        "\n",
        "cnt = 0\n",
        "for i in range(N) :\n",
        "    for j in range(N) :\n",
        "        if (grid[i+1][j+1] > grid[i][j+1]) & (grid[i+1][j+1] > grid[i+2][j+1]) & (grid[i+1][j+1] > grid[i+1][j]) & (grid[i+1][j+1] > grid[i+1][j+2]) :\n",
        "            cnt += 1\n",
        "\n",
        "print(cnt)\n"
      ],
      "execution_count": null,
      "outputs": []
    },
    {
      "cell_type": "markdown",
      "metadata": {
        "id": "RSM6fmASve_B"
      },
      "source": [
        "### 10. 스도쿠 검사\n"
      ]
    },
    {
      "cell_type": "code",
      "metadata": {
        "id": "KADhDqCD5ghY"
      },
      "source": [
        "import sys\n",
        "# sys.stdin = open('input.txt', 'rt')\n",
        "\n",
        "sample = []\n",
        "for i in range(9):\n",
        "    tmp = list(map(int,input().split()))\n",
        "    sample.append(tmp)\n",
        "\n",
        "def sudoku(s) :\n",
        "    answer = set(range(1,10))\n",
        "\n",
        "    for i in range(9):\n",
        "        r = []\n",
        "        c = []\n",
        "\n",
        "        for j in range(9) :\n",
        "            r.append(s[i][j])\n",
        "            c.append(s[j][i])\n",
        "\n",
        "        if set(r) != answer or set(c) != answer :\n",
        "            return 'NO'\n",
        "    \n",
        "    for i in range(3):\n",
        "        target_row = s[i*3:i*3+3]\n",
        "        \n",
        "        for j in range(3):\n",
        "            sq = target_row[0][j*3:j*3+3] + target_row[1][j*3:j*3+3] + target_row[2][j*3:j*3+3]\n",
        "            \n",
        "            if set(sq) != answer :\n",
        "                return 'NO'\n",
        "\n",
        "    return 'YES'      \n",
        "\n",
        "print(sudoku(sample))"
      ],
      "execution_count": null,
      "outputs": []
    },
    {
      "cell_type": "markdown",
      "metadata": {
        "id": "L29GZxve5han"
      },
      "source": [
        "### 11. 격자판 회문수"
      ]
    },
    {
      "cell_type": "code",
      "metadata": {
        "id": "AbyXNvzW6IGi"
      },
      "source": [
        "import sys\n",
        "# sys.stdin = open('input.txt', 'rt')\n",
        "\n",
        "grid= []\n",
        "for i in range(7):\n",
        "    tmp = list(map(int,input().split()))\n",
        "    grid.append(tmp)\n",
        "\n",
        "def is_rev(a):\n",
        "    if a == a[::-1] :\n",
        "        return 1\n",
        "    else : return 0\n",
        "\n",
        "cnt = 0\n",
        "for i in range(7):\n",
        "    for j in range(3):\n",
        "        row = grid[i][j:j+5]\n",
        "        cnt += is_rev(row) \n",
        "            \n",
        "    for j in range(3):\n",
        "        col = []\n",
        "        for k in range(5):\n",
        "            col.append(grid[k+j][i])\n",
        "        \n",
        "        cnt += is_rev(col)\n",
        "\n",
        "print(cnt)"
      ],
      "execution_count": null,
      "outputs": []
    }
  ]
}