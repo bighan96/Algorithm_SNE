{
  "nbformat": 4,
  "nbformat_minor": 0,
  "metadata": {
    "colab": {
      "name": "섹션 2. 코드 구현능력 기르기",
      "private_outputs": true,
      "provenance": [],
      "collapsed_sections": [],
      "authorship_tag": "ABX9TyMfhTMtTaJJyo+AQLC98Azm",
      "include_colab_link": true
    },
    "kernelspec": {
      "name": "python3",
      "display_name": "Python 3"
    }
  },
  "cells": [
    {
      "cell_type": "markdown",
      "metadata": {
        "id": "view-in-github",
        "colab_type": "text"
      },
      "source": [
        "<a href=\"https://colab.research.google.com/github/jaesanglee95/Algorithm_SNE/blob/main/%EC%9D%B4%EC%9E%AC%EC%83%81/%EC%84%B9%EC%85%98_2_%EC%BD%94%EB%93%9C_%EA%B5%AC%ED%98%84%EB%8A%A5%EB%A0%A5_%EA%B8%B0%EB%A5%B4%EA%B8%B0.ipynb\" target=\"_parent\"><img src=\"https://colab.research.google.com/assets/colab-badge.svg\" alt=\"Open In Colab\"/></a>"
      ]
    },
    {
      "cell_type": "markdown",
      "metadata": {
        "id": "2Z2J2aBq0Ak3"
      },
      "source": [
        "## 섹션 2. 코드 구현능력 기르기 #5~10\r\n",
        "\r\n",
        "이재상"
      ]
    },
    {
      "cell_type": "markdown",
      "metadata": {
        "id": "PnUnWBYi0W21"
      },
      "source": [
        "### 5. 정다면체"
      ]
    },
    {
      "cell_type": "code",
      "metadata": {
        "id": "XpE2MG0p5az5"
      },
      "source": [
        "import sys\r\n",
        "# sys.stdin = open('input.txt', 'rt')\r\n",
        "\r\n",
        "N, M = map(int, input().split())\r\n",
        "dice_n = range(1,N+1)\r\n",
        "dice_m = range(1,M+1)\r\n",
        "sum_list = list()\r\n",
        "\r\n",
        "for i in dice_n :\r\n",
        "    for j in dice_m :\r\n",
        "        sum_list.append(i+j)\r\n",
        "\r\n",
        "max = 0\r\n",
        "max_list = list()\r\n",
        "for s in set(sum_list) :\r\n",
        "    c = sum_list.count(s)\r\n",
        "    if c > max :\r\n",
        "        max = c\r\n",
        "        max_list = list()\r\n",
        "    if c == max :\r\n",
        "        max_list.append(s)\r\n",
        "\r\n",
        "for m in max_list :\r\n",
        "    print(m, end = \" \")"
      ],
      "execution_count": null,
      "outputs": []
    },
    {
      "cell_type": "markdown",
      "metadata": {
        "id": "2ktzmtcG6B1_"
      },
      "source": [
        "### 6. 자릿수의 합\r\n"
      ]
    },
    {
      "cell_type": "code",
      "metadata": {
        "id": "kYUioo0Bg48m"
      },
      "source": [
        "import sys\r\n",
        "# sys.stdin = open('input.txt', 'rt')\r\n",
        "\r\n",
        "N = int(input())\r\n",
        "a = list(map(int, input().split()))\r\n",
        "\r\n",
        "def digit_sum(x):\r\n",
        "    sum = 0\r\n",
        "    for i in str(x):\r\n",
        "        sum += int(i)\r\n",
        "    return sum\r\n",
        "\r\n",
        "max = 0\r\n",
        "\r\n",
        "for idx, val in enumerate(a):\r\n",
        "    s = digit_sum(val)\r\n",
        "    \r\n",
        "    if s > max :\r\n",
        "        max = s\r\n",
        "        max_n = val\r\n",
        "        \r\n",
        "print(max_n)"
      ],
      "execution_count": null,
      "outputs": []
    },
    {
      "cell_type": "markdown",
      "metadata": {
        "id": "Lh05gYLb-TZJ"
      },
      "source": [
        "### 7. 소수(에라토스테네스 체) : (미완)\r\n"
      ]
    },
    {
      "cell_type": "code",
      "metadata": {
        "id": "j-sB_GZ3hOGD"
      },
      "source": [
        "import sys\r\n",
        "# sys.stdin = open('input.txt', 'rt')\r\n",
        "\r\n",
        "N = int(input())\r\n",
        "cnt_list = [1]*(N+1)\r\n",
        "\r\n",
        "for i in range(2,N):\r\n",
        "    if cnt_list[i] == 0 :\r\n",
        "        continue\r\n",
        "    \r\n",
        "    for j in (range(i*2,N+1,i)) :\r\n",
        "        cnt_list[j] = 0\r\n",
        "\r\n",
        "print(sum(cnt_list)-2)"
      ],
      "execution_count": null,
      "outputs": []
    },
    {
      "cell_type": "code",
      "metadata": {
        "id": "b-YwXLdVZAiM"
      },
      "source": [
        ""
      ],
      "execution_count": null,
      "outputs": []
    },
    {
      "cell_type": "markdown",
      "metadata": {
        "id": "E5OnK-_xZmuw"
      },
      "source": [
        "### 8. 뒤집은 소수 : (미완)"
      ]
    },
    {
      "cell_type": "code",
      "metadata": {
        "id": "2mCZ71hspHrK"
      },
      "source": [
        "import sys\r\n",
        "# sys.stdin = open('input.txt', 'rt')\r\n",
        "\r\n",
        "N = int(input())\r\n",
        "a = list(map(int, input().split()))\r\n",
        "\r\n",
        "def reverse(x) :\r\n",
        "    sum = 0\r\n",
        "    for idx,num in enumerate(str(x)):\r\n",
        "        tmp = int(num) * (10**(int(idx)))\r\n",
        "        sum += tmp\r\n",
        "    \r\n",
        "    return sum\r\n",
        "\r\n",
        "def isPrime(x):\r\n",
        "    if x <= 1 : \r\n",
        "        n = False\r\n",
        "    elif x == 2:\r\n",
        "        n = True\r\n",
        "\r\n",
        "    else :\r\n",
        "        for i in range(2,int(x/2)+1) :\r\n",
        "            if x % i == 0 :\r\n",
        "                n = False\r\n",
        "                break\r\n",
        "            else :\r\n",
        "                n = True\r\n",
        "    return n\r\n",
        "\r\n",
        "for i in a :\r\n",
        "    rev = reverse(i)\r\n",
        "    if isPrime(rev):\r\n",
        "        print(rev, end = \" \")\r\n",
        "\r\n",
        "print()\r\n"
      ],
      "execution_count": null,
      "outputs": []
    },
    {
      "cell_type": "code",
      "metadata": {
        "id": "yDFCKpWgpcxe"
      },
      "source": [
        "# 소수 구하는 함수 간소화 필요 !!. #7번 문제 풀이봐야 가능할듯ㅠㅠ\r\n"
      ],
      "execution_count": null,
      "outputs": []
    },
    {
      "cell_type": "markdown",
      "metadata": {
        "id": "n-M0UFpBpdIz"
      },
      "source": [
        "### 9. 주사위 게임"
      ]
    },
    {
      "cell_type": "code",
      "metadata": {
        "id": "lYcf7t5jpn93"
      },
      "source": [
        "import sys\r\n",
        "# sys.stdin = open('input.txt', 'rt')\r\n",
        "\r\n",
        "N = int(input())\r\n",
        "\r\n",
        "def dice_prize(a) :\r\n",
        "    if len(set(a)) < 3 :\r\n",
        "        prize = 10**(5 - len(set(a)))\r\n",
        "        \r\n",
        "        for j in set(a) :\r\n",
        "            if a.count(j) == (4 - len(set(a))):\r\n",
        "                prize += j * (10**(4 - len(set(a))))\r\n",
        "\r\n",
        "    else : \r\n",
        "        prize = list(set(a))[2]*100\r\n",
        "    \r\n",
        "    return prize\r\n",
        "\r\n",
        "max = 0\r\n",
        "for i in range(N) :\r\n",
        "   a = list(map(int, input().split()))\r\n",
        "   if dice_prize(a) > max :\r\n",
        "       max = dice_prize(a)\r\n",
        "\r\n",
        "\r\n",
        "print(max)\r\n"
      ],
      "execution_count": null,
      "outputs": []
    },
    {
      "cell_type": "markdown",
      "metadata": {
        "id": "fDHkD7oryrtg"
      },
      "source": [
        "### 10.점수계산"
      ]
    },
    {
      "cell_type": "code",
      "metadata": {
        "id": "_oCtwSLMyvam"
      },
      "source": [
        "import sys\r\n",
        "# sys.stdin = open('input.txt', 'rt')\r\n",
        "\r\n",
        "N = int(input())\r\n",
        "a = list(map(int, input().split()))\r\n",
        "\r\n",
        "tmp = 0\r\n",
        "score = 0 \r\n",
        "\r\n",
        "for i in a :\r\n",
        "    if i == 1 :\r\n",
        "        tmp += 1\r\n",
        "    else :\r\n",
        "        tmp = 0\r\n",
        "    \r\n",
        "    score += tmp\r\n",
        "\r\n",
        "print(score)"
      ],
      "execution_count": null,
      "outputs": []
    }
  ]
}